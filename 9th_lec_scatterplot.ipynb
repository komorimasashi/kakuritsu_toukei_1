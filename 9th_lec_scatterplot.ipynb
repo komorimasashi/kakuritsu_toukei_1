{
  "nbformat": 4,
  "nbformat_minor": 0,
  "metadata": {
    "colab": {
      "name": "11th_lec_scatterplot.ipynb",
      "provenance": [],
      "include_colab_link": true
    },
    "kernelspec": {
      "name": "python3",
      "display_name": "Python 3"
    }
  },
  "cells": [
    {
      "cell_type": "markdown",
      "metadata": {
        "id": "view-in-github",
        "colab_type": "text"
      },
      "source": [
        "<a href=\"https://colab.research.google.com/github/komorimasashi/kakuritsu_toukei_1/blob/main/9th_lec_scatterplot.ipynb\" target=\"_parent\"><img src=\"https://colab.research.google.com/assets/colab-badge.svg\" alt=\"Open In Colab\"/></a>"
      ]
    },
    {
      "cell_type": "markdown",
      "metadata": {
        "id": "zP2ujKS2A966"
      },
      "source": [
        "#2つの量的変数の関係の可視化"
      ]
    },
    {
      "cell_type": "markdown",
      "metadata": {
        "id": "VCwxDbbRooqd"
      },
      "source": [
        "## 生活保護と学力"
      ]
    },
    {
      "cell_type": "markdown",
      "metadata": {
        "id": "cmnaeIjEe4Jt"
      },
      "source": [
        "2015年子供の生活保護受給率（％）と2018年子供の学力（算数Aおよび理科）の関係を見てみましょう．\n"
      ]
    },
    {
      "cell_type": "code",
      "source": [
        "!pip install xlrd==2.1.0"
      ],
      "metadata": {
        "colab": {
          "base_uri": "https://localhost:8080/"
        },
        "id": "489XQljxiII_",
        "outputId": "0ce97e94-7662-4bc3-8c9d-19a438825211"
      },
      "execution_count": 1,
      "outputs": [
        {
          "output_type": "stream",
          "name": "stdout",
          "text": [
            "Looking in indexes: https://pypi.org/simple, https://us-python.pkg.dev/colab-wheels/public/simple/\n",
            "\u001b[31mERROR: Could not find a version that satisfies the requirement xlrd==2.1.0 (from versions: 0.5.2, 0.6.1a4, 0.6.1, 0.7.0, 0.7.1, 0.7.2, 0.7.3, 0.7.4, 0.7.5, 0.7.6, 0.7.7, 0.7.8, 0.7.9, 0.8.0, 0.9.0, 0.9.1, 0.9.2, 0.9.3, 0.9.4, 1.0.0, 1.1.0, 1.2.0, 2.0.0, 2.0.1)\u001b[0m\u001b[31m\n",
            "\u001b[0m\u001b[31mERROR: No matching distribution found for xlrd==2.1.0\u001b[0m\u001b[31m\n",
            "\u001b[0m"
          ]
        }
      ]
    },
    {
      "cell_type": "code",
      "metadata": {
        "id": "Fw8tbnKcovQ-"
      },
      "source": [
        "import pandas as pd\n",
        "import numpy as np\n",
        "from matplotlib import pyplot as plt"
      ],
      "execution_count": 2,
      "outputs": []
    },
    {
      "cell_type": "code",
      "metadata": {
        "id": "he0mHPFDpEcH",
        "colab": {
          "base_uri": "https://localhost:8080/",
          "height": 676
        },
        "outputId": "83132b90-6b11-43e0-d0a3-4548f772e568"
      },
      "source": [
        "data =[['Sapporo'\t,\t39.0\t,\t8.9\t,\t9.4\t]\t,\n",
        "[\t'Sendai' ,\t14.0\t,\t9.0\t,\t9.7\t]\t,\n",
        "[\t'Saitama'\t,\t11.1\t,\t9.1\t,\t10.1\t]\t,\n",
        "[\t'Chiba'\t,\t13.6\t,\t8.9\t,\t9.9\t]\t,\n",
        "[\t'Yokohama'\t,\t15.4\t,\t9.3\t,\t9.7\t]\t,\n",
        "[\t'Kawasaki'\t,\t17.7\t,\t9.2\t,\t9.7\t]\t,\n",
        "[\t'Sagamihara'\t,\t20.4\t,\t8.5\t,\t9.3\t]\t,\n",
        "[\t'Niigata'\t,\t10.8\t,\t9.3\t,\t9.9\t]\t,\n",
        "[\t'Shizuoka'\t,\t8.6\t,\t9.0\t,\t9.7\t]\t,\n",
        "[\t'Hamamatsu'\t,\t6.9\t,\t8.6\t,\t9.7\t]\t,\n",
        "[\t'Nagoya'\t,\t14.5\t,\t8.5\t,\t9.6\t]\t,\n",
        "[\t'Kyoto'\t,\t31.8\t,\t9.2\t,\t10.2\t]\t,\n",
        "[\t'Osaka'\t,\t40.1\t,\t8.6\t,\t8.8\t]\t,\n",
        "[\t'Sakai'\t,\t25.8\t,\t9.1\t,\t9.4\t]\t,\n",
        "[\t'Kobe'\t,\t28.1\t,\t8.9\t,\t9.3\t]\t,\n",
        "[\t'Okayama'\t,\t16.2\t,\t8.7\t,\t9.7\t]\t,\n",
        "[\t'Hiroshima'\t,\t20.7\t,\t9.0\t,\t9.9\t]\t,\n",
        "[\t'Kitakyushu'\t,\t15.4\t,\t8.6\t,\t9.6\t]\t,\n",
        "[\t'Fukuoka'\t,\t21.3\t,\t9.0\t,\t10.0\t]\t,\n",
        "[\t'Kumamoto'\t,\t15.5\t,\t8.8\t,\t9.9\t]]\n",
        "\n",
        "df_gakuryoku = pd.DataFrame(data, columns=['City', 'Welfare_Rate', 'Math', 'Science'])\n",
        "df_gakuryoku\n"
      ],
      "execution_count": 3,
      "outputs": [
        {
          "output_type": "execute_result",
          "data": {
            "text/plain": [
              "          City  Welfare_Rate  Math  Science\n",
              "0      Sapporo          39.0   8.9      9.4\n",
              "1       Sendai          14.0   9.0      9.7\n",
              "2      Saitama          11.1   9.1     10.1\n",
              "3        Chiba          13.6   8.9      9.9\n",
              "4     Yokohama          15.4   9.3      9.7\n",
              "5     Kawasaki          17.7   9.2      9.7\n",
              "6   Sagamihara          20.4   8.5      9.3\n",
              "7      Niigata          10.8   9.3      9.9\n",
              "8     Shizuoka           8.6   9.0      9.7\n",
              "9    Hamamatsu           6.9   8.6      9.7\n",
              "10      Nagoya          14.5   8.5      9.6\n",
              "11       Kyoto          31.8   9.2     10.2\n",
              "12       Osaka          40.1   8.6      8.8\n",
              "13       Sakai          25.8   9.1      9.4\n",
              "14        Kobe          28.1   8.9      9.3\n",
              "15     Okayama          16.2   8.7      9.7\n",
              "16   Hiroshima          20.7   9.0      9.9\n",
              "17  Kitakyushu          15.4   8.6      9.6\n",
              "18     Fukuoka          21.3   9.0     10.0\n",
              "19    Kumamoto          15.5   8.8      9.9"
            ],
            "text/html": [
              "\n",
              "  <div id=\"df-0d32952e-c45d-4140-a2a9-05e37f4c422c\">\n",
              "    <div class=\"colab-df-container\">\n",
              "      <div>\n",
              "<style scoped>\n",
              "    .dataframe tbody tr th:only-of-type {\n",
              "        vertical-align: middle;\n",
              "    }\n",
              "\n",
              "    .dataframe tbody tr th {\n",
              "        vertical-align: top;\n",
              "    }\n",
              "\n",
              "    .dataframe thead th {\n",
              "        text-align: right;\n",
              "    }\n",
              "</style>\n",
              "<table border=\"1\" class=\"dataframe\">\n",
              "  <thead>\n",
              "    <tr style=\"text-align: right;\">\n",
              "      <th></th>\n",
              "      <th>City</th>\n",
              "      <th>Welfare_Rate</th>\n",
              "      <th>Math</th>\n",
              "      <th>Science</th>\n",
              "    </tr>\n",
              "  </thead>\n",
              "  <tbody>\n",
              "    <tr>\n",
              "      <th>0</th>\n",
              "      <td>Sapporo</td>\n",
              "      <td>39.0</td>\n",
              "      <td>8.9</td>\n",
              "      <td>9.4</td>\n",
              "    </tr>\n",
              "    <tr>\n",
              "      <th>1</th>\n",
              "      <td>Sendai</td>\n",
              "      <td>14.0</td>\n",
              "      <td>9.0</td>\n",
              "      <td>9.7</td>\n",
              "    </tr>\n",
              "    <tr>\n",
              "      <th>2</th>\n",
              "      <td>Saitama</td>\n",
              "      <td>11.1</td>\n",
              "      <td>9.1</td>\n",
              "      <td>10.1</td>\n",
              "    </tr>\n",
              "    <tr>\n",
              "      <th>3</th>\n",
              "      <td>Chiba</td>\n",
              "      <td>13.6</td>\n",
              "      <td>8.9</td>\n",
              "      <td>9.9</td>\n",
              "    </tr>\n",
              "    <tr>\n",
              "      <th>4</th>\n",
              "      <td>Yokohama</td>\n",
              "      <td>15.4</td>\n",
              "      <td>9.3</td>\n",
              "      <td>9.7</td>\n",
              "    </tr>\n",
              "    <tr>\n",
              "      <th>5</th>\n",
              "      <td>Kawasaki</td>\n",
              "      <td>17.7</td>\n",
              "      <td>9.2</td>\n",
              "      <td>9.7</td>\n",
              "    </tr>\n",
              "    <tr>\n",
              "      <th>6</th>\n",
              "      <td>Sagamihara</td>\n",
              "      <td>20.4</td>\n",
              "      <td>8.5</td>\n",
              "      <td>9.3</td>\n",
              "    </tr>\n",
              "    <tr>\n",
              "      <th>7</th>\n",
              "      <td>Niigata</td>\n",
              "      <td>10.8</td>\n",
              "      <td>9.3</td>\n",
              "      <td>9.9</td>\n",
              "    </tr>\n",
              "    <tr>\n",
              "      <th>8</th>\n",
              "      <td>Shizuoka</td>\n",
              "      <td>8.6</td>\n",
              "      <td>9.0</td>\n",
              "      <td>9.7</td>\n",
              "    </tr>\n",
              "    <tr>\n",
              "      <th>9</th>\n",
              "      <td>Hamamatsu</td>\n",
              "      <td>6.9</td>\n",
              "      <td>8.6</td>\n",
              "      <td>9.7</td>\n",
              "    </tr>\n",
              "    <tr>\n",
              "      <th>10</th>\n",
              "      <td>Nagoya</td>\n",
              "      <td>14.5</td>\n",
              "      <td>8.5</td>\n",
              "      <td>9.6</td>\n",
              "    </tr>\n",
              "    <tr>\n",
              "      <th>11</th>\n",
              "      <td>Kyoto</td>\n",
              "      <td>31.8</td>\n",
              "      <td>9.2</td>\n",
              "      <td>10.2</td>\n",
              "    </tr>\n",
              "    <tr>\n",
              "      <th>12</th>\n",
              "      <td>Osaka</td>\n",
              "      <td>40.1</td>\n",
              "      <td>8.6</td>\n",
              "      <td>8.8</td>\n",
              "    </tr>\n",
              "    <tr>\n",
              "      <th>13</th>\n",
              "      <td>Sakai</td>\n",
              "      <td>25.8</td>\n",
              "      <td>9.1</td>\n",
              "      <td>9.4</td>\n",
              "    </tr>\n",
              "    <tr>\n",
              "      <th>14</th>\n",
              "      <td>Kobe</td>\n",
              "      <td>28.1</td>\n",
              "      <td>8.9</td>\n",
              "      <td>9.3</td>\n",
              "    </tr>\n",
              "    <tr>\n",
              "      <th>15</th>\n",
              "      <td>Okayama</td>\n",
              "      <td>16.2</td>\n",
              "      <td>8.7</td>\n",
              "      <td>9.7</td>\n",
              "    </tr>\n",
              "    <tr>\n",
              "      <th>16</th>\n",
              "      <td>Hiroshima</td>\n",
              "      <td>20.7</td>\n",
              "      <td>9.0</td>\n",
              "      <td>9.9</td>\n",
              "    </tr>\n",
              "    <tr>\n",
              "      <th>17</th>\n",
              "      <td>Kitakyushu</td>\n",
              "      <td>15.4</td>\n",
              "      <td>8.6</td>\n",
              "      <td>9.6</td>\n",
              "    </tr>\n",
              "    <tr>\n",
              "      <th>18</th>\n",
              "      <td>Fukuoka</td>\n",
              "      <td>21.3</td>\n",
              "      <td>9.0</td>\n",
              "      <td>10.0</td>\n",
              "    </tr>\n",
              "    <tr>\n",
              "      <th>19</th>\n",
              "      <td>Kumamoto</td>\n",
              "      <td>15.5</td>\n",
              "      <td>8.8</td>\n",
              "      <td>9.9</td>\n",
              "    </tr>\n",
              "  </tbody>\n",
              "</table>\n",
              "</div>\n",
              "      <button class=\"colab-df-convert\" onclick=\"convertToInteractive('df-0d32952e-c45d-4140-a2a9-05e37f4c422c')\"\n",
              "              title=\"Convert this dataframe to an interactive table.\"\n",
              "              style=\"display:none;\">\n",
              "        \n",
              "  <svg xmlns=\"http://www.w3.org/2000/svg\" height=\"24px\"viewBox=\"0 0 24 24\"\n",
              "       width=\"24px\">\n",
              "    <path d=\"M0 0h24v24H0V0z\" fill=\"none\"/>\n",
              "    <path d=\"M18.56 5.44l.94 2.06.94-2.06 2.06-.94-2.06-.94-.94-2.06-.94 2.06-2.06.94zm-11 1L8.5 8.5l.94-2.06 2.06-.94-2.06-.94L8.5 2.5l-.94 2.06-2.06.94zm10 10l.94 2.06.94-2.06 2.06-.94-2.06-.94-.94-2.06-.94 2.06-2.06.94z\"/><path d=\"M17.41 7.96l-1.37-1.37c-.4-.4-.92-.59-1.43-.59-.52 0-1.04.2-1.43.59L10.3 9.45l-7.72 7.72c-.78.78-.78 2.05 0 2.83L4 21.41c.39.39.9.59 1.41.59.51 0 1.02-.2 1.41-.59l7.78-7.78 2.81-2.81c.8-.78.8-2.07 0-2.86zM5.41 20L4 18.59l7.72-7.72 1.47 1.35L5.41 20z\"/>\n",
              "  </svg>\n",
              "      </button>\n",
              "      \n",
              "  <style>\n",
              "    .colab-df-container {\n",
              "      display:flex;\n",
              "      flex-wrap:wrap;\n",
              "      gap: 12px;\n",
              "    }\n",
              "\n",
              "    .colab-df-convert {\n",
              "      background-color: #E8F0FE;\n",
              "      border: none;\n",
              "      border-radius: 50%;\n",
              "      cursor: pointer;\n",
              "      display: none;\n",
              "      fill: #1967D2;\n",
              "      height: 32px;\n",
              "      padding: 0 0 0 0;\n",
              "      width: 32px;\n",
              "    }\n",
              "\n",
              "    .colab-df-convert:hover {\n",
              "      background-color: #E2EBFA;\n",
              "      box-shadow: 0px 1px 2px rgba(60, 64, 67, 0.3), 0px 1px 3px 1px rgba(60, 64, 67, 0.15);\n",
              "      fill: #174EA6;\n",
              "    }\n",
              "\n",
              "    [theme=dark] .colab-df-convert {\n",
              "      background-color: #3B4455;\n",
              "      fill: #D2E3FC;\n",
              "    }\n",
              "\n",
              "    [theme=dark] .colab-df-convert:hover {\n",
              "      background-color: #434B5C;\n",
              "      box-shadow: 0px 1px 3px 1px rgba(0, 0, 0, 0.15);\n",
              "      filter: drop-shadow(0px 1px 2px rgba(0, 0, 0, 0.3));\n",
              "      fill: #FFFFFF;\n",
              "    }\n",
              "  </style>\n",
              "\n",
              "      <script>\n",
              "        const buttonEl =\n",
              "          document.querySelector('#df-0d32952e-c45d-4140-a2a9-05e37f4c422c button.colab-df-convert');\n",
              "        buttonEl.style.display =\n",
              "          google.colab.kernel.accessAllowed ? 'block' : 'none';\n",
              "\n",
              "        async function convertToInteractive(key) {\n",
              "          const element = document.querySelector('#df-0d32952e-c45d-4140-a2a9-05e37f4c422c');\n",
              "          const dataTable =\n",
              "            await google.colab.kernel.invokeFunction('convertToInteractive',\n",
              "                                                     [key], {});\n",
              "          if (!dataTable) return;\n",
              "\n",
              "          const docLinkHtml = 'Like what you see? Visit the ' +\n",
              "            '<a target=\"_blank\" href=https://colab.research.google.com/notebooks/data_table.ipynb>data table notebook</a>'\n",
              "            + ' to learn more about interactive tables.';\n",
              "          element.innerHTML = '';\n",
              "          dataTable['output_type'] = 'display_data';\n",
              "          await google.colab.output.renderOutput(dataTable, element);\n",
              "          const docLink = document.createElement('div');\n",
              "          docLink.innerHTML = docLinkHtml;\n",
              "          element.appendChild(docLink);\n",
              "        }\n",
              "      </script>\n",
              "    </div>\n",
              "  </div>\n",
              "  "
            ]
          },
          "metadata": {},
          "execution_count": 3
        }
      ]
    },
    {
      "cell_type": "markdown",
      "metadata": {
        "id": "0N3LeShZf7UE"
      },
      "source": [
        "散布図（scatter plot）を描きます．一般的に，要因を横軸，それに伴う結果を縦軸に取ることが多いです．\n",
        "\n",
        "ここでは，貧しさ（原因）が学力（その結果）に及ぼす影響を検討したいので，横軸は学力ではなく生活保護率にしなければならない\n"
      ]
    },
    {
      "cell_type": "code",
      "metadata": {
        "id": "VRHVH6A0JWtw",
        "colab": {
          "base_uri": "https://localhost:8080/",
          "height": 465
        },
        "outputId": "bfcecbb4-c725-46d8-a726-1312d84de7ca"
      },
      "source": [
        "plt.figure(figsize=(5,5))\n",
        "plt.scatter(df_gakuryoku['Welfare_Rate'],df_gakuryoku['Math'])\n",
        "plt.scatter(df_gakuryoku['Welfare_Rate'],df_gakuryoku['Science'])\n",
        "plt.xlabel('Welfare Rate(%)')\n",
        "plt.ylabel('Score')\n",
        "plt.legend(['Math', 'Science'], loc='upper right')\n",
        "plt.show()"
      ],
      "execution_count": 4,
      "outputs": [
        {
          "output_type": "display_data",
          "data": {
            "text/plain": [
              "<Figure size 500x500 with 1 Axes>"
            ],
            "image/png": "[encoded data removed]"
          },
          "metadata": {}
        }
      ]
    },
    {
      "cell_type": "code",
      "metadata": {
        "id": "CBvfkAdldnWb",
        "colab": {
          "base_uri": "https://localhost:8080/",
          "height": 482
        },
        "outputId": "799f3adc-2db7-4c1d-acb4-ea7a49cfd21b"
      },
      "source": [
        "#回帰直線を描くこともできる\n",
        "import seaborn as sns\n",
        "\n",
        "plt.figure(figsize=(5,5))\n",
        "sns.regplot(x = 'Welfare_Rate', y = 'Math',data=df_gakuryoku)\n",
        "sns.regplot(x = 'Welfare_Rate', y = 'Science',data=df_gakuryoku)\n",
        "plt.legend(['Math', 'Science'], loc='upper right')"
      ],
      "execution_count": 6,
      "outputs": [
        {
          "output_type": "execute_result",
          "data": {
            "text/plain": [
              "<matplotlib.legend.Legend at 0x7fa38a4affd0>"
            ]
          },
          "metadata": {},
          "execution_count": 6
        },
        {
          "output_type": "display_data",
          "data": {
            "text/plain": [
              "<Figure size 500x500 with 1 Axes>"
            ],
            "image/png": "[encoded data removed]"
          },
          "metadata": {}
        }
      ]
    },
    {
      "cell_type": "code",
      "metadata": {
        "id": "cArPbsRpTSyY"
      },
      "source": [
        "#相関係数\n",
        "df_gakuryoku.corr()"
      ],
      "execution_count": null,
      "outputs": []
    },
    {
      "cell_type": "markdown",
      "metadata": {
        "id": "vlqQdG8ZkLK8"
      },
      "source": [
        "##Irisデータセットで相関を見る"
      ]
    },
    {
      "cell_type": "markdown",
      "metadata": {
        "id": "gjhgFT3IkWnM"
      },
      "source": [
        "sepal length (がくの長さ)、sepal width (がくの幅)、petal length (花弁の長さ)、petal width (花弁の幅) の関係を見てみましょう\n"
      ]
    },
    {
      "cell_type": "code",
      "metadata": {
        "id": "l3CDPW5xkahr"
      },
      "source": [
        "import pandas as pd\n",
        "from matplotlib import pyplot as plt\n",
        "import seaborn as sns\n",
        "\n",
        "#scikit-learnライブラリからデータセットだけを用いる\n",
        "from sklearn import datasets\n",
        "\n",
        "#Irisデータを読み込みます\n",
        "iris = datasets.load_iris()\n",
        "\n",
        "#Iris.dataには花の特徴量がある．iris.targetに'target'と名前をつけて一つのDataFrameに統合\n",
        "df = pd.DataFrame(iris.data, columns=iris.feature_names)\n",
        "df['target'] = iris.target_names[iris.target]"
      ],
      "execution_count": null,
      "outputs": []
    },
    {
      "cell_type": "code",
      "metadata": {
        "id": "2NrBKa7Z1S_O"
      },
      "source": [
        "#ペアプロット（種の区別なし）\n",
        "sns.pairplot(df)"
      ],
      "execution_count": null,
      "outputs": []
    },
    {
      "cell_type": "code",
      "metadata": {
        "id": "CxzPco8xkilz"
      },
      "source": [
        "#ペアプロット（種の区別あり）\n",
        "sns.pairplot(df, hue='target', markers=[\"o\", \"s\", \"X\"])"
      ],
      "execution_count": null,
      "outputs": []
    },
    {
      "cell_type": "code",
      "metadata": {
        "id": "NKNt9R38lfDI"
      },
      "source": [
        "#相関係数の算出\n",
        "df.drop('target', axis=1).corr()"
      ],
      "execution_count": null,
      "outputs": []
    },
    {
      "cell_type": "markdown",
      "metadata": {
        "id": "Vqi0xnyuXHYU"
      },
      "source": [
        "##GDPと特殊出生率"
      ]
    },
    {
      "cell_type": "markdown",
      "metadata": {
        "id": "HM1A4cSgXMab"
      },
      "source": [
        "小森のGoogle Drive上のデータを読み込むためにurllibライブラリを使います．\n",
        "\n",
        "ネタ元はこちらです\n",
        "https://honkawa2.sakura.ne.jp/1563.html"
      ]
    },
    {
      "cell_type": "code",
      "metadata": {
        "id": "FwDScrPQLLIc"
      },
      "source": [
        "import pandas as pd\n",
        "import urllib\n",
        "import io\n",
        "\n",
        "url = \"https://drive.google.com/uc?id=1W98VH-en4XoYI1zx7i8ruYh3Y2kWA_Ee\"\n",
        "res = urllib.request.urlopen(url)\n",
        "res=res.read().decode('shift-jis')\n",
        "df =pd.read_csv(io.StringIO(res))\n",
        "\n",
        "#Indexをname列にする\n",
        "df.set_index(['国名'],inplace=True)\n",
        "df.head()"
      ],
      "execution_count": null,
      "outputs": []
    },
    {
      "cell_type": "markdown",
      "metadata": {
        "id": "33w90NsCX5eY"
      },
      "source": [
        "まずは１人当たりGDP（米ドル・ＰＰＰベースと合計特殊出生率を散布図にプロットしてみましょう．\n",
        "\n",
        "基本的に散布図ではX軸は「原因」Y軸は「結果」と対応するように書くのが普通です．\n",
        "\n",
        "GDPが出生率に影響していると考えるなら，GDPを横軸，出生率を縦軸にします\n"
      ]
    },
    {
      "cell_type": "code",
      "metadata": {
        "id": "T8UxiEcoPRtN"
      },
      "source": [
        "#散布図を書きます\n",
        "\n",
        "import matplotlib.pyplot as plt\n",
        "\n",
        "plt.figure(figsize=(10,10))\n",
        "plt.scatter(df['１人当たりGDP（米ドル・ＰＰＰベース）'],df['合計特殊出生率'], alpha=0.3)\n",
        "plt.xlabel('GDP')\n",
        "plt.ylabel('Birth Rate')\n",
        "plt.show()"
      ],
      "execution_count": null,
      "outputs": []
    },
    {
      "cell_type": "markdown",
      "metadata": {
        "id": "LlNPV-NsYVq0"
      },
      "source": [
        "次にX軸だけ対数軸にしてみてみましょう．こうするとかなりきれいな直線的な関係が見えてきます．\n",
        "\n",
        "つまり，GDPがわかれば出生率をかなり正確に予測できるということです．"
      ]
    },
    {
      "cell_type": "code",
      "metadata": {
        "id": "skq8e5mkXsJk"
      },
      "source": [
        "#上の図のX軸を対数軸にして表示してみます\n",
        "plt.figure(figsize=(10,10))\n",
        "plt.scatter(df['１人当たりGDP（米ドル・ＰＰＰベース）'],df['合計特殊出生率'], alpha=0.3)\n",
        "plt.xscale('log')\n",
        "plt.xlabel('GDP')\n",
        "plt.ylabel('Birth Rate')\n",
        "plt.show()"
      ],
      "execution_count": null,
      "outputs": []
    },
    {
      "cell_type": "markdown",
      "metadata": {
        "id": "pcJF3ubVaYBk"
      },
      "source": [
        "次に先進国（OECD加盟国）のみを抜き出して分析してみましょう"
      ]
    },
    {
      "cell_type": "code",
      "metadata": {
        "id": "xhhGqQ7NZGhH"
      },
      "source": [
        "df_dict = {}\n",
        "for name, group in df.groupby('OECD高所得国'):\n",
        "    df_dict[name] = group\n",
        "\n",
        "df_dict[1].head() #df_dict[1]は先進国のデータだけのDataFrameです．"
      ],
      "execution_count": null,
      "outputs": []
    },
    {
      "cell_type": "markdown",
      "metadata": {
        "id": "FeN2ZKV3besm"
      },
      "source": [
        "先進国だけを見るとGDPと出生率の関係は明確でないことがわかります"
      ]
    },
    {
      "cell_type": "code",
      "metadata": {
        "id": "z2FW8nA-a3zC"
      },
      "source": [
        "plt.figure(figsize=(10,10))\n",
        "plt.scatter(df_dict[1]['１人当たりGDP（米ドル・ＰＰＰベース）'],df_dict[1]['合計特殊出生率'], alpha=0.3)\n",
        "plt.xlabel('GDP')\n",
        "plt.ylabel('Birth Rate')\n",
        "plt.show()"
      ],
      "execution_count": null,
      "outputs": []
    },
    {
      "cell_type": "markdown",
      "metadata": {
        "id": "_UGbDqMPGoq5"
      },
      "source": [
        "さらにここからイスラエルとルクセンブルクを抜きます"
      ]
    },
    {
      "cell_type": "code",
      "metadata": {
        "id": "yRQL8xC4HjNb"
      },
      "source": [
        "# inplace=Trueとすると，dropメソッドで列/行を削除したデータフレームに置き換えられます\n",
        "df_dict[1].drop(['ルクセンブルク','イスラエル'], inplace=True)\n",
        "df_dict[1].head()"
      ],
      "execution_count": null,
      "outputs": []
    },
    {
      "cell_type": "markdown",
      "metadata": {
        "id": "yGZqht4hJSAH"
      },
      "source": [
        "外れ値を省くと，先進国ではGDPと出生率には明確な関係が認められないことがわかります．\n",
        "\n",
        "もちろん，この「外れ値を省く」操作には十分な妥当性が必要です．"
      ]
    },
    {
      "cell_type": "code",
      "metadata": {
        "id": "q93pncdMHIWh"
      },
      "source": [
        "plt.figure(figsize=(10,10))\n",
        "plt.scatter(df_dict[1]['１人当たりGDP（米ドル・ＰＰＰベース）'],df_dict[1]['合計特殊出生率'], alpha=0.3)\n",
        "plt.xlabel('GDP')\n",
        "plt.ylabel('Birth Rate')\n",
        "plt.show()"
      ],
      "execution_count": null,
      "outputs": []
    },
    {
      "cell_type": "markdown",
      "metadata": {
        "id": "kU9EVwPEJre2"
      },
      "source": [
        "###政府統計の活用（Webデータ）\n"
      ]
    },
    {
      "cell_type": "markdown",
      "metadata": {
        "id": "Bh-dNrhVqaYQ"
      },
      "source": [
        "政府統計\n",
        "社会・人口統計体系 / 統計でみる都道府県のすがた2019 / 社会生活統計指標\n",
        "\n",
        "https://www.e-stat.go.jp/stat-search/files?page=1&stat_infid=000032055318\n",
        "\n",
        "からExcelファイルをダウンロードします\n",
        "https://www.e-stat.go.jp/stat-search/file-download?statInfId=000032055318&fileKind=0\n",
        "\n",
        "\n",
        "ただ，一部いわゆる「神エクセル」なので，データの整理には大変苦労します．"
      ]
    },
    {
      "cell_type": "code",
      "metadata": {
        "id": "pVbIVkMSyHPW"
      },
      "source": [
        "import pandas as pd\n",
        "from matplotlib import pyplot as plt\n",
        "import urllib\n",
        "\n",
        "#url = \"https://www.e-stat.go.jp/stat-search/file-download?statInfId=000032055318&fileKind=0\"\n",
        "url = \"https://www.e-stat.go.jp/stat-search/file-download?statInfId=000032169052&fileKind=0\"\n",
        "\n",
        "\n",
        "#xlsを読み込む関数\n",
        "def read_xls(url):\n",
        "    print(url)\n",
        "    df = pd.read_excel(url)\n",
        "    return df\n",
        "\n",
        "#実行\n",
        "df = read_xls(url)\n",
        "df.head(10)"
      ],
      "execution_count": null,
      "outputs": []
    },
    {
      "cell_type": "code",
      "metadata": {
        "id": "B83dHMkXLIOG"
      },
      "source": [
        "#泥臭く列名のリネームや不要な行列の削除を行う\n",
        "df = df.drop(df.columns[0:9], axis=1)\n",
        "df = df.rename(columns=df.loc[5,:])\n",
        "df = df.drop(df.index[range(0,12)])\n",
        "df.head()"
      ],
      "execution_count": null,
      "outputs": []
    },
    {
      "cell_type": "code",
      "metadata": {
        "id": "JBuVNO9CRocj"
      },
      "source": [
        "plt.figure(figsize=(10,10))\n",
        "plt.scatter(df['総人口'],df['合計特殊出生率'], alpha=0.3)\n",
        "plt.xlabel('Population')\n",
        "plt.ylabel('Birth Rate')\n",
        "plt.show()"
      ],
      "execution_count": null,
      "outputs": []
    }
  ]
}
{
  "nbformat": 4,
  "nbformat_minor": 0,
  "metadata": {
    "colab": {
      "name": "6th_lec_mean_variance.ipynb",
      "provenance": [],
      "collapsed_sections": [
        "J8BvEN1bmtwI",
        "GXg2i1PK54xQ"
      ],
      "include_colab_link": true
    },
    "kernelspec": {
      "name": "python3",
      "display_name": "Python 3"
    }
  },
  "cells": [
    {
      "cell_type": "markdown",
      "metadata": {
        "id": "view-in-github",
        "colab_type": "text"
      },
      "source": [
        "<a href=\"https://colab.research.google.com/github/komorimasashi/kakuritsu_toukei_1/blob/main/6th_lec_mean_variance.ipynb\" target=\"_parent\"><img src=\"https://colab.research.google.com/assets/colab-badge.svg\" alt=\"Open In Colab\"/></a>"
      ]
    },
    {
      "cell_type": "markdown",
      "metadata": {
        "id": "mVgIVKDmbYiZ"
      },
      "source": [
        "# 代表値とばらつきの指標"
      ]
    },
    {
      "cell_type": "markdown",
      "metadata": {
        "id": "lSIOUbNilUkp"
      },
      "source": [
        "##概要"
      ]
    },
    {
      "cell_type": "markdown",
      "metadata": {
        "id": "SaBFvMR_lWRS"
      },
      "source": [
        "**目的**\n",
        "\n",
        "平均値，中央値などの代表値を求める．またばらつきの指標として標準偏差を求める．\n",
        "\n",
        "\n",
        "**今回使うライブラリ**\n",
        "\n",
        "*   NumPy：数値・ベクトル・行列演算ライブラリ\n",
        "\n",
        "Numpyは配列(リスト)計算を高速にするためのPythonのライブラリです．Pythonには標準の機能としてリスト型変数がありますが、Numpyはこれを強化したNumpy配列というものを使います．NumpyはCで実装されており，処理が高速なので，大量のデータを扱うデータサイエンスの領域では必須のライブラリです．\n"
      ]
    },
    {
      "cell_type": "markdown",
      "metadata": {
        "id": "J8BvEN1bmtwI"
      },
      "source": [
        "##Numpyの基本的な使い方"
      ]
    },
    {
      "cell_type": "markdown",
      "metadata": {
        "id": "9Wm41wM-B527"
      },
      "source": [
        "（ここは興味のない人は飛ばしてもらっていいです）"
      ]
    },
    {
      "cell_type": "markdown",
      "metadata": {
        "id": "im8WcEBIOZu3"
      },
      "source": [
        "###Numpyライブラリの読み込み\n",
        "ライブラリを読み込んで使える状態にするには，**import** を使います．**import** モジュール名（numpy）でモジュールを読み込んでおり、**as** で短い名前をつけます（ここではnp；numpyをnpと省略するのは一般的なルールなので勝手な略称をつけないように）．これで「np」という名前をつければNumpyの関数を使うことができるようになりました．"
      ]
    },
    {
      "cell_type": "code",
      "metadata": {
        "id": "24CEJ0hXO8od"
      },
      "source": [
        "# numpyモジュールの読み込み\n",
        "import numpy as np"
      ],
      "execution_count": null,
      "outputs": []
    },
    {
      "cell_type": "markdown",
      "metadata": {
        "id": "-mlYY9BEPRYP"
      },
      "source": [
        "まずは，1から10までの配列を作成してみます．np.と後にarrayをつけることで，Numpyのインスタンスとして配列sample_numpy_data を作っています．sample_numpy_data はNumpyのインスタンスなので，Numpyの持つ様々な機能（メソッドと言われます）を使うことができます．\n",
        "\n",
        "(数字が綺麗に並んでないですが、後から並び替えをするためにわざと作っています)．"
      ]
    },
    {
      "cell_type": "code",
      "metadata": {
        "id": "dfeEX595Pl79",
        "colab": {
          "base_uri": "https://localhost:8080/",
          "height": 35
        },
        "outputId": "6f5faac9-511d-4615-d0ef-af7b11170b16"
      },
      "source": [
        "# 配列の作成\n",
        "sample_numpy_data = np.array([9,2,3,4,10,6,7,8,1,5])\n",
        "sample_numpy_data"
      ],
      "execution_count": null,
      "outputs": [
        {
          "output_type": "execute_result",
          "data": {
            "text/plain": [
              "array([ 9,  2,  3,  4, 10,  6,  7,  8,  1,  5])"
            ]
          },
          "metadata": {
            "tags": []
          },
          "execution_count": 31
        }
      ]
    },
    {
      "cell_type": "markdown",
      "metadata": {
        "id": "BCLzvNf_x1PU"
      },
      "source": [
        "これはnumpy.ndarrayという型であることがわかります"
      ]
    },
    {
      "cell_type": "code",
      "metadata": {
        "id": "mjZLdJBbPnBt",
        "colab": {
          "base_uri": "https://localhost:8080/",
          "height": 35
        },
        "outputId": "a251b155-f8bb-47ba-a030-1e42282b440f"
      },
      "source": [
        "#nd　　arrayはnumpyの多次元データを扱う型\n",
        "type(sample_numpy_data)"
      ],
      "execution_count": null,
      "outputs": [
        {
          "output_type": "execute_result",
          "data": {
            "text/plain": [
              "numpy.ndarray"
            ]
          },
          "metadata": {
            "tags": []
          },
          "execution_count": 32
        }
      ]
    },
    {
      "cell_type": "markdown",
      "metadata": {
        "id": "lFx2eNMrfzWJ"
      },
      "source": [
        "###Numpyのメソッドを使う"
      ]
    },
    {
      "cell_type": "markdown",
      "metadata": {
        "id": "06chDIVAc0aT"
      },
      "source": [
        "dtype, ndim, sizeといったNumpyのメソッド（クラスで定義されている処理）を使うことで，データの中身を見ることができます．\n",
        "\n",
        "使い方は，「インスタンス名.（ピリオド）メソッド」という書き方をします．"
      ]
    },
    {
      "cell_type": "code",
      "metadata": {
        "id": "-qYVVCCKcnKh",
        "colab": {
          "base_uri": "https://localhost:8080/",
          "height": 71
        },
        "outputId": "967681be-2fca-44e6-f4b5-261c2f09b6b4"
      },
      "source": [
        "# データの型\n",
        "print(sample_numpy_data.dtype)\n",
        "# 次元数\n",
        "print(sample_numpy_data.ndim)\n",
        "# 要素数\n",
        "print(sample_numpy_data.size)"
      ],
      "execution_count": null,
      "outputs": [
        {
          "output_type": "stream",
          "text": [
            "int64\n",
            "1\n",
            "10\n"
          ],
          "name": "stdout"
        }
      ]
    },
    {
      "cell_type": "markdown",
      "metadata": {
        "id": "I60aLf02eG2R"
      },
      "source": [
        "次にsort()というメソッドを使ってみましょう．sort()は並び替えの処理を行います．並び替え処理を行った後は，数字が昇順に整列されていることを確認しましょう．"
      ]
    },
    {
      "cell_type": "code",
      "metadata": {
        "id": "z_AkpLL8eSg_",
        "colab": {
          "base_uri": "https://localhost:8080/",
          "height": 53
        },
        "outputId": "f7d44fea-896c-4db8-e249-fcff69889c63"
      },
      "source": [
        "print(\"そのまま：\",sample_numpy_data)\n",
        "\n",
        "# ソート\n",
        "sample_numpy_data.sort()\n",
        "\n",
        "print(\"ソート後：\",sample_numpy_data)\n"
      ],
      "execution_count": null,
      "outputs": [
        {
          "output_type": "stream",
          "text": [
            "そのまま： [ 9  2  3  4 10  6  7  8  1  5]\n",
            "ソート後： [ 1  2  3  4  5  6  7  8  9 10]\n"
          ],
          "name": "stdout"
        }
      ]
    },
    {
      "cell_type": "code",
      "metadata": {
        "id": "03KouPH3ex09",
        "colab": {
          "base_uri": "https://localhost:8080/",
          "height": 89
        },
        "outputId": "acdac0fd-8ae8-40a0-9e75-60ce68ae9608"
      },
      "source": [
        "# 最小値\n",
        "print(\"Min:\",sample_numpy_data.min())\n",
        "# 最大値\n",
        "print(\"Max:\",sample_numpy_data.max())\n",
        "# 合計\n",
        "print(\"Sum:\",sample_numpy_data.sum())\n",
        "# 積み上げ\n",
        "print(\"Cum:\",sample_numpy_data.cumsum())"
      ],
      "execution_count": null,
      "outputs": [
        {
          "output_type": "stream",
          "text": [
            "Min: 1\n",
            "Max: 10\n",
            "Sum: 55\n",
            "Cum: [ 1  3  6 10 15 21 28 36 45 55]\n"
          ],
          "name": "stdout"
        }
      ]
    },
    {
      "cell_type": "markdown",
      "metadata": {
        "id": "LEOQvUmzhr6E"
      },
      "source": [
        "###行列を扱う"
      ]
    },
    {
      "cell_type": "markdown",
      "metadata": {
        "id": "2uBBKLErhxpd"
      },
      "source": [
        ""
      ]
    },
    {
      "cell_type": "code",
      "metadata": {
        "id": "Xle_cboNiOsV",
        "colab": {
          "base_uri": "https://localhost:8080/",
          "height": 35
        },
        "outputId": "e050cc54-458e-4023-e0b6-c48eb93cbbb3"
      },
      "source": [
        "#まずは要素が 1, 2, 3 である長さ 3 のベクトル\n",
        "a = np.array([1, 2, 3])\n",
        "print(a)"
      ],
      "execution_count": null,
      "outputs": [
        {
          "output_type": "stream",
          "text": [
            "[1 2 3]\n"
          ],
          "name": "stdout"
        }
      ]
    },
    {
      "cell_type": "markdown",
      "metadata": {
        "id": "dzEk-Rm6jKq_"
      },
      "source": [
        "次にこんな行列を作ってみましょう\n",
        "\\begin{pmatrix}\n",
        "1 & 2 &3 \\\\\n",
        "4 & 5 & 6 \\\\\n",
        "7 & 8 & 9\n",
        "\\end{pmatrix}\n"
      ]
    },
    {
      "cell_type": "code",
      "metadata": {
        "id": "_-6QuLLeiy9L",
        "colab": {
          "base_uri": "https://localhost:8080/",
          "height": 71
        },
        "outputId": "d4eb2d83-a0ba-42cf-9735-ab3986c97ad8"
      },
      "source": [
        "b = np.array([[1, 2, 3], [4, 5,6],[7, 8, 9]])\n",
        "print(b)"
      ],
      "execution_count": null,
      "outputs": [
        {
          "output_type": "stream",
          "text": [
            "[[1 2 3]\n",
            " [4 5 6]\n",
            " [7 8 9]]\n"
          ],
          "name": "stdout"
        }
      ]
    },
    {
      "cell_type": "markdown",
      "metadata": {
        "id": "7NGpuWBrx_u6"
      },
      "source": [
        "numpy.ndarrayを作る方法はnp.array()以外にも色々あります．\n",
        "例えば，np.zeros() はそれぞれ要素が全て 0 である0行列を生成する関数です．"
      ]
    },
    {
      "cell_type": "code",
      "metadata": {
        "id": "_UXTmmctyRun",
        "colab": {
          "base_uri": "https://localhost:8080/",
          "height": 71
        },
        "outputId": "60d2302b-123c-430b-b326-a419c173bf3f"
      },
      "source": [
        "#すべての要素が0の行列\n",
        "np.zeros((3, 4))"
      ],
      "execution_count": null,
      "outputs": [
        {
          "output_type": "execute_result",
          "data": {
            "text/plain": [
              "array([[0., 0., 0., 0.],\n",
              "       [0., 0., 0., 0.],\n",
              "       [0., 0., 0., 0.]])"
            ]
          },
          "metadata": {
            "tags": []
          },
          "execution_count": 38
        }
      ]
    },
    {
      "cell_type": "markdown",
      "metadata": {
        "id": "aNO_569eyqRp"
      },
      "source": [
        "np.identity()は単位行列を生成する関数です．n は行列の大きさを表します． 例えば3 と指定すると，単位行列は正方行列なので，大きさ 3×3 の単位行列が生成されます．"
      ]
    },
    {
      "cell_type": "code",
      "metadata": {
        "id": "9VrCEMt-y6Wg",
        "colab": {
          "base_uri": "https://localhost:8080/",
          "height": 71
        },
        "outputId": "982aa77f-f2ad-45e3-e564-ae9354fff1a2"
      },
      "source": [
        "#単位行列\n",
        "np.identity(3)"
      ],
      "execution_count": null,
      "outputs": [
        {
          "output_type": "execute_result",
          "data": {
            "text/plain": [
              "array([[1., 0., 0.],\n",
              "       [0., 1., 0.],\n",
              "       [0., 0., 1.]])"
            ]
          },
          "metadata": {
            "tags": []
          },
          "execution_count": 39
        }
      ]
    },
    {
      "cell_type": "code",
      "metadata": {
        "id": "MMtW45MVzWb4",
        "colab": {
          "base_uri": "https://localhost:8080/",
          "height": 35
        },
        "outputId": "cc3ba2f3-35c5-452e-8639-c22eb532fb68"
      },
      "source": [
        "#数列を生成する\n",
        "np.arange(9)"
      ],
      "execution_count": null,
      "outputs": [
        {
          "output_type": "execute_result",
          "data": {
            "text/plain": [
              "array([0, 1, 2, 3, 4, 5, 6, 7, 8])"
            ]
          },
          "metadata": {
            "tags": []
          },
          "execution_count": 40
        }
      ]
    },
    {
      "cell_type": "code",
      "metadata": {
        "id": "7thq-Xsuzt4J",
        "colab": {
          "base_uri": "https://localhost:8080/",
          "height": 71
        },
        "outputId": "e6225697-800f-4488-852f-a21a5f5a4dd7"
      },
      "source": [
        "#後ろにさらにメソッドを重ねることもできます\n",
        "#reshapeは行列に変換するメソッドです\n",
        "np.arange(9).reshape(3,3)"
      ],
      "execution_count": null,
      "outputs": [
        {
          "output_type": "execute_result",
          "data": {
            "text/plain": [
              "array([[0, 1, 2],\n",
              "       [3, 4, 5],\n",
              "       [6, 7, 8]])"
            ]
          },
          "metadata": {
            "tags": []
          },
          "execution_count": 41
        }
      ]
    },
    {
      "cell_type": "code",
      "metadata": {
        "id": "1wNdiLB4087B",
        "colab": {
          "base_uri": "https://localhost:8080/",
          "height": 35
        },
        "outputId": "45214503-2d82-48f3-bc84-3e4567d5ebb1"
      },
      "source": [
        "#さらにこの行列のある部分だけを取り出すこともできます\n",
        "#0行目だけを取り出す（pythonは0からカウントするので実際には1行目）\n",
        "print(np.arange(9).reshape(3,3)[0,:])"
      ],
      "execution_count": null,
      "outputs": [
        {
          "output_type": "stream",
          "text": [
            "[0 1 2]\n"
          ],
          "name": "stdout"
        }
      ]
    },
    {
      "cell_type": "code",
      "metadata": {
        "id": "UZ8orsWy47Id",
        "colab": {
          "base_uri": "https://localhost:8080/",
          "height": 35
        },
        "outputId": "e6c9634c-d10e-4857-d476-e4e3651a5703"
      },
      "source": [
        "#0列目だけを取り出す（実際には1列目）\n",
        "print(np.arange(9).reshape(3,3)[:,0])"
      ],
      "execution_count": null,
      "outputs": [
        {
          "output_type": "stream",
          "text": [
            "[0 3 6]\n"
          ],
          "name": "stdout"
        }
      ]
    },
    {
      "cell_type": "code",
      "metadata": {
        "id": "1eHs7DU54_IO",
        "colab": {
          "base_uri": "https://localhost:8080/",
          "height": 71
        },
        "outputId": "05a013c5-bb87-4dd2-b55b-607d8cc422f8"
      },
      "source": [
        "#\"0:2\"(コロン)は「0番目の要素から２番目の要素の手前(つまり１番目)まで取り出す\n",
        "print(np.arange(9).reshape(3,3)[:,0:2])"
      ],
      "execution_count": null,
      "outputs": [
        {
          "output_type": "stream",
          "text": [
            "[[0 1]\n",
            " [3 4]\n",
            " [6 7]]\n"
          ],
          "name": "stdout"
        }
      ]
    },
    {
      "cell_type": "code",
      "metadata": {
        "id": "0M02JAJw0VAp",
        "colab": {
          "base_uri": "https://localhost:8080/",
          "height": 53
        },
        "outputId": "d33fc3bf-cbf9-4966-b2f9-1cb7d19fddd5"
      },
      "source": [
        "#行列を生成する際に変数の型を指定することができます\n",
        "a = np.array([1, 2, 3], dtype=float)\n",
        "print(\"aの型は\",a.dtype)\n",
        "\n",
        "b = np.array([1, 2, 3], dtype=int)\n",
        "print(\"bの型は\",b.dtype)"
      ],
      "execution_count": null,
      "outputs": [
        {
          "output_type": "stream",
          "text": [
            "aの型は float64\n",
            "bの型は int64\n"
          ],
          "name": "stdout"
        }
      ]
    },
    {
      "cell_type": "markdown",
      "metadata": {
        "id": "bb_K98aa5WTG"
      },
      "source": [
        "###行列の演算\n"
      ]
    },
    {
      "cell_type": "markdown",
      "metadata": {
        "id": "vhVSDwl_6RVn"
      },
      "source": [
        "行列の掛け算では，np.dotを使います．なお，*を使うとそれぞれの要素を掛け算するだけなので，間違えないように注意しましょう"
      ]
    },
    {
      "cell_type": "code",
      "metadata": {
        "id": "t81oXY9B5fNN",
        "colab": {
          "base_uri": "https://localhost:8080/",
          "height": 71
        },
        "outputId": "f2853fe9-36f6-4135-ba6a-d7a2b6e64555"
      },
      "source": [
        "# 行列の積\n",
        "sample_multi_array_data1 = np.arange(0,9).reshape(3,3)\n",
        "sample_multi_array_data2 =  np.arange(9,18).reshape(3,3)\n",
        "np.dot(sample_multi_array_data1,sample_multi_array_data2)"
      ],
      "execution_count": null,
      "outputs": [
        {
          "output_type": "execute_result",
          "data": {
            "text/plain": [
              "array([[ 42,  45,  48],\n",
              "       [150, 162, 174],\n",
              "       [258, 279, 300]])"
            ]
          },
          "metadata": {
            "tags": []
          },
          "execution_count": 46
        }
      ]
    },
    {
      "cell_type": "code",
      "metadata": {
        "id": "n6i7uAu16bFU",
        "colab": {
          "base_uri": "https://localhost:8080/",
          "height": 71
        },
        "outputId": "3a1fcf18-720d-4807-b800-2cd9e0ac17bd"
      },
      "source": [
        "# 要素の積(注：行列の掛け算ではありません)\n",
        "sample_multi_array_data1 * sample_multi_array_data2"
      ],
      "execution_count": null,
      "outputs": [
        {
          "output_type": "execute_result",
          "data": {
            "text/plain": [
              "array([[  0,  10,  22],\n",
              "       [ 36,  52,  70],\n",
              "       [ 90, 112, 136]])"
            ]
          },
          "metadata": {
            "tags": []
          },
          "execution_count": 47
        }
      ]
    },
    {
      "cell_type": "markdown",
      "metadata": {
        "id": "XZNbjr-A8v0e"
      },
      "source": [
        "###list型からnp.array型への変換"
      ]
    },
    {
      "cell_type": "code",
      "metadata": {
        "id": "6Zm-mSKDze-C",
        "colab": {
          "base_uri": "https://localhost:8080/",
          "height": 107
        },
        "outputId": "b453b0bd-b0a5-4422-bf5f-710b50500407"
      },
      "source": [
        "data0 = range(10) # 注意\n",
        "\n",
        "data1 = []\n",
        "for x in range(10):\n",
        "    data1.append(x)\n",
        "\n",
        "data2 = [x for x in range(10)] # Python 特有の書き方\n",
        "data3 = np.array(range(10)) # range => numpy.ndarray 変換\n",
        "data4 = np.array(data2) # list => numpy.ndarray 変換\n",
        "\n",
        "print (type(data0), data0)\n",
        "print (type(data1), data1)\n",
        "print (type(data2), data2)\n",
        "print (type(data3), data3)\n",
        "print (type(data4), data4)"
      ],
      "execution_count": null,
      "outputs": [
        {
          "output_type": "stream",
          "text": [
            "<class 'range'> range(0, 10)\n",
            "<class 'list'> [0, 1, 2, 3, 4, 5, 6, 7, 8, 9]\n",
            "<class 'list'> [0, 1, 2, 3, 4, 5, 6, 7, 8, 9]\n",
            "<class 'numpy.ndarray'> [0 1 2 3 4 5 6 7 8 9]\n",
            "<class 'numpy.ndarray'> [0 1 2 3 4 5 6 7 8 9]\n"
          ],
          "name": "stdout"
        }
      ]
    },
    {
      "cell_type": "markdown",
      "metadata": {
        "id": "6ovYK2lYDQg8"
      },
      "source": [
        "## Numpyで求める代表値，ばらつきの指標"
      ]
    },
    {
      "cell_type": "markdown",
      "metadata": {
        "id": "61nk8PlC1FTn"
      },
      "source": [
        "ライブラリを読み込んで使える状態にするには，import を使います．import モジュール名（numpy）でモジュールを読み込んでおり、as で短い名前をつけます（ここではnp；numpyをnpと省略するのは一般的なルールなので勝手な略称をつけないように）．これで「np」という名前をつければNumpyの関数を使うことができるようになりました．"
      ]
    },
    {
      "cell_type": "code",
      "metadata": {
        "id": "BA374PI6Rr4-"
      },
      "source": [
        "# numpyモジュールの読み込み\n",
        "import numpy as np"
      ],
      "execution_count": null,
      "outputs": []
    },
    {
      "cell_type": "markdown",
      "metadata": {
        "id": "L3Os_jwPStaK"
      },
      "source": [
        "numpyで使える配列を作成します．\n",
        "np.と後にarrayをつけることで，Numpyのインスタンスとして配列（`ndarray`と呼ばれる）であるcommuting_timeを作っています．commuting_time はNumpyのインスタンスなので，Numpyの持つ様々な機能（メソッドと言われます）を使うことができます．\n"
      ]
    },
    {
      "cell_type": "code",
      "metadata": {
        "id": "6fe0fmhZRwKS"
      },
      "source": [
        "#データ読込（通学時間）\n",
        "commuting_time = np.array([60,110,90,90,105,120,75,70,130,45,20,120,80,90,90,5,50,\n",
        "                            100,80,10,10,15,60,90,70,60,40,70,30,150,90,80,7,90,36,80,\n",
        "                            110,50,30,60,70,90,150,90,120,90,100,60,100,45,90,70,90,\n",
        "                            30,90,90,130,140,90,70,70,120,90,30,120,40,90,60,40,4,10,\n",
        "                            90,90,70,20,30,60,30,120,50,110,60,90,10,90,50,120,30,100,\n",
        "                            120,90,60,90,15,110,100,80,10,120,90,80,70,60,20,120,120,\n",
        "                            80,20,5,90,60,60,100,75,90,15,10,90,100,70,80,120,90,90,\n",
        "                            100,80,60,95,90,20,50,100,70,70,120,120,60,80,30,20,100,\n",
        "                            30,60,25,120,75,50,120,30,90,180,150\n",
        "        ])"
      ],
      "execution_count": null,
      "outputs": []
    },
    {
      "cell_type": "markdown",
      "metadata": {
        "id": "wwUqeFYz1nVB"
      },
      "source": [
        "Numpyのメソッド（クラスで定義されている処理）を使うことで，データの中身を見ることができます．\n",
        "使い方は，「インスタンス名.（ピリオド）メソッド」という書き方をします．"
      ]
    },
    {
      "cell_type": "markdown",
      "metadata": {
        "id": "W-X6Etk0Smb4"
      },
      "source": [
        "numpy.sum(): 合計"
      ]
    },
    {
      "cell_type": "code",
      "metadata": {
        "id": "CvdvKLkuSpE8",
        "colab": {
          "base_uri": "https://localhost:8080/",
          "height": 35
        },
        "outputId": "02cceb84-bfcc-4c56-d074-f90373bc6c4e"
      },
      "source": [
        "commuting_time.sum()"
      ],
      "execution_count": null,
      "outputs": [
        {
          "output_type": "execute_result",
          "data": {
            "text/plain": [
              "11262"
            ]
          },
          "metadata": {
            "tags": []
          },
          "execution_count": 55
        }
      ]
    },
    {
      "cell_type": "code",
      "metadata": {
        "id": "up3hHklywYsD",
        "colab": {
          "base_uri": "https://localhost:8080/",
          "height": 35
        },
        "outputId": "f2409a6b-8516-49bd-a445-8903ec73d196"
      },
      "source": [
        "#下のように書くこともできる（結果は同じ）\n",
        "np.sum(commuting_time)"
      ],
      "execution_count": null,
      "outputs": [
        {
          "output_type": "execute_result",
          "data": {
            "text/plain": [
              "11262"
            ]
          },
          "metadata": {
            "tags": []
          },
          "execution_count": 56
        }
      ]
    },
    {
      "cell_type": "markdown",
      "metadata": {
        "id": "SikDOKuqTG-A"
      },
      "source": [
        "numpy.mean(): 平均値: $$\\overline{x}=\\frac{1}{N}\\sum_{i=1}^Nx_i $$"
      ]
    },
    {
      "cell_type": "code",
      "metadata": {
        "id": "Y722BW_dTMbb",
        "colab": {
          "base_uri": "https://localhost:8080/",
          "height": 35
        },
        "outputId": "367195b3-7021-4498-8669-3c4129e2b06f"
      },
      "source": [
        "commuting_time.mean()"
      ],
      "execution_count": null,
      "outputs": [
        {
          "output_type": "execute_result",
          "data": {
            "text/plain": [
              "74.09210526315789"
            ]
          },
          "metadata": {
            "tags": []
          },
          "execution_count": 57
        }
      ]
    },
    {
      "cell_type": "markdown",
      "metadata": {
        "id": "-qIgq-gZTgQP"
      },
      "source": [
        "numpy.var(): 分散\n",
        "$$\\sigma^2 = {\\frac{1}{N}\\sum_{i=1}^N (x_i - \\overline{x})^2}$$"
      ]
    },
    {
      "cell_type": "code",
      "metadata": {
        "id": "r_z-ymYcTk6t",
        "colab": {
          "base_uri": "https://localhost:8080/",
          "height": 35
        },
        "outputId": "f22bd170-b32e-41d2-e55f-ee08d174dc53"
      },
      "source": [
        "commuting_time.var()"
      ],
      "execution_count": null,
      "outputs": [
        {
          "output_type": "execute_result",
          "data": {
            "text/plain": [
              "1322.7678324099722"
            ]
          },
          "metadata": {
            "tags": []
          },
          "execution_count": 70
        }
      ]
    },
    {
      "cell_type": "markdown",
      "metadata": {
        "id": "BOwZxMPFTocn"
      },
      "source": [
        "numpy.std():  standard deviation（標準偏差） $$\\sigma = \\sqrt{\\frac{1}{N}\\sum_{i=1}^N (x_i - \\overline{x})^2}$$"
      ]
    },
    {
      "cell_type": "code",
      "metadata": {
        "id": "SZwhOByQTrp6",
        "colab": {
          "base_uri": "https://localhost:8080/",
          "height": 35
        },
        "outputId": "ba33ed8f-e5b1-4898-abe5-4775e0fd9788"
      },
      "source": [
        "commuting_time.std()"
      ],
      "execution_count": null,
      "outputs": [
        {
          "output_type": "execute_result",
          "data": {
            "text/plain": [
              "36.36987534223856"
            ]
          },
          "metadata": {
            "tags": []
          },
          "execution_count": 71
        }
      ]
    },
    {
      "cell_type": "markdown",
      "metadata": {
        "id": "bCXAz_MCUDZN"
      },
      "source": [
        "numpy.percentile():　第1四分位，第２四分位（中央値），第3四分位\n",
        "\n",
        "numpy.min(): 最小値 / numpy.max(): 最大値\n",
        "\n",
        "*   min: 最小値\n",
        "*   25%: 第1四分位偏差（25パーセンタイル）\n",
        "*   50%: median（メディアン；中央値）\n",
        "*   75%: 第3四分位偏差（75パーセンタイル）\n",
        "*   max: 最大値\n"
      ]
    },
    {
      "cell_type": "code",
      "metadata": {
        "id": "AcLCYAb6UJzr",
        "colab": {
          "base_uri": "https://localhost:8080/",
          "height": 107
        },
        "outputId": "f5e9cecd-693d-41db-ea64-446c90045091"
      },
      "source": [
        "print(commuting_time.min())\n",
        "q25, q50, q75 = np.percentile(commuting_time, [25, 50, 75])\n",
        "print(q25)\n",
        "print(q50)\n",
        "print(q75)\n",
        "print(commuting_time.max())"
      ],
      "execution_count": null,
      "outputs": [
        {
          "output_type": "stream",
          "text": [
            "4\n",
            "50.0\n",
            "80.0\n",
            "96.25\n",
            "180\n"
          ],
          "name": "stdout"
        }
      ]
    },
    {
      "cell_type": "markdown",
      "metadata": {
        "id": "4Ha7J8fvORmO"
      },
      "source": [
        "## 範囲と四分位偏差と標準偏差の違い"
      ]
    },
    {
      "cell_type": "markdown",
      "metadata": {
        "id": "eSEureYLFGim"
      },
      "source": [
        "先程の通学時間データの配列をxに代入します．これでxもNumpyの配列に自動的になります．\n"
      ]
    },
    {
      "cell_type": "code",
      "metadata": {
        "id": "F8VyEFf1ONkv"
      },
      "source": [
        "x = commuting_time"
      ],
      "execution_count": null,
      "outputs": []
    },
    {
      "cell_type": "markdown",
      "metadata": {
        "id": "5g9PQHyo39gG"
      },
      "source": [
        "####範囲"
      ]
    },
    {
      "cell_type": "code",
      "metadata": {
        "id": "vjGhLqh7O5vt",
        "colab": {
          "base_uri": "https://localhost:8080/",
          "height": 283
        },
        "outputId": "7bbfae84-3999-4c4d-860f-424c20d9a0de"
      },
      "source": [
        "import matplotlib.pyplot as plt\n",
        "\n",
        "#(0,200)の区間を100分割した区間でヒストグラムを書く\n",
        "\n",
        "plt.figure(figsize=(10,4))\n",
        "plt.hist(x, bins=100,range=(0,200))\n",
        "\n",
        "plt.vlines(x.min(), 0, 10, \"red\", linestyles='dotted')\n",
        "plt.vlines(x.max(), 0, 10, \"red\", linestyles='dotted')\n",
        "plt.text(x.min(), 10, \"Min\", size = 15, color = \"red\")\n",
        "plt.text(x.max(), 10, \"Max\", size = 15, color = \"red\")\n",
        "plt.hlines(10, x.min(), x.max(), \"red\", linestyles='dashed')\n"
      ],
      "execution_count": null,
      "outputs": [
        {
          "output_type": "execute_result",
          "data": {
            "text/plain": [
              "<matplotlib.collections.LineCollection at 0x7fd2ddd4b2b0>"
            ]
          },
          "metadata": {
            "tags": []
          },
          "execution_count": 74
        },
        {
          "output_type": "display_data",
          "data": {
            "image/png": "[encoded data removed]",
            "text/plain": [
              "<Figure size 720x288 with 1 Axes>"
            ]
          },
          "metadata": {
            "tags": [],
            "needs_background": "light"
          }
        }
      ]
    },
    {
      "cell_type": "markdown",
      "metadata": {
        "id": "W4aJDSOs4b2g"
      },
      "source": [
        "####四分位範囲"
      ]
    },
    {
      "cell_type": "code",
      "metadata": {
        "id": "h7bSK7p74LEc",
        "colab": {
          "base_uri": "https://localhost:8080/",
          "height": 283
        },
        "outputId": "7613f6b0-21b0-4225-e68f-77c07eb7f6bf"
      },
      "source": [
        "plt.figure(figsize=(10,4))\n",
        "plt.hist(x, bins=100,range=(0,200))\n",
        "#25, 75パーセンタイル（第1四分位，第3四分位）を求める\n",
        "q75, q25 = np.percentile(x, [75 ,25])\n",
        "\n",
        "plt.vlines(q25, 0, 10, \"blue\", linestyles='dotted')\n",
        "plt.vlines(q75, 0, 10, \"blue\", linestyles='dotted')\n",
        "plt.text(q25, 10, \"25%\", size = 15, color = \"blue\")\n",
        "plt.text(q75, 10, \"75%\", size = 15, color = \"blue\")\n",
        "plt.hlines(10, q25, q75, \"blue\", linestyles='dashed')\n"
      ],
      "execution_count": null,
      "outputs": [
        {
          "output_type": "execute_result",
          "data": {
            "text/plain": [
              "<matplotlib.collections.LineCollection at 0x7fd2dd7a9cf8>"
            ]
          },
          "metadata": {
            "tags": []
          },
          "execution_count": 75
        },
        {
          "output_type": "display_data",
          "data": {
            "image/png": "[encoded data removed]",
            "text/plain": [
              "<Figure size 720x288 with 1 Axes>"
            ]
          },
          "metadata": {
            "tags": [],
            "needs_background": "light"
          }
        }
      ]
    },
    {
      "cell_type": "markdown",
      "metadata": {
        "id": "ugXa_JfD5ccM"
      },
      "source": [
        "####標準偏差"
      ]
    },
    {
      "cell_type": "code",
      "metadata": {
        "id": "t8iGPey-6LHc",
        "colab": {
          "base_uri": "https://localhost:8080/",
          "height": 283
        },
        "outputId": "75cd7a60-1cc4-415d-8e56-3be49fc09907"
      },
      "source": [
        "plt.figure(figsize=(10,4))\n",
        "plt.hist(x, bins=100,range=(0,200))\n",
        "\n",
        "plt.vlines(x.mean(), 0, 10, \"black\", linestyles='dotted')\n",
        "plt.text(x.mean(), 10, \"Mean\", size = 15, color = \"black\")\n",
        "\n",
        "plt.vlines(x.mean()+x.std(), 0, 10, \"black\", linestyles='dotted')\n",
        "plt.text(x.mean()+x.std(), 10, \"+1S.D.\", size = 15, color = \"black\")\n",
        "\n",
        "plt.vlines(x.mean()+2*x.std(), 0, 10, \"black\", linestyles='dotted')\n",
        "plt.text(x.mean()+2*x.std(), 10, \"+2S.D.\", size = 15, color = \"black\")\n",
        "\n",
        "plt.vlines(x.mean()+3*x.std(), 0, 10, \"black\", linestyles='dotted')\n",
        "plt.text(x.mean()+3*x.std(), 10, \"+3S.D.\", size = 15, color = \"black\")\n",
        "\n",
        "plt.vlines(x.mean()-x.std(), 0, 10, \"black\", linestyles='dotted')\n",
        "plt.text(x.mean()-x.std(), 10, \"-1S.D.\", size = 15, color = \"black\")\n",
        "\n",
        "plt.vlines(x.mean()-2*x.std(), 0, 10, \"black\", linestyles='dotted')\n",
        "plt.text(x.mean()-2*x.std(), 10, \"-2S.D.\", size = 15, color = \"black\")\n",
        "\n",
        "plt.vlines(x.mean()-3*x.std(), 0, 10, \"black\", linestyles='dotted')\n",
        "plt.text(x.mean()-3*x.std(), 10, \"-3S.D.\", size = 15, color = \"black\")\n",
        "\n",
        "plt.hlines(9, x.mean(), x.mean()+x.std(), \"black\", linestyles='dashed')\n"
      ],
      "execution_count": null,
      "outputs": [
        {
          "output_type": "execute_result",
          "data": {
            "text/plain": [
              "<matplotlib.collections.LineCollection at 0x7fd2dd5d1b38>"
            ]
          },
          "metadata": {
            "tags": []
          },
          "execution_count": 76
        },
        {
          "output_type": "display_data",
          "data": {
            "image/png": "[encoded data removed]",
            "text/plain": [
              "<Figure size 720x288 with 1 Axes>"
            ]
          },
          "metadata": {
            "tags": [],
            "needs_background": "light"
          }
        }
      ]
    }
  ]
}
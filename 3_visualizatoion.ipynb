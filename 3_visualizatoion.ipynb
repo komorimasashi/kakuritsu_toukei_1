{
  "nbformat": 4,
  "nbformat_minor": 0,
  "metadata": {
    "colab": {
      "name": "3_visualizatoion.ipynb",
      "provenance": [],
      "collapsed_sections": [],
      "include_colab_link": true
    },
    "kernelspec": {
      "name": "python3",
      "display_name": "Python 3"
    }
  },
  "cells": [
    {
      "cell_type": "markdown",
      "metadata": {
        "id": "view-in-github",
        "colab_type": "text"
      },
      "source": [
        "<a href=\"https://colab.research.google.com/github/komorimasashi/kakuritsu_toukei_1/blob/main/3_visualizatoion.ipynb\" target=\"_parent\"><img src=\"https://colab.research.google.com/assets/colab-badge.svg\" alt=\"Open In Colab\"/></a>"
      ]
    },
    {
      "cell_type": "markdown",
      "metadata": {
        "id": "m0Jx75ejbxPM"
      },
      "source": [
        "# データの可視化"
      ]
    },
    {
      "cell_type": "markdown",
      "metadata": {
        "id": "fHsgM-g5xmRH"
      },
      "source": [
        "##概要"
      ]
    },
    {
      "cell_type": "markdown",
      "metadata": {
        "id": "WPUDCFp8xp8y"
      },
      "source": [
        "**目的**\n",
        "さまざまなグラフを作成してみる\n",
        "\n",
        "**今回使うライブラリ**\n",
        "*   matplotlib： データの可視化を行うライブラリ\n"
      ]
    },
    {
      "cell_type": "markdown",
      "metadata": {
        "id": "-H6OW2PCELOi"
      },
      "source": [
        "##Matplotlibを使ってデータを可視化してみよう"
      ]
    },
    {
      "cell_type": "markdown",
      "metadata": {
        "id": "iMt9Hm9FEdhk"
      },
      "source": [
        "データ分析をする上で，「目で見る」ことはとても大切です．数字を眺めているだけでは見えなかった特徴や関係が，データを可視化することで見えてくることもあります．また他者をデータで説得するときには，この可視化が強力な武器になります．\n",
        "\n",
        "ここでは，データを可視化するためのライブラリmatplotlibと，その図をさらに綺麗にするライブラリseabornを使って，データを可視化する基本的な方法を身につけます．\n",
        "以下のサイトが参考になります。\n",
        "\n",
        "[参考URL]\n",
        "\n",
        "http://matplotlib.org/\n",
        "\n",
        "http://seaborn.pydata.org/"
      ]
    },
    {
      "cell_type": "markdown",
      "metadata": {
        "id": "r6D3SH8nFMz9"
      },
      "source": [
        "###ライブラリの読み込み"
      ]
    },
    {
      "cell_type": "markdown",
      "metadata": {
        "id": "Y3En4msb6Ai5"
      },
      "source": [
        "\n",
        "まずはmatplotlibとseabornをimportします．マジックコマンドはおまじないだと思ってください．"
      ]
    },
    {
      "cell_type": "code",
      "metadata": {
        "id": "0d_pyoGyFXf2"
      },
      "source": [
        "# matplotlib と seabornの読み込み\n",
        "# seabornはきれいに図示できる\n",
        "import matplotlib.pyplot as plt\n",
        "import matplotlib as mpl\n",
        "import seaborn as sns\n",
        "\n",
        "# numpyもインポートしましょう\n",
        "import numpy as np\n",
        "\n",
        "\n",
        "# ここで表示させるために必要なマジックコマンド\n",
        "%matplotlib inline"
      ],
      "execution_count": null,
      "outputs": []
    },
    {
      "cell_type": "markdown",
      "metadata": {
        "id": "AFFtfq--KE7C"
      },
      "source": [
        "###折れ線グラフのプロット"
      ]
    },
    {
      "cell_type": "markdown",
      "metadata": {
        "id": "QQzgSd2oM4gl"
      },
      "source": [
        "2次曲線を書いてみよう"
      ]
    },
    {
      "cell_type": "code",
      "metadata": {
        "id": "98N-7lzXKSGx",
        "colab": {
          "base_uri": "https://localhost:8080/",
          "height": 283
        },
        "outputId": "9f1a2ff0-ba47-4447-b76e-1c8bda1466e9"
      },
      "source": [
        "# np.arangeは決められた個数の整数の配列を作る関数\n",
        "#np.arange(5)であれば[0,1,2,3,4]の配列ができる\n",
        "x = np.arange(5)\n",
        "# **2は2乗の意味\n",
        "y = x**2\n",
        "\n",
        "# label=とlegendでラベルをつけることが可能\n",
        "plt.plot(x,y, label=\"hogehoge\")\n",
        "#legendは「凡例」の意味\n",
        "plt.legend()\n",
        "\n",
        "plt.xlabel(\"X\")\n",
        "plt.ylabel(\"Y\")\n",
        "plt.grid(True)\n",
        "\n",
        "#設定が全て終わったらplt.show()で表示する\n",
        "#“最初に%matplotlib inlineと指定しているので，実はplt.show()と書かなくても図は表示される\n",
        "plt.show()"
      ],
      "execution_count": null,
      "outputs": [
        {
          "output_type": "display_data",
          "data": {
            "image/png": "[encoded data removed]",
            "text/plain": [
              "<Figure size 432x288 with 1 Axes>"
            ]
          },
          "metadata": {
            "tags": []
          }
        }
      ]
    },
    {
      "cell_type": "markdown",
      "metadata": {
        "id": "OY_Y2swiNMi4"
      },
      "source": [
        "次は三角関数$sin(x)$を書いてみましょう．\n",
        "\n",
        "np.linspace(-5,5,100)は-5から5までの数を100コに分割した数字リストを取り出す関数です．\n",
        "\n"
      ]
    },
    {
      "cell_type": "code",
      "metadata": {
        "id": "QIc_PAuJMzMQ",
        "colab": {
          "base_uri": "https://localhost:8080/",
          "height": 269
        },
        "outputId": "7ddbb8c0-5b4b-42b5-8dd3-2c1e23baba9e"
      },
      "source": [
        "x = np.linspace(-5, 5,100)\n",
        "plt.plot(x, np.sin(x)) \n",
        "plt.show()"
      ],
      "execution_count": null,
      "outputs": [
        {
          "output_type": "display_data",
          "data": {
            "image/png": "[encoded data removed]",
            "text/plain": [
              "<Figure size 432x288 with 1 Axes>"
            ]
          },
          "metadata": {
            "tags": []
          }
        }
      ]
    },
    {
      "cell_type": "markdown",
      "metadata": {
        "id": "1kk44_pLOAEp"
      },
      "source": [
        "次は$sin(x)$と$cos(x)$を重ねてみましょう"
      ]
    },
    {
      "cell_type": "code",
      "metadata": {
        "id": "1bf8m5L6OJFm",
        "colab": {
          "base_uri": "https://localhost:8080/",
          "height": 269
        },
        "outputId": "d0c0895a-004d-45dd-ed72-f95e4a2acc32"
      },
      "source": [
        "x = np.linspace(-5, 5,100)\n",
        "plt.plot(x, np.sin(x), label=\"sin\") \n",
        "plt.plot(x, np.cos(x), label=\"cos\")  \n",
        "\n",
        "#legendは「凡例」の意味\n",
        "plt.legend()\n",
        "#表示する\n",
        "plt.show()"
      ],
      "execution_count": null,
      "outputs": [
        {
          "output_type": "display_data",
          "data": {
            "image/png": "[encoded data removed]",
            "text/plain": [
              "<Figure size 432x288 with 1 Axes>"
            ]
          },
          "metadata": {
            "tags": []
          }
        }
      ]
    },
    {
      "cell_type": "markdown",
      "metadata": {
        "id": "xgLTuLiWPK6V"
      },
      "source": [
        "###棒グラフのプロット"
      ]
    },
    {
      "cell_type": "markdown",
      "metadata": {
        "id": "a4KJnT8vPTsy"
      },
      "source": [
        "棒グラフにはplt.bar()関数を使います"
      ]
    },
    {
      "cell_type": "code",
      "metadata": {
        "id": "nUUchpSSPY_K",
        "colab": {
          "base_uri": "https://localhost:8080/",
          "height": 269
        },
        "outputId": "1bb1dff8-9e2b-4133-d27e-198def865bc3"
      },
      "source": [
        "condition = np.array([\"A\", \"B\", \"C\", \"D\", \"E\"])\n",
        "value = np.array([100, 200, 300, 400, 500])\n",
        "plt.bar(condition, value)\n",
        "\n",
        "#表示する\n",
        "plt.show()"
      ],
      "execution_count": null,
      "outputs": [
        {
          "output_type": "display_data",
          "data": {
            "image/png": "[encoded data removed]",
            "text/plain": [
              "<Figure size 432x288 with 1 Axes>"
            ]
          },
          "metadata": {
            "tags": []
          }
        }
      ]
    },
    {
      "cell_type": "markdown",
      "metadata": {
        "id": "0yeXtZyUQv2i"
      },
      "source": [
        "積層グラフも作れます"
      ]
    },
    {
      "cell_type": "code",
      "metadata": {
        "id": "IaD4HWmZQMSA",
        "colab": {
          "base_uri": "https://localhost:8080/",
          "height": 269
        },
        "outputId": "5a5957cd-4381-46d4-b337-460f556becd6"
      },
      "source": [
        "condition = np.array([\"A\", \"B\", \"C\", \"D\"])\n",
        "value1 = np.array([100, 200, 300, 400])\n",
        "value2 = np.array([1000, 800, 600, 400])\n",
        "p1 = plt.bar(condition, value1, color=\"green\")\n",
        "p2 = plt.bar(condition, value2, bottom=value1, color=\"orange\")\n",
        "plt.legend((p1[0], p2[0]), (\"HogeHoge 1\", \"HogeHoge 2\"))\n",
        "\n",
        "#表示する\n",
        "plt.show()"
      ],
      "execution_count": null,
      "outputs": [
        {
          "output_type": "display_data",
          "data": {
            "image/png": "[encoded data removed]",
            "text/plain": [
              "<Figure size 432x288 with 1 Axes>"
            ]
          },
          "metadata": {
            "tags": []
          }
        }
      ]
    },
    {
      "cell_type": "markdown",
      "metadata": {
        "id": "dXTT0MtVIFz1"
      },
      "source": [
        "###散布図のプロット"
      ]
    },
    {
      "cell_type": "code",
      "metadata": {
        "id": "liXIAJwVIJl6",
        "colab": {
          "base_uri": "https://localhost:8080/",
          "height": 295
        },
        "outputId": "9b9d5195-d5db-46b5-91c2-855013984529"
      },
      "source": [
        "#　乱数発生のシード値の固定\n",
        "np.random.seed(0)\n",
        "\n",
        "#np.random.rand()は決められた個数の乱数（0~+1の範囲内でランダムな数値; 一様乱数)を発生させる \n",
        "# x軸のデータ\n",
        "x = np.random.rand(30)\n",
        "# y軸のデータ\n",
        "y = np.random.rand(30)\n",
        "\n",
        "# plot\n",
        "plt.plot(x, y, \"o\")\n",
        "\n",
        "# 散布図のtitleを「hogehoge」にする\n",
        "plt.title(\"hogehoge\")\n",
        "# Xの座標名\n",
        "plt.xlabel(\"X\")\n",
        "# Yの座標名\n",
        "plt.ylabel(\"Y\")\n",
        "\n",
        "# gridを入れるかどうか\n",
        "plt.grid(True)\n",
        "\n",
        "#表示する\n",
        "plt.show()"
      ],
      "execution_count": null,
      "outputs": [
        {
          "output_type": "display_data",
          "data": {
            "image/png": "[encoded data removed]",
            "text/plain": [
              "<Figure size 432x288 with 1 Axes>"
            ]
          },
          "metadata": {
            "tags": []
          }
        }
      ]
    },
    {
      "cell_type": "code",
      "metadata": {
        "id": "ngvN3CNuJAf3",
        "colab": {
          "base_uri": "https://localhost:8080/",
          "height": 269
        },
        "outputId": "c2eb4309-f382-41cb-fb61-42d608caead3"
      },
      "source": [
        "#scatterでも散布図が描ける\n",
        "plt.scatter(x, y)\n",
        "\n",
        "#表示する\n",
        "plt.show()"
      ],
      "execution_count": null,
      "outputs": [
        {
          "output_type": "display_data",
          "data": {
            "image/png": "[encoded data removed]",
            "text/plain": [
              "<Figure size 432x288 with 1 Axes>"
            ]
          },
          "metadata": {
            "tags": []
          }
        }
      ]
    },
    {
      "cell_type": "markdown",
      "metadata": {
        "id": "hGx3uPOCONkg"
      },
      "source": [
        "**seabornライブラリ**を使うと更にかっこよい散布図が作れます"
      ]
    },
    {
      "cell_type": "code",
      "metadata": {
        "id": "5X6FtWqOOUQo",
        "colab": {
          "base_uri": "https://localhost:8080/",
          "height": 458
        },
        "outputId": "487432c7-ef25-4ff1-e22b-0d7c57cfc7a9"
      },
      "source": [
        "import seaborn as sns \n",
        "sns.jointplot(x, y)"
      ],
      "execution_count": null,
      "outputs": [
        {
          "output_type": "execute_result",
          "data": {
            "text/plain": [
              "<seaborn.axisgrid.JointGrid at 0x7faa3db75128>"
            ]
          },
          "metadata": {
            "tags": []
          },
          "execution_count": 9
        },
        {
          "output_type": "display_data",
          "data": {
            "image/png": "[encoded data removed]",
            "text/plain": [
              "<Figure size 432x432 with 3 Axes>"
            ]
          },
          "metadata": {
            "tags": []
          }
        }
      ]
    },
    {
      "cell_type": "markdown",
      "metadata": {
        "id": "hTXTG5epRYPW"
      },
      "source": [
        "###分布のプロット"
      ]
    },
    {
      "cell_type": "markdown",
      "metadata": {
        "id": "Lop_MimmSWjO"
      },
      "source": [
        "ヒストグラムは度数分布表をグラフにしたものです．\n",
        "\n",
        "例えば今まで付き合ったことがある異性の人数のデータ（うそこデータ）xを作成して分布を見てみましょう．今まで付き合った異性が0人の人が12人いることがわかります．"
      ]
    },
    {
      "cell_type": "code",
      "metadata": {
        "id": "DC5MpeR-R5Jo",
        "colab": {
          "base_uri": "https://localhost:8080/",
          "height": 269
        },
        "outputId": "0d46f4f7-4eb5-4ef6-e7bf-a9b16a3b8b96"
      },
      "source": [
        "#適当な配列xを作る\n",
        "x = [0,0,0,2,1,4,1,4,1,2,1,6,7,1,4,5,0,0,0,7,9,0,0,5,3,4,8,0,0,0,1,1,0,3,2,6,5,7,9,9,4,3,5,4,3,2,10,3,4,7]\n",
        "plt.hist(x)\n",
        "\n",
        "#表示する\n",
        "plt.show()"
      ],
      "execution_count": null,
      "outputs": [
        {
          "output_type": "display_data",
          "data": {
            "image/png": "[encoded data removed]",
            "text/plain": [
              "<Figure size 432x288 with 1 Axes>"
            ]
          },
          "metadata": {
            "tags": []
          }
        }
      ]
    },
    {
      "cell_type": "code",
      "metadata": {
        "id": "O1nj4I50PXO2",
        "colab": {
          "base_uri": "https://localhost:8080/",
          "height": 269
        },
        "outputId": "fc99f922-0665-4b17-b5a7-1ecfcca19603"
      },
      "source": [
        "#箱ひげ図\n",
        "plt.boxplot(x)\n",
        "#表示する\n",
        "plt.show()"
      ],
      "execution_count": null,
      "outputs": [
        {
          "output_type": "display_data",
          "data": {
            "image/png": "[encoded data removed]",
            "text/plain": [
              "<Figure size 432x288 with 1 Axes>"
            ]
          },
          "metadata": {
            "tags": []
          }
        }
      ]
    },
    {
      "cell_type": "code",
      "metadata": {
        "id": "uuC__waqRgYd",
        "colab": {
          "base_uri": "https://localhost:8080/",
          "height": 269
        },
        "outputId": "2478b566-06c0-49ec-9da8-5925c1e40673"
      },
      "source": [
        "#　乱数発生のシード値の固定(乱数のシードの値を1に変えて実行してみよう)\n",
        "np.random.seed(0)\n",
        "#randnは標準正規分布（平均=0, 分散=1）に従う乱数を所定の個数発生させる関数\n",
        "x = np.random.randn(100)\n",
        "\n",
        "#(-5,5)の区間を100分割した区間でヒストグラムを書く\n",
        "plt.hist(x, bins=100,range=(-5,5))\n",
        "plt.grid(True)\n",
        "\n",
        "#表示する\n",
        "plt.show()"
      ],
      "execution_count": null,
      "outputs": [
        {
          "output_type": "display_data",
          "data": {
            "image/png": "[encoded data removed]",
            "text/plain": [
              "<Figure size 432x288 with 1 Axes>"
            ]
          },
          "metadata": {
            "tags": []
          }
        }
      ]
    },
    {
      "cell_type": "code",
      "metadata": {
        "id": "l1OS9AvCNEsC",
        "colab": {
          "base_uri": "https://localhost:8080/",
          "height": 269
        },
        "outputId": "102fcd4e-fd0d-45b8-a7a2-c3b179c02b7b"
      },
      "source": [
        "#箱ひげ図\n",
        "plt.boxplot(x)\n",
        "#表示する\n",
        "plt.show()"
      ],
      "execution_count": null,
      "outputs": [
        {
          "output_type": "display_data",
          "data": {
            "image/png": "[encoded data removed]",
            "text/plain": [
              "<Figure size 432x288 with 1 Axes>"
            ]
          },
          "metadata": {
            "tags": []
          }
        }
      ]
    },
    {
      "cell_type": "markdown",
      "metadata": {
        "id": "8zVhjaNvKqXl"
      },
      "source": [
        "**seabornライブラリ**を使うとさらに美しく分布をプロットできます"
      ]
    },
    {
      "cell_type": "code",
      "metadata": {
        "id": "jmlYg9E8KeK8"
      },
      "source": [
        "import seaborn as sns"
      ],
      "execution_count": null,
      "outputs": []
    },
    {
      "cell_type": "markdown",
      "metadata": {
        "id": "Vk1OB05EK2N5"
      },
      "source": [
        ""
      ]
    },
    {
      "cell_type": "code",
      "metadata": {
        "id": "NfQI5BiEK97K"
      },
      "source": [
        "x1 = np.random.randn(100)  #平均０，標準偏差１の正規分布に従う乱数を発生\n",
        "x2 = np.random.randn(100)*1.5 + 2  #平均2，標準偏差１.5の正規分布に従う乱数を発生"
      ],
      "execution_count": null,
      "outputs": []
    },
    {
      "cell_type": "markdown",
      "metadata": {
        "id": "9IMBUcIyMDUh"
      },
      "source": [
        "**ヒストグラムとカーネル密度推定を合わせたもの**"
      ]
    },
    {
      "cell_type": "code",
      "metadata": {
        "id": "iUmlQDmuLOnU",
        "colab": {
          "base_uri": "https://localhost:8080/",
          "height": 282
        },
        "outputId": "232b2b45-00b0-4be1-c9cc-4f2a3a912df7"
      },
      "source": [
        "sns.distplot(x1)\n",
        "sns.distplot(x2)"
      ],
      "execution_count": null,
      "outputs": [
        {
          "output_type": "execute_result",
          "data": {
            "text/plain": [
              "<matplotlib.axes._subplots.AxesSubplot at 0x7f37fb04e978>"
            ]
          },
          "metadata": {
            "tags": []
          },
          "execution_count": 8
        },
        {
          "output_type": "display_data",
          "data": {
            "image/png": "[encoded data removed]",
            "text/plain": [
              "<Figure size 432x288 with 1 Axes>"
            ]
          },
          "metadata": {
            "tags": []
          }
        }
      ]
    },
    {
      "cell_type": "markdown",
      "metadata": {
        "id": "WwZst_uKli2L"
      },
      "source": [
        "**単純な棒グラフ**"
      ]
    },
    {
      "cell_type": "code",
      "metadata": {
        "id": "BajYyUYulrbs",
        "colab": {
          "base_uri": "https://localhost:8080/",
          "height": 282
        },
        "outputId": "1b31edbc-d1f7-40ad-8132-f5a48d00b963"
      },
      "source": [
        "sns.barplot(data=[x1,x2], capsize=.2)"
      ],
      "execution_count": null,
      "outputs": [
        {
          "output_type": "execute_result",
          "data": {
            "text/plain": [
              "<matplotlib.axes._subplots.AxesSubplot at 0x7f37faa24550>"
            ]
          },
          "metadata": {
            "tags": []
          },
          "execution_count": 12
        },
        {
          "output_type": "display_data",
          "data": {
            "image/png": "[encoded data removed]",
            "text/plain": [
              "<Figure size 432x288 with 1 Axes>"
            ]
          },
          "metadata": {
            "tags": []
          }
        }
      ]
    },
    {
      "cell_type": "markdown",
      "metadata": {
        "id": "d5LuM9-WMI_0"
      },
      "source": [
        "**箱ひげ図**"
      ]
    },
    {
      "cell_type": "code",
      "metadata": {
        "id": "xBzmeS8fMNR_",
        "colab": {
          "base_uri": "https://localhost:8080/",
          "height": 286
        },
        "outputId": "76de4534-432b-45b5-afaf-75dd29e73520"
      },
      "source": [
        "sns.boxplot(data=[x1,x2])"
      ],
      "execution_count": null,
      "outputs": [
        {
          "output_type": "execute_result",
          "data": {
            "text/plain": [
              "<matplotlib.axes._subplots.AxesSubplot at 0x7faa3d6d8f28>"
            ]
          },
          "metadata": {
            "tags": []
          },
          "execution_count": 17
        },
        {
          "output_type": "display_data",
          "data": {
            "image/png": "[encoded data removed]",
            "text/plain": [
              "<Figure size 432x288 with 1 Axes>"
            ]
          },
          "metadata": {
            "tags": []
          }
        }
      ]
    },
    {
      "cell_type": "markdown",
      "metadata": {
        "id": "XtAJO323McgO"
      },
      "source": [
        "**ヴァイオリンプロット**\n",
        "\n",
        "ヴァイオリンプロットは箱ひげ図とカーネル密度推定を合わせたもので，近年非常に多く利用されるようになってきました．\n"
      ]
    },
    {
      "cell_type": "code",
      "metadata": {
        "id": "iu_3DczMMnp3",
        "colab": {
          "base_uri": "https://localhost:8080/",
          "height": 286
        },
        "outputId": "a06d8d4b-fd5e-473a-f184-91c2ab4983b6"
      },
      "source": [
        "sns.violinplot(data =[x1,x2])"
      ],
      "execution_count": null,
      "outputs": [
        {
          "output_type": "execute_result",
          "data": {
            "text/plain": [
              "<matplotlib.axes._subplots.AxesSubplot at 0x7faa3d7dbba8>"
            ]
          },
          "metadata": {
            "tags": []
          },
          "execution_count": 18
        },
        {
          "output_type": "display_data",
          "data": {
            "image/png": "[encoded data removed]",
            "text/plain": [
              "<Figure size 432x288 with 1 Axes>"
            ]
          },
          "metadata": {
            "tags": []
          }
        }
      ]
    },
    {
      "cell_type": "code",
      "metadata": {
        "id": "vHhACjxPlhAl"
      },
      "source": [
        ""
      ],
      "execution_count": null,
      "outputs": []
    },
    {
      "cell_type": "markdown",
      "metadata": {
        "id": "2pmfdVO9yf-k"
      },
      "source": [
        "##授業の課題"
      ]
    },
    {
      "cell_type": "markdown",
      "metadata": {
        "id": "nzaiI-iIykQ_"
      },
      "source": [
        "###テストの成績の可視化"
      ]
    },
    {
      "cell_type": "code",
      "metadata": {
        "id": "-Je61T9e0aO2"
      },
      "source": [
        "# matplotlibの読み込み\n",
        "import matplotlib.pyplot as plt"
      ],
      "execution_count": null,
      "outputs": []
    },
    {
      "cell_type": "markdown",
      "metadata": {
        "id": "0DLHPUMkzIe_"
      },
      "source": [
        "まずはPandasのDataFrameオブジェクトを作りましょう!"
      ]
    },
    {
      "cell_type": "code",
      "metadata": {
        "id": "onGUqnM-y4wU",
        "colab": {
          "base_uri": "https://localhost:8080/",
          "height": 235
        },
        "outputId": "8e4f7ea8-fc78-40d5-f01c-f07b2c998f3a"
      },
      "source": [
        "import pandas as pd\n",
        "\n",
        "exam = {'name':['Maeda','Sato','Takemoto','Morimoto','Yamada']\n",
        "        ,'English':[87,90,95,77,90]\n",
        "        ,'Japanese':[60,90,88,70,20]\n",
        "        ,'Math':[70,88,44,77,80]}\n",
        "\n",
        "#pandas(pd)のデータフレームとしてdf_examを作成する\n",
        "df_exam = pd.DataFrame(exam)\n",
        "#Indexをname列にしてしまう\n",
        "df_exam.set_index(['name'],inplace=True)\n",
        "df_exam['Mean'] =df_exam.mean(axis='columns')\n",
        "df_exam "
      ],
      "execution_count": null,
      "outputs": [
        {
          "output_type": "execute_result",
          "data": {
            "text/html": [
              "<div>\n",
              "<style scoped>\n",
              "    .dataframe tbody tr th:only-of-type {\n",
              "        vertical-align: middle;\n",
              "    }\n",
              "\n",
              "    .dataframe tbody tr th {\n",
              "        vertical-align: top;\n",
              "    }\n",
              "\n",
              "    .dataframe thead th {\n",
              "        text-align: right;\n",
              "    }\n",
              "</style>\n",
              "<table border=\"1\" class=\"dataframe\">\n",
              "  <thead>\n",
              "    <tr style=\"text-align: right;\">\n",
              "      <th></th>\n",
              "      <th>English</th>\n",
              "      <th>Japanese</th>\n",
              "      <th>Math</th>\n",
              "      <th>Mean</th>\n",
              "    </tr>\n",
              "    <tr>\n",
              "      <th>name</th>\n",
              "      <th></th>\n",
              "      <th></th>\n",
              "      <th></th>\n",
              "      <th></th>\n",
              "    </tr>\n",
              "  </thead>\n",
              "  <tbody>\n",
              "    <tr>\n",
              "      <th>Maeda</th>\n",
              "      <td>87</td>\n",
              "      <td>60</td>\n",
              "      <td>70</td>\n",
              "      <td>72.333333</td>\n",
              "    </tr>\n",
              "    <tr>\n",
              "      <th>Sato</th>\n",
              "      <td>90</td>\n",
              "      <td>90</td>\n",
              "      <td>88</td>\n",
              "      <td>89.333333</td>\n",
              "    </tr>\n",
              "    <tr>\n",
              "      <th>Takemoto</th>\n",
              "      <td>95</td>\n",
              "      <td>88</td>\n",
              "      <td>44</td>\n",
              "      <td>75.666667</td>\n",
              "    </tr>\n",
              "    <tr>\n",
              "      <th>Morimoto</th>\n",
              "      <td>77</td>\n",
              "      <td>70</td>\n",
              "      <td>77</td>\n",
              "      <td>74.666667</td>\n",
              "    </tr>\n",
              "    <tr>\n",
              "      <th>Yamada</th>\n",
              "      <td>90</td>\n",
              "      <td>20</td>\n",
              "      <td>80</td>\n",
              "      <td>63.333333</td>\n",
              "    </tr>\n",
              "  </tbody>\n",
              "</table>\n",
              "</div>"
            ],
            "text/plain": [
              "          English  Japanese  Math       Mean\n",
              "name                                        \n",
              "Maeda          87        60    70  72.333333\n",
              "Sato           90        90    88  89.333333\n",
              "Takemoto       95        88    44  75.666667\n",
              "Morimoto       77        70    77  74.666667\n",
              "Yamada         90        20    80  63.333333"
            ]
          },
          "metadata": {
            "tags": []
          },
          "execution_count": 20
        }
      ]
    },
    {
      "cell_type": "code",
      "metadata": {
        "id": "TTIed2bG0lOf",
        "colab": {
          "base_uri": "https://localhost:8080/",
          "height": 322
        },
        "outputId": "0e75a848-6aff-4ce5-ae87-e50ed18ef9b2"
      },
      "source": [
        "#とりあえず棒グラフ\n",
        "df_exam[['English','Japanese', 'Math']].plot.bar()\n",
        "plt.show()"
      ],
      "execution_count": null,
      "outputs": [
        {
          "output_type": "display_data",
          "data": {
            "image/png": "[encoded data removed]",
            "text/plain": [
              "<Figure size 432x288 with 1 Axes>"
            ]
          },
          "metadata": {
            "tags": []
          }
        }
      ]
    },
    {
      "cell_type": "markdown",
      "metadata": {
        "id": "rmay6vlf_U3J"
      },
      "source": [
        "matplotlib.pyplotのplot()メソッドでグラフの種類を指定できるそうです．\n",
        "\n",
        "例: df.plot**.line**()\n",
        "\n",
        "`line`: 折れ線グラフ（line plot）\n",
        "\n",
        "`bar`: 垂直棒グラフ（vertical bar plot）\n",
        "\n",
        "`barh`: 水平棒グラフ（horizontal bar plot）\n",
        "\n",
        "`box`: 箱ひげ図（boxplot）\n",
        "\n",
        "`hist` : ヒストグラム（histogram）\n",
        "\n",
        "`kde`, `density`: カーネル密度推定（Kernel Density Estimation plot）\n",
        "\n",
        "`area`: 面グラフ（area plot）\n",
        "\n",
        "`scatter`: 散布図（scatter plot）\n",
        "\n",
        "`hexbin`: hexbin plot\n",
        "\n",
        "`pie`: 円グラフ（pie plot）\n",
        "\n"
      ]
    },
    {
      "cell_type": "code",
      "metadata": {
        "id": "qXL09f93_9kN",
        "colab": {
          "base_uri": "https://localhost:8080/",
          "height": 269
        },
        "outputId": "6db22992-aef2-43f5-bb94-a17529aa51a7"
      },
      "source": [
        "#例えばカーネル密度推定\n",
        "df_exam.plot.kde()\n",
        "plt.show()"
      ],
      "execution_count": null,
      "outputs": [
        {
          "output_type": "display_data",
          "data": {
            "image/png": "[encoded data removed]",
            "text/plain": [
              "<Figure size 432x288 with 1 Axes>"
            ]
          },
          "metadata": {
            "tags": []
          }
        }
      ]
    },
    {
      "cell_type": "code",
      "metadata": {
        "id": "cCU4ax_VC5Cc",
        "colab": {
          "base_uri": "https://localhost:8080/",
          "height": 283
        },
        "outputId": "be6ba28f-5386-4eef-d87c-4a088501e738"
      },
      "source": [
        "df_exam[['English','Japanese', 'Math']].plot.bar()\n",
        "df_exam['Mean'].plot.line()\n",
        "plt.xlim([-0.5,4.5])  #これを書かないと棒グラフが隠れてしまう\n",
        "plt.legend(loc='lower left')\n",
        "plt.show()"
      ],
      "execution_count": null,
      "outputs": [
        {
          "output_type": "display_data",
          "data": {
            "image/png": "[encoded data removed]",
            "text/plain": [
              "<Figure size 432x288 with 1 Axes>"
            ]
          },
          "metadata": {
            "tags": []
          }
        }
      ]
    },
    {
      "cell_type": "markdown",
      "metadata": {
        "id": "-NOi0PvdQzDo"
      },
      "source": [
        "###店A，B，Cの売上高データ\n",
        "ABCマートではない"
      ]
    },
    {
      "cell_type": "code",
      "metadata": {
        "id": "6Wvww1BQN-2B"
      },
      "source": [
        "import pandas as pd\n",
        "import matplotlib.pyplot as plt\n",
        "\n",
        "df_shopsales = pd.DataFrame({'month':['Jan. ','Feb.','Mar.','Apr.']\n",
        "        ,'A':[156,90,100,44]\n",
        "        ,'B':[67,87,61,90]\n",
        "        ,'C':[78,70,71,69]})\n",
        "\n",
        "#Indexをname列にしてしまう\n",
        "df_shopsales.set_index(['month'],inplace=True)"
      ],
      "execution_count": null,
      "outputs": []
    },
    {
      "cell_type": "markdown",
      "metadata": {
        "id": "oYh035sKUsiV"
      },
      "source": [
        "**棒グラフ**"
      ]
    },
    {
      "cell_type": "code",
      "metadata": {
        "id": "qHLX_WbsTbNu",
        "colab": {
          "base_uri": "https://localhost:8080/",
          "height": 312
        },
        "outputId": "a38487b7-e054-4ec0-a309-bc34f80bca5e"
      },
      "source": [
        "df_shopsales.plot.bar()"
      ],
      "execution_count": null,
      "outputs": [
        {
          "output_type": "execute_result",
          "data": {
            "text/plain": [
              "<matplotlib.axes._subplots.AxesSubplot at 0x7faa3d76fda0>"
            ]
          },
          "metadata": {
            "tags": []
          },
          "execution_count": 25
        },
        {
          "output_type": "display_data",
          "data": {
            "image/png": "[encoded data removed]",
            "text/plain": [
              "<Figure size 432x288 with 1 Axes>"
            ]
          },
          "metadata": {
            "tags": []
          }
        }
      ]
    },
    {
      "cell_type": "markdown",
      "metadata": {
        "id": "q5BysKDKViO3"
      },
      "source": [
        "**水平棒グラフ**"
      ]
    },
    {
      "cell_type": "code",
      "metadata": {
        "id": "olQo3rp1VmeJ",
        "colab": {
          "base_uri": "https://localhost:8080/",
          "height": 286
        },
        "outputId": "1118502e-693b-4229-a1f1-13cc4146bf20"
      },
      "source": [
        "df_shopsales.plot.barh()"
      ],
      "execution_count": null,
      "outputs": [
        {
          "output_type": "execute_result",
          "data": {
            "text/plain": [
              "<matplotlib.axes._subplots.AxesSubplot at 0x7faa3d7f0b00>"
            ]
          },
          "metadata": {
            "tags": []
          },
          "execution_count": 26
        },
        {
          "output_type": "display_data",
          "data": {
            "image/png": "[encoded data removed]",
            "text/plain": [
              "<Figure size 432x288 with 1 Axes>"
            ]
          },
          "metadata": {
            "tags": []
          }
        }
      ]
    },
    {
      "cell_type": "markdown",
      "metadata": {
        "id": "SYqjJGBlUvKX"
      },
      "source": [
        "**積み上げ棒グラフ**"
      ]
    },
    {
      "cell_type": "code",
      "metadata": {
        "id": "DgMDv1y5A7wg",
        "colab": {
          "base_uri": "https://localhost:8080/",
          "height": 312
        },
        "outputId": "a94c4e5f-59dd-45b5-f87c-06e0e70d1eea"
      },
      "source": [
        "df_shopsales['A'].plot.bar()\n",
        "df_shopsales['B'].plot.bar(bottom=df_shopsales['A'], color='red')\n",
        "df_shopsales['C'].plot.bar(bottom=df_shopsales['A']+df_shopsales['B'], color='green')\n",
        "plt.legend()"
      ],
      "execution_count": null,
      "outputs": [
        {
          "output_type": "execute_result",
          "data": {
            "text/plain": [
              "<matplotlib.legend.Legend at 0x7faa3d63a828>"
            ]
          },
          "metadata": {
            "tags": []
          },
          "execution_count": 27
        },
        {
          "output_type": "display_data",
          "data": {
            "image/png": "[encoded data removed]",
            "text/plain": [
              "<Figure size 432x288 with 1 Axes>"
            ]
          },
          "metadata": {
            "tags": []
          }
        }
      ]
    },
    {
      "cell_type": "markdown",
      "metadata": {
        "id": "FIrqtxGgVVOj"
      },
      "source": [
        "**折れ線グラフ**"
      ]
    },
    {
      "cell_type": "code",
      "metadata": {
        "id": "otPIBqcgVMpj",
        "colab": {
          "base_uri": "https://localhost:8080/",
          "height": 300
        },
        "outputId": "73d63dd8-0984-4615-e9a5-e0451789b55b"
      },
      "source": [
        "df_shopsales.plot.line()"
      ],
      "execution_count": null,
      "outputs": [
        {
          "output_type": "execute_result",
          "data": {
            "text/plain": [
              "<matplotlib.axes._subplots.AxesSubplot at 0x7faa3d625c18>"
            ]
          },
          "metadata": {
            "tags": []
          },
          "execution_count": 28
        },
        {
          "output_type": "display_data",
          "data": {
            "image/png": "[encoded data removed]",
            "text/plain": [
              "<Figure size 432x288 with 1 Axes>"
            ]
          },
          "metadata": {
            "tags": []
          }
        }
      ]
    },
    {
      "cell_type": "markdown",
      "metadata": {
        "id": "hmWmCbTmUy3f"
      },
      "source": [
        "**箱ひげ図**\n"
      ]
    },
    {
      "cell_type": "code",
      "metadata": {
        "id": "BCqyBzPKUDX0",
        "colab": {
          "base_uri": "https://localhost:8080/",
          "height": 286
        },
        "outputId": "348a26e9-c948-4375-ae33-fbce57e01d86"
      },
      "source": [
        "df_shopsales.plot.box()"
      ],
      "execution_count": null,
      "outputs": [
        {
          "output_type": "execute_result",
          "data": {
            "text/plain": [
              "<matplotlib.axes._subplots.AxesSubplot at 0x7faa3d625a90>"
            ]
          },
          "metadata": {
            "tags": []
          },
          "execution_count": 29
        },
        {
          "output_type": "display_data",
          "data": {
            "image/png": "[encoded data removed]",
            "text/plain": [
              "<Figure size 432x288 with 1 Axes>"
            ]
          },
          "metadata": {
            "tags": []
          }
        }
      ]
    },
    {
      "cell_type": "markdown",
      "metadata": {
        "id": "6o6mau8-V4we"
      },
      "source": [
        "**ヒストグラム**"
      ]
    },
    {
      "cell_type": "code",
      "metadata": {
        "id": "-fGpyxxSVv7f",
        "colab": {
          "base_uri": "https://localhost:8080/",
          "height": 286
        },
        "outputId": "4dcef9ff-31e2-402e-9beb-38463f18b65e"
      },
      "source": [
        "df_shopsales.plot.hist(bins=4, alpha=0.3)"
      ],
      "execution_count": null,
      "outputs": [
        {
          "output_type": "execute_result",
          "data": {
            "text/plain": [
              "<matplotlib.axes._subplots.AxesSubplot at 0x7faa3c2268d0>"
            ]
          },
          "metadata": {
            "tags": []
          },
          "execution_count": 30
        },
        {
          "output_type": "display_data",
          "data": {
            "image/png": "[encoded data removed]",
            "text/plain": [
              "<Figure size 432x288 with 1 Axes>"
            ]
          },
          "metadata": {
            "tags": []
          }
        }
      ]
    },
    {
      "cell_type": "markdown",
      "metadata": {
        "id": "t68Na9foWKuQ"
      },
      "source": [
        "**カーネル密度推定**"
      ]
    },
    {
      "cell_type": "code",
      "metadata": {
        "id": "rpIN34kUWPL6",
        "colab": {
          "base_uri": "https://localhost:8080/",
          "height": 286
        },
        "outputId": "7fe356ed-97a1-4f2c-d919-a70c5aa14eb7"
      },
      "source": [
        "df_shopsales.plot.kde()"
      ],
      "execution_count": null,
      "outputs": [
        {
          "output_type": "execute_result",
          "data": {
            "text/plain": [
              "<matplotlib.axes._subplots.AxesSubplot at 0x7faa3c1e57b8>"
            ]
          },
          "metadata": {
            "tags": []
          },
          "execution_count": 31
        },
        {
          "output_type": "display_data",
          "data": {
            "image/png": "[encoded data removed]",
            "text/plain": [
              "<Figure size 432x288 with 1 Axes>"
            ]
          },
          "metadata": {
            "tags": []
          }
        }
      ]
    },
    {
      "cell_type": "markdown",
      "metadata": {
        "id": "d_HIXHJcW3ch"
      },
      "source": [
        "**面グラフ**"
      ]
    },
    {
      "cell_type": "code",
      "metadata": {
        "id": "q_XcJTxOWetR",
        "colab": {
          "base_uri": "https://localhost:8080/",
          "height": 300
        },
        "outputId": "7bd059b9-afad-431e-8f64-bb33089921d7"
      },
      "source": [
        "df_shopsales.plot.area()"
      ],
      "execution_count": null,
      "outputs": [
        {
          "output_type": "execute_result",
          "data": {
            "text/plain": [
              "<matplotlib.axes._subplots.AxesSubplot at 0x7faa3c1982e8>"
            ]
          },
          "metadata": {
            "tags": []
          },
          "execution_count": 32
        },
        {
          "output_type": "display_data",
          "data": {
            "image/png": "[encoded data removed]",
            "text/plain": [
              "<Figure size 432x288 with 1 Axes>"
            ]
          },
          "metadata": {
            "tags": []
          }
        }
      ]
    },
    {
      "cell_type": "markdown",
      "metadata": {
        "id": "2s49IeF0W8nO"
      },
      "source": [
        "**散布図**"
      ]
    },
    {
      "cell_type": "code",
      "metadata": {
        "id": "XaLBhwBFW1mm",
        "colab": {
          "base_uri": "https://localhost:8080/",
          "height": 300
        },
        "outputId": "cce155e0-b19b-4a38-f81a-9b6ff9f364c7"
      },
      "source": [
        "df_shopsales.plot.scatter('A','B')"
      ],
      "execution_count": null,
      "outputs": [
        {
          "output_type": "execute_result",
          "data": {
            "text/plain": [
              "<matplotlib.axes._subplots.AxesSubplot at 0x7faa3c25bc18>"
            ]
          },
          "metadata": {
            "tags": []
          },
          "execution_count": 33
        },
        {
          "output_type": "display_data",
          "data": {
            "image/png": "[encoded data removed]",
            "text/plain": [
              "<Figure size 432x288 with 1 Axes>"
            ]
          },
          "metadata": {
            "tags": []
          }
        }
      ]
    },
    {
      "cell_type": "code",
      "metadata": {
        "id": "ZxKO5tGPHqwi",
        "colab": {
          "base_uri": "https://localhost:8080/",
          "height": 297
        },
        "outputId": "4ab3da02-6861-4c0b-d13c-dd0707e5978c"
      },
      "source": [
        "#無理やりラベルを付けた（もっと良い方法があるはず）\n",
        "import seaborn as sns\n",
        "\n",
        "df_shopsales['month'] = df_shopsales.index\n",
        "\n",
        "ax = sns.lmplot('A','B',\n",
        "                data=df_shopsales,\n",
        "                fit_reg=False,\n",
        "                height = 4,\n",
        "                aspect =1.5 ) \n",
        "\n",
        "plt.xlabel('A')\n",
        "plt.ylabel('B')\n",
        "def label_point(x, y, val, ax):\n",
        "    a = pd.concat({'x': x, 'y': y, 'val': val}, axis=1)\n",
        "    for i, point in a.iterrows():\n",
        "        ax.text(point['x']+.02, point['y'], str(point['val']))\n",
        "label_point(df_shopsales['A'], df_shopsales['B'], df_shopsales['month'], plt.gca())  "
      ],
      "execution_count": null,
      "outputs": [
        {
          "output_type": "display_data",
          "data": {
            "image/png": "[encoded data removed]",
            "text/plain": [
              "<Figure size 432x288 with 1 Axes>"
            ]
          },
          "metadata": {
            "tags": []
          }
        }
      ]
    },
    {
      "cell_type": "code",
      "metadata": {
        "id": "3WFGzo89jelr",
        "colab": {
          "base_uri": "https://localhost:8080/",
          "height": 275
        },
        "outputId": "f701da52-4904-4fac-9cbd-9396624df0fb"
      },
      "source": [
        "df_shopsales.plot.hexbin('A','B')"
      ],
      "execution_count": null,
      "outputs": [
        {
          "output_type": "execute_result",
          "data": {
            "text/plain": [
              "<matplotlib.axes._subplots.AxesSubplot at 0x7faa4047d400>"
            ]
          },
          "metadata": {
            "tags": []
          },
          "execution_count": 35
        },
        {
          "output_type": "display_data",
          "data": {
            "image/png": "[encoded data removed]",
            "text/plain": [
              "<Figure size 432x288 with 2 Axes>"
            ]
          },
          "metadata": {
            "tags": []
          }
        }
      ]
    },
    {
      "cell_type": "markdown",
      "metadata": {
        "id": "1qt5iKyKjqmv"
      },
      "source": [
        "**円グラフ**"
      ]
    },
    {
      "cell_type": "code",
      "metadata": {
        "id": "-Bz6CtgGjxot",
        "colab": {
          "base_uri": "https://localhost:8080/",
          "height": 314
        },
        "outputId": "80bc6658-f8ee-4a0f-a48d-0ca23f00ae18"
      },
      "source": [
        "fig, ax = plt.subplots(nrows=1, ncols=3, figsize=(15, 5))\n",
        "df_shopsales['A'].plot.pie(ax=ax[0], title = 'A', labeldistance=0.7)\n",
        "df_shopsales['B'].plot.pie(ax=ax[1], wedgeprops={'linewidth': 5, 'edgecolor': 'w'}, title = 'B')\n",
        "df_shopsales['C'].plot.pie(ax=ax[2],  counterclock=False, startangle=90, explode=[0.2, 0, 0, 0],title = 'C')"
      ],
      "execution_count": null,
      "outputs": [
        {
          "output_type": "execute_result",
          "data": {
            "text/plain": [
              "<matplotlib.axes._subplots.AxesSubplot at 0x7faa3c083a90>"
            ]
          },
          "metadata": {
            "tags": []
          },
          "execution_count": 36
        },
        {
          "output_type": "display_data",
          "data": {
            "image/png": "[encoded data removed]",
            "text/plain": [
              "<Figure size 1080x360 with 3 Axes>"
            ]
          },
          "metadata": {
            "tags": []
          }
        }
      ]
    },
    {
      "cell_type": "markdown",
      "metadata": {
        "id": "KEnLbHZfW0WY"
      },
      "source": [
        "###喫煙率と肺がん死亡者数"
      ]
    },
    {
      "cell_type": "code",
      "metadata": {
        "id": "I_ivOMPTXHan",
        "colab": {
          "base_uri": "https://localhost:8080/",
          "height": 1000
        },
        "outputId": "47b8780b-4952-441f-ef05-866213ba0298"
      },
      "source": [
        "import pandas as pd\n",
        "import numpy as np\n",
        "\n",
        "smoking = {\n",
        "        #1965年〜2017年までだが2017と書くとその手前（2016）までの数列しか作成されない\n",
        "        'year': np.array(range(1965, 2018, 1)).tolist()\n",
        "        ,'Lung cancer deaths':[5404,5857,6296,6666,7209,7502,8042,8837,9256,9986\n",
        "                               ,10711,11440,12542,13417,14600,15438,16638,17555\n",
        "                               ,18644,19877,20837,21447,23132,24333,25870,26872\n",
        "                               ,27968,29223,30398,31724,33389,35023,35700,36880\n",
        "                               ,37934,39053,39904,41146,41634,43921,45189,45941\n",
        "                               ,47685,48610,49035,50395,50782,51372,52054,52505\n",
        "                               ,53208,52430,53002]\n",
        "        ,'Smoking rate':[82.3,83.7,82.3,78.5,79.1,77.5,77.4,77.6,78.3,78.8,76.2,75.1,75.1\n",
        "                         ,74.7,73.1,70.2,70.8,70.1,66.1,65.5,64.6,62.5,61.6,61.2,61.1\n",
        "                         ,60.5,61.2,60.4,59.8,59,58.8,57.5,56.1,55.2,54,53.5,52,49.1\n",
        "                         ,48.3,46.9,45.8,41.3,40.2,39.5,38.9,36.6,33.7,32.7,32.2,30.3\n",
        "                         ,31,29.7,28.2]}\n",
        "\n",
        "#pandas(pd)のデータフレームとしてdf_smokingを作成する\n",
        "df_smoking = pd.DataFrame(smoking)\n",
        "#Indexをname列にしてしまう\n",
        "df_smoking.set_index(['year'],inplace=True)\n",
        "df_smoking"
      ],
      "execution_count": null,
      "outputs": [
        {
          "output_type": "execute_result",
          "data": {
            "text/html": [
              "<div>\n",
              "<style scoped>\n",
              "    .dataframe tbody tr th:only-of-type {\n",
              "        vertical-align: middle;\n",
              "    }\n",
              "\n",
              "    .dataframe tbody tr th {\n",
              "        vertical-align: top;\n",
              "    }\n",
              "\n",
              "    .dataframe thead th {\n",
              "        text-align: right;\n",
              "    }\n",
              "</style>\n",
              "<table border=\"1\" class=\"dataframe\">\n",
              "  <thead>\n",
              "    <tr style=\"text-align: right;\">\n",
              "      <th></th>\n",
              "      <th>Lung cancer deaths</th>\n",
              "      <th>Smoking rate</th>\n",
              "    </tr>\n",
              "    <tr>\n",
              "      <th>year</th>\n",
              "      <th></th>\n",
              "      <th></th>\n",
              "    </tr>\n",
              "  </thead>\n",
              "  <tbody>\n",
              "    <tr>\n",
              "      <th>1965</th>\n",
              "      <td>5404</td>\n",
              "      <td>82.3</td>\n",
              "    </tr>\n",
              "    <tr>\n",
              "      <th>1966</th>\n",
              "      <td>5857</td>\n",
              "      <td>83.7</td>\n",
              "    </tr>\n",
              "    <tr>\n",
              "      <th>1967</th>\n",
              "      <td>6296</td>\n",
              "      <td>82.3</td>\n",
              "    </tr>\n",
              "    <tr>\n",
              "      <th>1968</th>\n",
              "      <td>6666</td>\n",
              "      <td>78.5</td>\n",
              "    </tr>\n",
              "    <tr>\n",
              "      <th>1969</th>\n",
              "      <td>7209</td>\n",
              "      <td>79.1</td>\n",
              "    </tr>\n",
              "    <tr>\n",
              "      <th>1970</th>\n",
              "      <td>7502</td>\n",
              "      <td>77.5</td>\n",
              "    </tr>\n",
              "    <tr>\n",
              "      <th>1971</th>\n",
              "      <td>8042</td>\n",
              "      <td>77.4</td>\n",
              "    </tr>\n",
              "    <tr>\n",
              "      <th>1972</th>\n",
              "      <td>8837</td>\n",
              "      <td>77.6</td>\n",
              "    </tr>\n",
              "    <tr>\n",
              "      <th>1973</th>\n",
              "      <td>9256</td>\n",
              "      <td>78.3</td>\n",
              "    </tr>\n",
              "    <tr>\n",
              "      <th>1974</th>\n",
              "      <td>9986</td>\n",
              "      <td>78.8</td>\n",
              "    </tr>\n",
              "    <tr>\n",
              "      <th>1975</th>\n",
              "      <td>10711</td>\n",
              "      <td>76.2</td>\n",
              "    </tr>\n",
              "    <tr>\n",
              "      <th>1976</th>\n",
              "      <td>11440</td>\n",
              "      <td>75.1</td>\n",
              "    </tr>\n",
              "    <tr>\n",
              "      <th>1977</th>\n",
              "      <td>12542</td>\n",
              "      <td>75.1</td>\n",
              "    </tr>\n",
              "    <tr>\n",
              "      <th>1978</th>\n",
              "      <td>13417</td>\n",
              "      <td>74.7</td>\n",
              "    </tr>\n",
              "    <tr>\n",
              "      <th>1979</th>\n",
              "      <td>14600</td>\n",
              "      <td>73.1</td>\n",
              "    </tr>\n",
              "    <tr>\n",
              "      <th>1980</th>\n",
              "      <td>15438</td>\n",
              "      <td>70.2</td>\n",
              "    </tr>\n",
              "    <tr>\n",
              "      <th>1981</th>\n",
              "      <td>16638</td>\n",
              "      <td>70.8</td>\n",
              "    </tr>\n",
              "    <tr>\n",
              "      <th>1982</th>\n",
              "      <td>17555</td>\n",
              "      <td>70.1</td>\n",
              "    </tr>\n",
              "    <tr>\n",
              "      <th>1983</th>\n",
              "      <td>18644</td>\n",
              "      <td>66.1</td>\n",
              "    </tr>\n",
              "    <tr>\n",
              "      <th>1984</th>\n",
              "      <td>19877</td>\n",
              "      <td>65.5</td>\n",
              "    </tr>\n",
              "    <tr>\n",
              "      <th>1985</th>\n",
              "      <td>20837</td>\n",
              "      <td>64.6</td>\n",
              "    </tr>\n",
              "    <tr>\n",
              "      <th>1986</th>\n",
              "      <td>21447</td>\n",
              "      <td>62.5</td>\n",
              "    </tr>\n",
              "    <tr>\n",
              "      <th>1987</th>\n",
              "      <td>23132</td>\n",
              "      <td>61.6</td>\n",
              "    </tr>\n",
              "    <tr>\n",
              "      <th>1988</th>\n",
              "      <td>24333</td>\n",
              "      <td>61.2</td>\n",
              "    </tr>\n",
              "    <tr>\n",
              "      <th>1989</th>\n",
              "      <td>25870</td>\n",
              "      <td>61.1</td>\n",
              "    </tr>\n",
              "    <tr>\n",
              "      <th>1990</th>\n",
              "      <td>26872</td>\n",
              "      <td>60.5</td>\n",
              "    </tr>\n",
              "    <tr>\n",
              "      <th>1991</th>\n",
              "      <td>27968</td>\n",
              "      <td>61.2</td>\n",
              "    </tr>\n",
              "    <tr>\n",
              "      <th>1992</th>\n",
              "      <td>29223</td>\n",
              "      <td>60.4</td>\n",
              "    </tr>\n",
              "    <tr>\n",
              "      <th>1993</th>\n",
              "      <td>30398</td>\n",
              "      <td>59.8</td>\n",
              "    </tr>\n",
              "    <tr>\n",
              "      <th>1994</th>\n",
              "      <td>31724</td>\n",
              "      <td>59.0</td>\n",
              "    </tr>\n",
              "    <tr>\n",
              "      <th>1995</th>\n",
              "      <td>33389</td>\n",
              "      <td>58.8</td>\n",
              "    </tr>\n",
              "    <tr>\n",
              "      <th>1996</th>\n",
              "      <td>35023</td>\n",
              "      <td>57.5</td>\n",
              "    </tr>\n",
              "    <tr>\n",
              "      <th>1997</th>\n",
              "      <td>35700</td>\n",
              "      <td>56.1</td>\n",
              "    </tr>\n",
              "    <tr>\n",
              "      <th>1998</th>\n",
              "      <td>36880</td>\n",
              "      <td>55.2</td>\n",
              "    </tr>\n",
              "    <tr>\n",
              "      <th>1999</th>\n",
              "      <td>37934</td>\n",
              "      <td>54.0</td>\n",
              "    </tr>\n",
              "    <tr>\n",
              "      <th>2000</th>\n",
              "      <td>39053</td>\n",
              "      <td>53.5</td>\n",
              "    </tr>\n",
              "    <tr>\n",
              "      <th>2001</th>\n",
              "      <td>39904</td>\n",
              "      <td>52.0</td>\n",
              "    </tr>\n",
              "    <tr>\n",
              "      <th>2002</th>\n",
              "      <td>41146</td>\n",
              "      <td>49.1</td>\n",
              "    </tr>\n",
              "    <tr>\n",
              "      <th>2003</th>\n",
              "      <td>41634</td>\n",
              "      <td>48.3</td>\n",
              "    </tr>\n",
              "    <tr>\n",
              "      <th>2004</th>\n",
              "      <td>43921</td>\n",
              "      <td>46.9</td>\n",
              "    </tr>\n",
              "    <tr>\n",
              "      <th>2005</th>\n",
              "      <td>45189</td>\n",
              "      <td>45.8</td>\n",
              "    </tr>\n",
              "    <tr>\n",
              "      <th>2006</th>\n",
              "      <td>45941</td>\n",
              "      <td>41.3</td>\n",
              "    </tr>\n",
              "    <tr>\n",
              "      <th>2007</th>\n",
              "      <td>47685</td>\n",
              "      <td>40.2</td>\n",
              "    </tr>\n",
              "    <tr>\n",
              "      <th>2008</th>\n",
              "      <td>48610</td>\n",
              "      <td>39.5</td>\n",
              "    </tr>\n",
              "    <tr>\n",
              "      <th>2009</th>\n",
              "      <td>49035</td>\n",
              "      <td>38.9</td>\n",
              "    </tr>\n",
              "    <tr>\n",
              "      <th>2010</th>\n",
              "      <td>50395</td>\n",
              "      <td>36.6</td>\n",
              "    </tr>\n",
              "    <tr>\n",
              "      <th>2011</th>\n",
              "      <td>50782</td>\n",
              "      <td>33.7</td>\n",
              "    </tr>\n",
              "    <tr>\n",
              "      <th>2012</th>\n",
              "      <td>51372</td>\n",
              "      <td>32.7</td>\n",
              "    </tr>\n",
              "    <tr>\n",
              "      <th>2013</th>\n",
              "      <td>52054</td>\n",
              "      <td>32.2</td>\n",
              "    </tr>\n",
              "    <tr>\n",
              "      <th>2014</th>\n",
              "      <td>52505</td>\n",
              "      <td>30.3</td>\n",
              "    </tr>\n",
              "    <tr>\n",
              "      <th>2015</th>\n",
              "      <td>53208</td>\n",
              "      <td>31.0</td>\n",
              "    </tr>\n",
              "    <tr>\n",
              "      <th>2016</th>\n",
              "      <td>52430</td>\n",
              "      <td>29.7</td>\n",
              "    </tr>\n",
              "    <tr>\n",
              "      <th>2017</th>\n",
              "      <td>53002</td>\n",
              "      <td>28.2</td>\n",
              "    </tr>\n",
              "  </tbody>\n",
              "</table>\n",
              "</div>"
            ],
            "text/plain": [
              "      Lung cancer deaths  Smoking rate\n",
              "year                                  \n",
              "1965                5404          82.3\n",
              "1966                5857          83.7\n",
              "1967                6296          82.3\n",
              "1968                6666          78.5\n",
              "1969                7209          79.1\n",
              "1970                7502          77.5\n",
              "1971                8042          77.4\n",
              "1972                8837          77.6\n",
              "1973                9256          78.3\n",
              "1974                9986          78.8\n",
              "1975               10711          76.2\n",
              "1976               11440          75.1\n",
              "1977               12542          75.1\n",
              "1978               13417          74.7\n",
              "1979               14600          73.1\n",
              "1980               15438          70.2\n",
              "1981               16638          70.8\n",
              "1982               17555          70.1\n",
              "1983               18644          66.1\n",
              "1984               19877          65.5\n",
              "1985               20837          64.6\n",
              "1986               21447          62.5\n",
              "1987               23132          61.6\n",
              "1988               24333          61.2\n",
              "1989               25870          61.1\n",
              "1990               26872          60.5\n",
              "1991               27968          61.2\n",
              "1992               29223          60.4\n",
              "1993               30398          59.8\n",
              "1994               31724          59.0\n",
              "1995               33389          58.8\n",
              "1996               35023          57.5\n",
              "1997               35700          56.1\n",
              "1998               36880          55.2\n",
              "1999               37934          54.0\n",
              "2000               39053          53.5\n",
              "2001               39904          52.0\n",
              "2002               41146          49.1\n",
              "2003               41634          48.3\n",
              "2004               43921          46.9\n",
              "2005               45189          45.8\n",
              "2006               45941          41.3\n",
              "2007               47685          40.2\n",
              "2008               48610          39.5\n",
              "2009               49035          38.9\n",
              "2010               50395          36.6\n",
              "2011               50782          33.7\n",
              "2012               51372          32.7\n",
              "2013               52054          32.2\n",
              "2014               52505          30.3\n",
              "2015               53208          31.0\n",
              "2016               52430          29.7\n",
              "2017               53002          28.2"
            ]
          },
          "metadata": {
            "tags": []
          },
          "execution_count": 37
        }
      ]
    },
    {
      "cell_type": "markdown",
      "metadata": {
        "id": "eOb5bXaCW7wR"
      },
      "source": [
        "**2軸折れ線グラフ**"
      ]
    },
    {
      "cell_type": "code",
      "metadata": {
        "id": "Qpd9SvUMZqJ8",
        "colab": {
          "base_uri": "https://localhost:8080/",
          "height": 283
        },
        "outputId": "c35512d2-9ce8-44d2-af62-1617e4944e95"
      },
      "source": [
        "import matplotlib.pyplot as plt\n",
        "\n",
        "\n",
        "fig, ax1 = plt.subplots()\n",
        "ax1.plot(df_smoking['Lung cancer deaths'],'C0')\n",
        "ax2 = ax1.twinx()  # 2つのプロットを関連付ける\n",
        "ax2.plot(df_smoking['Smoking rate'],'C1')\n",
        "\n",
        "ax1.set_xlabel('year')\n",
        "ax1.set_ylabel('Lung cancer deaths')\n",
        "ax2.set_ylabel('Smoking rate(%)')\n",
        "ax1.set_ylim(0, ) # 左の縦軸が0から始まるように\n",
        "ax2.set_ylim(0, 100) # 右の縦軸が0から始まるように\n",
        "plt.show()"
      ],
      "execution_count": null,
      "outputs": [
        {
          "output_type": "display_data",
          "data": {
            "image/png": "[encoded data removed]",
            "text/plain": [
              "<Figure size 432x288 with 2 Axes>"
            ]
          },
          "metadata": {
            "tags": []
          }
        }
      ]
    }
  ]
}
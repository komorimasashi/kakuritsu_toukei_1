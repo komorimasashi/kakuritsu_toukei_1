{
  "nbformat": 4,
  "nbformat_minor": 0,
  "metadata": {
    "colab": {
      "provenance": [],
      "collapsed_sections": [
        "5mX66f0QoFs9",
        "KC0DFb7fRmn2",
        "iBXdHDVA5QXj"
      ],
      "include_colab_link": true
    },
    "kernelspec": {
      "name": "ir",
      "display_name": "R"
    }
  },
  "cells": [
    {
      "cell_type": "markdown",
      "metadata": {
        "id": "view-in-github",
        "colab_type": "text"
      },
      "source": [
        "<a href=\"https://colab.research.google.com/github/komorimasashi/kakuritsu_toukei_1/blob/main/R02_R_Programming_Fundamentals.ipynb\" target=\"_parent\"><img src=\"https://colab.research.google.com/assets/colab-badge.svg\" alt=\"Open In Colab\"/></a>"
      ]
    },
    {
      "cell_type": "markdown",
      "source": [
        "## **2. Rプログラミングの基礎**"
      ],
      "metadata": {
        "id": "rr7owlp0lwVY"
      }
    },
    {
      "cell_type": "markdown",
      "source": [
        "### **2.1 基本的なコマンド**"
      ],
      "metadata": {
        "id": "5mX66f0QoFs9"
      }
    },
    {
      "cell_type": "markdown",
      "source": [
        "新しいR Script を作って，Rのコマンドの基礎を学びましょう．"
      ],
      "metadata": {
        "id": "gNxcJD5HoI8F"
      }
    },
    {
      "cell_type": "markdown",
      "source": [
        "まずは，伝統的にプログラミング言語の初心者が最初に書くコードのお約束「Hello, World!」を出力してみましょう．"
      ],
      "metadata": {
        "id": "Z7MYlplIv6xo"
      }
    },
    {
      "cell_type": "code",
      "source": [
        "print(\"Hello, World!\")"
      ],
      "metadata": {
        "colab": {
          "base_uri": "https://localhost:8080/"
        },
        "id": "j1lbZdb6n4rW",
        "outputId": "84c50f9b-32c3-4749-fdb2-7b2d9cc77347"
      },
      "execution_count": null,
      "outputs": [
        {
          "output_type": "stream",
          "name": "stdout",
          "text": [
            "[1] \"Hello, World!\"\n"
          ]
        }
      ]
    },
    {
      "cell_type": "markdown",
      "source": [
        "Rでは#記号（シャープじゃなくてハッシュマーク）がソースコードにコメントを入れる際に用いられます．これを**コメントアウト**といいます．コメントアウトの部分は実行時には無視されます．適切なコメントを残すことは，ソースコードの可読性や保守性を高める上でとても重要です．\n",
        "具体的には以下のようにコメント記号は使われます．"
      ],
      "metadata": {
        "id": "DK5qMt0Pw53q"
      }
    },
    {
      "cell_type": "code",
      "source": [
        "# \"Hello, World!\"の風習の起源は，有名な『The C Programming Language』という\n",
        "# KernighanとRitchieが書いた有名なC言語の教科書内にあった例題に遡ります\n",
        "# ソースコード作成者の氏名や制作日などをソースコード内に記載することもあります．\n",
        "print(\"Hello, World!\")  # コマンドの後ろにコメントをつけることもできます．\n",
        "# コメントアウトされている部分は実行されないことを確認してください"
      ],
      "metadata": {
        "colab": {
          "base_uri": "https://localhost:8080/"
        },
        "id": "qAeV7ySZw4i1",
        "outputId": "afff6682-2a14-4ac3-a341-48d7a2de7844"
      },
      "execution_count": null,
      "outputs": [
        {
          "output_type": "stream",
          "name": "stdout",
          "text": [
            "[1] \"Hello, World!\"\n"
          ]
        }
      ]
    },
    {
      "cell_type": "markdown",
      "source": [
        "##### **2.1.1 算術演算子**"
      ],
      "metadata": {
        "id": "nI_cqxwxtO7p"
      }
    },
    {
      "cell_type": "markdown",
      "source": [
        "四則演算をやってみましょう．ここで`＋`や`*`の記号のように演算を指示する記号は，**演算子**（オペレーター）と呼ばれます．演算子には多くの種類があります．\n",
        "\n",
        "| 演算子 | 意味            | 例              | 結果 |\n",
        "| ------ | --------------- | --------------- | ---- |\n",
        "| +      | 和              | 2 + 5           | 7    |\n",
        "| -      | 差              | 2 - 8           | -6   |\n",
        "| *      | 積              | 7 * 3           | 21   |\n",
        "| /      | 商              | 16 / 5          | 3.2  |\n",
        "| ^、**  | 累乗（べき乗）  | 2^3または2 ** 3 | 8    |\n",
        "| %%     | 剰余 | 18 %% 7         | 4    |\n",
        "| %/%    | 整数商          | 18 %/% 7        | 2    |"
      ],
      "metadata": {
        "id": "I-s2sSXh2s1G"
      }
    },
    {
      "cell_type": "code",
      "source": [
        "# 演算とその出力例\n",
        "2 + 5\n",
        "2 - 8\n",
        "7 * 3\n",
        "16 / 5\n",
        "2 ^ 3\n",
        "18 %% 7\n",
        "18 %/% 7"
      ],
      "metadata": {
        "colab": {
          "base_uri": "https://localhost:8080/",
          "height": 139
        },
        "id": "jQE6Ey2s2zZL",
        "outputId": "b77fe571-bb95-45fc-b409-9726eeeb964d"
      },
      "execution_count": null,
      "outputs": [
        {
          "output_type": "display_data",
          "data": {
            "text/html": [
              "7"
            ],
            "text/markdown": "7",
            "text/latex": "7",
            "text/plain": [
              "[1] 7"
            ]
          },
          "metadata": {}
        },
        {
          "output_type": "display_data",
          "data": {
            "text/html": [
              "-6"
            ],
            "text/markdown": "-6",
            "text/latex": "-6",
            "text/plain": [
              "[1] -6"
            ]
          },
          "metadata": {}
        },
        {
          "output_type": "display_data",
          "data": {
            "text/html": [
              "21"
            ],
            "text/markdown": "21",
            "text/latex": "21",
            "text/plain": [
              "[1] 21"
            ]
          },
          "metadata": {}
        },
        {
          "output_type": "display_data",
          "data": {
            "text/html": [
              "3.2"
            ],
            "text/markdown": "3.2",
            "text/latex": "3.2",
            "text/plain": [
              "[1] 3.2"
            ]
          },
          "metadata": {}
        },
        {
          "output_type": "display_data",
          "data": {
            "text/html": [
              "8"
            ],
            "text/markdown": "8",
            "text/latex": "8",
            "text/plain": [
              "[1] 8"
            ]
          },
          "metadata": {}
        },
        {
          "output_type": "display_data",
          "data": {
            "text/html": [
              "4"
            ],
            "text/markdown": "4",
            "text/latex": "4",
            "text/plain": [
              "[1] 4"
            ]
          },
          "metadata": {}
        },
        {
          "output_type": "display_data",
          "data": {
            "text/html": [
              "2"
            ],
            "text/markdown": "2",
            "text/latex": "2",
            "text/plain": [
              "[1] 2"
            ]
          },
          "metadata": {}
        }
      ]
    },
    {
      "cell_type": "markdown",
      "source": [
        "演算子の前後にスペースを入れても入れなくても結果は変わりませんが，可読性のために演算子の前後に半角スペースをいれることが多いです．"
      ],
      "metadata": {
        "id": "ESbChE2t3J7k"
      }
    },
    {
      "cell_type": "code",
      "source": [
        "2 + 5 #　演算子の前後にスペースを入れても\n",
        "2+5 #　演算子の前後にスペースを入れなくても出力結果は同じ"
      ],
      "metadata": {
        "colab": {
          "base_uri": "https://localhost:8080/",
          "height": 52
        },
        "id": "BYhvK5ty3H7r",
        "outputId": "99186864-1f31-4e27-d580-487f72e152a1"
      },
      "execution_count": null,
      "outputs": [
        {
          "output_type": "display_data",
          "data": {
            "text/html": [
              "7"
            ],
            "text/markdown": "7",
            "text/latex": "7",
            "text/plain": [
              "[1] 7"
            ]
          },
          "metadata": {}
        },
        {
          "output_type": "display_data",
          "data": {
            "text/html": [
              "7"
            ],
            "text/markdown": "7",
            "text/latex": "7",
            "text/plain": [
              "[1] 7"
            ]
          },
          "metadata": {}
        }
      ]
    },
    {
      "cell_type": "markdown",
      "source": [
        "##### **2.1.2 論理演算子**"
      ],
      "metadata": {
        "id": "fz78XYHVtVR5"
      }
    },
    {
      "cell_type": "markdown",
      "source": [
        "論理演算子は，入力した式が真か偽かを判定する演算子です．返り値（戻り値）は　TRUE（真）または FALSE（偽）のいずれかになります．たとえば、「4 > 2」は真なので、TRUE が返される。しかし、「2 + 3 = 1」は偽なのでFALSEが返ってきます．"
      ],
      "metadata": {
        "id": "GEOKCk7ItZd8"
      }
    },
    {
      "cell_type": "code",
      "source": [
        "4 > 2"
      ],
      "metadata": {
        "colab": {
          "base_uri": "https://localhost:8080/",
          "height": 34
        },
        "id": "dLnRTYZYtzU3",
        "outputId": "2ac93452-f718-430e-911b-8c64c62659e8"
      },
      "execution_count": null,
      "outputs": [
        {
          "output_type": "display_data",
          "data": {
            "text/html": [
              "TRUE"
            ],
            "text/markdown": "TRUE",
            "text/latex": "TRUE",
            "text/plain": [
              "[1] TRUE"
            ]
          },
          "metadata": {}
        }
      ]
    },
    {
      "cell_type": "code",
      "source": [
        "2 + 3 == 1"
      ],
      "metadata": {
        "colab": {
          "base_uri": "https://localhost:8080/",
          "height": 34
        },
        "id": "SBVJQfk3t-AU",
        "outputId": "e23c174b-38db-410b-8ce8-0b09adc42251"
      },
      "execution_count": null,
      "outputs": [
        {
          "output_type": "display_data",
          "data": {
            "text/html": [
              "FALSE"
            ],
            "text/markdown": "FALSE",
            "text/latex": "FALSE",
            "text/plain": [
              "[1] FALSE"
            ]
          },
          "metadata": {}
        }
      ]
    },
    {
      "cell_type": "markdown",
      "source": [
        "##### **2.1.3 プリセットの関数**"
      ],
      "metadata": {
        "id": "hTWK9tSvuAXi"
      }
    },
    {
      "cell_type": "markdown",
      "source": [
        "Rにはもとから多くの関数が用意されていています．下に示す`sqrt()`や`floor()`なども用意されている関数です．カッコ内に書かれた数値に対して演算を行います．"
      ],
      "metadata": {
        "id": "CMaiBEbC6Nt5"
      }
    },
    {
      "cell_type": "code",
      "source": [
        "# 平方根を求める関数\n",
        "sqrt(2)\n",
        "\n",
        "# 小数以下を切り捨て\n",
        "floor(2.5)\n",
        "\n",
        "# 小数の切り上げ\n",
        "ceiling(2.5)\n",
        "\n",
        "# 四捨五入\n",
        "round(2.5)\n",
        "\n",
        "# 絶対値\n",
        "abs(-1)"
      ],
      "metadata": {
        "colab": {
          "base_uri": "https://localhost:8080/",
          "height": 104
        },
        "id": "5gkln0cu6Eyv",
        "outputId": "32901e34-eaa0-4ebd-81f0-634577242cc6"
      },
      "execution_count": null,
      "outputs": [
        {
          "output_type": "display_data",
          "data": {
            "text/html": [
              "1.4142135623731"
            ],
            "text/markdown": "1.4142135623731",
            "text/latex": "1.4142135623731",
            "text/plain": [
              "[1] 1.414214"
            ]
          },
          "metadata": {}
        },
        {
          "output_type": "display_data",
          "data": {
            "text/html": [
              "2"
            ],
            "text/markdown": "2",
            "text/latex": "2",
            "text/plain": [
              "[1] 2"
            ]
          },
          "metadata": {}
        },
        {
          "output_type": "display_data",
          "data": {
            "text/html": [
              "3"
            ],
            "text/markdown": "3",
            "text/latex": "3",
            "text/plain": [
              "[1] 3"
            ]
          },
          "metadata": {}
        },
        {
          "output_type": "display_data",
          "data": {
            "text/html": [
              "2"
            ],
            "text/markdown": "2",
            "text/latex": "2",
            "text/plain": [
              "[1] 2"
            ]
          },
          "metadata": {}
        },
        {
          "output_type": "display_data",
          "data": {
            "text/html": [
              "1"
            ],
            "text/markdown": "1",
            "text/latex": "1",
            "text/plain": [
              "[1] 1"
            ]
          },
          "metadata": {}
        }
      ]
    },
    {
      "cell_type": "code",
      "source": [
        "# コサイン\n",
        "cos(2*pi)\n",
        "\n",
        "# サイン\n",
        "sin(0)\n",
        "\n",
        "# 自然対数\n",
        "log(2)\n",
        "\n",
        "# 常用対数\n",
        "log10(100)\n",
        "\n",
        "# 底が2の対数(ビット)\n",
        "log2(256)\n",
        "\n",
        "# e^x\n",
        "exp(0)"
      ],
      "metadata": {
        "colab": {
          "base_uri": "https://localhost:8080/",
          "height": 121
        },
        "id": "J8WGtS-bIH0I",
        "outputId": "b3813f5e-4f42-4f59-e56f-1995a7327a5e"
      },
      "execution_count": null,
      "outputs": [
        {
          "output_type": "display_data",
          "data": {
            "text/html": [
              "1"
            ],
            "text/markdown": "1",
            "text/latex": "1",
            "text/plain": [
              "[1] 1"
            ]
          },
          "metadata": {}
        },
        {
          "output_type": "display_data",
          "data": {
            "text/html": [
              "0"
            ],
            "text/markdown": "0",
            "text/latex": "0",
            "text/plain": [
              "[1] 0"
            ]
          },
          "metadata": {}
        },
        {
          "output_type": "display_data",
          "data": {
            "text/html": [
              "0.693147180559945"
            ],
            "text/markdown": "0.693147180559945",
            "text/latex": "0.693147180559945",
            "text/plain": [
              "[1] 0.6931472"
            ]
          },
          "metadata": {}
        },
        {
          "output_type": "display_data",
          "data": {
            "text/html": [
              "2"
            ],
            "text/markdown": "2",
            "text/latex": "2",
            "text/plain": [
              "[1] 2"
            ]
          },
          "metadata": {}
        },
        {
          "output_type": "display_data",
          "data": {
            "text/html": [
              "8"
            ],
            "text/markdown": "8",
            "text/latex": "8",
            "text/plain": [
              "[1] 8"
            ]
          },
          "metadata": {}
        },
        {
          "output_type": "display_data",
          "data": {
            "text/html": [
              "1"
            ],
            "text/markdown": "1",
            "text/latex": "1",
            "text/plain": [
              "[1] 1"
            ]
          },
          "metadata": {}
        }
      ]
    },
    {
      "cell_type": "markdown",
      "source": [
        "#### **2.1.4 代入演算子**"
      ],
      "metadata": {
        "id": "yYhTq8HPJMZu"
      }
    },
    {
      "cell_type": "markdown",
      "source": [
        "プログラミングにおける**変数**(variable）とは，何らかの値を入れておくためのはこのようなものだと思ってください．その箱に具体的な数値を入れる作業である代入をする際に用いられるのが**代入演算子**です．Rの代入演算子は「小なり」とハイフンを組み合わせた`<-` （左辺の変数に右辺を代入する）です．\n",
        "\n",
        "`<-`のかわりに`=`を代入演算子として使うことができますが，恒等式と見間違えて混乱するので使わないでください．"
      ],
      "metadata": {
        "id": "wX3JG6KjcKXB"
      }
    },
    {
      "cell_type": "code",
      "source": [
        "x <- 1 # 変数xを作ってそこに1を代入\n",
        "print(x)  #変数xを表示\n",
        "\n",
        "x <- x + 1 # 変数xにx +1を代入（つまりxに1を足すという意味）\n",
        "print(x)  #変数xを表示"
      ],
      "metadata": {
        "colab": {
          "base_uri": "https://localhost:8080/"
        },
        "id": "W_SuAv9dJEap",
        "outputId": "d7db73bb-67df-4d9f-e4fb-6eb8c4b698ea"
      },
      "execution_count": null,
      "outputs": [
        {
          "output_type": "stream",
          "name": "stdout",
          "text": [
            "[1] 1\n",
            "[1] 2\n"
          ]
        }
      ]
    },
    {
      "cell_type": "markdown",
      "source": [
        "ベクトルと呼ばれるデータ構造を持つオブジェクト自体を代入することもできます．ここでは`c()`関数を利用して作成されたベクトルを`my_vec`というオブジェクトに代入しています．"
      ],
      "metadata": {
        "id": "WZjFm3f6c2Cx"
      }
    },
    {
      "cell_type": "code",
      "source": [
        "my_vec <- c(4, 2, 1, 6, 5, 0)"
      ],
      "metadata": {
        "id": "w8HhP5YVdSWP"
      },
      "execution_count": null,
      "outputs": []
    },
    {
      "cell_type": "markdown",
      "source": [
        "my_vecの中身を見てみましょう"
      ],
      "metadata": {
        "id": "vJ9Emr_Ad2Qw"
      }
    },
    {
      "cell_type": "code",
      "source": [
        "my_vec"
      ],
      "metadata": {
        "colab": {
          "base_uri": "https://localhost:8080/",
          "height": 34
        },
        "id": "4-oiQrkqdykk",
        "outputId": "e7794ee9-78c7-4f6b-d66e-076f366ec015"
      },
      "execution_count": null,
      "outputs": [
        {
          "output_type": "display_data",
          "data": {
            "text/html": [
              "<style>\n",
              ".list-inline {list-style: none; margin:0; padding: 0}\n",
              ".list-inline>li {display: inline-block}\n",
              ".list-inline>li:not(:last-child)::after {content: \"\\00b7\"; padding: 0 .5ex}\n",
              "</style>\n",
              "<ol class=list-inline><li>4</li><li>2</li><li>1</li><li>6</li><li>5</li><li>0</li></ol>\n"
            ],
            "text/markdown": "1. 4\n2. 2\n3. 1\n4. 6\n5. 5\n6. 0\n\n\n",
            "text/latex": "\\begin{enumerate*}\n\\item 4\n\\item 2\n\\item 1\n\\item 6\n\\item 5\n\\item 0\n\\end{enumerate*}\n",
            "text/plain": [
              "[1] 4 2 1 6 5 0"
            ]
          },
          "metadata": {}
        }
      ]
    },
    {
      "cell_type": "markdown",
      "source": [
        "Rの最も基本的なデータ構造はベクトルですので，連続した値のベクトルを作りたいときには下にように書きます．"
      ],
      "metadata": {
        "id": "QYO9U1Qyf8hT"
      }
    },
    {
      "cell_type": "code",
      "source": [
        "my_seq <- 1:15  #シーケンスを作成"
      ],
      "metadata": {
        "id": "y4JpGubQgF6l"
      },
      "execution_count": null,
      "outputs": []
    },
    {
      "cell_type": "code",
      "source": [
        "my_seq"
      ],
      "metadata": {
        "colab": {
          "base_uri": "https://localhost:8080/",
          "height": 34
        },
        "id": "rOk4_BxygJYx",
        "outputId": "867a87cc-89c2-45a0-812a-3bbf83f5f96d"
      },
      "execution_count": null,
      "outputs": [
        {
          "output_type": "display_data",
          "data": {
            "text/html": [
              "<style>\n",
              ".list-inline {list-style: none; margin:0; padding: 0}\n",
              ".list-inline>li {display: inline-block}\n",
              ".list-inline>li:not(:last-child)::after {content: \"\\00b7\"; padding: 0 .5ex}\n",
              "</style>\n",
              "<ol class=list-inline><li>1</li><li>2</li><li>3</li><li>4</li><li>5</li><li>6</li><li>7</li><li>8</li><li>9</li><li>10</li><li>11</li><li>12</li><li>13</li><li>14</li><li>15</li></ol>\n"
            ],
            "text/markdown": "1. 1\n2. 2\n3. 3\n4. 4\n5. 5\n6. 6\n7. 7\n8. 8\n9. 9\n10. 10\n11. 11\n12. 12\n13. 13\n14. 14\n15. 15\n\n\n",
            "text/latex": "\\begin{enumerate*}\n\\item 1\n\\item 2\n\\item 3\n\\item 4\n\\item 5\n\\item 6\n\\item 7\n\\item 8\n\\item 9\n\\item 10\n\\item 11\n\\item 12\n\\item 13\n\\item 14\n\\item 15\n\\end{enumerate*}\n",
            "text/plain": [
              " [1]  1  2  3  4  5  6  7  8  9 10 11 12 13 14 15"
            ]
          },
          "metadata": {}
        }
      ]
    },
    {
      "cell_type": "code",
      "source": [
        "my_seq2 <- seq(from = 1, to = 10, by = 0.25)\n",
        "my_seq2"
      ],
      "metadata": {
        "colab": {
          "base_uri": "https://localhost:8080/",
          "height": 34
        },
        "id": "xp3vOw6ogmJr",
        "outputId": "cbc48342-8a71-4e91-cded-13001da49934"
      },
      "execution_count": null,
      "outputs": [
        {
          "output_type": "display_data",
          "data": {
            "text/html": [
              "<style>\n",
              ".list-inline {list-style: none; margin:0; padding: 0}\n",
              ".list-inline>li {display: inline-block}\n",
              ".list-inline>li:not(:last-child)::after {content: \"\\00b7\"; padding: 0 .5ex}\n",
              "</style>\n",
              "<ol class=list-inline><li>1</li><li>1.25</li><li>1.5</li><li>1.75</li><li>2</li><li>2.25</li><li>2.5</li><li>2.75</li><li>3</li><li>3.25</li><li>3.5</li><li>3.75</li><li>4</li><li>4.25</li><li>4.5</li><li>4.75</li><li>5</li><li>5.25</li><li>5.5</li><li>5.75</li><li>6</li><li>6.25</li><li>6.5</li><li>6.75</li><li>7</li><li>7.25</li><li>7.5</li><li>7.75</li><li>8</li><li>8.25</li><li>8.5</li><li>8.75</li><li>9</li><li>9.25</li><li>9.5</li><li>9.75</li><li>10</li></ol>\n"
            ],
            "text/markdown": "1. 1\n2. 1.25\n3. 1.5\n4. 1.75\n5. 2\n6. 2.25\n7. 2.5\n8. 2.75\n9. 3\n10. 3.25\n11. 3.5\n12. 3.75\n13. 4\n14. 4.25\n15. 4.5\n16. 4.75\n17. 5\n18. 5.25\n19. 5.5\n20. 5.75\n21. 6\n22. 6.25\n23. 6.5\n24. 6.75\n25. 7\n26. 7.25\n27. 7.5\n28. 7.75\n29. 8\n30. 8.25\n31. 8.5\n32. 8.75\n33. 9\n34. 9.25\n35. 9.5\n36. 9.75\n37. 10\n\n\n",
            "text/latex": "\\begin{enumerate*}\n\\item 1\n\\item 1.25\n\\item 1.5\n\\item 1.75\n\\item 2\n\\item 2.25\n\\item 2.5\n\\item 2.75\n\\item 3\n\\item 3.25\n\\item 3.5\n\\item 3.75\n\\item 4\n\\item 4.25\n\\item 4.5\n\\item 4.75\n\\item 5\n\\item 5.25\n\\item 5.5\n\\item 5.75\n\\item 6\n\\item 6.25\n\\item 6.5\n\\item 6.75\n\\item 7\n\\item 7.25\n\\item 7.5\n\\item 7.75\n\\item 8\n\\item 8.25\n\\item 8.5\n\\item 8.75\n\\item 9\n\\item 9.25\n\\item 9.5\n\\item 9.75\n\\item 10\n\\end{enumerate*}\n",
            "text/plain": [
              " [1]  1.00  1.25  1.50  1.75  2.00  2.25  2.50  2.75  3.00  3.25  3.50  3.75\n",
              "[13]  4.00  4.25  4.50  4.75  5.00  5.25  5.50  5.75  6.00  6.25  6.50  6.75\n",
              "[25]  7.00  7.25  7.50  7.75  8.00  8.25  8.50  8.75  9.00  9.25  9.50  9.75\n",
              "[37] 10.00"
            ]
          },
          "metadata": {}
        }
      ]
    },
    {
      "cell_type": "markdown",
      "source": [
        "### **2.2 データの型**"
      ],
      "metadata": {
        "id": "KC0DFb7fRmn2"
      }
    },
    {
      "cell_type": "markdown",
      "source": [
        "#### **2.2.1 データ型の種類**"
      ],
      "metadata": {
        "id": "5y3Lzln3JQco"
      }
    },
    {
      "cell_type": "markdown",
      "source": [
        "異なる種類のデータをRがどのように扱うのかを理解しましょう．Rの代表的なデータ型にはnumeric（数値）, complex（複素数）, character（文字列）, logical（論理値） があります．numeric型はコンピュータの内部での扱われ方によってinteger型とdouble型があります（Rではあまりに気にしなくても大丈夫なことが多いです）．\n",
        "\n",
        "| データの型       | 説明                 | 例                                    |\n",
        "| ---------------- | -------------------- | ------------------------------------------- |\n",
        "| integer(numeric) | 整数型               | 1, -1, 20300, ...                           |\n",
        "| double(numeric)  | 実数型（整数も含む） | 3.1415, -0.001, 125.00012, 1, 1e-10, ...    |\n",
        "| complex          | 複素数型             | 1i, 1 - 4.5i, 3+0i, complex(re=a,im=b), ... |\n",
        "| character        | 文字型               | \"Female\", \"Osaka University\", \"\", ...                  |\n",
        "| logical          | 論理型               | TRUE, FALSE, T, F, NA, ...                  |\n",
        "\n",
        "普通のプログラミング言語（CやJavaなど）では，変数を扱うときに整数（int型）なのか浮動小数点数型実数(float型)なのか文字（char型）なのかというように「型」を設定する必要があります（int x など）． しかし，Rは変数の型を指定しなくてよく，勝手に方をRが決めてくれます．これを「動的型付け」といいます．C言語などの言語は静的型付け言語と言います．\n",
        "\n"
      ],
      "metadata": {
        "id": "Z3Vq5njEc8yu"
      }
    },
    {
      "cell_type": "markdown",
      "source": [
        "##### **2.2.1.1 数値型(numeric型）と整数型（int型）と実数型（double型）**"
      ],
      "metadata": {
        "id": "CgOlV3DCfg48"
      }
    },
    {
      "cell_type": "code",
      "source": [
        "#　\"score\"という変数を作ってそこにデータ（整数）を代入する\n",
        "score <- 1\n",
        "print(score)  #この時点では変数sample_numericは整数（int型）かもしれない\n",
        "\n",
        "#　変数scoreに0.1を足す\n",
        "score <-  score + 0.1 #この時点では変数scoreは整数ではなくなり実数（double型）になります\n",
        "print(score)"
      ],
      "metadata": {
        "colab": {
          "base_uri": "https://localhost:8080/"
        },
        "id": "EPtQFYlZJSc5",
        "outputId": "44559d4e-815f-426b-dc5f-2956806f55f4"
      },
      "execution_count": null,
      "outputs": [
        {
          "output_type": "stream",
          "name": "stdout",
          "text": [
            "[1] 1\n",
            "[1] 1.1\n"
          ]
        }
      ]
    },
    {
      "cell_type": "markdown",
      "source": [
        "typeof()関数とmode()関数を使ってみると確かにdouble型（浮動小数点型実数）のnumeric型（数値型)であることがわかります．Rでは基本的に数値はdouble型になります."
      ],
      "metadata": {
        "id": "1VN4oljFfbF9"
      }
    },
    {
      "cell_type": "code",
      "source": [
        "typeof(score)\n",
        "mode(score)"
      ],
      "metadata": {
        "colab": {
          "base_uri": "https://localhost:8080/",
          "height": 52
        },
        "id": "T6ZZbp6We95n",
        "outputId": "ced5e778-43ad-430d-d2f2-8a7c1d35be33"
      },
      "execution_count": null,
      "outputs": [
        {
          "output_type": "display_data",
          "data": {
            "text/html": [
              "'double'"
            ],
            "text/markdown": "'double'",
            "text/latex": "'double'",
            "text/plain": [
              "[1] \"double\""
            ]
          },
          "metadata": {}
        },
        {
          "output_type": "display_data",
          "data": {
            "text/html": [
              "'numeric'"
            ],
            "text/markdown": "'numeric'",
            "text/latex": "'numeric'",
            "text/plain": [
              "[1] \"numeric\""
            ]
          },
          "metadata": {}
        }
      ]
    },
    {
      "cell_type": "markdown",
      "source": [
        "##### **2.2.1.2 文字型（character型）**"
      ],
      "metadata": {
        "id": "Dn2N_3WRfquN"
      }
    },
    {
      "cell_type": "code",
      "source": [
        "# \"name_of_instructor\"という変数を作ってそこに文字列を代入する\n",
        "name_of_instructor <- \"Komori Masashi\"\n",
        "print(name_of_instructor)\n",
        "\n",
        "typeof(name_of_instructor)\n",
        "mode(name_of_instructor)\n",
        "class(name_of_instructor)"
      ],
      "metadata": {
        "colab": {
          "base_uri": "https://localhost:8080/",
          "height": 87
        },
        "id": "i6p-l-VVfdUy",
        "outputId": "3e5d017e-8fce-4b0b-9c0e-88d8e258360a"
      },
      "execution_count": null,
      "outputs": [
        {
          "output_type": "stream",
          "name": "stdout",
          "text": [
            "[1] \"Komori Masashi\"\n"
          ]
        },
        {
          "output_type": "display_data",
          "data": {
            "text/html": [
              "'character'"
            ],
            "text/markdown": "'character'",
            "text/latex": "'character'",
            "text/plain": [
              "[1] \"character\""
            ]
          },
          "metadata": {}
        },
        {
          "output_type": "display_data",
          "data": {
            "text/html": [
              "'character'"
            ],
            "text/markdown": "'character'",
            "text/latex": "'character'",
            "text/plain": [
              "[1] \"character\""
            ]
          },
          "metadata": {}
        },
        {
          "output_type": "display_data",
          "data": {
            "text/html": [
              "'character'"
            ],
            "text/markdown": "'character'",
            "text/latex": "'character'",
            "text/plain": [
              "[1] \"character\""
            ]
          },
          "metadata": {}
        }
      ]
    },
    {
      "cell_type": "markdown",
      "source": [
        "##### **2.2.1.3 論理値型（logical型）**"
      ],
      "metadata": {
        "id": "3DkolkG5f77Y"
      }
    },
    {
      "cell_type": "markdown",
      "source": [
        "真（TRUE）か偽（FALSE）かを表す型．T/Fと書いても良い．"
      ],
      "metadata": {
        "id": "5p1YWJryCGBg"
      }
    },
    {
      "cell_type": "code",
      "source": [
        "# 論理値\n",
        "examination_result <- FALSE\n",
        "print(examination_result)\n",
        "\n",
        "typeof(examination_result)\n",
        "mode(examination_result)\n",
        "class(examination_result)"
      ],
      "metadata": {
        "colab": {
          "base_uri": "https://localhost:8080/",
          "height": 87
        },
        "id": "TQfvbm42f-ny",
        "outputId": "5bd1bb34-0999-4ef6-c8b1-473c7ede36c1"
      },
      "execution_count": null,
      "outputs": [
        {
          "output_type": "stream",
          "name": "stdout",
          "text": [
            "[1] FALSE\n"
          ]
        },
        {
          "output_type": "display_data",
          "data": {
            "text/html": [
              "'logical'"
            ],
            "text/markdown": "'logical'",
            "text/latex": "'logical'",
            "text/plain": [
              "[1] \"logical\""
            ]
          },
          "metadata": {}
        },
        {
          "output_type": "display_data",
          "data": {
            "text/html": [
              "'logical'"
            ],
            "text/markdown": "'logical'",
            "text/latex": "'logical'",
            "text/plain": [
              "[1] \"logical\""
            ]
          },
          "metadata": {}
        },
        {
          "output_type": "display_data",
          "data": {
            "text/html": [
              "'logical'"
            ],
            "text/markdown": "'logical'",
            "text/latex": "'logical'",
            "text/plain": [
              "[1] \"logical\""
            ]
          },
          "metadata": {}
        }
      ]
    },
    {
      "cell_type": "code",
      "source": [
        "# 命題「2 > 1」が真であれば\"TRUE\"が，偽であれば\"FALSE\"が変数\"is_true\"に代入される\n",
        "is_true <- 2 > 1\n",
        "is_true\n",
        "\n",
        "typeof(is_true)\n",
        "mode(is_true)\n",
        "class(is_true)"
      ],
      "metadata": {
        "colab": {
          "base_uri": "https://localhost:8080/",
          "height": 86
        },
        "id": "L4rUklbdCrO5",
        "outputId": "5108721a-191f-40ef-e734-1e033938b4c4"
      },
      "execution_count": null,
      "outputs": [
        {
          "output_type": "display_data",
          "data": {
            "text/html": [
              "TRUE"
            ],
            "text/markdown": "TRUE",
            "text/latex": "TRUE",
            "text/plain": [
              "[1] TRUE"
            ]
          },
          "metadata": {}
        },
        {
          "output_type": "display_data",
          "data": {
            "text/html": [
              "'logical'"
            ],
            "text/markdown": "'logical'",
            "text/latex": "'logical'",
            "text/plain": [
              "[1] \"logical\""
            ]
          },
          "metadata": {}
        },
        {
          "output_type": "display_data",
          "data": {
            "text/html": [
              "'logical'"
            ],
            "text/markdown": "'logical'",
            "text/latex": "'logical'",
            "text/plain": [
              "[1] \"logical\""
            ]
          },
          "metadata": {}
        },
        {
          "output_type": "display_data",
          "data": {
            "text/html": [
              "'logical'"
            ],
            "text/markdown": "'logical'",
            "text/latex": "'logical'",
            "text/plain": [
              "[1] \"logical\""
            ]
          },
          "metadata": {}
        }
      ]
    },
    {
      "cell_type": "markdown",
      "source": [
        "#####  **2.2.1.4 因子型（factor）**"
      ],
      "metadata": {
        "id": "Y-okjLgsPwOf"
      }
    },
    {
      "cell_type": "markdown",
      "source": [
        "因子型 (factor) は数値などをカテゴリカルなデータとして扱うとき等に使われます．例えば女性を1，男性を2としてデータを入力したものを，因子型として扱うには以下のようにします．`Levels`は因子の水準を表しています．"
      ],
      "metadata": {
        "id": "Levfx2pyP43J"
      }
    },
    {
      "cell_type": "code",
      "source": [
        "gender <- c(1, 1, 1, 2, 2, 2)\n",
        "\n",
        "gender <- as.factor(gender)\n",
        "gender"
      ],
      "metadata": {
        "colab": {
          "base_uri": "https://localhost:8080/",
          "height": 69
        },
        "id": "Fv1wO_u1QBuS",
        "outputId": "e15433ea-5c60-4d76-9a8b-4e19c8a4c178"
      },
      "execution_count": null,
      "outputs": [
        {
          "output_type": "display_data",
          "data": {
            "text/html": [
              "<style>\n",
              ".list-inline {list-style: none; margin:0; padding: 0}\n",
              ".list-inline>li {display: inline-block}\n",
              ".list-inline>li:not(:last-child)::after {content: \"\\00b7\"; padding: 0 .5ex}\n",
              "</style>\n",
              "<ol class=list-inline><li>1</li><li>1</li><li>1</li><li>2</li><li>2</li><li>2</li></ol>\n",
              "\n",
              "<details>\n",
              "\t<summary style=display:list-item;cursor:pointer>\n",
              "\t\t<strong>Levels</strong>:\n",
              "\t</summary>\n",
              "\t<style>\n",
              "\t.list-inline {list-style: none; margin:0; padding: 0}\n",
              "\t.list-inline>li {display: inline-block}\n",
              "\t.list-inline>li:not(:last-child)::after {content: \"\\00b7\"; padding: 0 .5ex}\n",
              "\t</style>\n",
              "\t<ol class=list-inline><li>'1'</li><li>'2'</li></ol>\n",
              "</details>"
            ],
            "text/markdown": "1. 1\n2. 1\n3. 1\n4. 2\n5. 2\n6. 2\n\n\n\n**Levels**: 1. '1'\n2. '2'\n\n\n",
            "text/latex": "\\begin{enumerate*}\n\\item 1\n\\item 1\n\\item 1\n\\item 2\n\\item 2\n\\item 2\n\\end{enumerate*}\n\n\\emph{Levels}: \\begin{enumerate*}\n\\item '1'\n\\item '2'\n\\end{enumerate*}\n",
            "text/plain": [
              "[1] 1 1 1 2 2 2\n",
              "Levels: 1 2"
            ]
          },
          "metadata": {}
        }
      ]
    },
    {
      "cell_type": "markdown",
      "source": [
        "#### **2.2.2 データ型の確認と変換**"
      ],
      "metadata": {
        "id": "OW27jRBQdkzu"
      }
    },
    {
      "cell_type": "markdown",
      "source": [
        "is.classOfData()関数を使って型を確認したり，as.className（）関数で強制的に型を変換することができます．\n",
        "\n",
        "| 型     | 型の確認  | 強制変換         |\n",
        "| ---------- | ------------ | ------------ |\n",
        "| 文字列     | is.character | as.character |\n",
        "| 数値       | is.numeric   | as.numeric   |\n",
        "| 論理       | is.logical   | as.logical   |\n",
        "| ファクター | is.factor    | as.factor    |\n",
        "| 複素数     | is.complex   | as.complex   |"
      ],
      "metadata": {
        "id": "1cVPiOU2duup"
      }
    },
    {
      "cell_type": "code",
      "source": [
        "data <- 3.14  #数値型として作成\n",
        "\n",
        "is.numeric(data)  # 数値型かどうかを確認\n",
        "## [1] TRUE\n",
        "\n",
        "is.character(data)  # 文字型かどうかを確認\n",
        "## [1] FALSE\n",
        "\n",
        "is.logical(data)  # 論理型かどうかを確認\n",
        "## [1] FALSE"
      ],
      "metadata": {
        "colab": {
          "base_uri": "https://localhost:8080/",
          "height": 69
        },
        "id": "HNpy0ZZBd7Hq",
        "outputId": "be7a0880-cf5c-4c1c-e5f1-5bf1008ab179"
      },
      "execution_count": null,
      "outputs": [
        {
          "output_type": "display_data",
          "data": {
            "text/html": [
              "TRUE"
            ],
            "text/markdown": "TRUE",
            "text/latex": "TRUE",
            "text/plain": [
              "[1] TRUE"
            ]
          },
          "metadata": {}
        },
        {
          "output_type": "display_data",
          "data": {
            "text/html": [
              "FALSE"
            ],
            "text/markdown": "FALSE",
            "text/latex": "FALSE",
            "text/plain": [
              "[1] FALSE"
            ]
          },
          "metadata": {}
        },
        {
          "output_type": "display_data",
          "data": {
            "text/html": [
              "FALSE"
            ],
            "text/markdown": "FALSE",
            "text/latex": "FALSE",
            "text/plain": [
              "[1] FALSE"
            ]
          },
          "metadata": {}
        }
      ]
    },
    {
      "cell_type": "code",
      "source": [
        "data <- \"3.14\"  # 文字型として作成\n",
        "\n",
        "is.numeric(data)  # 数値型かどうかを確認\n",
        "## [1] FALSE\n",
        "\n",
        "is.character(data)  # 文字型かどうかを確認\n",
        "## [1] TRUE\n",
        "\n",
        "is.logical(data)  # 論理型かどうかを確認\n",
        "## [1] FALSE"
      ],
      "metadata": {
        "colab": {
          "base_uri": "https://localhost:8080/",
          "height": 69
        },
        "id": "UTWQuViNfppT",
        "outputId": "ecddb1d2-5d13-49e2-eaad-20589274e7a1"
      },
      "execution_count": null,
      "outputs": [
        {
          "output_type": "display_data",
          "data": {
            "text/html": [
              "FALSE"
            ],
            "text/markdown": "FALSE",
            "text/latex": "FALSE",
            "text/plain": [
              "[1] FALSE"
            ]
          },
          "metadata": {}
        },
        {
          "output_type": "display_data",
          "data": {
            "text/html": [
              "TRUE"
            ],
            "text/markdown": "TRUE",
            "text/latex": "TRUE",
            "text/plain": [
              "[1] TRUE"
            ]
          },
          "metadata": {}
        },
        {
          "output_type": "display_data",
          "data": {
            "text/html": [
              "FALSE"
            ],
            "text/markdown": "FALSE",
            "text/latex": "FALSE",
            "text/plain": [
              "[1] FALSE"
            ]
          },
          "metadata": {}
        }
      ]
    },
    {
      "cell_type": "code",
      "source": [
        "data <- 3.14\n",
        "data <- as.character(data)  # dataの型を文字型に強制的に変換\n",
        "is.character(data)  # 文字型かどうかを確認\n",
        "## [1] TRUE"
      ],
      "metadata": {
        "colab": {
          "base_uri": "https://localhost:8080/",
          "height": 34
        },
        "id": "90gRr9qAfEG0",
        "outputId": "4eec9077-8098-446d-85a7-c93392b532d9"
      },
      "execution_count": null,
      "outputs": [
        {
          "output_type": "display_data",
          "data": {
            "text/html": [
              "TRUE"
            ],
            "text/markdown": "TRUE",
            "text/latex": "TRUE",
            "text/plain": [
              "[1] TRUE"
            ]
          },
          "metadata": {}
        }
      ]
    },
    {
      "cell_type": "markdown",
      "source": [
        "#### **2.2.3 「変数の名前は自由につけてええ」というもんではない**"
      ],
      "metadata": {
        "id": "49-6xUWxDe8Z"
      }
    },
    {
      "cell_type": "markdown",
      "source": [
        "どんなプログラミング言語でもそうですが，変数の命名にはいくつかのお約束があります．\n",
        "\n",
        "*   変数名に使える文字は小文字の a から z および大文字の A から Z\n",
        "*   0 から 9 の数字やアンダースコア _ に加えて ピリオド . も使える\n",
        "*   変数名の最初の文字に数字を使うことはできない\n",
        "*   R の予約語（特別な意味を持つ文字列）を変数名に使うことはできない\n",
        "   *    `if`, `else`, `while`, `for`, `in`, `next`, `break`など制御構文で用いられるワードおよび`function`\n",
        "   *    `TRUE`, `FALSE`, `NULL`, `NA`, `NaN`, `Inf`など特別な値を表す予約語"
      ],
      "metadata": {
        "id": "Mi9WOHEyFsdp"
      }
    },
    {
      "cell_type": "markdown",
      "source": [
        "あと`hensuu`とか`hogehoge`みたいな適当な日本語ではなく英語でちゃんと変数を命名しましょう．\n",
        "\n"
      ],
      "metadata": {
        "id": "vTkgKkFJ0XLq"
      }
    },
    {
      "cell_type": "code",
      "source": [
        "# よく使われるタイプの変数名\n",
        "# ピリオド\".\"を使う場合；C言語の構造体のイメージ．ピリオドは「〜の」の意味になる\n",
        "picture.height <- 400 # 画像の高さ\n",
        "picture.width  <- 600 #画像の幅\n",
        "\n",
        "# アンダースコア\"_\"を使う場合；「スネークケース」と呼ばれる（ヘビっぽいので）\n",
        "picture_height <- 400 # 画像の高さ\n",
        "picture_width  <- 600 #画像の幅\n",
        "\n",
        "# 大文字を使う場合；「キャメルケース」と呼ばれる（大文字がラクダのコブっぽいので）\n",
        "pictureHeight  <- 400 # 画像の高さ\n",
        "pictureWidth <- 600 #画像の幅\n",
        "\n",
        "# あまり望ましくない変数名\n",
        "gazouhaba <- 400\n",
        "gazounotakasa <- 600\n",
        "foo <- 400\n",
        "baa <- 600\n",
        "hennsuu1 <- 400\n",
        "hennsuu2 <- 600"
      ],
      "metadata": {
        "id": "232r8-ic3EZh"
      },
      "execution_count": null,
      "outputs": []
    },
    {
      "cell_type": "markdown",
      "metadata": {
        "id": "nmyF4CtEhz1m"
      },
      "source": [
        "### **2.3 データ構造**"
      ]
    },
    {
      "cell_type": "markdown",
      "metadata": {
        "id": "8q47mwuIhz11"
      },
      "source": [
        "Rで使われるオブジェクトには，ベクトル(vector)，行列(matrix)，データフレーム(data.frame)，リスト(list)，配列(array)，テーブル(table)があり，それぞれ使い方が異なります．基本はベクトルです．ベクトル，配列，行列，データフレームを覚えておけば，今のところは問題ありません．\n",
        "\n",
        "\n",
        "<figure><img src=\"https://lh3.googleusercontent.com/d/10YisHIz_F_CRlaUjmMVnx5M3bZ0a2zE1\" width=900><figcaption>データ構造の種類</figcaption></figure>"
      ]
    },
    {
      "cell_type": "markdown",
      "source": [
        "##### **2.3.1 ベクトル(vector)**"
      ],
      "metadata": {
        "id": "vym1OZ6_CQhk"
      }
    },
    {
      "cell_type": "code",
      "metadata": {
        "colab": {
          "base_uri": "https://localhost:8080/",
          "height": 105
        },
        "outputId": "a3519608-2971-48fd-c493-ba35ccecdaec",
        "id": "eQjVegMuhz11"
      },
      "source": [
        "# ベクトルを作成する\n",
        "vec_x <- c(1, 3, 5, 7, 9)\n",
        "vec_y <- c(6:10)\n",
        "\n",
        "print(vec_x)\n",
        "print(vec_y)\n",
        "\n",
        "typeof(vec_x) #型\n",
        "mode(vec_x)  #型\n",
        "class(vec_x)  #オブジェクトの種類"
      ],
      "execution_count": null,
      "outputs": [
        {
          "output_type": "stream",
          "name": "stdout",
          "text": [
            "[1] 1 3 5 7 9\n",
            "[1]  6  7  8  9 10\n"
          ]
        },
        {
          "output_type": "display_data",
          "data": {
            "text/html": [
              "'double'"
            ],
            "text/markdown": "'double'",
            "text/latex": "'double'",
            "text/plain": [
              "[1] \"double\""
            ]
          },
          "metadata": {}
        },
        {
          "output_type": "display_data",
          "data": {
            "text/html": [
              "'numeric'"
            ],
            "text/markdown": "'numeric'",
            "text/latex": "'numeric'",
            "text/plain": [
              "[1] \"numeric\""
            ]
          },
          "metadata": {}
        },
        {
          "output_type": "display_data",
          "data": {
            "text/html": [
              "'numeric'"
            ],
            "text/markdown": "'numeric'",
            "text/latex": "'numeric'",
            "text/plain": [
              "[1] \"numeric\""
            ]
          },
          "metadata": {}
        }
      ]
    },
    {
      "cell_type": "markdown",
      "source": [
        "##### **2.3.2 行列（matrix）**"
      ],
      "metadata": {
        "id": "d9wb4TzCCUzT"
      }
    },
    {
      "cell_type": "markdown",
      "source": [
        "`cbind()`関数はベクトルを縦方向で結合する関数（**c**olumn（列）をくっつける（**bind**）するから）です．これを使ってベクトルから行列を作ってみましょう．\n",
        "\n",
        "\n",
        "<figure><img src=\"https://lh3.googleusercontent.com/d/1uSzxMIx7U82xCTWV2ghBHZYdwqy6RbEt\" width=500><figcaption>cbind()関数の処理</figcaption></figure>"
      ],
      "metadata": {
        "id": "leEQ0saO73cr"
      }
    },
    {
      "cell_type": "code",
      "metadata": {
        "colab": {
          "base_uri": "https://localhost:8080/",
          "height": 293
        },
        "outputId": "47bff813-082f-442b-ed19-6decc20baff8",
        "id": "rtjyFUc8hz12"
      },
      "source": [
        "#vectorを列方向で連結するとベクトルが行列オブジェクトになる\n",
        "my_mat <- cbind(vec_x , vec_y)\n",
        "my_mat  # 行列を表示\n",
        "typeof(my_mat) #型\n",
        "mode(my_mat)  #型\n",
        "class(my_mat)  #オブジェクトの種類"
      ],
      "execution_count": null,
      "outputs": [
        {
          "output_type": "display_data",
          "data": {
            "text/html": [
              "<table class=\"dataframe\">\n",
              "<caption>A matrix: 5 × 2 of type dbl</caption>\n",
              "<thead>\n",
              "\t<tr><th scope=col>vec_x</th><th scope=col>vec_y</th></tr>\n",
              "</thead>\n",
              "<tbody>\n",
              "\t<tr><td>1</td><td> 6</td></tr>\n",
              "\t<tr><td>3</td><td> 7</td></tr>\n",
              "\t<tr><td>5</td><td> 8</td></tr>\n",
              "\t<tr><td>7</td><td> 9</td></tr>\n",
              "\t<tr><td>9</td><td>10</td></tr>\n",
              "</tbody>\n",
              "</table>\n"
            ],
            "text/markdown": "\nA matrix: 5 × 2 of type dbl\n\n| vec_x | vec_y |\n|---|---|\n| 1 |  6 |\n| 3 |  7 |\n| 5 |  8 |\n| 7 |  9 |\n| 9 | 10 |\n\n",
            "text/latex": "A matrix: 5 × 2 of type dbl\n\\begin{tabular}{ll}\n vec\\_x & vec\\_y\\\\\n\\hline\n\t 1 &  6\\\\\n\t 3 &  7\\\\\n\t 5 &  8\\\\\n\t 7 &  9\\\\\n\t 9 & 10\\\\\n\\end{tabular}\n",
            "text/plain": [
              "     vec_x vec_y\n",
              "[1,] 1      6   \n",
              "[2,] 3      7   \n",
              "[3,] 5      8   \n",
              "[4,] 7      9   \n",
              "[5,] 9     10   "
            ]
          },
          "metadata": {}
        },
        {
          "output_type": "display_data",
          "data": {
            "text/html": [
              "'double'"
            ],
            "text/markdown": "'double'",
            "text/latex": "'double'",
            "text/plain": [
              "[1] \"double\""
            ]
          },
          "metadata": {}
        },
        {
          "output_type": "display_data",
          "data": {
            "text/html": [
              "'numeric'"
            ],
            "text/markdown": "'numeric'",
            "text/latex": "'numeric'",
            "text/plain": [
              "[1] \"numeric\""
            ]
          },
          "metadata": {}
        },
        {
          "output_type": "display_data",
          "data": {
            "text/html": [
              "<style>\n",
              ".list-inline {list-style: none; margin:0; padding: 0}\n",
              ".list-inline>li {display: inline-block}\n",
              ".list-inline>li:not(:last-child)::after {content: \"\\00b7\"; padding: 0 .5ex}\n",
              "</style>\n",
              "<ol class=list-inline><li>'matrix'</li><li>'array'</li></ol>\n"
            ],
            "text/markdown": "1. 'matrix'\n2. 'array'\n\n\n",
            "text/latex": "\\begin{enumerate*}\n\\item 'matrix'\n\\item 'array'\n\\end{enumerate*}\n",
            "text/plain": [
              "[1] \"matrix\" \"array\" "
            ]
          },
          "metadata": {}
        }
      ]
    },
    {
      "cell_type": "markdown",
      "source": [
        "##### **2.3.3 配列（array）**"
      ],
      "metadata": {
        "id": "T2aECGzHCku0"
      }
    },
    {
      "cell_type": "markdown",
      "source": [
        "配列は行列に似ていますが，何次元の配列でも作ることができます．"
      ],
      "metadata": {
        "id": "geoOZ1O0HTZt"
      }
    },
    {
      "cell_type": "code",
      "source": [
        "# 九九の配列を作成する\n",
        "# arrayの各次元の要素数を決定\n",
        "dim1 <- 9\n",
        "dim2 <- 9\n",
        "\n",
        "# 配列の作成\n",
        "my_array <- array(data = c(1:dim1) %*% t(c(1:dim2)), dim = c(dim1, dim2))\n",
        "\n",
        "# arrayの内容を出力\n",
        "print(my_array)"
      ],
      "metadata": {
        "colab": {
          "base_uri": "https://localhost:8080/"
        },
        "id": "SiToMNMoF6aV",
        "outputId": "464181ae-36b9-4579-9c05-94176d6f89a7"
      },
      "execution_count": null,
      "outputs": [
        {
          "output_type": "stream",
          "name": "stdout",
          "text": [
            "      [,1] [,2] [,3] [,4] [,5] [,6] [,7] [,8] [,9]\n",
            " [1,]    1    2    3    4    5    6    7    8    9\n",
            " [2,]    2    4    6    8   10   12   14   16   18\n",
            " [3,]    3    6    9   12   15   18   21   24   27\n",
            " [4,]    4    8   12   16   20   24   28   32   36\n",
            " [5,]    5   10   15   20   25   30   35   40   45\n",
            " [6,]    6   12   18   24   30   36   42   48   54\n",
            " [7,]    7   14   21   28   35   42   49   56   63\n",
            " [8,]    8   16   24   32   40   48   56   64   72\n",
            " [9,]    9   18   27   36   45   54   63   72   81\n"
          ]
        }
      ]
    },
    {
      "cell_type": "markdown",
      "source": [
        "##### **2.3.4 リスト（list）**"
      ],
      "metadata": {
        "id": "FoD8jXDdMzNm"
      }
    },
    {
      "cell_type": "markdown",
      "source": [
        "リストは様々なデータ構造のデータを一つにまとめることができるかなり柔軟なデータ構造です．関数の戻り値としてリストが返ってくることがしばしばあります．"
      ],
      "metadata": {
        "id": "qY2KYJ4-M8YT"
      }
    },
    {
      "cell_type": "code",
      "source": [
        "# このリストには文字列型のベクトルと，論理型のベクトルと数値型の行列の3つがまとめられています\n",
        "my_list <- list(c(\"black\", \"yellow\", \"orange\"),\n",
        "               c(TRUE, TRUE, FALSE, TRUE, FALSE, FALSE),\n",
        "               matrix(1:6, nrow = 3))\n",
        "my_list"
      ],
      "metadata": {
        "colab": {
          "base_uri": "https://localhost:8080/",
          "height": 278
        },
        "id": "B4VyVLHYM7P7",
        "outputId": "533ecb59-0016-4772-b053-71ef1b74ba20"
      },
      "execution_count": null,
      "outputs": [
        {
          "output_type": "display_data",
          "data": {
            "text/html": [
              "<ol>\n",
              "\t<li><style>\n",
              ".list-inline {list-style: none; margin:0; padding: 0}\n",
              ".list-inline>li {display: inline-block}\n",
              ".list-inline>li:not(:last-child)::after {content: \"\\00b7\"; padding: 0 .5ex}\n",
              "</style>\n",
              "<ol class=list-inline><li>'black'</li><li>'yellow'</li><li>'orange'</li></ol>\n",
              "</li>\n",
              "\t<li><style>\n",
              ".list-inline {list-style: none; margin:0; padding: 0}\n",
              ".list-inline>li {display: inline-block}\n",
              ".list-inline>li:not(:last-child)::after {content: \"\\00b7\"; padding: 0 .5ex}\n",
              "</style>\n",
              "<ol class=list-inline><li>TRUE</li><li>TRUE</li><li>FALSE</li><li>TRUE</li><li>FALSE</li><li>FALSE</li></ol>\n",
              "</li>\n",
              "\t<li><table class=\"dataframe\">\n",
              "<caption>A matrix: 3 × 2 of type int</caption>\n",
              "<tbody>\n",
              "\t<tr><td>1</td><td>4</td></tr>\n",
              "\t<tr><td>2</td><td>5</td></tr>\n",
              "\t<tr><td>3</td><td>6</td></tr>\n",
              "</tbody>\n",
              "</table>\n",
              "</li>\n",
              "</ol>\n"
            ],
            "text/markdown": "1. 1. 'black'\n2. 'yellow'\n3. 'orange'\n\n\n\n2. 1. TRUE\n2. TRUE\n3. FALSE\n4. TRUE\n5. FALSE\n6. FALSE\n\n\n\n3. \nA matrix: 3 × 2 of type int\n\n| 1 | 4 |\n| 2 | 5 |\n| 3 | 6 |\n\n\n\n\n",
            "text/latex": "\\begin{enumerate}\n\\item \\begin{enumerate*}\n\\item 'black'\n\\item 'yellow'\n\\item 'orange'\n\\end{enumerate*}\n\n\\item \\begin{enumerate*}\n\\item TRUE\n\\item TRUE\n\\item FALSE\n\\item TRUE\n\\item FALSE\n\\item FALSE\n\\end{enumerate*}\n\n\\item A matrix: 3 × 2 of type int\n\\begin{tabular}{ll}\n\t 1 & 4\\\\\n\t 2 & 5\\\\\n\t 3 & 6\\\\\n\\end{tabular}\n\n\\end{enumerate}\n",
            "text/plain": [
              "[[1]]\n",
              "[1] \"black\"  \"yellow\" \"orange\"\n",
              "\n",
              "[[2]]\n",
              "[1]  TRUE  TRUE FALSE  TRUE FALSE FALSE\n",
              "\n",
              "[[3]]\n",
              "     [,1] [,2]\n",
              "[1,]    1    4\n",
              "[2,]    2    5\n",
              "[3,]    3    6\n"
            ]
          },
          "metadata": {}
        }
      ]
    },
    {
      "cell_type": "markdown",
      "source": [
        " ##### **2.3.5 データフレーム（data frame)**"
      ],
      "metadata": {
        "id": "FzlIq_u_FNg5"
      }
    },
    {
      "cell_type": "markdown",
      "source": [
        "心理学の統計分析において，おそらく最も使われるデータ構造はこのデータフレームです．データフレームは，行と列から構成される強力な二次元オブジェクトで外観上は行列と似ていますが，行列はすべて同じタイプのデータ型でなければならないのに対し，データフレームは異なるタイプのデータを含めることができます．\n"
      ],
      "metadata": {
        "id": "nUddr_KaNs52"
      }
    },
    {
      "cell_type": "code",
      "metadata": {
        "colab": {
          "base_uri": "https://localhost:8080/"
        },
        "outputId": "330f667d-f82f-4de4-b988-50294511c676",
        "id": "QLVXRFVAhz12"
      },
      "source": [
        "#データフレームを作成する\n",
        "vec_height <- c(168, 172, 181, 153, 166)\n",
        "vec_weight <- c(72, 83, 75, 90, 100)\n",
        "\n",
        "my_df <- data.frame(ID = c(1,2,3,4,5), HEIGHT=vec_height, WEIGHT=vec_weight)\n",
        "\n",
        "print(my_df )"
      ],
      "execution_count": null,
      "outputs": [
        {
          "output_type": "stream",
          "name": "stdout",
          "text": [
            "  ID HEIGHT WEIGHT\n",
            "1  1    168     72\n",
            "2  2    172     83\n",
            "3  3    181     75\n",
            "4  4    153     90\n",
            "5  5    166    100\n"
          ]
        }
      ]
    },
    {
      "cell_type": "markdown",
      "source": [
        "データフレームから変数（列）のデータにアクセスするには、$表記法を使用します．"
      ],
      "metadata": {
        "id": "zxiJMXK7uxhI"
      }
    },
    {
      "cell_type": "code",
      "source": [
        "# データフレームからベクトルを取り出すときは「＄」表記法を使います\n",
        "my_df$WEIGHT"
      ],
      "metadata": {
        "colab": {
          "base_uri": "https://localhost:8080/",
          "height": 34
        },
        "id": "FLbvCvVqv-4g",
        "outputId": "174d8299-5bd0-420b-83e6-87c29d07972b"
      },
      "execution_count": null,
      "outputs": [
        {
          "output_type": "display_data",
          "data": {
            "text/html": [
              "<style>\n",
              ".list-inline {list-style: none; margin:0; padding: 0}\n",
              ".list-inline>li {display: inline-block}\n",
              ".list-inline>li:not(:last-child)::after {content: \"\\00b7\"; padding: 0 .5ex}\n",
              "</style>\n",
              "<ol class=list-inline><li>72</li><li>83</li><li>75</li><li>90</li><li>100</li></ol>\n"
            ],
            "text/markdown": "1. 72\n2. 83\n3. 75\n4. 90\n5. 100\n\n\n",
            "text/latex": "\\begin{enumerate*}\n\\item 72\n\\item 83\n\\item 75\n\\item 90\n\\item 100\n\\end{enumerate*}\n",
            "text/plain": [
              "[1]  72  83  75  90 100"
            ]
          },
          "metadata": {}
        }
      ]
    },
    {
      "cell_type": "markdown",
      "source": [
        "次に統計学や機械学習の世界で有名なサンプルデータセットであるirisデータセットを使ってデータフレームの扱い方を見てみましょう．このデータセットには，iris（アヤメ）の花の種類ごとに、がく片（Sepal）と花びら（Petal）の長さと幅の測定値が含まれています．"
      ],
      "metadata": {
        "id": "OwsA-j-Mfjcz"
      }
    },
    {
      "cell_type": "code",
      "source": [
        "# irisデータセットの読み込み\n",
        "data(iris)\n",
        "\n",
        "# irisデータセットの最初の数行を表示\n",
        "head(iris)"
      ],
      "metadata": {
        "colab": {
          "base_uri": "https://localhost:8080/",
          "height": 286
        },
        "id": "ZJ_Vqe1-gFxa",
        "outputId": "8343a6eb-b8b5-43b7-f2e4-5a0e02b9d8b2"
      },
      "execution_count": null,
      "outputs": [
        {
          "output_type": "display_data",
          "data": {
            "text/html": [
              "<table class=\"dataframe\">\n",
              "<caption>A data.frame: 6 × 5</caption>\n",
              "<thead>\n",
              "\t<tr><th></th><th scope=col>Sepal.Length</th><th scope=col>Sepal.Width</th><th scope=col>Petal.Length</th><th scope=col>Petal.Width</th><th scope=col>Species</th></tr>\n",
              "\t<tr><th></th><th scope=col>&lt;dbl&gt;</th><th scope=col>&lt;dbl&gt;</th><th scope=col>&lt;dbl&gt;</th><th scope=col>&lt;dbl&gt;</th><th scope=col>&lt;fct&gt;</th></tr>\n",
              "</thead>\n",
              "<tbody>\n",
              "\t<tr><th scope=row>1</th><td>5.1</td><td>3.5</td><td>1.4</td><td>0.2</td><td>setosa</td></tr>\n",
              "\t<tr><th scope=row>2</th><td>4.9</td><td>3.0</td><td>1.4</td><td>0.2</td><td>setosa</td></tr>\n",
              "\t<tr><th scope=row>3</th><td>4.7</td><td>3.2</td><td>1.3</td><td>0.2</td><td>setosa</td></tr>\n",
              "\t<tr><th scope=row>4</th><td>4.6</td><td>3.1</td><td>1.5</td><td>0.2</td><td>setosa</td></tr>\n",
              "\t<tr><th scope=row>5</th><td>5.0</td><td>3.6</td><td>1.4</td><td>0.2</td><td>setosa</td></tr>\n",
              "\t<tr><th scope=row>6</th><td>5.4</td><td>3.9</td><td>1.7</td><td>0.4</td><td>setosa</td></tr>\n",
              "</tbody>\n",
              "</table>\n"
            ],
            "text/markdown": "\nA data.frame: 6 × 5\n\n| <!--/--> | Sepal.Length &lt;dbl&gt; | Sepal.Width &lt;dbl&gt; | Petal.Length &lt;dbl&gt; | Petal.Width &lt;dbl&gt; | Species &lt;fct&gt; |\n|---|---|---|---|---|---|\n| 1 | 5.1 | 3.5 | 1.4 | 0.2 | setosa |\n| 2 | 4.9 | 3.0 | 1.4 | 0.2 | setosa |\n| 3 | 4.7 | 3.2 | 1.3 | 0.2 | setosa |\n| 4 | 4.6 | 3.1 | 1.5 | 0.2 | setosa |\n| 5 | 5.0 | 3.6 | 1.4 | 0.2 | setosa |\n| 6 | 5.4 | 3.9 | 1.7 | 0.4 | setosa |\n\n",
            "text/latex": "A data.frame: 6 × 5\n\\begin{tabular}{r|lllll}\n  & Sepal.Length & Sepal.Width & Petal.Length & Petal.Width & Species\\\\\n  & <dbl> & <dbl> & <dbl> & <dbl> & <fct>\\\\\n\\hline\n\t1 & 5.1 & 3.5 & 1.4 & 0.2 & setosa\\\\\n\t2 & 4.9 & 3.0 & 1.4 & 0.2 & setosa\\\\\n\t3 & 4.7 & 3.2 & 1.3 & 0.2 & setosa\\\\\n\t4 & 4.6 & 3.1 & 1.5 & 0.2 & setosa\\\\\n\t5 & 5.0 & 3.6 & 1.4 & 0.2 & setosa\\\\\n\t6 & 5.4 & 3.9 & 1.7 & 0.4 & setosa\\\\\n\\end{tabular}\n",
            "text/plain": [
              "  Sepal.Length Sepal.Width Petal.Length Petal.Width Species\n",
              "1 5.1          3.5         1.4          0.2         setosa \n",
              "2 4.9          3.0         1.4          0.2         setosa \n",
              "3 4.7          3.2         1.3          0.2         setosa \n",
              "4 4.6          3.1         1.5          0.2         setosa \n",
              "5 5.0          3.6         1.4          0.2         setosa \n",
              "6 5.4          3.9         1.7          0.4         setosa "
            ]
          },
          "metadata": {}
        }
      ]
    },
    {
      "cell_type": "code",
      "source": [
        "# データフレームの特定の列（変数）にアクセス\n",
        "# Sepal.Length列を表示\n",
        "iris$Sepal.Length"
      ],
      "metadata": {
        "colab": {
          "base_uri": "https://localhost:8080/",
          "height": 69
        },
        "id": "8pN7sX38gIau",
        "outputId": "be39d744-da7e-4a49-95d8-0b76d3ac8bb4"
      },
      "execution_count": null,
      "outputs": [
        {
          "output_type": "display_data",
          "data": {
            "text/html": [
              "<style>\n",
              ".list-inline {list-style: none; margin:0; padding: 0}\n",
              ".list-inline>li {display: inline-block}\n",
              ".list-inline>li:not(:last-child)::after {content: \"\\00b7\"; padding: 0 .5ex}\n",
              "</style>\n",
              "<ol class=list-inline><li>5.1</li><li>4.9</li><li>4.7</li><li>4.6</li><li>5</li><li>5.4</li><li>4.6</li><li>5</li><li>4.4</li><li>4.9</li><li>5.4</li><li>4.8</li><li>4.8</li><li>4.3</li><li>5.8</li><li>5.7</li><li>5.4</li><li>5.1</li><li>5.7</li><li>5.1</li><li>5.4</li><li>5.1</li><li>4.6</li><li>5.1</li><li>4.8</li><li>5</li><li>5</li><li>5.2</li><li>5.2</li><li>4.7</li><li>4.8</li><li>5.4</li><li>5.2</li><li>5.5</li><li>4.9</li><li>5</li><li>5.5</li><li>4.9</li><li>4.4</li><li>5.1</li><li>5</li><li>4.5</li><li>4.4</li><li>5</li><li>5.1</li><li>4.8</li><li>5.1</li><li>4.6</li><li>5.3</li><li>5</li><li>7</li><li>6.4</li><li>6.9</li><li>5.5</li><li>6.5</li><li>5.7</li><li>6.3</li><li>4.9</li><li>6.6</li><li>5.2</li><li>5</li><li>5.9</li><li>6</li><li>6.1</li><li>5.6</li><li>6.7</li><li>5.6</li><li>5.8</li><li>6.2</li><li>5.6</li><li>5.9</li><li>6.1</li><li>6.3</li><li>6.1</li><li>6.4</li><li>6.6</li><li>6.8</li><li>6.7</li><li>6</li><li>5.7</li><li>5.5</li><li>5.5</li><li>5.8</li><li>6</li><li>5.4</li><li>6</li><li>6.7</li><li>6.3</li><li>5.6</li><li>5.5</li><li>5.5</li><li>6.1</li><li>5.8</li><li>5</li><li>5.6</li><li>5.7</li><li>5.7</li><li>6.2</li><li>5.1</li><li>5.7</li><li>6.3</li><li>5.8</li><li>7.1</li><li>6.3</li><li>6.5</li><li>7.6</li><li>4.9</li><li>7.3</li><li>6.7</li><li>7.2</li><li>6.5</li><li>6.4</li><li>6.8</li><li>5.7</li><li>5.8</li><li>6.4</li><li>6.5</li><li>7.7</li><li>7.7</li><li>6</li><li>6.9</li><li>5.6</li><li>7.7</li><li>6.3</li><li>6.7</li><li>7.2</li><li>6.2</li><li>6.1</li><li>6.4</li><li>7.2</li><li>7.4</li><li>7.9</li><li>6.4</li><li>6.3</li><li>6.1</li><li>7.7</li><li>6.3</li><li>6.4</li><li>6</li><li>6.9</li><li>6.7</li><li>6.9</li><li>5.8</li><li>6.8</li><li>6.7</li><li>6.7</li><li>6.3</li><li>6.5</li><li>6.2</li><li>5.9</li></ol>\n"
            ],
            "text/markdown": "1. 5.1\n2. 4.9\n3. 4.7\n4. 4.6\n5. 5\n6. 5.4\n7. 4.6\n8. 5\n9. 4.4\n10. 4.9\n11. 5.4\n12. 4.8\n13. 4.8\n14. 4.3\n15. 5.8\n16. 5.7\n17. 5.4\n18. 5.1\n19. 5.7\n20. 5.1\n21. 5.4\n22. 5.1\n23. 4.6\n24. 5.1\n25. 4.8\n26. 5\n27. 5\n28. 5.2\n29. 5.2\n30. 4.7\n31. 4.8\n32. 5.4\n33. 5.2\n34. 5.5\n35. 4.9\n36. 5\n37. 5.5\n38. 4.9\n39. 4.4\n40. 5.1\n41. 5\n42. 4.5\n43. 4.4\n44. 5\n45. 5.1\n46. 4.8\n47. 5.1\n48. 4.6\n49. 5.3\n50. 5\n51. 7\n52. 6.4\n53. 6.9\n54. 5.5\n55. 6.5\n56. 5.7\n57. 6.3\n58. 4.9\n59. 6.6\n60. 5.2\n61. 5\n62. 5.9\n63. 6\n64. 6.1\n65. 5.6\n66. 6.7\n67. 5.6\n68. 5.8\n69. 6.2\n70. 5.6\n71. 5.9\n72. 6.1\n73. 6.3\n74. 6.1\n75. 6.4\n76. 6.6\n77. 6.8\n78. 6.7\n79. 6\n80. 5.7\n81. 5.5\n82. 5.5\n83. 5.8\n84. 6\n85. 5.4\n86. 6\n87. 6.7\n88. 6.3\n89. 5.6\n90. 5.5\n91. 5.5\n92. 6.1\n93. 5.8\n94. 5\n95. 5.6\n96. 5.7\n97. 5.7\n98. 6.2\n99. 5.1\n100. 5.7\n101. 6.3\n102. 5.8\n103. 7.1\n104. 6.3\n105. 6.5\n106. 7.6\n107. 4.9\n108. 7.3\n109. 6.7\n110. 7.2\n111. 6.5\n112. 6.4\n113. 6.8\n114. 5.7\n115. 5.8\n116. 6.4\n117. 6.5\n118. 7.7\n119. 7.7\n120. 6\n121. 6.9\n122. 5.6\n123. 7.7\n124. 6.3\n125. 6.7\n126. 7.2\n127. 6.2\n128. 6.1\n129. 6.4\n130. 7.2\n131. 7.4\n132. 7.9\n133. 6.4\n134. 6.3\n135. 6.1\n136. 7.7\n137. 6.3\n138. 6.4\n139. 6\n140. 6.9\n141. 6.7\n142. 6.9\n143. 5.8\n144. 6.8\n145. 6.7\n146. 6.7\n147. 6.3\n148. 6.5\n149. 6.2\n150. 5.9\n\n\n",
            "text/latex": "\\begin{enumerate*}\n\\item 5.1\n\\item 4.9\n\\item 4.7\n\\item 4.6\n\\item 5\n\\item 5.4\n\\item 4.6\n\\item 5\n\\item 4.4\n\\item 4.9\n\\item 5.4\n\\item 4.8\n\\item 4.8\n\\item 4.3\n\\item 5.8\n\\item 5.7\n\\item 5.4\n\\item 5.1\n\\item 5.7\n\\item 5.1\n\\item 5.4\n\\item 5.1\n\\item 4.6\n\\item 5.1\n\\item 4.8\n\\item 5\n\\item 5\n\\item 5.2\n\\item 5.2\n\\item 4.7\n\\item 4.8\n\\item 5.4\n\\item 5.2\n\\item 5.5\n\\item 4.9\n\\item 5\n\\item 5.5\n\\item 4.9\n\\item 4.4\n\\item 5.1\n\\item 5\n\\item 4.5\n\\item 4.4\n\\item 5\n\\item 5.1\n\\item 4.8\n\\item 5.1\n\\item 4.6\n\\item 5.3\n\\item 5\n\\item 7\n\\item 6.4\n\\item 6.9\n\\item 5.5\n\\item 6.5\n\\item 5.7\n\\item 6.3\n\\item 4.9\n\\item 6.6\n\\item 5.2\n\\item 5\n\\item 5.9\n\\item 6\n\\item 6.1\n\\item 5.6\n\\item 6.7\n\\item 5.6\n\\item 5.8\n\\item 6.2\n\\item 5.6\n\\item 5.9\n\\item 6.1\n\\item 6.3\n\\item 6.1\n\\item 6.4\n\\item 6.6\n\\item 6.8\n\\item 6.7\n\\item 6\n\\item 5.7\n\\item 5.5\n\\item 5.5\n\\item 5.8\n\\item 6\n\\item 5.4\n\\item 6\n\\item 6.7\n\\item 6.3\n\\item 5.6\n\\item 5.5\n\\item 5.5\n\\item 6.1\n\\item 5.8\n\\item 5\n\\item 5.6\n\\item 5.7\n\\item 5.7\n\\item 6.2\n\\item 5.1\n\\item 5.7\n\\item 6.3\n\\item 5.8\n\\item 7.1\n\\item 6.3\n\\item 6.5\n\\item 7.6\n\\item 4.9\n\\item 7.3\n\\item 6.7\n\\item 7.2\n\\item 6.5\n\\item 6.4\n\\item 6.8\n\\item 5.7\n\\item 5.8\n\\item 6.4\n\\item 6.5\n\\item 7.7\n\\item 7.7\n\\item 6\n\\item 6.9\n\\item 5.6\n\\item 7.7\n\\item 6.3\n\\item 6.7\n\\item 7.2\n\\item 6.2\n\\item 6.1\n\\item 6.4\n\\item 7.2\n\\item 7.4\n\\item 7.9\n\\item 6.4\n\\item 6.3\n\\item 6.1\n\\item 7.7\n\\item 6.3\n\\item 6.4\n\\item 6\n\\item 6.9\n\\item 6.7\n\\item 6.9\n\\item 5.8\n\\item 6.8\n\\item 6.7\n\\item 6.7\n\\item 6.3\n\\item 6.5\n\\item 6.2\n\\item 5.9\n\\end{enumerate*}\n",
            "text/plain": [
              "  [1] 5.1 4.9 4.7 4.6 5.0 5.4 4.6 5.0 4.4 4.9 5.4 4.8 4.8 4.3 5.8 5.7 5.4 5.1\n",
              " [19] 5.7 5.1 5.4 5.1 4.6 5.1 4.8 5.0 5.0 5.2 5.2 4.7 4.8 5.4 5.2 5.5 4.9 5.0\n",
              " [37] 5.5 4.9 4.4 5.1 5.0 4.5 4.4 5.0 5.1 4.8 5.1 4.6 5.3 5.0 7.0 6.4 6.9 5.5\n",
              " [55] 6.5 5.7 6.3 4.9 6.6 5.2 5.0 5.9 6.0 6.1 5.6 6.7 5.6 5.8 6.2 5.6 5.9 6.1\n",
              " [73] 6.3 6.1 6.4 6.6 6.8 6.7 6.0 5.7 5.5 5.5 5.8 6.0 5.4 6.0 6.7 6.3 5.6 5.5\n",
              " [91] 5.5 6.1 5.8 5.0 5.6 5.7 5.7 6.2 5.1 5.7 6.3 5.8 7.1 6.3 6.5 7.6 4.9 7.3\n",
              "[109] 6.7 7.2 6.5 6.4 6.8 5.7 5.8 6.4 6.5 7.7 7.7 6.0 6.9 5.6 7.7 6.3 6.7 7.2\n",
              "[127] 6.2 6.1 6.4 7.2 7.4 7.9 6.4 6.3 6.1 7.7 6.3 6.4 6.0 6.9 6.7 6.9 5.8 6.8\n",
              "[145] 6.7 6.7 6.3 6.5 6.2 5.9"
            ]
          },
          "metadata": {}
        }
      ]
    },
    {
      "cell_type": "code",
      "source": [
        "# データフレームの特定の行にアクセス\n",
        "# 1行目を表示\n",
        "iris[1, ]"
      ],
      "metadata": {
        "colab": {
          "base_uri": "https://localhost:8080/",
          "height": 129
        },
        "id": "ps0aQyA1gTjd",
        "outputId": "91dfdbd0-e514-43f5-c2a6-587a8f6e9c93"
      },
      "execution_count": null,
      "outputs": [
        {
          "output_type": "display_data",
          "data": {
            "text/html": [
              "<table class=\"dataframe\">\n",
              "<caption>A data.frame: 1 × 5</caption>\n",
              "<thead>\n",
              "\t<tr><th></th><th scope=col>Sepal.Length</th><th scope=col>Sepal.Width</th><th scope=col>Petal.Length</th><th scope=col>Petal.Width</th><th scope=col>Species</th></tr>\n",
              "\t<tr><th></th><th scope=col>&lt;dbl&gt;</th><th scope=col>&lt;dbl&gt;</th><th scope=col>&lt;dbl&gt;</th><th scope=col>&lt;dbl&gt;</th><th scope=col>&lt;fct&gt;</th></tr>\n",
              "</thead>\n",
              "<tbody>\n",
              "\t<tr><th scope=row>1</th><td>5.1</td><td>3.5</td><td>1.4</td><td>0.2</td><td>setosa</td></tr>\n",
              "</tbody>\n",
              "</table>\n"
            ],
            "text/markdown": "\nA data.frame: 1 × 5\n\n| <!--/--> | Sepal.Length &lt;dbl&gt; | Sepal.Width &lt;dbl&gt; | Petal.Length &lt;dbl&gt; | Petal.Width &lt;dbl&gt; | Species &lt;fct&gt; |\n|---|---|---|---|---|---|\n| 1 | 5.1 | 3.5 | 1.4 | 0.2 | setosa |\n\n",
            "text/latex": "A data.frame: 1 × 5\n\\begin{tabular}{r|lllll}\n  & Sepal.Length & Sepal.Width & Petal.Length & Petal.Width & Species\\\\\n  & <dbl> & <dbl> & <dbl> & <dbl> & <fct>\\\\\n\\hline\n\t1 & 5.1 & 3.5 & 1.4 & 0.2 & setosa\\\\\n\\end{tabular}\n",
            "text/plain": [
              "  Sepal.Length Sepal.Width Petal.Length Petal.Width Species\n",
              "1 5.1          3.5         1.4          0.2         setosa "
            ]
          },
          "metadata": {}
        }
      ]
    },
    {
      "cell_type": "code",
      "source": [
        "# データフレームの特定の範囲の行にアクセス\n",
        "# 1から5行目を表示\n",
        "iris[1:5, ]"
      ],
      "metadata": {
        "colab": {
          "base_uri": "https://localhost:8080/",
          "height": 255
        },
        "id": "f-8cyuvLgWjo",
        "outputId": "bb88241d-d64e-4cd3-9ff0-356b56de57b3"
      },
      "execution_count": null,
      "outputs": [
        {
          "output_type": "display_data",
          "data": {
            "text/html": [
              "<table class=\"dataframe\">\n",
              "<caption>A data.frame: 5 × 5</caption>\n",
              "<thead>\n",
              "\t<tr><th></th><th scope=col>Sepal.Length</th><th scope=col>Sepal.Width</th><th scope=col>Petal.Length</th><th scope=col>Petal.Width</th><th scope=col>Species</th></tr>\n",
              "\t<tr><th></th><th scope=col>&lt;dbl&gt;</th><th scope=col>&lt;dbl&gt;</th><th scope=col>&lt;dbl&gt;</th><th scope=col>&lt;dbl&gt;</th><th scope=col>&lt;fct&gt;</th></tr>\n",
              "</thead>\n",
              "<tbody>\n",
              "\t<tr><th scope=row>1</th><td>5.1</td><td>3.5</td><td>1.4</td><td>0.2</td><td>setosa</td></tr>\n",
              "\t<tr><th scope=row>2</th><td>4.9</td><td>3.0</td><td>1.4</td><td>0.2</td><td>setosa</td></tr>\n",
              "\t<tr><th scope=row>3</th><td>4.7</td><td>3.2</td><td>1.3</td><td>0.2</td><td>setosa</td></tr>\n",
              "\t<tr><th scope=row>4</th><td>4.6</td><td>3.1</td><td>1.5</td><td>0.2</td><td>setosa</td></tr>\n",
              "\t<tr><th scope=row>5</th><td>5.0</td><td>3.6</td><td>1.4</td><td>0.2</td><td>setosa</td></tr>\n",
              "</tbody>\n",
              "</table>\n"
            ],
            "text/markdown": "\nA data.frame: 5 × 5\n\n| <!--/--> | Sepal.Length &lt;dbl&gt; | Sepal.Width &lt;dbl&gt; | Petal.Length &lt;dbl&gt; | Petal.Width &lt;dbl&gt; | Species &lt;fct&gt; |\n|---|---|---|---|---|---|\n| 1 | 5.1 | 3.5 | 1.4 | 0.2 | setosa |\n| 2 | 4.9 | 3.0 | 1.4 | 0.2 | setosa |\n| 3 | 4.7 | 3.2 | 1.3 | 0.2 | setosa |\n| 4 | 4.6 | 3.1 | 1.5 | 0.2 | setosa |\n| 5 | 5.0 | 3.6 | 1.4 | 0.2 | setosa |\n\n",
            "text/latex": "A data.frame: 5 × 5\n\\begin{tabular}{r|lllll}\n  & Sepal.Length & Sepal.Width & Petal.Length & Petal.Width & Species\\\\\n  & <dbl> & <dbl> & <dbl> & <dbl> & <fct>\\\\\n\\hline\n\t1 & 5.1 & 3.5 & 1.4 & 0.2 & setosa\\\\\n\t2 & 4.9 & 3.0 & 1.4 & 0.2 & setosa\\\\\n\t3 & 4.7 & 3.2 & 1.3 & 0.2 & setosa\\\\\n\t4 & 4.6 & 3.1 & 1.5 & 0.2 & setosa\\\\\n\t5 & 5.0 & 3.6 & 1.4 & 0.2 & setosa\\\\\n\\end{tabular}\n",
            "text/plain": [
              "  Sepal.Length Sepal.Width Petal.Length Petal.Width Species\n",
              "1 5.1          3.5         1.4          0.2         setosa \n",
              "2 4.9          3.0         1.4          0.2         setosa \n",
              "3 4.7          3.2         1.3          0.2         setosa \n",
              "4 4.6          3.1         1.5          0.2         setosa \n",
              "5 5.0          3.6         1.4          0.2         setosa "
            ]
          },
          "metadata": {}
        }
      ]
    },
    {
      "cell_type": "code",
      "source": [
        "# データフレームの特定の列と行にアクセス\n",
        "# 1行目のSpecies列の値を表示\n",
        "iris[1, \"Species\"]"
      ],
      "metadata": {
        "colab": {
          "base_uri": "https://localhost:8080/",
          "height": 69
        },
        "id": "KGJYLoSwgZrp",
        "outputId": "a36076d5-1d01-448c-fcbe-89f30443b0b1"
      },
      "execution_count": null,
      "outputs": [
        {
          "output_type": "display_data",
          "data": {
            "text/html": [
              "setosa\n",
              "<details>\n",
              "\t<summary style=display:list-item;cursor:pointer>\n",
              "\t\t<strong>Levels</strong>:\n",
              "\t</summary>\n",
              "\t<style>\n",
              "\t.list-inline {list-style: none; margin:0; padding: 0}\n",
              "\t.list-inline>li {display: inline-block}\n",
              "\t.list-inline>li:not(:last-child)::after {content: \"\\00b7\"; padding: 0 .5ex}\n",
              "\t</style>\n",
              "\t<ol class=list-inline><li>'setosa'</li><li>'versicolor'</li><li>'virginica'</li></ol>\n",
              "</details>"
            ],
            "text/markdown": "setosa\n**Levels**: 1. 'setosa'\n2. 'versicolor'\n3. 'virginica'\n\n\n",
            "text/latex": "setosa\n\\emph{Levels}: \\begin{enumerate*}\n\\item 'setosa'\n\\item 'versicolor'\n\\item 'virginica'\n\\end{enumerate*}\n",
            "text/plain": [
              "[1] setosa\n",
              "Levels: setosa versicolor virginica"
            ]
          },
          "metadata": {}
        }
      ]
    },
    {
      "cell_type": "code",
      "source": [
        "# irisデータセットの概要を表示\n",
        "summary(iris)"
      ],
      "metadata": {
        "colab": {
          "base_uri": "https://localhost:8080/",
          "height": 267
        },
        "id": "PNA7eT1Ygb_S",
        "outputId": "5fc0e87f-dbd4-439e-f1fe-bc84dbee3f70"
      },
      "execution_count": null,
      "outputs": [
        {
          "output_type": "display_data",
          "data": {
            "text/plain": [
              "  Sepal.Length    Sepal.Width     Petal.Length    Petal.Width   \n",
              " Min.   :4.300   Min.   :2.000   Min.   :1.000   Min.   :0.100  \n",
              " 1st Qu.:5.100   1st Qu.:2.800   1st Qu.:1.600   1st Qu.:0.300  \n",
              " Median :5.800   Median :3.000   Median :4.350   Median :1.300  \n",
              " Mean   :5.843   Mean   :3.057   Mean   :3.758   Mean   :1.199  \n",
              " 3rd Qu.:6.400   3rd Qu.:3.300   3rd Qu.:5.100   3rd Qu.:1.800  \n",
              " Max.   :7.900   Max.   :4.400   Max.   :6.900   Max.   :2.500  \n",
              "       Species  \n",
              " setosa    :50  \n",
              " versicolor:50  \n",
              " virginica :50  \n",
              "                \n",
              "                \n",
              "                "
            ]
          },
          "metadata": {}
        }
      ]
    },
    {
      "cell_type": "code",
      "source": [
        "# データフレームに新しい列を追加\n",
        "iris$NewColumn <- 1:150\n",
        "\n",
        "# 新しい列を含むデータフレームを表示\n",
        "head(iris)"
      ],
      "metadata": {
        "colab": {
          "base_uri": "https://localhost:8080/",
          "height": 286
        },
        "id": "oB-iwHFzghIv",
        "outputId": "8b914b13-d182-41bd-f732-ffabdbd1d841"
      },
      "execution_count": null,
      "outputs": [
        {
          "output_type": "display_data",
          "data": {
            "text/html": [
              "<table class=\"dataframe\">\n",
              "<caption>A data.frame: 6 × 6</caption>\n",
              "<thead>\n",
              "\t<tr><th></th><th scope=col>Sepal.Length</th><th scope=col>Sepal.Width</th><th scope=col>Petal.Length</th><th scope=col>Petal.Width</th><th scope=col>Species</th><th scope=col>NewColumn</th></tr>\n",
              "\t<tr><th></th><th scope=col>&lt;dbl&gt;</th><th scope=col>&lt;dbl&gt;</th><th scope=col>&lt;dbl&gt;</th><th scope=col>&lt;dbl&gt;</th><th scope=col>&lt;fct&gt;</th><th scope=col>&lt;int&gt;</th></tr>\n",
              "</thead>\n",
              "<tbody>\n",
              "\t<tr><th scope=row>1</th><td>5.1</td><td>3.5</td><td>1.4</td><td>0.2</td><td>setosa</td><td>1</td></tr>\n",
              "\t<tr><th scope=row>2</th><td>4.9</td><td>3.0</td><td>1.4</td><td>0.2</td><td>setosa</td><td>2</td></tr>\n",
              "\t<tr><th scope=row>3</th><td>4.7</td><td>3.2</td><td>1.3</td><td>0.2</td><td>setosa</td><td>3</td></tr>\n",
              "\t<tr><th scope=row>4</th><td>4.6</td><td>3.1</td><td>1.5</td><td>0.2</td><td>setosa</td><td>4</td></tr>\n",
              "\t<tr><th scope=row>5</th><td>5.0</td><td>3.6</td><td>1.4</td><td>0.2</td><td>setosa</td><td>5</td></tr>\n",
              "\t<tr><th scope=row>6</th><td>5.4</td><td>3.9</td><td>1.7</td><td>0.4</td><td>setosa</td><td>6</td></tr>\n",
              "</tbody>\n",
              "</table>\n"
            ],
            "text/markdown": "\nA data.frame: 6 × 6\n\n| <!--/--> | Sepal.Length &lt;dbl&gt; | Sepal.Width &lt;dbl&gt; | Petal.Length &lt;dbl&gt; | Petal.Width &lt;dbl&gt; | Species &lt;fct&gt; | NewColumn &lt;int&gt; |\n|---|---|---|---|---|---|---|\n| 1 | 5.1 | 3.5 | 1.4 | 0.2 | setosa | 1 |\n| 2 | 4.9 | 3.0 | 1.4 | 0.2 | setosa | 2 |\n| 3 | 4.7 | 3.2 | 1.3 | 0.2 | setosa | 3 |\n| 4 | 4.6 | 3.1 | 1.5 | 0.2 | setosa | 4 |\n| 5 | 5.0 | 3.6 | 1.4 | 0.2 | setosa | 5 |\n| 6 | 5.4 | 3.9 | 1.7 | 0.4 | setosa | 6 |\n\n",
            "text/latex": "A data.frame: 6 × 6\n\\begin{tabular}{r|llllll}\n  & Sepal.Length & Sepal.Width & Petal.Length & Petal.Width & Species & NewColumn\\\\\n  & <dbl> & <dbl> & <dbl> & <dbl> & <fct> & <int>\\\\\n\\hline\n\t1 & 5.1 & 3.5 & 1.4 & 0.2 & setosa & 1\\\\\n\t2 & 4.9 & 3.0 & 1.4 & 0.2 & setosa & 2\\\\\n\t3 & 4.7 & 3.2 & 1.3 & 0.2 & setosa & 3\\\\\n\t4 & 4.6 & 3.1 & 1.5 & 0.2 & setosa & 4\\\\\n\t5 & 5.0 & 3.6 & 1.4 & 0.2 & setosa & 5\\\\\n\t6 & 5.4 & 3.9 & 1.7 & 0.4 & setosa & 6\\\\\n\\end{tabular}\n",
            "text/plain": [
              "  Sepal.Length Sepal.Width Petal.Length Petal.Width Species NewColumn\n",
              "1 5.1          3.5         1.4          0.2         setosa  1        \n",
              "2 4.9          3.0         1.4          0.2         setosa  2        \n",
              "3 4.7          3.2         1.3          0.2         setosa  3        \n",
              "4 4.6          3.1         1.5          0.2         setosa  4        \n",
              "5 5.0          3.6         1.4          0.2         setosa  5        \n",
              "6 5.4          3.9         1.7          0.4         setosa  6        "
            ]
          },
          "metadata": {}
        }
      ]
    },
    {
      "cell_type": "markdown",
      "metadata": {
        "id": "iBXdHDVA5QXj"
      },
      "source": [
        "### **2.4 データ要素の参照**"
      ]
    },
    {
      "cell_type": "markdown",
      "metadata": {
        "id": "KCEHKWJz5VTy"
      },
      "source": [
        "#### **2.4.1 ベクトルの要素**"
      ]
    },
    {
      "cell_type": "code",
      "metadata": {
        "id": "vbzmV-xG5mbE",
        "colab": {
          "base_uri": "https://localhost:8080/",
          "height": 104
        },
        "outputId": "9c2a69a9-6340-4561-b100-1027a7667780"
      },
      "source": [
        "x <- c(1, 2, 3, 4, 5)\n",
        "\n",
        "#xの中身を見る\n",
        "x\n",
        "\n",
        "# 2～4番目の要素を取り出す\n",
        "x[2:4]\n",
        "\n",
        "# 1 番目と 3 番目以外の要素を取り出す\n",
        "x[c(-1,-3)]\n",
        "\n",
        "# 3 より大きい要素のみを取り出す\n",
        "x[3 < x]\n",
        "\n",
        "#1より大きく，4未満の要素を取り出す\n",
        "x[1 < x & x < 4]               # 2 つの条件は & や | で繋ぐ"
      ],
      "execution_count": null,
      "outputs": [
        {
          "output_type": "display_data",
          "data": {
            "text/html": [
              "<style>\n",
              ".list-inline {list-style: none; margin:0; padding: 0}\n",
              ".list-inline>li {display: inline-block}\n",
              ".list-inline>li:not(:last-child)::after {content: \"\\00b7\"; padding: 0 .5ex}\n",
              "</style>\n",
              "<ol class=list-inline><li>1</li><li>2</li><li>3</li><li>4</li><li>5</li></ol>\n"
            ],
            "text/markdown": "1. 1\n2. 2\n3. 3\n4. 4\n5. 5\n\n\n",
            "text/latex": "\\begin{enumerate*}\n\\item 1\n\\item 2\n\\item 3\n\\item 4\n\\item 5\n\\end{enumerate*}\n",
            "text/plain": [
              "[1] 1 2 3 4 5"
            ]
          },
          "metadata": {}
        },
        {
          "output_type": "display_data",
          "data": {
            "text/html": [
              "<style>\n",
              ".list-inline {list-style: none; margin:0; padding: 0}\n",
              ".list-inline>li {display: inline-block}\n",
              ".list-inline>li:not(:last-child)::after {content: \"\\00b7\"; padding: 0 .5ex}\n",
              "</style>\n",
              "<ol class=list-inline><li>2</li><li>3</li><li>4</li></ol>\n"
            ],
            "text/markdown": "1. 2\n2. 3\n3. 4\n\n\n",
            "text/latex": "\\begin{enumerate*}\n\\item 2\n\\item 3\n\\item 4\n\\end{enumerate*}\n",
            "text/plain": [
              "[1] 2 3 4"
            ]
          },
          "metadata": {}
        },
        {
          "output_type": "display_data",
          "data": {
            "text/html": [
              "<style>\n",
              ".list-inline {list-style: none; margin:0; padding: 0}\n",
              ".list-inline>li {display: inline-block}\n",
              ".list-inline>li:not(:last-child)::after {content: \"\\00b7\"; padding: 0 .5ex}\n",
              "</style>\n",
              "<ol class=list-inline><li>2</li><li>4</li><li>5</li></ol>\n"
            ],
            "text/markdown": "1. 2\n2. 4\n3. 5\n\n\n",
            "text/latex": "\\begin{enumerate*}\n\\item 2\n\\item 4\n\\item 5\n\\end{enumerate*}\n",
            "text/plain": [
              "[1] 2 4 5"
            ]
          },
          "metadata": {}
        },
        {
          "output_type": "display_data",
          "data": {
            "text/html": [
              "<style>\n",
              ".list-inline {list-style: none; margin:0; padding: 0}\n",
              ".list-inline>li {display: inline-block}\n",
              ".list-inline>li:not(:last-child)::after {content: \"\\00b7\"; padding: 0 .5ex}\n",
              "</style>\n",
              "<ol class=list-inline><li>4</li><li>5</li></ol>\n"
            ],
            "text/markdown": "1. 4\n2. 5\n\n\n",
            "text/latex": "\\begin{enumerate*}\n\\item 4\n\\item 5\n\\end{enumerate*}\n",
            "text/plain": [
              "[1] 4 5"
            ]
          },
          "metadata": {}
        },
        {
          "output_type": "display_data",
          "data": {
            "text/html": [
              "<style>\n",
              ".list-inline {list-style: none; margin:0; padding: 0}\n",
              ".list-inline>li {display: inline-block}\n",
              ".list-inline>li:not(:last-child)::after {content: \"\\00b7\"; padding: 0 .5ex}\n",
              "</style>\n",
              "<ol class=list-inline><li>2</li><li>3</li></ol>\n"
            ],
            "text/markdown": "1. 2\n2. 3\n\n\n",
            "text/latex": "\\begin{enumerate*}\n\\item 2\n\\item 3\n\\end{enumerate*}\n",
            "text/plain": [
              "[1] 2 3"
            ]
          },
          "metadata": {}
        }
      ]
    },
    {
      "cell_type": "markdown",
      "metadata": {
        "id": "TpGfQFC3-yxY"
      },
      "source": [
        "#### **2.4.2 行列やデータフレームの要素**"
      ]
    },
    {
      "cell_type": "code",
      "metadata": {
        "id": "xW4SfXjq--L6",
        "colab": {
          "base_uri": "https://localhost:8080/",
          "height": 105
        },
        "outputId": "9552174e-7b0d-4c98-e1fd-67909d122ab6"
      },
      "source": [
        "#行列を作成する\n",
        " x <- matrix(1:6, nrow=2, ncol=3)\n",
        " print(x)\n",
        "\n",
        " sprintf(\"行数: %d\", nrow(x))\n",
        " sprintf(\"列数: %d\", ncol(x))"
      ],
      "execution_count": null,
      "outputs": [
        {
          "output_type": "stream",
          "name": "stdout",
          "text": [
            "     [,1] [,2] [,3]\n",
            "[1,]    1    3    5\n",
            "[2,]    2    4    6\n"
          ]
        },
        {
          "output_type": "display_data",
          "data": {
            "text/html": [
              "'行数: 2'"
            ],
            "text/markdown": "'行数: 2'",
            "text/latex": "'行数: 2'",
            "text/plain": [
              "[1] \"行数: 2\""
            ]
          },
          "metadata": {}
        },
        {
          "output_type": "display_data",
          "data": {
            "text/html": [
              "'列数: 3'"
            ],
            "text/markdown": "'列数: 3'",
            "text/latex": "'列数: 3'",
            "text/plain": [
              "[1] \"列数: 3\""
            ]
          },
          "metadata": {}
        }
      ]
    },
    {
      "cell_type": "code",
      "metadata": {
        "id": "GKLXr1hH_Hiy",
        "colab": {
          "base_uri": "https://localhost:8080/",
          "height": 86
        },
        "outputId": "74c1cae9-e4c2-4cc9-e2d0-f6048f399f08"
      },
      "source": [
        "#1行2列目の要素を取り出す\n",
        "x[1,2]\n",
        "\n",
        "#2列目の要素を取り出す\n",
        "x[,2]\n",
        "\n",
        "# 3 より大きい要素のみを取り出す\n",
        "x[x>3]\n",
        "\n",
        "#1行目と2列めの両方を省いた要素を取り出す\n",
        "x[-1,-2]"
      ],
      "execution_count": null,
      "outputs": [
        {
          "output_type": "display_data",
          "data": {
            "text/html": [
              "3"
            ],
            "text/markdown": "3",
            "text/latex": "3",
            "text/plain": [
              "[1] 3"
            ]
          },
          "metadata": {}
        },
        {
          "output_type": "display_data",
          "data": {
            "text/html": [
              "<style>\n",
              ".list-inline {list-style: none; margin:0; padding: 0}\n",
              ".list-inline>li {display: inline-block}\n",
              ".list-inline>li:not(:last-child)::after {content: \"\\00b7\"; padding: 0 .5ex}\n",
              "</style>\n",
              "<ol class=list-inline><li>3</li><li>4</li></ol>\n"
            ],
            "text/markdown": "1. 3\n2. 4\n\n\n",
            "text/latex": "\\begin{enumerate*}\n\\item 3\n\\item 4\n\\end{enumerate*}\n",
            "text/plain": [
              "[1] 3 4"
            ]
          },
          "metadata": {}
        },
        {
          "output_type": "display_data",
          "data": {
            "text/html": [
              "<style>\n",
              ".list-inline {list-style: none; margin:0; padding: 0}\n",
              ".list-inline>li {display: inline-block}\n",
              ".list-inline>li:not(:last-child)::after {content: \"\\00b7\"; padding: 0 .5ex}\n",
              "</style>\n",
              "<ol class=list-inline><li>4</li><li>5</li><li>6</li></ol>\n"
            ],
            "text/markdown": "1. 4\n2. 5\n3. 6\n\n\n",
            "text/latex": "\\begin{enumerate*}\n\\item 4\n\\item 5\n\\item 6\n\\end{enumerate*}\n",
            "text/plain": [
              "[1] 4 5 6"
            ]
          },
          "metadata": {}
        },
        {
          "output_type": "display_data",
          "data": {
            "text/html": [
              "<style>\n",
              ".list-inline {list-style: none; margin:0; padding: 0}\n",
              ".list-inline>li {display: inline-block}\n",
              ".list-inline>li:not(:last-child)::after {content: \"\\00b7\"; padding: 0 .5ex}\n",
              "</style>\n",
              "<ol class=list-inline><li>2</li><li>6</li></ol>\n"
            ],
            "text/markdown": "1. 2\n2. 6\n\n\n",
            "text/latex": "\\begin{enumerate*}\n\\item 2\n\\item 6\n\\end{enumerate*}\n",
            "text/plain": [
              "[1] 2 6"
            ]
          },
          "metadata": {}
        }
      ]
    },
    {
      "cell_type": "markdown",
      "metadata": {
        "id": "UxUxojxkwnA1"
      },
      "source": [
        "### **2.5 制御構文**"
      ]
    },
    {
      "cell_type": "markdown",
      "source": [
        "制御構文とは，普通は上から下へと順に実行されていくプログラムの流れを分岐させたり，繰り返し反復して実行させたりするための仕組みです．\n",
        "\n",
        "制御構文を使うことで下のようなことができるようになります，\n",
        "*   複雑な処理をすることができる\n",
        "*   同じ処理を何度も繰り返し行うことができる\n",
        "\n",
        "ここで使われるのが**if文，for文，while文**などです．\n",
        "\n",
        "\n"
      ],
      "metadata": {
        "id": "Q-qD-_ko-4QJ"
      }
    },
    {
      "cell_type": "markdown",
      "source": [
        "#### **2.5.1 if文**"
      ],
      "metadata": {
        "id": "wRRKiO4iFYHn"
      }
    },
    {
      "cell_type": "markdown",
      "metadata": {
        "id": "DVn7_QhTwhjF"
      },
      "source": [
        "まずはif文を書いてみましょう．ifの横にある条件式を満たしている場合(命題がTrue)のときには，該当の文(はじめにある:からelse:の手前まで)を実行し，そうでない場合（Falseのとき）はelse:以下を実行します．\n",
        "\n",
        "Pythonでは{ }を使わず，コマンドをインデント(字下げ)して記述します．通常は**半角スペース4つ**分をおきます\n",
        "\n",
        "**Pyhon**\n",
        "```\n",
        "if 条件式:\n",
        "    条件式が満足されるときに実行される命令\n",
        "else:\n",
        "    条件式が満足されないときに実行される命令\n",
        "\n",
        "```\n",
        "\n",
        "一方，C言語やR言語では下のように{ }で命令を囲みます，インデントは必要ではありませんが，入れておくとコードを見やすくなるので{ }の中のコマンドにはインデントを入れましょう\n",
        "\n",
        "**R言語やC言語**\n",
        "```\n",
        "if (条件式) {\n",
        "    条件式が満足されるときに実行される命令\n",
        "} else {\n",
        "    条件式が満足されないときに実行される命令\n",
        "}\n",
        "```\n"
      ]
    },
    {
      "cell_type": "markdown",
      "source": [
        "註：インデントとは行の先頭にTabキーやスペースキーで空白を挿入して「字下げ」を行い，条件式が満たされたときの処理や，繰り返し処理の階層の深さを視覚的に表現するものです．インデントにも派閥があり，「**半角スペース2つ派**」，「**半角スペース4つ派**」，**「Tabキー**派」がいますが，この教材では「**スペース4つ派**」で書いています．"
      ],
      "metadata": {
        "id": "Vn72hyqTFwj2"
      }
    },
    {
      "cell_type": "code",
      "metadata": {
        "id": "V2VlIlafwtS0",
        "colab": {
          "base_uri": "https://localhost:8080/"
        },
        "outputId": "43e02b8f-0689-4136-de54-fce991e531ff"
      },
      "source": [
        "# Rのif文\n",
        "a <- 5\n",
        "b <- 5\n",
        "\n",
        "if(a > b){\n",
        "    print(\"aはbより大きいです\" )\n",
        "} else {\n",
        "    print(\"aはb以下です\" )\n",
        "}"
      ],
      "execution_count": null,
      "outputs": [
        {
          "output_type": "stream",
          "name": "stdout",
          "text": [
            "[1] \"aはb以下です\"\n"
          ]
        }
      ]
    },
    {
      "cell_type": "markdown",
      "source": [
        "もう少し複雑な条件分岐を書いてみます．\n",
        "\n",
        "```else if (number == 0) ```\n",
        "にあるように，「もし等しい場合は」という条件式を書くときは，「==」のように等号を2つ並べることに注意してください．"
      ],
      "metadata": {
        "id": "238II6KbexOr"
      }
    },
    {
      "cell_type": "code",
      "source": [
        "# 数値を定義\n",
        "number <- 12\n",
        "\n",
        "# 最初のレベル: 数が0より大きいかどうかを評価\n",
        "if (number > 0) {\n",
        "    # 数が0より大きい場合、10より大きいかどうかを評価\n",
        "    # このブロックは最初のif文がTRUEだったときに実行される部分なので\n",
        "    #1段インデントを下げておく\n",
        "    if (number > 10) {\n",
        "        print(\"数は正で、10より大きいです。\")\n",
        "    } else {\n",
        "        print(\"数は正ですが、10以下です。\")\n",
        "    }\n",
        "} else if (number == 0) {\n",
        "    # 数が0の場合\n",
        "    print(\"数はゼロです。\")\n",
        "} else {\n",
        "    # 数が0より小さい場合\n",
        "    print(\"数は負です。\")\n",
        "}"
      ],
      "metadata": {
        "colab": {
          "base_uri": "https://localhost:8080/"
        },
        "id": "JLZsGVpvHaU2",
        "outputId": "a927db2d-2996-4090-8f47-e3b556c953aa"
      },
      "execution_count": null,
      "outputs": [
        {
          "output_type": "stream",
          "name": "stdout",
          "text": [
            "[1] \"数は正で、10より大きいです。\"\n"
          ]
        }
      ]
    },
    {
      "cell_type": "code",
      "metadata": {
        "id": "Gm84fZAMxU7A",
        "colab": {
          "base_uri": "https://localhost:8080/",
          "height": 34
        },
        "outputId": "4a97cac1-00a7-4d2a-a791-71913a8345b4"
      },
      "source": [
        "# 真理値を返す関数もあります．この関数は（）の中身がベクトルかどうかをTRUE/FALSEで返す関数です\n",
        "is.vector(c(1,2,3))"
      ],
      "execution_count": null,
      "outputs": [
        {
          "output_type": "display_data",
          "data": {
            "text/html": [
              "TRUE"
            ],
            "text/markdown": "TRUE",
            "text/latex": "TRUE",
            "text/plain": [
              "[1] TRUE"
            ]
          },
          "metadata": {}
        }
      ]
    },
    {
      "cell_type": "markdown",
      "source": [
        "#### **2.5.2 for文**"
      ],
      "metadata": {
        "id": "nYKdJJLQFc1R"
      }
    },
    {
      "cell_type": "markdown",
      "metadata": {
        "id": "Yz7kBaxfzftm"
      },
      "source": [
        "繰り返し処理のfor文です。for文でも中身はC言語のように{ }でくくりますが，{ }内はインデントをしたほうが読みやすいです．"
      ]
    },
    {
      "cell_type": "code",
      "metadata": {
        "id": "LYa0VnvU08Cm",
        "colab": {
          "base_uri": "https://localhost:8080/",
          "height": 187
        },
        "outputId": "8fc9a537-f016-4f1a-e15f-3e2b6e20b6ef"
      },
      "source": [
        "# for 文の一般的な書き方\n",
        "for(i in 1:10){\n",
        "  print(i)\n",
        "}"
      ],
      "execution_count": null,
      "outputs": [
        {
          "output_type": "stream",
          "text": [
            "[1] 1\n",
            "[1] 2\n",
            "[1] 3\n",
            "[1] 4\n",
            "[1] 5\n",
            "[1] 6\n",
            "[1] 7\n",
            "[1] 8\n",
            "[1] 9\n",
            "[1] 10\n"
          ],
          "name": "stdout"
        }
      ]
    },
    {
      "cell_type": "markdown",
      "metadata": {
        "id": "yPSOTcDR25MU"
      },
      "source": [
        "for文は繰り返しを処理するとともに\n",
        "以下は、c(1,2,3)のベクトルデータに対して，初めから順番に（1から）データを取り出し，データがなくなる（3まで）まで繰り返し処理（取り出した数字の表示と足し算）を実行しています．初めは0+1=1、次に1+2=3、最後に3+3=6となり，最終的な合計値を表示しています．\n"
      ]
    },
    {
      "cell_type": "code",
      "source": [
        "# 1から10までの整数が含まれる配列を作成\n",
        "my_data <- c(1, 2, 3, 4, 5, 6, 7, 20, 9, 10)\n",
        "print(my_data)\n",
        "\n",
        "# 配列の要素をforループを使って参照\n",
        "# length(my_data)はベクトルmy_dataの長さ（length）を返します．\n",
        "# for (i in 1:10){と同じ意味になります．コロンは１「から」１０の「から」に相当します\n",
        "for (i in 1:length(my_data)) {\n",
        "    print(sprintf(\"%d番目の要素は%dです\", i, my_data[i]))\n",
        "}"
      ],
      "metadata": {
        "colab": {
          "base_uri": "https://localhost:8080/"
        },
        "id": "kA5jpnTMgOOY",
        "outputId": "0a4fba8d-9cfd-4539-8441-2f89fe4305e2"
      },
      "execution_count": null,
      "outputs": [
        {
          "output_type": "stream",
          "name": "stdout",
          "text": [
            " [1]  1  2  3  4  5  6  7 20  9 10\n",
            "[1] \"1番目の要素は1です\"\n",
            "[1] \"2番目の要素は2です\"\n",
            "[1] \"3番目の要素は3です\"\n",
            "[1] \"4番目の要素は4です\"\n",
            "[1] \"5番目の要素は5です\"\n",
            "[1] \"6番目の要素は6です\"\n",
            "[1] \"7番目の要素は7です\"\n",
            "[1] \"8番目の要素は20です\"\n",
            "[1] \"9番目の要素は9です\"\n",
            "[1] \"10番目の要素は10です\"\n"
          ]
        }
      ]
    },
    {
      "cell_type": "code",
      "metadata": {
        "id": "V4oIh7pi0V-K",
        "colab": {
          "base_uri": "https://localhost:8080/",
          "height": 88
        },
        "outputId": "219d9ac5-2d96-4254-ea5b-8f475cf2e498"
      },
      "source": [
        "# 初期値の設定\n",
        "total_num <- 0\n",
        "\n",
        "# for 文\n",
        "for(num in c(1,3,5)){\n",
        "    # 繰り返しの回数表示\n",
        "    print(num)\n",
        "    # 今まで取り出した数の合計\n",
        "    total_num <- total_num + num\n",
        "}\n",
        "\n",
        "# 最後に合計を表示\n",
        "sprintf(\"total_num: %d\", total_num)"
      ],
      "execution_count": null,
      "outputs": [
        {
          "output_type": "stream",
          "name": "stdout",
          "text": [
            "[1] 1\n",
            "[1] 3\n",
            "[1] 5\n"
          ]
        },
        {
          "output_type": "display_data",
          "data": {
            "text/html": [
              "'total_num: 9'"
            ],
            "text/markdown": "'total_num: 9'",
            "text/latex": "'total\\_num: 9'",
            "text/plain": [
              "[1] \"total_num: 9\""
            ]
          },
          "metadata": {}
        }
      ]
    },
    {
      "cell_type": "markdown",
      "source": [
        "#### **2.5.3 while文**"
      ],
      "metadata": {
        "id": "mCBn2dWqFm3o"
      }
    },
    {
      "cell_type": "markdown",
      "metadata": {
        "id": "J3X3mznc2fne"
      },
      "source": [
        "\n",
        "C言語と同じようにwhile文もあります．条件を満たしている限り，コマンドを何度も実行します．この例では，数字が10より大きくなった時点で，ループを抜けます．"
      ]
    },
    {
      "cell_type": "code",
      "metadata": {
        "id": "CCeU_A-G3EA5",
        "colab": {
          "base_uri": "https://localhost:8080/",
          "height": 187
        },
        "outputId": "0e3b47f8-b282-423b-8e90-c20c67d38de9"
      },
      "source": [
        "# while 文\n",
        "num  =1\n",
        "while (num<= 10){\n",
        "      print(num)\n",
        "      num <- num+ 1\n",
        "}"
      ],
      "execution_count": null,
      "outputs": [
        {
          "output_type": "stream",
          "text": [
            "[1] 1\n",
            "[1] 2\n",
            "[1] 3\n",
            "[1] 4\n",
            "[1] 5\n",
            "[1] 6\n",
            "[1] 7\n",
            "[1] 8\n",
            "[1] 9\n",
            "[1] 10\n"
          ],
          "name": "stdout"
        }
      ]
    },
    {
      "cell_type": "markdown",
      "metadata": {
        "id": "xRc4XROyTCGA"
      },
      "source": [
        "### **2.6 自作関数の作り方**"
      ]
    },
    {
      "cell_type": "markdown",
      "metadata": {
        "id": "MqZJ3rHGXfXw"
      },
      "source": [
        "これまでは，typeof()関数や`print()`関数，`sqrt()`関数など，Rが事前に用意している関数を使ってきましたが，もちろん自作の関数を作ることもできます．\n",
        "\n",
        "その前に用語を整理しておきましょう．\n",
        "関数を呼び出す際に関数に渡す値のことを**引数（ひきすう）**といいます．また関数が処理を終了する際に，呼び出し元に対して渡す値のことを**戻り値（もどりち）**，もしくは返り値（かえりち）といいます．\n",
        "\n",
        "Rで自作関数を定義する場合、`function () { } `のように書きます．小括弧には，関数内で利用する引数を書き，中括弧の中には，実際の処理を書き入れます．\n",
        "\n",
        "下はxとyという2つの引数を持ち，それらの和を戻り値として返す自作関数の`add()`です．"
      ]
    },
    {
      "cell_type": "code",
      "metadata": {
        "id": "x1UU0cZPXyw7",
        "colab": {
          "base_uri": "https://localhost:8080/",
          "height": 34
        },
        "outputId": "0d900900-61c9-482b-e213-78b6cb1fc58b"
      },
      "source": [
        "# 関数の定義\n",
        "add <- function(x, y) {\n",
        "    add <- x + y  # 和を求める\n",
        "    return(add)  # addを戻り値とする\n",
        "}\n",
        "\n",
        "#　関数の実行\n",
        "add(1,2)"
      ],
      "execution_count": null,
      "outputs": [
        {
          "output_type": "display_data",
          "data": {
            "text/html": [
              "3"
            ],
            "text/markdown": "3",
            "text/latex": "3",
            "text/plain": [
              "[1] 3"
            ]
          },
          "metadata": {}
        }
      ]
    },
    {
      "cell_type": "markdown",
      "metadata": {
        "id": "vR71NzawbU9x"
      },
      "source": [
        "戻り値が複数ある場合はlistにして返します"
      ]
    },
    {
      "cell_type": "code",
      "metadata": {
        "id": "A8PYxFGKYis3",
        "colab": {
          "base_uri": "https://localhost:8080/",
          "height": 149
        },
        "outputId": "1dd04e75-e62a-4cdf-d701-f160c7898ee5"
      },
      "source": [
        "addsub <- function(x, y) {\n",
        "  add <- x + y  # 和\n",
        "  sub  <- x - y  # 差\n",
        "  return(list(ADD=add, SUB=sub))\n",
        "}\n",
        "\n",
        "addsub(1,2)\n",
        "\n",
        "#下のように変数名を指定して取り出すこともできる\n",
        "addsub(1,2)$ADD #addのみ\n",
        "addsub(1,2)$SUB #subのみ"
      ],
      "execution_count": null,
      "outputs": [
        {
          "output_type": "display_data",
          "data": {
            "text/html": [
              "<dl>\n",
              "\t<dt>$ADD</dt>\n",
              "\t\t<dd>3</dd>\n",
              "\t<dt>$SUB</dt>\n",
              "\t\t<dd>-1</dd>\n",
              "</dl>\n"
            ],
            "text/markdown": "$ADD\n:   3\n$SUB\n:   -1\n\n\n",
            "text/latex": "\\begin{description}\n\\item[\\$ADD] 3\n\\item[\\$SUB] -1\n\\end{description}\n",
            "text/plain": [
              "$ADD\n",
              "[1] 3\n",
              "\n",
              "$SUB\n",
              "[1] -1\n"
            ]
          },
          "metadata": {}
        },
        {
          "output_type": "display_data",
          "data": {
            "text/html": [
              "3"
            ],
            "text/markdown": "3",
            "text/latex": "3",
            "text/plain": [
              "[1] 3"
            ]
          },
          "metadata": {}
        },
        {
          "output_type": "display_data",
          "data": {
            "text/html": [
              "-1"
            ],
            "text/markdown": "-1",
            "text/latex": "-1",
            "text/plain": [
              "[1] -1"
            ]
          },
          "metadata": {}
        }
      ]
    },
    {
      "cell_type": "code",
      "source": [
        "# フィボナッチ数列を生成する関数\n",
        "fibonacci <- function(n) {\n",
        "  fib <- numeric(n)\n",
        "  fib[1] <- 0\n",
        "  if (n > 1) {\n",
        "    fib[2] <- 1\n",
        "    for (i in 3:n) {\n",
        "      fib[i] <- fib[i - 1] + fib[i - 2]\n",
        "    }\n",
        "  }\n",
        "  return(fib)\n",
        "}\n",
        "\n",
        "# フィボナッチ数列を10個生成して表示する例\n",
        "n <- 10\n",
        "result <- fibonacci(n)\n",
        "print(result)\n"
      ],
      "metadata": {
        "colab": {
          "base_uri": "https://localhost:8080/"
        },
        "id": "l43O0XS2r69r",
        "outputId": "8cc9dec0-ef9e-4d27-92fb-09875a56f4af"
      },
      "execution_count": null,
      "outputs": [
        {
          "output_type": "stream",
          "name": "stdout",
          "text": [
            " [1]  0  1  1  2  3  5  8 13 21 34\n"
          ]
        }
      ]
    },
    {
      "cell_type": "markdown",
      "metadata": {
        "id": "PM0eQjOsS-j_"
      },
      "source": [
        "### **2.7 ライブラリ**"
      ]
    },
    {
      "cell_type": "markdown",
      "source": [
        "#### **2.7.1 ライブラリとは**"
      ],
      "metadata": {
        "id": "RWdP6YW2tlJ3"
      }
    },
    {
      "cell_type": "markdown",
      "source": [
        "Rにはもともと多くの機能が備わっていますが，それに加えて多様なライブラリ（またはパッケージ）が利用可能です．Rのライブラリ（パッケージ）は、特定の機能を提供する関数やデータセットの集まりです．これらのライブラリを使用することで，データ分析，グラフ作成，機械学習など，様々な作業を簡単に行うことができます．\n",
        "\n",
        "CRAN (Comprehensive R Archive Network) をはじめとするリポジトリには、15,000以上のパッケージが公開されており，様々なニーズに対応するためのツールが豊富に揃っています．Rでライブラリをインストールするには、`install.packages()`関数を使用します。例えば、データ分析に頻繁に使用される`dplyr`パッケージをインストールするには、次のように実行します。\n"
      ],
      "metadata": {
        "id": "rXmrHwjZseju"
      }
    },
    {
      "cell_type": "code",
      "source": [
        "install.packages(\"dplyr\")"
      ],
      "metadata": {
        "id": "v2_sryWytPuU"
      },
      "execution_count": null,
      "outputs": []
    },
    {
      "cell_type": "markdown",
      "source": [
        "インストールした後、library()関数を使ってライブラリを読み込みます。これにより、そのライブラリの関数を使用できるようになります．"
      ],
      "metadata": {
        "id": "QOAEgucZtfq6"
      }
    },
    {
      "cell_type": "code",
      "source": [
        "library(dplyr)"
      ],
      "metadata": {
        "colab": {
          "base_uri": "https://localhost:8080/"
        },
        "id": "r7HnAaQJtcfv",
        "outputId": "c077c1a7-5a3d-47f5-fe72-f4387148b8ab"
      },
      "execution_count": null,
      "outputs": [
        {
          "output_type": "stream",
          "name": "stderr",
          "text": [
            "\n",
            "Attaching package: ‘dplyr’\n",
            "\n",
            "\n",
            "The following objects are masked from ‘package:stats’:\n",
            "\n",
            "    filter, lag\n",
            "\n",
            "\n",
            "The following objects are masked from ‘package:base’:\n",
            "\n",
            "    intersect, setdiff, setequal, union\n",
            "\n",
            "\n"
          ]
        }
      ]
    },
    {
      "cell_type": "markdown",
      "metadata": {
        "id": "hE-BwTENbvWU"
      },
      "source": [
        "すでにインストールされているパッケージを調べます．\n",
        "Google Colaboratorｙの場合は，ggplot2 ，tidyverse  ，Rcpp ，MASS,など重要なライブラリの多くがインストール済みですが，デスクトップのRstudioで行う場合はすべて一からパッケージをインストールする必要があります．"
      ]
    },
    {
      "cell_type": "code",
      "metadata": {
        "id": "bPRamZblbqWO"
      },
      "source": [
        "library()"
      ],
      "execution_count": null,
      "outputs": []
    },
    {
      "cell_type": "code",
      "metadata": {
        "id": "zUB0DiVWbZpH",
        "colab": {
          "base_uri": "https://localhost:8080/"
        },
        "outputId": "bafcaaf1-a6dc-48a8-a218-5a43d85f1eaf"
      },
      "source": [
        "# ローカルの環境であれば一度インストールすれば下のコマンドを実行する必要はない\n",
        "# Google Colabの場合はランタイムを再起動するたびに必要\n",
        "install.packages(\"lme4\")"
      ],
      "execution_count": null,
      "outputs": [
        {
          "output_type": "stream",
          "name": "stderr",
          "text": [
            "Installing package into ‘/usr/local/lib/R/site-library’\n",
            "(as ‘lib’ is unspecified)\n",
            "\n",
            "also installing the dependencies ‘minqa’, ‘nloptr’, ‘Rcpp’, ‘RcppEigen’\n",
            "\n",
            "\n",
            "Warning message in install.packages(\"lme4\"):\n",
            "“installation of package ‘lme4’ had non-zero exit status”\n"
          ]
        }
      ]
    },
    {
      "cell_type": "code",
      "metadata": {
        "id": "4PELy210cHTs",
        "colab": {
          "base_uri": "https://localhost:8080/",
          "height": 496
        },
        "outputId": "adcb6f19-47f3-4df7-d08e-45c64ea82f10"
      },
      "source": [
        "#ライブラリを読み込む\n",
        "library(\"lme4\")\n",
        "\n",
        "#上のライブラリに含まれているデータを使う\n",
        "data <- data.frame(sleepstudy)\n",
        "\n",
        "ric.model <- lmer(Reaction ~ Days + (Days | Subject), data = data)\n",
        "summary(ric.model)"
      ],
      "execution_count": null,
      "outputs": [
        {
          "output_type": "stream",
          "name": "stderr",
          "text": [
            "Loading required package: Matrix\n",
            "\n"
          ]
        },
        {
          "output_type": "display_data",
          "data": {
            "text/plain": [
              "Linear mixed model fit by REML ['lmerMod']\n",
              "Formula: Reaction ~ Days + (Days | Subject)\n",
              "   Data: data\n",
              "\n",
              "REML criterion at convergence: 1743.6\n",
              "\n",
              "Scaled residuals: \n",
              "    Min      1Q  Median      3Q     Max \n",
              "-3.9536 -0.4634  0.0231  0.4634  5.1793 \n",
              "\n",
              "Random effects:\n",
              " Groups   Name        Variance Std.Dev. Corr\n",
              " Subject  (Intercept) 612.10   24.741       \n",
              "          Days         35.07    5.922   0.07\n",
              " Residual             654.94   25.592       \n",
              "Number of obs: 180, groups:  Subject, 18\n",
              "\n",
              "Fixed effects:\n",
              "            Estimate Std. Error t value\n",
              "(Intercept)  251.405      6.825  36.838\n",
              "Days          10.467      1.546   6.771\n",
              "\n",
              "Correlation of Fixed Effects:\n",
              "     (Intr)\n",
              "Days -0.138"
            ]
          },
          "metadata": {}
        }
      ]
    },
    {
      "cell_type": "markdown",
      "source": [
        "#### **2.7.2  おすすめのライブラリ**"
      ],
      "metadata": {
        "id": "WdptAYDqtu0w"
      }
    },
    {
      "cell_type": "markdown",
      "source": [
        "\n",
        "- **ggplot2**: データの可視化に使用される強力なグラフ作成パッケージ\n",
        "- **dplyr**: データの操作や分析を容易にするための関数を提供するパッケージ\n",
        "- **tidyr**: データを整理し、分析しやすい形式に変換するためのパッケージ\n",
        "- **readr**: 様々な形式のファイルからデータを読み込むためのパッケージ"
      ],
      "metadata": {
        "id": "JZHOtjditNTT"
      }
    }
  ]
}
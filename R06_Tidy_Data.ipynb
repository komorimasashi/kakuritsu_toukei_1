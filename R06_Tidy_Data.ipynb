{
  "nbformat": 4,
  "nbformat_minor": 0,
  "metadata": {
    "colab": {
      "provenance": [],
      "collapsed_sections": [
        "8Yg-BqogzKeZ",
        "WgeXuN3Z46f4",
        "kAa26-967R44",
        "VBb-DVGObtHL",
        "S3T2Q60PH1k-",
        "BpTmiOPlCsOd",
        "TWQTST8w-fXe"
      ],
      "include_colab_link": true
    },
    "kernelspec": {
      "name": "ir",
      "display_name": "R"
    }
  },
  "cells": [
    {
      "cell_type": "markdown",
      "metadata": {
        "id": "view-in-github",
        "colab_type": "text"
      },
      "source": [
        "<a href=\"https://colab.research.google.com/github/komorimasashi/kakuritsu_toukei_1/blob/main/R06_Tidy_Data.ipynb\" target=\"_parent\"><img src=\"https://colab.research.google.com/assets/colab-badge.svg\" alt=\"Open In Colab\"/></a>"
      ]
    },
    {
      "cell_type": "markdown",
      "source": [
        "## **6. 整然データとその処理**"
      ],
      "metadata": {
        "id": "zfzxWkUibiYQ"
      }
    },
    {
      "cell_type": "markdown",
      "source": [
        "### **6.1 整然データとは**"
      ],
      "metadata": {
        "id": "LU85o2Q-cLZv"
      }
    },
    {
      "cell_type": "markdown",
      "source": [
        "#### **6.1.1 整然データ(tidy data）の定義**"
      ],
      "metadata": {
        "id": "5uDxb6ZE9KCc"
      }
    },
    {
      "cell_type": "markdown",
      "source": [
        "近年，データを**tidy data（整然データ，雑然としたの反対語）**という形式で統一的に扱うと良いという考え方が広まりつつあります．整然データとはどのようなものでしょうか．簡単に言えば「一つの観測が一つの行に対応する」ようにデータを並べたものです．\n",
        "\n",
        "整然データは、以下の三つの原則に基づいてデータを整理する方法を指します：\n",
        "1. **各変数が1列を形成する。**\n",
        "2. **各観測が1行を形成する。**\n",
        "3. **各観測単位の型が1つのテーブルを形成する。**\n",
        "\n",
        "この考えに則って，R界隈では整然データを扱うことに適したパッケージ`{tidyverse}`が広く使われるようになってきました．`{tidyverse}`には，data.frameからデータの抽出，ソートや要約などが簡単にできるパッケージである`{dplyr}`や，美しい描画を手軽に描画できる`{ggplot2}`などのパッケージが含まれています．`{ggplot2}`はこのような形式で記述されたデータを表示するようにできています．これらのパッケージは整然データの考え方に従って設計されています．\n",
        "\n",
        "<figure><img src=\"https://lh3.googleusercontent.com/d/1o3B3yHpGzIYNvil3GgwxGblnOwpWnytO\" alt=\"logo\" width=600><figcaption>Tidyverseとその関連パッケージ（https://www.tidyverse.org/）</figcaption></figure>\n",
        "\n"
      ],
      "metadata": {
        "id": "issGSh-Bc1Z0"
      }
    },
    {
      "cell_type": "markdown",
      "source": [
        "#### **6.1.2 整然データ(tidy data）の例**"
      ],
      "metadata": {
        "id": "BHiN46a09VOl"
      }
    },
    {
      "cell_type": "markdown",
      "source": [
        "*   **人間にとってはわかりやすいが整然データではないデータ**\n",
        "例えば下の表は人間にとってはとても見やすいですが，一つの行に複数の観測値が含まれているので，整然データではありません．実験参加者Aの2日目の観測値を見るためには，列と行のインデックスを見る必要があります．\n",
        "\n",
        "\n",
        "<figure><img src=\"https://lh3.googleusercontent.com/d/1JPuMzU1mDnM_Pbiy0anRNLUrObEUWjbp\" alt=\"logo\" width=600><figcaption></figcaption></figure>\n"
      ],
      "metadata": {
        "id": "mWviRlA1dUrv"
      }
    },
    {
      "cell_type": "markdown",
      "source": [
        "*   **整然データ**\n",
        "一方，上を整然データに直したものが下の表になります．一つの観測値に一つの行が割り当てられているため，統計的な分析をする際にはこちらの方が楽になります．\n",
        "\n",
        "<figure><img src=\"https://lh3.googleusercontent.com/d/1wO1097LDn-pyw3oQHeThJebn40AcH1Rl\" alt=\"logo\" width=250><figcaption></figcaption></figure>\n",
        "\n"
      ],
      "metadata": {
        "id": "RLtGWGh6uF3r"
      }
    },
    {
      "cell_type": "markdown",
      "source": [
        "#### **6.1.3 縦持ちデータ（Long Format）と横持ちデータ（Wide Format）**"
      ],
      "metadata": {
        "id": "E_9LsH0f9BaW"
      }
    },
    {
      "cell_type": "markdown",
      "source": [
        "一般的には**整然データは縦持ちデータ（Long Format），**と呼ばれます．そうでないデータは**横持ちデータ（Wide Format）**と呼ばれます．\n",
        "\n",
        "<figure><img src=\"https://lh3.googleusercontent.com/d/1Q0f_-9aIx1fEf3A3I1ES6VUBlrKpGyiJ\" alt=\"long-and-wide\" width=400><figcaption>出典: https://github.com/gadenbuie/tidyexplain/</figcaption></figure>\n",
        "\n",
        "\n",
        "ここではIris データセットをRで横持ちデータ（wide format）と縦持ちデータ（long format）の例を示します．Iris データセットは、花の種類（Species）ごとに花弁（petals）と萼片（sepals）の長さと幅を測定したデータを含んでいます。このデータセットは、典型的な横持ちデータの例です。各行が一つのアヤメの花を表し、以下のような列があります：\n",
        "\n",
        "- **Species**: 花の種類を示すカテゴリカルな変数（例：setosa, versicolor, virginica）\n",
        "- **Sepal.Length**: 萼片の長さ\n",
        "- **Sepal.Width**: 萼片の幅\n",
        "- **Petal.Length**: 花弁の長さ\n",
        "- **Petal.Width**: 花弁の幅\n"
      ],
      "metadata": {
        "id": "1SpImUAK9jpj"
      }
    },
    {
      "cell_type": "code",
      "source": [
        "# irisデータセットを読み込む\n",
        "data(iris)"
      ],
      "metadata": {
        "id": "N-JHXq45-z-z"
      },
      "execution_count": null,
      "outputs": []
    },
    {
      "cell_type": "markdown",
      "source": [
        "**横持ちデータ（Wide Format）の例**"
      ],
      "metadata": {
        "id": "GZ0BsDo6-39p"
      }
    },
    {
      "cell_type": "markdown",
      "source": [
        "横持ちデータとは一部のラベルが横に並んでいるようなデータ構造を指します．各行が全ての測定値を保持しているため、特定の花に関する情報にアクセスするのが簡単です．Irisデータセットは典型的な**横持ち（Wide）データ**です．分析の文脈では、横持ちデータを用いることで、特定の変数間の関連を簡単に調べることができます。例えば、Iris データセットでは、萼片の長さと花弁の長さの相関を調べたり、種別によるこれらの属性の違いを分析するのに適しています．"
      ],
      "metadata": {
        "id": "-8yQAvXE_CQE"
      }
    },
    {
      "cell_type": "code",
      "source": [
        "# 最初の数行を表示（典型的な横持ち（wide）データ\n",
        "head(iris)"
      ],
      "metadata": {
        "colab": {
          "base_uri": "https://localhost:8080/",
          "height": 286
        },
        "id": "KE2dntvYAkE2",
        "outputId": "e654753f-0bc1-4c07-f0d6-4f1ee582c69e"
      },
      "execution_count": null,
      "outputs": [
        {
          "output_type": "display_data",
          "data": {
            "text/html": [
              "<table class=\"dataframe\">\n",
              "<caption>A data.frame: 6 × 5</caption>\n",
              "<thead>\n",
              "\t<tr><th></th><th scope=col>Sepal.Length</th><th scope=col>Sepal.Width</th><th scope=col>Petal.Length</th><th scope=col>Petal.Width</th><th scope=col>Species</th></tr>\n",
              "\t<tr><th></th><th scope=col>&lt;dbl&gt;</th><th scope=col>&lt;dbl&gt;</th><th scope=col>&lt;dbl&gt;</th><th scope=col>&lt;dbl&gt;</th><th scope=col>&lt;fct&gt;</th></tr>\n",
              "</thead>\n",
              "<tbody>\n",
              "\t<tr><th scope=row>1</th><td>5.1</td><td>3.5</td><td>1.4</td><td>0.2</td><td>setosa</td></tr>\n",
              "\t<tr><th scope=row>2</th><td>4.9</td><td>3.0</td><td>1.4</td><td>0.2</td><td>setosa</td></tr>\n",
              "\t<tr><th scope=row>3</th><td>4.7</td><td>3.2</td><td>1.3</td><td>0.2</td><td>setosa</td></tr>\n",
              "\t<tr><th scope=row>4</th><td>4.6</td><td>3.1</td><td>1.5</td><td>0.2</td><td>setosa</td></tr>\n",
              "\t<tr><th scope=row>5</th><td>5.0</td><td>3.6</td><td>1.4</td><td>0.2</td><td>setosa</td></tr>\n",
              "\t<tr><th scope=row>6</th><td>5.4</td><td>3.9</td><td>1.7</td><td>0.4</td><td>setosa</td></tr>\n",
              "</tbody>\n",
              "</table>\n"
            ],
            "text/markdown": "\nA data.frame: 6 × 5\n\n| <!--/--> | Sepal.Length &lt;dbl&gt; | Sepal.Width &lt;dbl&gt; | Petal.Length &lt;dbl&gt; | Petal.Width &lt;dbl&gt; | Species &lt;fct&gt; |\n|---|---|---|---|---|---|\n| 1 | 5.1 | 3.5 | 1.4 | 0.2 | setosa |\n| 2 | 4.9 | 3.0 | 1.4 | 0.2 | setosa |\n| 3 | 4.7 | 3.2 | 1.3 | 0.2 | setosa |\n| 4 | 4.6 | 3.1 | 1.5 | 0.2 | setosa |\n| 5 | 5.0 | 3.6 | 1.4 | 0.2 | setosa |\n| 6 | 5.4 | 3.9 | 1.7 | 0.4 | setosa |\n\n",
            "text/latex": "A data.frame: 6 × 5\n\\begin{tabular}{r|lllll}\n  & Sepal.Length & Sepal.Width & Petal.Length & Petal.Width & Species\\\\\n  & <dbl> & <dbl> & <dbl> & <dbl> & <fct>\\\\\n\\hline\n\t1 & 5.1 & 3.5 & 1.4 & 0.2 & setosa\\\\\n\t2 & 4.9 & 3.0 & 1.4 & 0.2 & setosa\\\\\n\t3 & 4.7 & 3.2 & 1.3 & 0.2 & setosa\\\\\n\t4 & 4.6 & 3.1 & 1.5 & 0.2 & setosa\\\\\n\t5 & 5.0 & 3.6 & 1.4 & 0.2 & setosa\\\\\n\t6 & 5.4 & 3.9 & 1.7 & 0.4 & setosa\\\\\n\\end{tabular}\n",
            "text/plain": [
              "  Sepal.Length Sepal.Width Petal.Length Petal.Width Species\n",
              "1 5.1          3.5         1.4          0.2         setosa \n",
              "2 4.9          3.0         1.4          0.2         setosa \n",
              "3 4.7          3.2         1.3          0.2         setosa \n",
              "4 4.6          3.1         1.5          0.2         setosa \n",
              "5 5.0          3.6         1.4          0.2         setosa \n",
              "6 5.4          3.9         1.7          0.4         setosa "
            ]
          },
          "metadata": {}
        }
      ]
    },
    {
      "cell_type": "markdown",
      "source": [
        "**縦持ちデータ（Long Format），整然データ（tidy format）の例**"
      ],
      "metadata": {
        "id": "w3wkO25EA59p"
      }
    },
    {
      "cell_type": "markdown",
      "source": [
        "1つの観測値ごとに複数行を使用し、変数ごとに列が設定されているデータは，**整然（tidy）データ**，\n",
        "や**縦持ち（Long）データ**と呼ばれます．narrow data, vertical dataなどとも呼ばれます．`tidyverse`に含まれる`tidyr`パッケージの`pivot_longer()`関数を使用すれば，横持ちデータを縦持ちデータに変換することができます．一つの観測が一つの行と対応していることがわかります．"
      ],
      "metadata": {
        "id": "wetpTDshBFz9"
      }
    },
    {
      "cell_type": "code",
      "source": [
        "library(tidyr)\n",
        "# irisデータセットを縦持ち形式に変換\n",
        "iris_long <- iris %>%\n",
        "  pivot_longer(\n",
        "    cols = -Species,  # Species列を除くすべての列を縦持ちに変換\n",
        "    names_to = \"measurement\",  # 新しい列名（測定値の種類）\n",
        "    values_to = \"value\"  # 測定値\n",
        "  )\n",
        "\n",
        "# 結果を表示（縦持ち（long, tidy）データ）\n",
        "head(iris_long)"
      ],
      "metadata": {
        "colab": {
          "base_uri": "https://localhost:8080/",
          "height": 286
        },
        "id": "CXiavMjTBRaL",
        "outputId": "ab6bf186-02da-4eff-c174-1e9874ad7921"
      },
      "execution_count": null,
      "outputs": [
        {
          "output_type": "display_data",
          "data": {
            "text/html": [
              "<table class=\"dataframe\">\n",
              "<caption>A tibble: 6 × 3</caption>\n",
              "<thead>\n",
              "\t<tr><th scope=col>Species</th><th scope=col>measurement</th><th scope=col>value</th></tr>\n",
              "\t<tr><th scope=col>&lt;fct&gt;</th><th scope=col>&lt;chr&gt;</th><th scope=col>&lt;dbl&gt;</th></tr>\n",
              "</thead>\n",
              "<tbody>\n",
              "\t<tr><td>setosa</td><td>Sepal.Length</td><td>5.1</td></tr>\n",
              "\t<tr><td>setosa</td><td>Sepal.Width </td><td>3.5</td></tr>\n",
              "\t<tr><td>setosa</td><td>Petal.Length</td><td>1.4</td></tr>\n",
              "\t<tr><td>setosa</td><td>Petal.Width </td><td>0.2</td></tr>\n",
              "\t<tr><td>setosa</td><td>Sepal.Length</td><td>4.9</td></tr>\n",
              "\t<tr><td>setosa</td><td>Sepal.Width </td><td>3.0</td></tr>\n",
              "</tbody>\n",
              "</table>\n"
            ],
            "text/markdown": "\nA tibble: 6 × 3\n\n| Species &lt;fct&gt; | measurement &lt;chr&gt; | value &lt;dbl&gt; |\n|---|---|---|\n| setosa | Sepal.Length | 5.1 |\n| setosa | Sepal.Width  | 3.5 |\n| setosa | Petal.Length | 1.4 |\n| setosa | Petal.Width  | 0.2 |\n| setosa | Sepal.Length | 4.9 |\n| setosa | Sepal.Width  | 3.0 |\n\n",
            "text/latex": "A tibble: 6 × 3\n\\begin{tabular}{lll}\n Species & measurement & value\\\\\n <fct> & <chr> & <dbl>\\\\\n\\hline\n\t setosa & Sepal.Length & 5.1\\\\\n\t setosa & Sepal.Width  & 3.5\\\\\n\t setosa & Petal.Length & 1.4\\\\\n\t setosa & Petal.Width  & 0.2\\\\\n\t setosa & Sepal.Length & 4.9\\\\\n\t setosa & Sepal.Width  & 3.0\\\\\n\\end{tabular}\n",
            "text/plain": [
              "  Species measurement  value\n",
              "1 setosa  Sepal.Length 5.1  \n",
              "2 setosa  Sepal.Width  3.5  \n",
              "3 setosa  Petal.Length 1.4  \n",
              "4 setosa  Petal.Width  0.2  \n",
              "5 setosa  Sepal.Length 4.9  \n",
              "6 setosa  Sepal.Width  3.0  "
            ]
          },
          "metadata": {}
        }
      ]
    },
    {
      "cell_type": "markdown",
      "source": [
        "### **6.2 整然データの利点**"
      ],
      "metadata": {
        "id": "pYG_UBVtS1bw"
      }
    },
    {
      "cell_type": "markdown",
      "source": [
        "当然のことですが，研究では**再生可能性**（同じデータを同じように処理すれば同じ結果が得られる）ことが重視されます．再生可能性を高める一つの方法が，整然データを使うことです．\n",
        "\n",
        "1. **分析しやすい：** 整然データ形式は、多くのR関数や`tidyverse`のパッケージ、特に`dplyr`や`ggplot2`と互換性が高く、データの加工や分析が容易になります。データが一貫した形式であるため、関数を適用する際の予期せぬエラーや結果の不整合を避けることができます。\n",
        "2. **可読性の向上：** 整然データは、人間にとっても読みやすい形式です。データの各列が何を表しているか、どのようにデータが構成されているかが一目でわかります。これにより、データの理解が深まり、データに関するコミュニケーションが容易になります。\n",
        "3. **再利用性の向上：** 一度整然データ形式に変換しておけば、同じデータセットを用いた別の分析や可視化にも簡単に再利用することができます。データの前処理作業を繰り返す必要が減少し、効率的なデータ分析が可能になります。\n",
        "4. **自動化とスケーラビリティ：** 整然データの形式は、データの自動処理や大規模なデータセットへの適用を容易にします。データの整形や分析のプロセスをスクリプト化しやすくなり、大量のデータや複数のデータセットに対して同じ操作を繰り返す場合に大きな効果を発揮します。\n",
        "5. **データの統合と共有：** 異なるデータソースから収集されたデータを統合する際にも、整然データの原則が役立ちます。データの形式を統一することで、異なるデータセット間での比較や組み合わせが容易になり、データの共有や公開もスムーズに行えます。\n",
        "\n",
        "整然データの形式でデータを扱うことは今後広まっていくでしょう（ただし現時点では，活発に開発が進んでいることから`{tidyverse}`関係の関数の仕様が頻繁に変わることがあるため，最新の情報を手に入れるようにしましょう）．"
      ],
      "metadata": {
        "id": "O3Xdj0xNS7hu"
      }
    },
    {
      "cell_type": "markdown",
      "source": [
        "### **6.3 整然データを扱うためのライブラリ**"
      ],
      "metadata": {
        "id": "hpEGgA1JbpOX"
      }
    },
    {
      "cell_type": "markdown",
      "source": [
        "整然データを使うことで分析や視覚化が容易になります．**`tidyverse`**パッケージ群、特に**`dplyr`**や**`tidyr`**は、データをこの整然データ形式に変換し、分析しやすくするための強力なツールを提供します．\n",
        "\n",
        "また，データを最初から「整然データ」として扱うことで，中間オブジェクトを挟まずともデータ整形から処理・可視化まで一連の流れをミス無く円滑に行いやすくなりますと言われています．またこのための仕組みとして`{tidyverse}`の一連のパッケージでは，**パイプ演算子（%>%）**というものが使われます．\n",
        "\n",
        "\n",
        "**代表的なtidyverseパッケージ**\n",
        "*   [ggplot2](https://ggplot2.tidyverse.org/): グラフィックスを作成するためのパッケージ\n",
        "*   [dplyr](https://dplyr.tidyverse.org/): データ操作、抽出、加工のためのパッケージ\n",
        "*   [tidyr:](https://tidyr.tidyverse.org/) “tidy data” を作成、操作するためのパッケージ\n",
        "*   [readr](https://readr.tidyverse.org/): ファイルを柔軟に読み込むためのパッケージ\n",
        "*   [purrr](https://purrr.tidyverse.org/): 関数型プログラミングを実現するためのパッケージ\n",
        "*   [tibble](https://tibble.tidyverse.org/): データ構造tibbleを作成、操作するためのパッケージ\n",
        "*   [stringr](https://stringr.tidyverse.org/): 文字列を容易に、柔軟に操作するためのパッケージ\n",
        "*   [forcats](https://forcats.tidyverse.org/): factor型のデータを柔軟に操作するためのパッケージ\n",
        "*   [magrittr](https://magrittr.tidyverse.org/): : パイプ (%>%) 演算子の機能を提供するパッケージ\n"
      ],
      "metadata": {
        "id": "m9StNsaWkmrx"
      }
    },
    {
      "cell_type": "markdown",
      "source": [
        "### **6.4 `dplyr`を使ったデータ処理**"
      ],
      "metadata": {
        "id": "8Yg-BqogzKeZ"
      }
    },
    {
      "cell_type": "markdown",
      "source": [
        "#### **6.4.1 `tidyverse`パッケージのロード**"
      ],
      "metadata": {
        "id": "ppgQLHox6PIu"
      }
    },
    {
      "cell_type": "markdown",
      "source": [
        "tidyverseパッケージをロードします（未インストールの場合は、install.packages(“tidyverse”)でインストールしてください；結構大量にインストールされるので時間がかかります）。tidyverse パッケージをロードすると、同時に 上の8 つのパッケージがロードされます．"
      ],
      "metadata": {
        "id": "Flz2hatm5kVC"
      }
    },
    {
      "cell_type": "code",
      "source": [
        "library(tidyverse)"
      ],
      "metadata": {
        "id": "R8z-GX4i3Xc2",
        "colab": {
          "base_uri": "https://localhost:8080/"
        },
        "outputId": "0214f4d9-77a7-4bdc-aa40-fcf498cbf5b4"
      },
      "execution_count": null,
      "outputs": [
        {
          "output_type": "stream",
          "name": "stderr",
          "text": [
            "── \u001b[1mAttaching core tidyverse packages\u001b[22m ──────────────────────── tidyverse 2.0.0 ──\n",
            "\u001b[32m✔\u001b[39m \u001b[34mdplyr    \u001b[39m 1.1.4     \u001b[32m✔\u001b[39m \u001b[34mreadr    \u001b[39m 2.1.5\n",
            "\u001b[32m✔\u001b[39m \u001b[34mforcats  \u001b[39m 1.0.0     \u001b[32m✔\u001b[39m \u001b[34mstringr  \u001b[39m 1.5.1\n",
            "\u001b[32m✔\u001b[39m \u001b[34mggplot2  \u001b[39m 3.4.4     \u001b[32m✔\u001b[39m \u001b[34mtibble   \u001b[39m 3.2.1\n",
            "\u001b[32m✔\u001b[39m \u001b[34mlubridate\u001b[39m 1.9.3     \u001b[32m✔\u001b[39m \u001b[34mtidyr    \u001b[39m 1.3.1\n",
            "\u001b[32m✔\u001b[39m \u001b[34mpurrr    \u001b[39m 1.0.2     \n",
            "── \u001b[1mConflicts\u001b[22m ────────────────────────────────────────── tidyverse_conflicts() ──\n",
            "\u001b[31m✖\u001b[39m \u001b[34mdplyr\u001b[39m::\u001b[32mfilter()\u001b[39m masks \u001b[34mstats\u001b[39m::filter()\n",
            "\u001b[31m✖\u001b[39m \u001b[34mdplyr\u001b[39m::\u001b[32mlag()\u001b[39m    masks \u001b[34mstats\u001b[39m::lag()\n",
            "\u001b[36mℹ\u001b[39m Use the conflicted package (\u001b[3m\u001b[34m<http://conflicted.r-lib.org/>\u001b[39m\u001b[23m) to force all conflicts to become errors\n"
          ]
        }
      ]
    },
    {
      "cell_type": "markdown",
      "source": [
        "としてもよいですが，dplyrパッケージだけが使いたいときは下のようにしてもいいです．"
      ],
      "metadata": {
        "id": "kgTSI2pK6dLE"
      }
    },
    {
      "cell_type": "code",
      "source": [
        "library(dplyr)"
      ],
      "metadata": {
        "id": "O2aQxllv6U2F"
      },
      "execution_count": null,
      "outputs": []
    },
    {
      "cell_type": "markdown",
      "source": [
        "#### **6.4.2 データの準備**"
      ],
      "metadata": {
        "id": "WgeXuN3Z46f4"
      }
    },
    {
      "cell_type": "markdown",
      "source": [
        "まずは、サンプルデータフレームを準備します．Base Rで使われるdata.frame型で作成してもよいですし，tidyverse内で使われるtibble型で作成してもいいです．ここではdata.frame型で解説を進めます．"
      ],
      "metadata": {
        "id": "y-nxlCJwLfil"
      }
    },
    {
      "cell_type": "code",
      "source": [
        "# データの作成（data.frame版）\n",
        "data <- data.frame(\n",
        "  id = 1:50,\n",
        "  name = c(\"佐藤\", \"鈴木\", \"高橋\", \"田中\", \"伊藤\", \"渡辺\", \"山本\", \"中村\", \"小林\", \"加藤\",\n",
        "           \"吉田\", \"山田\", \"佐々木\", \"山口\", \"松本\", \"井上\", \"木村\", \"林\", \"斎藤\", \"清水\",\n",
        "           \"山崎\", \"小森\", \"池田\", \"橋本\", \"阿部\", \"狩野\", \"山下\", \"小川\", \"中島\", \"石井\",\n",
        "           \"前田\", \"藤田\", \"岡田\", \"後藤\", \"長谷川\", \"村上\", \"近藤\", \"石原\", \"坂本\", \"遠藤\",\n",
        "           \"青野\", \"藤井\", \"西村\", \"福田\", \"太田\", \"三浦\", \"岡本\", \"松田\", \"中川\", \"中野\"),\n",
        "  score = c(40, 76, 45, 78, 57, 55, 44, 71, 41, 41, 79, 75, 78, 51, 58, 67, 40, 54,\n",
        "           75, 52, 60, 51, 44, 46, 44, 43, 52, 76, 54, 55, 60, 75, 63, 55, 53, 61,\n",
        "           45, 75, 40, 71, 45, 70, 40, 76, 74, 69, 43, 74, 53, 79)\n",
        ")\n",
        "\n",
        "head(data)"
      ],
      "metadata": {
        "colab": {
          "base_uri": "https://localhost:8080/"
        },
        "id": "QopPlZx15V6W",
        "outputId": "d04cea74-1633-4a39-bbbe-7d61026f2028"
      },
      "execution_count": null,
      "outputs": [
        {
          "output_type": "display_data",
          "data": {
            "text/html": [
              "<table class=\"dataframe\">\n",
              "<caption>A data.frame: 6 × 3</caption>\n",
              "<thead>\n",
              "\t<tr><th></th><th scope=col>id</th><th scope=col>name</th><th scope=col>score</th></tr>\n",
              "\t<tr><th></th><th scope=col>&lt;int&gt;</th><th scope=col>&lt;chr&gt;</th><th scope=col>&lt;dbl&gt;</th></tr>\n",
              "</thead>\n",
              "<tbody>\n",
              "\t<tr><th scope=row>1</th><td>1</td><td>佐藤</td><td>40</td></tr>\n",
              "\t<tr><th scope=row>2</th><td>2</td><td>鈴木</td><td>76</td></tr>\n",
              "\t<tr><th scope=row>3</th><td>3</td><td>高橋</td><td>45</td></tr>\n",
              "\t<tr><th scope=row>4</th><td>4</td><td>田中</td><td>78</td></tr>\n",
              "\t<tr><th scope=row>5</th><td>5</td><td>伊藤</td><td>57</td></tr>\n",
              "\t<tr><th scope=row>6</th><td>6</td><td>渡辺</td><td>55</td></tr>\n",
              "</tbody>\n",
              "</table>\n"
            ],
            "text/markdown": "\nA data.frame: 6 × 3\n\n| <!--/--> | id &lt;int&gt; | name &lt;chr&gt; | score &lt;dbl&gt; |\n|---|---|---|---|\n| 1 | 1 | 佐藤 | 40 |\n| 2 | 2 | 鈴木 | 76 |\n| 3 | 3 | 高橋 | 45 |\n| 4 | 4 | 田中 | 78 |\n| 5 | 5 | 伊藤 | 57 |\n| 6 | 6 | 渡辺 | 55 |\n\n",
            "text/latex": "A data.frame: 6 × 3\n\\begin{tabular}{r|lll}\n  & id & name & score\\\\\n  & <int> & <chr> & <dbl>\\\\\n\\hline\n\t1 & 1 & 佐藤 & 40\\\\\n\t2 & 2 & 鈴木 & 76\\\\\n\t3 & 3 & 高橋 & 45\\\\\n\t4 & 4 & 田中 & 78\\\\\n\t5 & 5 & 伊藤 & 57\\\\\n\t6 & 6 & 渡辺 & 55\\\\\n\\end{tabular}\n",
            "text/plain": [
              "  id name score\n",
              "1 1  佐藤 40   \n",
              "2 2  鈴木 76   \n",
              "3 3  高橋 45   \n",
              "4 4  田中 78   \n",
              "5 5  伊藤 57   \n",
              "6 6  渡辺 55   "
            ]
          },
          "metadata": {}
        }
      ]
    },
    {
      "cell_type": "code",
      "source": [
        "# データの作成（tibble版）\n",
        "data_tibble <- tibble(\n",
        "  id = 1:50,\n",
        "  name = c(\"佐藤\", \"鈴木\", \"高橋\", \"田中\", \"伊藤\", \"渡辺\", \"山本\", \"中村\", \"小林\", \"加藤\",\n",
        "           \"吉田\", \"山田\", \"佐々木\", \"山口\", \"松本\", \"井上\", \"木村\", \"林\", \"斎藤\", \"清水\",\n",
        "           \"山崎\", \"小森\", \"池田\", \"橋本\", \"阿部\", \"狩野\", \"山下\", \"小川\", \"中島\", \"石井\",\n",
        "           \"前田\", \"藤田\", \"岡田\", \"後藤\", \"長谷川\", \"村上\", \"近藤\", \"石原\", \"坂本\", \"遠藤\",\n",
        "           \"青野\", \"藤井\", \"西村\", \"福田\", \"太田\", \"三浦\", \"岡本\", \"松田\", \"中川\", \"中野\"),\n",
        "  score = c(20, 56, 25, 58, 37, 35, 24, 51, 21, 21, 59, 55, 58, 31, 38, 47, 20, 34,\n",
        "          55, 32, 40, 31, 24, 26, 24, 23, 32, 56, 34, 35, 40, 55, 43, 35, 33,\n",
        "          41, 25, 55, 20, 51, 25, 50, 20, 56, 54, 49, 23, 54, 33, 59)\n",
        ")\n",
        "\n",
        "head(data)"
      ],
      "metadata": {
        "colab": {
          "base_uri": "https://localhost:8080/"
        },
        "id": "dQoIpp9R6zd8",
        "outputId": "e25cbe3d-1afa-4962-a70c-adc7d60235c5"
      },
      "execution_count": null,
      "outputs": [
        {
          "output_type": "display_data",
          "data": {
            "text/html": [
              "<table class=\"dataframe\">\n",
              "<caption>A data.frame: 6 × 3</caption>\n",
              "<thead>\n",
              "\t<tr><th></th><th scope=col>id</th><th scope=col>name</th><th scope=col>score</th></tr>\n",
              "\t<tr><th></th><th scope=col>&lt;int&gt;</th><th scope=col>&lt;chr&gt;</th><th scope=col>&lt;dbl&gt;</th></tr>\n",
              "</thead>\n",
              "<tbody>\n",
              "\t<tr><th scope=row>1</th><td>1</td><td>佐藤</td><td>40</td></tr>\n",
              "\t<tr><th scope=row>2</th><td>2</td><td>鈴木</td><td>76</td></tr>\n",
              "\t<tr><th scope=row>3</th><td>3</td><td>高橋</td><td>45</td></tr>\n",
              "\t<tr><th scope=row>4</th><td>4</td><td>田中</td><td>78</td></tr>\n",
              "\t<tr><th scope=row>5</th><td>5</td><td>伊藤</td><td>57</td></tr>\n",
              "\t<tr><th scope=row>6</th><td>6</td><td>渡辺</td><td>55</td></tr>\n",
              "</tbody>\n",
              "</table>\n"
            ],
            "text/markdown": "\nA data.frame: 6 × 3\n\n| <!--/--> | id &lt;int&gt; | name &lt;chr&gt; | score &lt;dbl&gt; |\n|---|---|---|---|\n| 1 | 1 | 佐藤 | 40 |\n| 2 | 2 | 鈴木 | 76 |\n| 3 | 3 | 高橋 | 45 |\n| 4 | 4 | 田中 | 78 |\n| 5 | 5 | 伊藤 | 57 |\n| 6 | 6 | 渡辺 | 55 |\n\n",
            "text/latex": "A data.frame: 6 × 3\n\\begin{tabular}{r|lll}\n  & id & name & score\\\\\n  & <int> & <chr> & <dbl>\\\\\n\\hline\n\t1 & 1 & 佐藤 & 40\\\\\n\t2 & 2 & 鈴木 & 76\\\\\n\t3 & 3 & 高橋 & 45\\\\\n\t4 & 4 & 田中 & 78\\\\\n\t5 & 5 & 伊藤 & 57\\\\\n\t6 & 6 & 渡辺 & 55\\\\\n\\end{tabular}\n",
            "text/plain": [
              "  id name score\n",
              "1 1  佐藤 40   \n",
              "2 2  鈴木 76   \n",
              "3 3  高橋 45   \n",
              "4 4  田中 78   \n",
              "5 5  伊藤 57   \n",
              "6 6  渡辺 55   "
            ]
          },
          "metadata": {}
        }
      ]
    },
    {
      "cell_type": "markdown",
      "source": [
        "#### **6.4.3 `dplyr`パッケージの関数の基本**"
      ],
      "metadata": {
        "id": "kAa26-967R44"
      }
    },
    {
      "cell_type": "markdown",
      "source": [
        "1. **選択 (select)**: データフレームから特定の列を選択します。\n"
      ],
      "metadata": {
        "id": "V-qhwsN-7dTE"
      }
    },
    {
      "cell_type": "code",
      "source": [
        "# id列を省く\n",
        "selected_data <- select(data, name, score)\n",
        "head(selected_data)"
      ],
      "metadata": {
        "colab": {
          "base_uri": "https://localhost:8080/"
        },
        "id": "l4I9LJLS7gMs",
        "outputId": "269bc6cc-9663-4736-a0df-2adbb23de1e4"
      },
      "execution_count": null,
      "outputs": [
        {
          "output_type": "display_data",
          "data": {
            "text/html": [
              "<table class=\"dataframe\">\n",
              "<caption>A data.frame: 6 × 2</caption>\n",
              "<thead>\n",
              "\t<tr><th></th><th scope=col>name</th><th scope=col>score</th></tr>\n",
              "\t<tr><th></th><th scope=col>&lt;chr&gt;</th><th scope=col>&lt;dbl&gt;</th></tr>\n",
              "</thead>\n",
              "<tbody>\n",
              "\t<tr><th scope=row>1</th><td>佐藤</td><td>40</td></tr>\n",
              "\t<tr><th scope=row>2</th><td>鈴木</td><td>76</td></tr>\n",
              "\t<tr><th scope=row>3</th><td>高橋</td><td>45</td></tr>\n",
              "\t<tr><th scope=row>4</th><td>田中</td><td>78</td></tr>\n",
              "\t<tr><th scope=row>5</th><td>伊藤</td><td>57</td></tr>\n",
              "\t<tr><th scope=row>6</th><td>渡辺</td><td>55</td></tr>\n",
              "</tbody>\n",
              "</table>\n"
            ],
            "text/markdown": "\nA data.frame: 6 × 2\n\n| <!--/--> | name &lt;chr&gt; | score &lt;dbl&gt; |\n|---|---|---|\n| 1 | 佐藤 | 40 |\n| 2 | 鈴木 | 76 |\n| 3 | 高橋 | 45 |\n| 4 | 田中 | 78 |\n| 5 | 伊藤 | 57 |\n| 6 | 渡辺 | 55 |\n\n",
            "text/latex": "A data.frame: 6 × 2\n\\begin{tabular}{r|ll}\n  & name & score\\\\\n  & <chr> & <dbl>\\\\\n\\hline\n\t1 & 佐藤 & 40\\\\\n\t2 & 鈴木 & 76\\\\\n\t3 & 高橋 & 45\\\\\n\t4 & 田中 & 78\\\\\n\t5 & 伊藤 & 57\\\\\n\t6 & 渡辺 & 55\\\\\n\\end{tabular}\n",
            "text/plain": [
              "  name score\n",
              "1 佐藤 40   \n",
              "2 鈴木 76   \n",
              "3 高橋 45   \n",
              "4 田中 78   \n",
              "5 伊藤 57   \n",
              "6 渡辺 55   "
            ]
          },
          "metadata": {}
        }
      ]
    },
    {
      "cell_type": "markdown",
      "source": [
        "2. **絞り込み (filter)**: 条件に一致する行でデータフレームを絞り込みます。"
      ],
      "metadata": {
        "id": "-aOO6CU17kD0"
      }
    },
    {
      "cell_type": "code",
      "source": [
        "# 合格者だけのデータを抜き出す\n",
        "filtered_data <- filter(data, score >= 60)\n",
        "head(filtered_data)"
      ],
      "metadata": {
        "colab": {
          "base_uri": "https://localhost:8080/"
        },
        "id": "YAvzHGhI7oH0",
        "outputId": "892d5d91-ad1e-41c6-9527-8aa9e665029b"
      },
      "execution_count": null,
      "outputs": [
        {
          "output_type": "display_data",
          "data": {
            "text/html": [
              "<table class=\"dataframe\">\n",
              "<caption>A data.frame: 6 × 3</caption>\n",
              "<thead>\n",
              "\t<tr><th></th><th scope=col>id</th><th scope=col>name</th><th scope=col>score</th></tr>\n",
              "\t<tr><th></th><th scope=col>&lt;int&gt;</th><th scope=col>&lt;chr&gt;</th><th scope=col>&lt;dbl&gt;</th></tr>\n",
              "</thead>\n",
              "<tbody>\n",
              "\t<tr><th scope=row>1</th><td> 2</td><td>鈴木  </td><td>76</td></tr>\n",
              "\t<tr><th scope=row>2</th><td> 4</td><td>田中  </td><td>78</td></tr>\n",
              "\t<tr><th scope=row>3</th><td> 8</td><td>中村  </td><td>71</td></tr>\n",
              "\t<tr><th scope=row>4</th><td>11</td><td>吉田  </td><td>79</td></tr>\n",
              "\t<tr><th scope=row>5</th><td>12</td><td>山田  </td><td>75</td></tr>\n",
              "\t<tr><th scope=row>6</th><td>13</td><td>佐々木</td><td>78</td></tr>\n",
              "</tbody>\n",
              "</table>\n"
            ],
            "text/markdown": "\nA data.frame: 6 × 3\n\n| <!--/--> | id &lt;int&gt; | name &lt;chr&gt; | score &lt;dbl&gt; |\n|---|---|---|---|\n| 1 |  2 | 鈴木   | 76 |\n| 2 |  4 | 田中   | 78 |\n| 3 |  8 | 中村   | 71 |\n| 4 | 11 | 吉田   | 79 |\n| 5 | 12 | 山田   | 75 |\n| 6 | 13 | 佐々木 | 78 |\n\n",
            "text/latex": "A data.frame: 6 × 3\n\\begin{tabular}{r|lll}\n  & id & name & score\\\\\n  & <int> & <chr> & <dbl>\\\\\n\\hline\n\t1 &  2 & 鈴木   & 76\\\\\n\t2 &  4 & 田中   & 78\\\\\n\t3 &  8 & 中村   & 71\\\\\n\t4 & 11 & 吉田   & 79\\\\\n\t5 & 12 & 山田   & 75\\\\\n\t6 & 13 & 佐々木 & 78\\\\\n\\end{tabular}\n",
            "text/plain": [
              "  id name   score\n",
              "1  2 鈴木   76   \n",
              "2  4 田中   78   \n",
              "3  8 中村   71   \n",
              "4 11 吉田   79   \n",
              "5 12 山田   75   \n",
              "6 13 佐々木 78   "
            ]
          },
          "metadata": {}
        }
      ]
    },
    {
      "cell_type": "markdown",
      "source": [
        "3. **並べ替え (arrange)**: 指定した列に基づいて行を並べ替えます。"
      ],
      "metadata": {
        "id": "8S_il-uu7tJR"
      }
    },
    {
      "cell_type": "code",
      "source": [
        "arranged_data <- arrange(data, desc(score))\n",
        "head(arranged_data)"
      ],
      "metadata": {
        "colab": {
          "base_uri": "https://localhost:8080/"
        },
        "id": "jhhqYJL_7wB-",
        "outputId": "4ac2f210-7d1c-4fbb-a074-4dd9b7d67ce6"
      },
      "execution_count": null,
      "outputs": [
        {
          "output_type": "display_data",
          "data": {
            "text/html": [
              "<table class=\"dataframe\">\n",
              "<caption>A data.frame: 6 × 3</caption>\n",
              "<thead>\n",
              "\t<tr><th></th><th scope=col>id</th><th scope=col>name</th><th scope=col>score</th></tr>\n",
              "\t<tr><th></th><th scope=col>&lt;int&gt;</th><th scope=col>&lt;chr&gt;</th><th scope=col>&lt;dbl&gt;</th></tr>\n",
              "</thead>\n",
              "<tbody>\n",
              "\t<tr><th scope=row>1</th><td>11</td><td>吉田  </td><td>79</td></tr>\n",
              "\t<tr><th scope=row>2</th><td>50</td><td>中野  </td><td>79</td></tr>\n",
              "\t<tr><th scope=row>3</th><td> 4</td><td>田中  </td><td>78</td></tr>\n",
              "\t<tr><th scope=row>4</th><td>13</td><td>佐々木</td><td>78</td></tr>\n",
              "\t<tr><th scope=row>5</th><td> 2</td><td>鈴木  </td><td>76</td></tr>\n",
              "\t<tr><th scope=row>6</th><td>28</td><td>小川  </td><td>76</td></tr>\n",
              "</tbody>\n",
              "</table>\n"
            ],
            "text/markdown": "\nA data.frame: 6 × 3\n\n| <!--/--> | id &lt;int&gt; | name &lt;chr&gt; | score &lt;dbl&gt; |\n|---|---|---|---|\n| 1 | 11 | 吉田   | 79 |\n| 2 | 50 | 中野   | 79 |\n| 3 |  4 | 田中   | 78 |\n| 4 | 13 | 佐々木 | 78 |\n| 5 |  2 | 鈴木   | 76 |\n| 6 | 28 | 小川   | 76 |\n\n",
            "text/latex": "A data.frame: 6 × 3\n\\begin{tabular}{r|lll}\n  & id & name & score\\\\\n  & <int> & <chr> & <dbl>\\\\\n\\hline\n\t1 & 11 & 吉田   & 79\\\\\n\t2 & 50 & 中野   & 79\\\\\n\t3 &  4 & 田中   & 78\\\\\n\t4 & 13 & 佐々木 & 78\\\\\n\t5 &  2 & 鈴木   & 76\\\\\n\t6 & 28 & 小川   & 76\\\\\n\\end{tabular}\n",
            "text/plain": [
              "  id name   score\n",
              "1 11 吉田   79   \n",
              "2 50 中野   79   \n",
              "3  4 田中   78   \n",
              "4 13 佐々木 78   \n",
              "5  2 鈴木   76   \n",
              "6 28 小川   76   "
            ]
          },
          "metadata": {}
        }
      ]
    },
    {
      "cell_type": "markdown",
      "source": [
        "4. **変換 (mutate)**: 既存の列を使って新しい列を作成します。"
      ],
      "metadata": {
        "id": "rBhhAtZi70K6"
      }
    },
    {
      "cell_type": "code",
      "source": [
        "# 新しい列\"passed\"が作られ合格の場合TRUE，不合格の場合はFALSEが入ります\n",
        "mutated_data <- mutate(data, passed = score >= 60)\n",
        "head(mutated_data)"
      ],
      "metadata": {
        "colab": {
          "base_uri": "https://localhost:8080/"
        },
        "id": "l7Cw2w8O73OB",
        "outputId": "d350aa2a-fedf-4132-cc48-a5d8153b24cc"
      },
      "execution_count": null,
      "outputs": [
        {
          "output_type": "display_data",
          "data": {
            "text/html": [
              "<table class=\"dataframe\">\n",
              "<caption>A data.frame: 6 × 4</caption>\n",
              "<thead>\n",
              "\t<tr><th></th><th scope=col>id</th><th scope=col>name</th><th scope=col>score</th><th scope=col>passed</th></tr>\n",
              "\t<tr><th></th><th scope=col>&lt;int&gt;</th><th scope=col>&lt;chr&gt;</th><th scope=col>&lt;dbl&gt;</th><th scope=col>&lt;lgl&gt;</th></tr>\n",
              "</thead>\n",
              "<tbody>\n",
              "\t<tr><th scope=row>1</th><td>1</td><td>佐藤</td><td>40</td><td>FALSE</td></tr>\n",
              "\t<tr><th scope=row>2</th><td>2</td><td>鈴木</td><td>76</td><td> TRUE</td></tr>\n",
              "\t<tr><th scope=row>3</th><td>3</td><td>高橋</td><td>45</td><td>FALSE</td></tr>\n",
              "\t<tr><th scope=row>4</th><td>4</td><td>田中</td><td>78</td><td> TRUE</td></tr>\n",
              "\t<tr><th scope=row>5</th><td>5</td><td>伊藤</td><td>57</td><td>FALSE</td></tr>\n",
              "\t<tr><th scope=row>6</th><td>6</td><td>渡辺</td><td>55</td><td>FALSE</td></tr>\n",
              "</tbody>\n",
              "</table>\n"
            ],
            "text/markdown": "\nA data.frame: 6 × 4\n\n| <!--/--> | id &lt;int&gt; | name &lt;chr&gt; | score &lt;dbl&gt; | passed &lt;lgl&gt; |\n|---|---|---|---|---|\n| 1 | 1 | 佐藤 | 40 | FALSE |\n| 2 | 2 | 鈴木 | 76 |  TRUE |\n| 3 | 3 | 高橋 | 45 | FALSE |\n| 4 | 4 | 田中 | 78 |  TRUE |\n| 5 | 5 | 伊藤 | 57 | FALSE |\n| 6 | 6 | 渡辺 | 55 | FALSE |\n\n",
            "text/latex": "A data.frame: 6 × 4\n\\begin{tabular}{r|llll}\n  & id & name & score & passed\\\\\n  & <int> & <chr> & <dbl> & <lgl>\\\\\n\\hline\n\t1 & 1 & 佐藤 & 40 & FALSE\\\\\n\t2 & 2 & 鈴木 & 76 &  TRUE\\\\\n\t3 & 3 & 高橋 & 45 & FALSE\\\\\n\t4 & 4 & 田中 & 78 &  TRUE\\\\\n\t5 & 5 & 伊藤 & 57 & FALSE\\\\\n\t6 & 6 & 渡辺 & 55 & FALSE\\\\\n\\end{tabular}\n",
            "text/plain": [
              "  id name score passed\n",
              "1 1  佐藤 40    FALSE \n",
              "2 2  鈴木 76     TRUE \n",
              "3 3  高橋 45    FALSE \n",
              "4 4  田中 78     TRUE \n",
              "5 5  伊藤 57    FALSE \n",
              "6 6  渡辺 55    FALSE "
            ]
          },
          "metadata": {}
        }
      ]
    },
    {
      "cell_type": "code",
      "source": [
        "# 新しい列\"status\"が作られ合格の場合「合格」，不合格の場合は「ブッブー」が入ります\n",
        "mutated_data <- mutate(data, status = ifelse(score >= 60, \"合格\", \"ブッブー\"))\n",
        "head(mutated_data)"
      ],
      "metadata": {
        "colab": {
          "base_uri": "https://localhost:8080/"
        },
        "id": "4eRM0zJ4BUu-",
        "outputId": "722791bc-98d8-4304-d532-b7549e63373b"
      },
      "execution_count": null,
      "outputs": [
        {
          "output_type": "display_data",
          "data": {
            "text/html": [
              "<table class=\"dataframe\">\n",
              "<caption>A data.frame: 6 × 4</caption>\n",
              "<thead>\n",
              "\t<tr><th></th><th scope=col>id</th><th scope=col>name</th><th scope=col>score</th><th scope=col>status</th></tr>\n",
              "\t<tr><th></th><th scope=col>&lt;int&gt;</th><th scope=col>&lt;chr&gt;</th><th scope=col>&lt;dbl&gt;</th><th scope=col>&lt;chr&gt;</th></tr>\n",
              "</thead>\n",
              "<tbody>\n",
              "\t<tr><th scope=row>1</th><td>1</td><td>佐藤</td><td>40</td><td>ブッブー</td></tr>\n",
              "\t<tr><th scope=row>2</th><td>2</td><td>鈴木</td><td>76</td><td>合格    </td></tr>\n",
              "\t<tr><th scope=row>3</th><td>3</td><td>高橋</td><td>45</td><td>ブッブー</td></tr>\n",
              "\t<tr><th scope=row>4</th><td>4</td><td>田中</td><td>78</td><td>合格    </td></tr>\n",
              "\t<tr><th scope=row>5</th><td>5</td><td>伊藤</td><td>57</td><td>ブッブー</td></tr>\n",
              "\t<tr><th scope=row>6</th><td>6</td><td>渡辺</td><td>55</td><td>ブッブー</td></tr>\n",
              "</tbody>\n",
              "</table>\n"
            ],
            "text/markdown": "\nA data.frame: 6 × 4\n\n| <!--/--> | id &lt;int&gt; | name &lt;chr&gt; | score &lt;dbl&gt; | status &lt;chr&gt; |\n|---|---|---|---|---|\n| 1 | 1 | 佐藤 | 40 | ブッブー |\n| 2 | 2 | 鈴木 | 76 | 合格     |\n| 3 | 3 | 高橋 | 45 | ブッブー |\n| 4 | 4 | 田中 | 78 | 合格     |\n| 5 | 5 | 伊藤 | 57 | ブッブー |\n| 6 | 6 | 渡辺 | 55 | ブッブー |\n\n",
            "text/latex": "A data.frame: 6 × 4\n\\begin{tabular}{r|llll}\n  & id & name & score & status\\\\\n  & <int> & <chr> & <dbl> & <chr>\\\\\n\\hline\n\t1 & 1 & 佐藤 & 40 & ブッブー\\\\\n\t2 & 2 & 鈴木 & 76 & 合格    \\\\\n\t3 & 3 & 高橋 & 45 & ブッブー\\\\\n\t4 & 4 & 田中 & 78 & 合格    \\\\\n\t5 & 5 & 伊藤 & 57 & ブッブー\\\\\n\t6 & 6 & 渡辺 & 55 & ブッブー\\\\\n\\end{tabular}\n",
            "text/plain": [
              "  id name score status  \n",
              "1 1  佐藤 40    ブッブー\n",
              "2 2  鈴木 76    合格    \n",
              "3 3  高橋 45    ブッブー\n",
              "4 4  田中 78    合格    \n",
              "5 5  伊藤 57    ブッブー\n",
              "6 6  渡辺 55    ブッブー"
            ]
          },
          "metadata": {}
        }
      ]
    },
    {
      "cell_type": "markdown",
      "source": [
        "5. **要約 (summarise)**: データの要約統計を計算します。"
      ],
      "metadata": {
        "id": "dTjHK8WB75ZI"
      }
    },
    {
      "cell_type": "code",
      "source": [
        "# ここではmean()を使って平均点を出しています\n",
        "summarised_data <- summarise(data, average_score = mean(score))\n",
        "print(summarised_data)"
      ],
      "metadata": {
        "colab": {
          "base_uri": "https://localhost:8080/"
        },
        "id": "MNrXea9I78ts",
        "outputId": "01c2a335-6f7f-4386-ac8b-58fac4f29d89"
      },
      "execution_count": null,
      "outputs": [
        {
          "output_type": "stream",
          "name": "stdout",
          "text": [
            "  average_score\n",
            "1         58.46\n"
          ]
        }
      ]
    },
    {
      "cell_type": "markdown",
      "source": [
        "6. **グループ化と要約 (group_by + summarise)**: グループ化したデータに対して要約統計を計算します（パイプ演算子`%>%`については下で説明します）"
      ],
      "metadata": {
        "id": "pEYJSDA18HDG"
      }
    },
    {
      "cell_type": "code",
      "source": [
        "# この例では、先に`mutate`を使用して合格状況（status）で分類\n",
        "data_with_status <- mutate(data, status = ifelse(score >= 60, \"合格\", \"不合格\"))\n",
        "\n",
        "# data_with_statusをgroup_by(status)で合格状況ごとにグルーピングし，\n",
        "# それぞれの平均値をsummarise()で求めている\n",
        "grouped_summary <- data_with_status %>%\n",
        "    group_by(status) %>%\n",
        "    summarise(average_score = mean(score))\n",
        "\n",
        "print(grouped_summary)"
      ],
      "metadata": {
        "colab": {
          "base_uri": "https://localhost:8080/"
        },
        "id": "wsFQa6UF8Tcu",
        "outputId": "467485bd-362b-4065-94c9-10dd598221db"
      },
      "execution_count": null,
      "outputs": [
        {
          "output_type": "stream",
          "name": "stdout",
          "text": [
            "\u001b[90m# A tibble: 2 × 2\u001b[39m\n",
            "  status average_score\n",
            "  \u001b[3m\u001b[90m<chr>\u001b[39m\u001b[23m          \u001b[3m\u001b[90m<dbl>\u001b[39m\u001b[23m\n",
            "\u001b[90m1\u001b[39m 不合格          47.9\n",
            "\u001b[90m2\u001b[39m 合格            71.9\n"
          ]
        }
      ]
    },
    {
      "cell_type": "markdown",
      "source": [
        "### **6.5 パイプ演算子の使い方**"
      ],
      "metadata": {
        "id": "VBb-DVGObtHL"
      }
    },
    {
      "cell_type": "markdown",
      "source": [
        "#### **6.5.1 パイプ演算子とは**"
      ],
      "metadata": {
        "id": "S3T2Q60PH1k-"
      }
    },
    {
      "cell_type": "markdown",
      "source": [
        "`dplyr`と一緒によく使われる`%>%`は、パイプ演算子（pipe operator）と呼ばれ，Rの`magrittr`パッケージによって提供されています．`tidyverse`に含まれるため、`tidyverse`をロードすることで自動的に使えるようになります．パイプ演算子は、コードの可読性を向上させ，データ処理の工程を直感的につなげることができる強力なツールですので，バグを減らし再現性を高めることが期待できます．\n",
        "\n",
        "パイプ演算子`%>%`は、左側の結果を右側の関数の最初の引数として渡します．これにより、ネストされた関数呼び出し（関数の中で関数を呼び出す）を避け，コードをより読みやすく直感的なものにすることができます．\n",
        "\n",
        "```r\n",
        "# ネストされた呼び出しの例（めっちゃ読みにくい）\n",
        "関数C( 関数B( 関数A( データ ) ) )\n",
        "```\n",
        "\n",
        "```r\n",
        "# パイプ演算子による処理（めっちゃ読みやすい）\n",
        "データ %>% 関数A %>% 関数B %>% 関数C\n",
        "```\n",
        "`x %>% f`は、`f(x)`と同等の処理を行います．\n"
      ],
      "metadata": {
        "id": "4rSGMcm8FAg_"
      }
    },
    {
      "cell_type": "markdown",
      "source": [
        "#### **6.5.2  「`%>%`」と「`|>`」の2種類あるパイプ演算子**"
      ],
      "metadata": {
        "id": "pfM4AKV0P-hW"
      }
    },
    {
      "cell_type": "markdown",
      "source": [
        "`%>%` パイプ演算子は`tidyverse`パッケージによって提供される演算子でしたが，R（バージョン4.1.0以降）でも同様の機能を持つパイプ演算子`|>` が標準機能としてサポートされるようになりました．\n",
        "\n",
        "`|>`を使った場合でも`%>%`を使った場合とほぼ同様の処理を行われます．今後は，`|>`が主流になるかもしれませんが，この資料では`%>%`で記述しています．ネイティブパイプに置き換えても同じ結果が出力されます．\n"
      ],
      "metadata": {
        "id": "PkuKUTiKQUHj"
      }
    },
    {
      "cell_type": "markdown",
      "source": [
        "\n",
        "#### **6.5.3 パイプ演算子の使用例**\n"
      ],
      "metadata": {
        "id": "0wDFfy3PHy-R"
      }
    },
    {
      "cell_type": "code",
      "source": [
        "# データの作成（data.frame版）\n",
        "data <- data.frame(\n",
        "  id = 1:50,\n",
        "  name = c(\"佐藤\", \"鈴木\", \"高橋\", \"田中\", \"伊藤\", \"渡辺\", \"山本\", \"中村\", \"小林\", \"加藤\",\n",
        "           \"吉田\", \"山田\", \"佐々木\", \"山口\", \"松本\", \"井上\", \"木村\", \"林\", \"斎藤\", \"清水\",\n",
        "           \"山崎\", \"小森\", \"池田\", \"橋本\", \"阿部\", \"狩野\", \"山下\", \"小川\", \"中島\", \"石井\",\n",
        "           \"前田\", \"藤田\", \"岡田\", \"後藤\", \"長谷川\", \"村上\", \"近藤\", \"石原\", \"坂本\", \"遠藤\",\n",
        "           \"青野\", \"藤井\", \"西村\", \"福田\", \"太田\", \"三浦\", \"岡本\", \"松田\", \"中川\", \"中野\"),\n",
        "  score = c(40, 76, 45, 78, 57, 55, 44, 71, 41, 41, 79, 75, 78, 51, 58, 67, 40, 54,\n",
        "           75, 52, 60, 51, 44, 46, 44, 43, 52, 76, 54, 55, 60, 75, 63, 55, 53, 61,\n",
        "           45, 75, 40, 71, 45, 70, 40, 76, 74, 69, 43, 74, 53, 79)\n",
        ")\n",
        "\n",
        "head(data)"
      ],
      "metadata": {
        "colab": {
          "base_uri": "https://localhost:8080/",
          "height": 286
        },
        "id": "w53ISsw8PKCe",
        "outputId": "da43dfa9-fd38-47fa-bbf5-9506ce5d9c81"
      },
      "execution_count": null,
      "outputs": [
        {
          "output_type": "display_data",
          "data": {
            "text/html": [
              "<table class=\"dataframe\">\n",
              "<caption>A data.frame: 6 × 3</caption>\n",
              "<thead>\n",
              "\t<tr><th></th><th scope=col>id</th><th scope=col>name</th><th scope=col>score</th></tr>\n",
              "\t<tr><th></th><th scope=col>&lt;int&gt;</th><th scope=col>&lt;chr&gt;</th><th scope=col>&lt;dbl&gt;</th></tr>\n",
              "</thead>\n",
              "<tbody>\n",
              "\t<tr><th scope=row>1</th><td>1</td><td>佐藤</td><td>40</td></tr>\n",
              "\t<tr><th scope=row>2</th><td>2</td><td>鈴木</td><td>76</td></tr>\n",
              "\t<tr><th scope=row>3</th><td>3</td><td>高橋</td><td>45</td></tr>\n",
              "\t<tr><th scope=row>4</th><td>4</td><td>田中</td><td>78</td></tr>\n",
              "\t<tr><th scope=row>5</th><td>5</td><td>伊藤</td><td>57</td></tr>\n",
              "\t<tr><th scope=row>6</th><td>6</td><td>渡辺</td><td>55</td></tr>\n",
              "</tbody>\n",
              "</table>\n"
            ],
            "text/markdown": "\nA data.frame: 6 × 3\n\n| <!--/--> | id &lt;int&gt; | name &lt;chr&gt; | score &lt;dbl&gt; |\n|---|---|---|---|\n| 1 | 1 | 佐藤 | 40 |\n| 2 | 2 | 鈴木 | 76 |\n| 3 | 3 | 高橋 | 45 |\n| 4 | 4 | 田中 | 78 |\n| 5 | 5 | 伊藤 | 57 |\n| 6 | 6 | 渡辺 | 55 |\n\n",
            "text/latex": "A data.frame: 6 × 3\n\\begin{tabular}{r|lll}\n  & id & name & score\\\\\n  & <int> & <chr> & <dbl>\\\\\n\\hline\n\t1 & 1 & 佐藤 & 40\\\\\n\t2 & 2 & 鈴木 & 76\\\\\n\t3 & 3 & 高橋 & 45\\\\\n\t4 & 4 & 田中 & 78\\\\\n\t5 & 5 & 伊藤 & 57\\\\\n\t6 & 6 & 渡辺 & 55\\\\\n\\end{tabular}\n",
            "text/plain": [
              "  id name score\n",
              "1 1  佐藤 40   \n",
              "2 2  鈴木 76   \n",
              "3 3  高橋 45   \n",
              "4 4  田中 78   \n",
              "5 5  伊藤 57   \n",
              "6 6  渡辺 55   "
            ]
          },
          "metadata": {}
        }
      ]
    },
    {
      "cell_type": "markdown",
      "source": [
        "**パイプ演算子なしで書かれたコード：**"
      ],
      "metadata": {
        "id": "C3Lzf_9oPMTd"
      }
    },
    {
      "cell_type": "code",
      "source": [
        "arrange(filter(select(data, name, score), score >= 75), desc(score))"
      ],
      "metadata": {
        "colab": {
          "base_uri": "https://localhost:8080/",
          "height": 460
        },
        "id": "6yatGLAUGy6g",
        "outputId": "771c296a-9d9e-41fd-e8fc-53e877608c30"
      },
      "execution_count": null,
      "outputs": [
        {
          "output_type": "display_data",
          "data": {
            "text/html": [
              "<table class=\"dataframe\">\n",
              "<caption>A data.frame: 11 × 2</caption>\n",
              "<thead>\n",
              "\t<tr><th scope=col>name</th><th scope=col>score</th></tr>\n",
              "\t<tr><th scope=col>&lt;chr&gt;</th><th scope=col>&lt;dbl&gt;</th></tr>\n",
              "</thead>\n",
              "<tbody>\n",
              "\t<tr><td>吉田  </td><td>79</td></tr>\n",
              "\t<tr><td>中野  </td><td>79</td></tr>\n",
              "\t<tr><td>田中  </td><td>78</td></tr>\n",
              "\t<tr><td>佐々木</td><td>78</td></tr>\n",
              "\t<tr><td>鈴木  </td><td>76</td></tr>\n",
              "\t<tr><td>小川  </td><td>76</td></tr>\n",
              "\t<tr><td>福田  </td><td>76</td></tr>\n",
              "\t<tr><td>山田  </td><td>75</td></tr>\n",
              "\t<tr><td>斎藤  </td><td>75</td></tr>\n",
              "\t<tr><td>藤田  </td><td>75</td></tr>\n",
              "\t<tr><td>石原  </td><td>75</td></tr>\n",
              "</tbody>\n",
              "</table>\n"
            ],
            "text/markdown": "\nA data.frame: 11 × 2\n\n| name &lt;chr&gt; | score &lt;dbl&gt; |\n|---|---|\n| 吉田   | 79 |\n| 中野   | 79 |\n| 田中   | 78 |\n| 佐々木 | 78 |\n| 鈴木   | 76 |\n| 小川   | 76 |\n| 福田   | 76 |\n| 山田   | 75 |\n| 斎藤   | 75 |\n| 藤田   | 75 |\n| 石原   | 75 |\n\n",
            "text/latex": "A data.frame: 11 × 2\n\\begin{tabular}{ll}\n name & score\\\\\n <chr> & <dbl>\\\\\n\\hline\n\t 吉田   & 79\\\\\n\t 中野   & 79\\\\\n\t 田中   & 78\\\\\n\t 佐々木 & 78\\\\\n\t 鈴木   & 76\\\\\n\t 小川   & 76\\\\\n\t 福田   & 76\\\\\n\t 山田   & 75\\\\\n\t 斎藤   & 75\\\\\n\t 藤田   & 75\\\\\n\t 石原   & 75\\\\\n\\end{tabular}\n",
            "text/plain": [
              "   name   score\n",
              "1  吉田   79   \n",
              "2  中野   79   \n",
              "3  田中   78   \n",
              "4  佐々木 78   \n",
              "5  鈴木   76   \n",
              "6  小川   76   \n",
              "7  福田   76   \n",
              "8  山田   75   \n",
              "9  斎藤   75   \n",
              "10 藤田   75   \n",
              "11 石原   75   "
            ]
          },
          "metadata": {}
        }
      ]
    },
    {
      "cell_type": "markdown",
      "source": [
        "このRコードは`data` データフレームから `name` と `score` の列を選択し、75点以上の得点を取得した学生のみを抽出して、得点が高い順（降順）に並べ替えた結果を返します．つまり，この処理は、成績表から合格基準を満たす学生を選び出し，その成績に基づいてランキングを作成していることになります．\n",
        "\n",
        "1. **`select(data, name, score)`**: `data` データフレームから `name` と `score` の2つの列を選択します。これにより、処理の対象となるデータがこれら2列に限定されます。\n",
        "\n",
        "2. **`filter(..., score >= 75)`**: `select` 関数によって抽出されたデータのうち、`score` が75以上の行のみを選択します。つまり、テストで75点以上を取得した学生のデータのみが次のステップに進みます。\n",
        "\n",
        "3. **`arrange(..., desc(score))`**: 最後に、`filter` 関数によって得られたデータを `score` の値で降順に並べ替えます。つまり、最高得点を取得した学生から順にデータが並べられます。\n"
      ],
      "metadata": {
        "id": "uENOHiXVHZmw"
      }
    },
    {
      "cell_type": "markdown",
      "source": [
        "**パイプ演算子を使用して書き直したコード：**\n"
      ],
      "metadata": {
        "id": "8xVyPkgJG0ey"
      }
    },
    {
      "cell_type": "code",
      "source": [
        "data %>%\n",
        "  select(name, score) %>%\n",
        "  filter(score >= 75) %>%\n",
        "  arrange(desc(score))"
      ],
      "metadata": {
        "colab": {
          "base_uri": "https://localhost:8080/",
          "height": 460
        },
        "id": "sCQnf6deG2xS",
        "outputId": "0745fe4b-25a6-4c0b-8b29-ac3a1e6d4d0c"
      },
      "execution_count": null,
      "outputs": [
        {
          "output_type": "display_data",
          "data": {
            "text/html": [
              "<table class=\"dataframe\">\n",
              "<caption>A data.frame: 11 × 2</caption>\n",
              "<thead>\n",
              "\t<tr><th scope=col>name</th><th scope=col>score</th></tr>\n",
              "\t<tr><th scope=col>&lt;chr&gt;</th><th scope=col>&lt;dbl&gt;</th></tr>\n",
              "</thead>\n",
              "<tbody>\n",
              "\t<tr><td>吉田  </td><td>79</td></tr>\n",
              "\t<tr><td>中野  </td><td>79</td></tr>\n",
              "\t<tr><td>田中  </td><td>78</td></tr>\n",
              "\t<tr><td>佐々木</td><td>78</td></tr>\n",
              "\t<tr><td>鈴木  </td><td>76</td></tr>\n",
              "\t<tr><td>小川  </td><td>76</td></tr>\n",
              "\t<tr><td>福田  </td><td>76</td></tr>\n",
              "\t<tr><td>山田  </td><td>75</td></tr>\n",
              "\t<tr><td>斎藤  </td><td>75</td></tr>\n",
              "\t<tr><td>藤田  </td><td>75</td></tr>\n",
              "\t<tr><td>石原  </td><td>75</td></tr>\n",
              "</tbody>\n",
              "</table>\n"
            ],
            "text/markdown": "\nA data.frame: 11 × 2\n\n| name &lt;chr&gt; | score &lt;dbl&gt; |\n|---|---|\n| 吉田   | 79 |\n| 中野   | 79 |\n| 田中   | 78 |\n| 佐々木 | 78 |\n| 鈴木   | 76 |\n| 小川   | 76 |\n| 福田   | 76 |\n| 山田   | 75 |\n| 斎藤   | 75 |\n| 藤田   | 75 |\n| 石原   | 75 |\n\n",
            "text/latex": "A data.frame: 11 × 2\n\\begin{tabular}{ll}\n name & score\\\\\n <chr> & <dbl>\\\\\n\\hline\n\t 吉田   & 79\\\\\n\t 中野   & 79\\\\\n\t 田中   & 78\\\\\n\t 佐々木 & 78\\\\\n\t 鈴木   & 76\\\\\n\t 小川   & 76\\\\\n\t 福田   & 76\\\\\n\t 山田   & 75\\\\\n\t 斎藤   & 75\\\\\n\t 藤田   & 75\\\\\n\t 石原   & 75\\\\\n\\end{tabular}\n",
            "text/plain": [
              "   name   score\n",
              "1  吉田   79   \n",
              "2  中野   79   \n",
              "3  田中   78   \n",
              "4  佐々木 78   \n",
              "5  鈴木   76   \n",
              "6  小川   76   \n",
              "7  福田   76   \n",
              "8  山田   75   \n",
              "9  斎藤   75   \n",
              "10 藤田   75   \n",
              "11 石原   75   "
            ]
          },
          "metadata": {}
        }
      ]
    },
    {
      "cell_type": "code",
      "source": [
        "data |>\n",
        "  select(name, score) |>\n",
        "  filter(score >= 75) |>\n",
        "  arrange(desc(score))"
      ],
      "metadata": {
        "colab": {
          "base_uri": "https://localhost:8080/",
          "height": 460
        },
        "id": "lkvbOByiPRKm",
        "outputId": "b0879bea-64f1-4298-cc67-0c9cec8501f6"
      },
      "execution_count": null,
      "outputs": [
        {
          "output_type": "display_data",
          "data": {
            "text/html": [
              "<table class=\"dataframe\">\n",
              "<caption>A data.frame: 11 × 2</caption>\n",
              "<thead>\n",
              "\t<tr><th scope=col>name</th><th scope=col>score</th></tr>\n",
              "\t<tr><th scope=col>&lt;chr&gt;</th><th scope=col>&lt;dbl&gt;</th></tr>\n",
              "</thead>\n",
              "<tbody>\n",
              "\t<tr><td>吉田  </td><td>79</td></tr>\n",
              "\t<tr><td>中野  </td><td>79</td></tr>\n",
              "\t<tr><td>田中  </td><td>78</td></tr>\n",
              "\t<tr><td>佐々木</td><td>78</td></tr>\n",
              "\t<tr><td>鈴木  </td><td>76</td></tr>\n",
              "\t<tr><td>小川  </td><td>76</td></tr>\n",
              "\t<tr><td>福田  </td><td>76</td></tr>\n",
              "\t<tr><td>山田  </td><td>75</td></tr>\n",
              "\t<tr><td>斎藤  </td><td>75</td></tr>\n",
              "\t<tr><td>藤田  </td><td>75</td></tr>\n",
              "\t<tr><td>石原  </td><td>75</td></tr>\n",
              "</tbody>\n",
              "</table>\n"
            ],
            "text/markdown": "\nA data.frame: 11 × 2\n\n| name &lt;chr&gt; | score &lt;dbl&gt; |\n|---|---|\n| 吉田   | 79 |\n| 中野   | 79 |\n| 田中   | 78 |\n| 佐々木 | 78 |\n| 鈴木   | 76 |\n| 小川   | 76 |\n| 福田   | 76 |\n| 山田   | 75 |\n| 斎藤   | 75 |\n| 藤田   | 75 |\n| 石原   | 75 |\n\n",
            "text/latex": "A data.frame: 11 × 2\n\\begin{tabular}{ll}\n name & score\\\\\n <chr> & <dbl>\\\\\n\\hline\n\t 吉田   & 79\\\\\n\t 中野   & 79\\\\\n\t 田中   & 78\\\\\n\t 佐々木 & 78\\\\\n\t 鈴木   & 76\\\\\n\t 小川   & 76\\\\\n\t 福田   & 76\\\\\n\t 山田   & 75\\\\\n\t 斎藤   & 75\\\\\n\t 藤田   & 75\\\\\n\t 石原   & 75\\\\\n\\end{tabular}\n",
            "text/plain": [
              "   name   score\n",
              "1  吉田   79   \n",
              "2  中野   79   \n",
              "3  田中   78   \n",
              "4  佐々木 78   \n",
              "5  鈴木   76   \n",
              "6  小川   76   \n",
              "7  福田   76   \n",
              "8  山田   75   \n",
              "9  斎藤   75   \n",
              "10 藤田   75   \n",
              "11 石原   75   "
            ]
          },
          "metadata": {}
        }
      ]
    },
    {
      "cell_type": "markdown",
      "source": [
        "このコードも上と同様の処理を行っていますが，パイプ演算子(`%>%`)を用いることで，複数の処理を直感的かつ読みやすい形で連鎖させています．各ステップの具体的な操作は以下の通りです：\n",
        "\n",
        "1. `select(name, score)`: 最初に、`data`データフレームから`name`（名前）と`score`（得点）の2つの列を選択します。これにより、処理に必要な情報のみを含むデータフレームが作成されます。\n",
        "\n",
        "2. `filter(score >= 75)`: 選択されたデータのうち、`score`が75点以上の行だけを抽出します。このフィルタリングにより、75点以上を取得した学生のデータのみが次のステップへと進みます。\n",
        "\n",
        "3. `arrange(desc(score))`: 最終的に、フィルタリングされたデータを`score`列の値で降順に並べ替えます。これにより、最も高い得点を取得した学生から順にデータが並べられます。\n",
        "\n",
        "\n",
        "パイプ演算子を使用することで、処理の各ステップを明確にし、コードの読みやすさを向上させています．パイプ演算子は特に`tidyverse`のパッケージと相性が良く，Rでのデータ分析作業で非常に良く使われますので覚えておいてください．"
      ],
      "metadata": {
        "id": "fCyO1J0zJFqY"
      }
    },
    {
      "cell_type": "markdown",
      "source": [
        "### **6.6 データの縦横変換**"
      ],
      "metadata": {
        "id": "c898lUHk84uw"
      }
    },
    {
      "cell_type": "markdown",
      "source": [
        "#### **6.6.1 サンプルデータの準備**"
      ],
      "metadata": {
        "id": "BpTmiOPlCsOd"
      }
    },
    {
      "cell_type": "markdown",
      "source": [
        "まず仮想のサンプルデータセットを作成します．以下のデータセットでは，異なる年齢層の参加者がストレスと幸福感の主観評定のデータをまとめたものを考えています．\n"
      ],
      "metadata": {
        "id": "Dxx4ZjYJ87xm"
      }
    },
    {
      "cell_type": "code",
      "source": [
        "library(tidyr)\n",
        "\n",
        "# 幸福感研究用サンプルデータフレームの作成\n",
        "wellbeing_data <- tibble(\n",
        "  participant_id = c(101, 102, 103, 101, 102, 103),\n",
        "  age_group = c(\"Young\", \"Middle-aged\", \"Elderly\", \"Young\", \"Middle-aged\", \"Elderly\"),\n",
        "  year = c(2020, 2020, 2020, 2021, 2021, 2021),\n",
        "  stress_level = c(40, 50, 30, 42, 48, 28),\n",
        "  wellbeing_score = c(7, 6, 8, 7, 5, 9)\n",
        ")\n",
        "\n",
        "# 結果を表示\n",
        "wellbeing_data"
      ],
      "metadata": {
        "colab": {
          "base_uri": "https://localhost:8080/"
        },
        "id": "xzOoVCWL87E1",
        "outputId": "8dd76044-1838-47e4-ffa3-57511bbd98b0"
      },
      "execution_count": null,
      "outputs": [
        {
          "output_type": "display_data",
          "data": {
            "text/html": [
              "<table class=\"dataframe\">\n",
              "<caption>A tibble: 6 × 5</caption>\n",
              "<thead>\n",
              "\t<tr><th scope=col>participant_id</th><th scope=col>age_group</th><th scope=col>year</th><th scope=col>stress_level</th><th scope=col>wellbeing_score</th></tr>\n",
              "\t<tr><th scope=col>&lt;dbl&gt;</th><th scope=col>&lt;chr&gt;</th><th scope=col>&lt;dbl&gt;</th><th scope=col>&lt;dbl&gt;</th><th scope=col>&lt;dbl&gt;</th></tr>\n",
              "</thead>\n",
              "<tbody>\n",
              "\t<tr><td>101</td><td>Young      </td><td>2020</td><td>40</td><td>7</td></tr>\n",
              "\t<tr><td>102</td><td>Middle-aged</td><td>2020</td><td>50</td><td>6</td></tr>\n",
              "\t<tr><td>103</td><td>Elderly    </td><td>2020</td><td>30</td><td>8</td></tr>\n",
              "\t<tr><td>101</td><td>Young      </td><td>2021</td><td>42</td><td>7</td></tr>\n",
              "\t<tr><td>102</td><td>Middle-aged</td><td>2021</td><td>48</td><td>5</td></tr>\n",
              "\t<tr><td>103</td><td>Elderly    </td><td>2021</td><td>28</td><td>9</td></tr>\n",
              "</tbody>\n",
              "</table>\n"
            ],
            "text/markdown": "\nA tibble: 6 × 5\n\n| participant_id &lt;dbl&gt; | age_group &lt;chr&gt; | year &lt;dbl&gt; | stress_level &lt;dbl&gt; | wellbeing_score &lt;dbl&gt; |\n|---|---|---|---|---|\n| 101 | Young       | 2020 | 40 | 7 |\n| 102 | Middle-aged | 2020 | 50 | 6 |\n| 103 | Elderly     | 2020 | 30 | 8 |\n| 101 | Young       | 2021 | 42 | 7 |\n| 102 | Middle-aged | 2021 | 48 | 5 |\n| 103 | Elderly     | 2021 | 28 | 9 |\n\n",
            "text/latex": "A tibble: 6 × 5\n\\begin{tabular}{lllll}\n participant\\_id & age\\_group & year & stress\\_level & wellbeing\\_score\\\\\n <dbl> & <chr> & <dbl> & <dbl> & <dbl>\\\\\n\\hline\n\t 101 & Young       & 2020 & 40 & 7\\\\\n\t 102 & Middle-aged & 2020 & 50 & 6\\\\\n\t 103 & Elderly     & 2020 & 30 & 8\\\\\n\t 101 & Young       & 2021 & 42 & 7\\\\\n\t 102 & Middle-aged & 2021 & 48 & 5\\\\\n\t 103 & Elderly     & 2021 & 28 & 9\\\\\n\\end{tabular}\n",
            "text/plain": [
              "  participant_id age_group   year stress_level wellbeing_score\n",
              "1 101            Young       2020 40           7              \n",
              "2 102            Middle-aged 2020 50           6              \n",
              "3 103            Elderly     2020 30           8              \n",
              "4 101            Young       2021 42           7              \n",
              "5 102            Middle-aged 2021 48           5              \n",
              "6 103            Elderly     2021 28           9              "
            ]
          },
          "metadata": {}
        }
      ]
    },
    {
      "cell_type": "markdown",
      "source": [
        "このデータセットは次のように構成されています：\n",
        "- `participant_id`: 各参加者のユニークな識別ID\n",
        "- `age_group`: 参加者の年齢層（「Young」、「Middle-aged」、「Elderly」）\n",
        "- `year`: 調査年\n",
        "- `stress_level`: ストレスレベルの測定値（数値スコア）\n",
        "- `wellbeing_score`: 幸福感のスコア（10点満点）"
      ],
      "metadata": {
        "id": "AUT9o_Ru92Sb"
      }
    },
    {
      "cell_type": "markdown",
      "source": [
        "#### **6.6.2 縦長形式への変換 (`pivot_longer`)**\n",
        "\n",
        "\n"
      ],
      "metadata": {
        "id": "TWQTST8w-fXe"
      }
    },
    {
      "cell_type": "markdown",
      "source": [
        "\n",
        "\n",
        "このデータに対して`pivot_longer()`関数を使用して、`stress_level`と`happiness_score`列を縦長の形式に変換します．その際に指標（`measure`）列と数値（`value`）列を新たに作成します．"
      ],
      "metadata": {
        "id": "tM_M0seg-bC1"
      }
    },
    {
      "cell_type": "code",
      "source": [
        "# stress_levelとwellbeing_score列を縦長形式に変換\n",
        "wellbeing_data_long <- wellbeing_data %>%\n",
        "  pivot_longer(\n",
        "    cols = c(stress_level, wellbeing_score),\n",
        "    names_to = \"measure\",\n",
        "    values_to = \"value\"\n",
        "  )\n",
        "\n",
        "# 結果を表示\n",
        "wellbeing_data_long"
      ],
      "metadata": {
        "colab": {
          "base_uri": "https://localhost:8080/"
        },
        "id": "O6wSVWyp9utf",
        "outputId": "db823cc1-7ecb-4734-a905-1787d0fe5760"
      },
      "execution_count": null,
      "outputs": [
        {
          "output_type": "display_data",
          "data": {
            "text/html": [
              "<table class=\"dataframe\">\n",
              "<caption>A tibble: 12 × 5</caption>\n",
              "<thead>\n",
              "\t<tr><th scope=col>participant_id</th><th scope=col>age_group</th><th scope=col>year</th><th scope=col>measure</th><th scope=col>value</th></tr>\n",
              "\t<tr><th scope=col>&lt;dbl&gt;</th><th scope=col>&lt;chr&gt;</th><th scope=col>&lt;dbl&gt;</th><th scope=col>&lt;chr&gt;</th><th scope=col>&lt;dbl&gt;</th></tr>\n",
              "</thead>\n",
              "<tbody>\n",
              "\t<tr><td>101</td><td>Young      </td><td>2020</td><td>stress_level   </td><td>40</td></tr>\n",
              "\t<tr><td>101</td><td>Young      </td><td>2020</td><td>wellbeing_score</td><td> 7</td></tr>\n",
              "\t<tr><td>102</td><td>Middle-aged</td><td>2020</td><td>stress_level   </td><td>50</td></tr>\n",
              "\t<tr><td>102</td><td>Middle-aged</td><td>2020</td><td>wellbeing_score</td><td> 6</td></tr>\n",
              "\t<tr><td>103</td><td>Elderly    </td><td>2020</td><td>stress_level   </td><td>30</td></tr>\n",
              "\t<tr><td>103</td><td>Elderly    </td><td>2020</td><td>wellbeing_score</td><td> 8</td></tr>\n",
              "\t<tr><td>101</td><td>Young      </td><td>2021</td><td>stress_level   </td><td>42</td></tr>\n",
              "\t<tr><td>101</td><td>Young      </td><td>2021</td><td>wellbeing_score</td><td> 7</td></tr>\n",
              "\t<tr><td>102</td><td>Middle-aged</td><td>2021</td><td>stress_level   </td><td>48</td></tr>\n",
              "\t<tr><td>102</td><td>Middle-aged</td><td>2021</td><td>wellbeing_score</td><td> 5</td></tr>\n",
              "\t<tr><td>103</td><td>Elderly    </td><td>2021</td><td>stress_level   </td><td>28</td></tr>\n",
              "\t<tr><td>103</td><td>Elderly    </td><td>2021</td><td>wellbeing_score</td><td> 9</td></tr>\n",
              "</tbody>\n",
              "</table>\n"
            ],
            "text/markdown": "\nA tibble: 12 × 5\n\n| participant_id &lt;dbl&gt; | age_group &lt;chr&gt; | year &lt;dbl&gt; | measure &lt;chr&gt; | value &lt;dbl&gt; |\n|---|---|---|---|---|\n| 101 | Young       | 2020 | stress_level    | 40 |\n| 101 | Young       | 2020 | wellbeing_score |  7 |\n| 102 | Middle-aged | 2020 | stress_level    | 50 |\n| 102 | Middle-aged | 2020 | wellbeing_score |  6 |\n| 103 | Elderly     | 2020 | stress_level    | 30 |\n| 103 | Elderly     | 2020 | wellbeing_score |  8 |\n| 101 | Young       | 2021 | stress_level    | 42 |\n| 101 | Young       | 2021 | wellbeing_score |  7 |\n| 102 | Middle-aged | 2021 | stress_level    | 48 |\n| 102 | Middle-aged | 2021 | wellbeing_score |  5 |\n| 103 | Elderly     | 2021 | stress_level    | 28 |\n| 103 | Elderly     | 2021 | wellbeing_score |  9 |\n\n",
            "text/latex": "A tibble: 12 × 5\n\\begin{tabular}{lllll}\n participant\\_id & age\\_group & year & measure & value\\\\\n <dbl> & <chr> & <dbl> & <chr> & <dbl>\\\\\n\\hline\n\t 101 & Young       & 2020 & stress\\_level    & 40\\\\\n\t 101 & Young       & 2020 & wellbeing\\_score &  7\\\\\n\t 102 & Middle-aged & 2020 & stress\\_level    & 50\\\\\n\t 102 & Middle-aged & 2020 & wellbeing\\_score &  6\\\\\n\t 103 & Elderly     & 2020 & stress\\_level    & 30\\\\\n\t 103 & Elderly     & 2020 & wellbeing\\_score &  8\\\\\n\t 101 & Young       & 2021 & stress\\_level    & 42\\\\\n\t 101 & Young       & 2021 & wellbeing\\_score &  7\\\\\n\t 102 & Middle-aged & 2021 & stress\\_level    & 48\\\\\n\t 102 & Middle-aged & 2021 & wellbeing\\_score &  5\\\\\n\t 103 & Elderly     & 2021 & stress\\_level    & 28\\\\\n\t 103 & Elderly     & 2021 & wellbeing\\_score &  9\\\\\n\\end{tabular}\n",
            "text/plain": [
              "   participant_id age_group   year measure         value\n",
              "1  101            Young       2020 stress_level    40   \n",
              "2  101            Young       2020 wellbeing_score  7   \n",
              "3  102            Middle-aged 2020 stress_level    50   \n",
              "4  102            Middle-aged 2020 wellbeing_score  6   \n",
              "5  103            Elderly     2020 stress_level    30   \n",
              "6  103            Elderly     2020 wellbeing_score  8   \n",
              "7  101            Young       2021 stress_level    42   \n",
              "8  101            Young       2021 wellbeing_score  7   \n",
              "9  102            Middle-aged 2021 stress_level    48   \n",
              "10 102            Middle-aged 2021 wellbeing_score  5   \n",
              "11 103            Elderly     2021 stress_level    28   \n",
              "12 103            Elderly     2021 wellbeing_score  9   "
            ]
          },
          "metadata": {}
        }
      ]
    },
    {
      "cell_type": "markdown",
      "source": [
        "#### **6.6.3 縦長形式データの処理の例**"
      ],
      "metadata": {
        "id": "JhD8fEAvCBQH"
      }
    },
    {
      "cell_type": "markdown",
      "source": [
        "**特定の年齢層のデータをフィルタリング**"
      ],
      "metadata": {
        "id": "MZp9YXHPBvtX"
      }
    },
    {
      "cell_type": "code",
      "source": [
        "# 「Young」年齢層のデータのみ抽出\n",
        "young_data <- wellbeing_data_long %>%\n",
        "  filter(age_group == \"Young\")\n",
        "\n",
        "# 結果を表示\n",
        "young_data"
      ],
      "metadata": {
        "colab": {
          "base_uri": "https://localhost:8080/",
          "height": 223
        },
        "id": "7vxBxmX9BmQf",
        "outputId": "66655151-008b-43e8-f5ad-f635c69483fb"
      },
      "execution_count": null,
      "outputs": [
        {
          "output_type": "display_data",
          "data": {
            "text/html": [
              "<table class=\"dataframe\">\n",
              "<caption>A tibble: 4 × 5</caption>\n",
              "<thead>\n",
              "\t<tr><th scope=col>participant_id</th><th scope=col>age_group</th><th scope=col>year</th><th scope=col>measure</th><th scope=col>value</th></tr>\n",
              "\t<tr><th scope=col>&lt;dbl&gt;</th><th scope=col>&lt;chr&gt;</th><th scope=col>&lt;dbl&gt;</th><th scope=col>&lt;chr&gt;</th><th scope=col>&lt;dbl&gt;</th></tr>\n",
              "</thead>\n",
              "<tbody>\n",
              "\t<tr><td>101</td><td>Young</td><td>2020</td><td>stress_level   </td><td>40</td></tr>\n",
              "\t<tr><td>101</td><td>Young</td><td>2020</td><td>wellbeing_score</td><td> 7</td></tr>\n",
              "\t<tr><td>101</td><td>Young</td><td>2021</td><td>stress_level   </td><td>42</td></tr>\n",
              "\t<tr><td>101</td><td>Young</td><td>2021</td><td>wellbeing_score</td><td> 7</td></tr>\n",
              "</tbody>\n",
              "</table>\n"
            ],
            "text/markdown": "\nA tibble: 4 × 5\n\n| participant_id &lt;dbl&gt; | age_group &lt;chr&gt; | year &lt;dbl&gt; | measure &lt;chr&gt; | value &lt;dbl&gt; |\n|---|---|---|---|---|\n| 101 | Young | 2020 | stress_level    | 40 |\n| 101 | Young | 2020 | wellbeing_score |  7 |\n| 101 | Young | 2021 | stress_level    | 42 |\n| 101 | Young | 2021 | wellbeing_score |  7 |\n\n",
            "text/latex": "A tibble: 4 × 5\n\\begin{tabular}{lllll}\n participant\\_id & age\\_group & year & measure & value\\\\\n <dbl> & <chr> & <dbl> & <chr> & <dbl>\\\\\n\\hline\n\t 101 & Young & 2020 & stress\\_level    & 40\\\\\n\t 101 & Young & 2020 & wellbeing\\_score &  7\\\\\n\t 101 & Young & 2021 & stress\\_level    & 42\\\\\n\t 101 & Young & 2021 & wellbeing\\_score &  7\\\\\n\\end{tabular}\n",
            "text/plain": [
              "  participant_id age_group year measure         value\n",
              "1 101            Young     2020 stress_level    40   \n",
              "2 101            Young     2020 wellbeing_score  7   \n",
              "3 101            Young     2021 stress_level    42   \n",
              "4 101            Young     2021 wellbeing_score  7   "
            ]
          },
          "metadata": {}
        }
      ]
    },
    {
      "cell_type": "markdown",
      "source": [
        "**特定の測定値（例：ストレスレベル）の年別平均値の計算**"
      ],
      "metadata": {
        "id": "wzWWkDzOBxF7"
      }
    },
    {
      "cell_type": "code",
      "source": [
        "# ストレスレベルの年別平均値を計算\n",
        "average_stress_by_year <- wellbeing_data_long %>%\n",
        "  filter(measure == \"stress_level\") %>%\n",
        "  group_by(year) %>%\n",
        "  summarise(average_stress = mean(value))\n",
        "\n",
        "# 結果を表示\n",
        "average_stress_by_year"
      ],
      "metadata": {
        "colab": {
          "base_uri": "https://localhost:8080/",
          "height": 161
        },
        "id": "lK0kCS-zB0Pk",
        "outputId": "b09f4a61-ad93-4770-e611-f65aade81a65"
      },
      "execution_count": null,
      "outputs": [
        {
          "output_type": "display_data",
          "data": {
            "text/html": [
              "<table class=\"dataframe\">\n",
              "<caption>A tibble: 2 × 2</caption>\n",
              "<thead>\n",
              "\t<tr><th scope=col>year</th><th scope=col>average_stress</th></tr>\n",
              "\t<tr><th scope=col>&lt;dbl&gt;</th><th scope=col>&lt;dbl&gt;</th></tr>\n",
              "</thead>\n",
              "<tbody>\n",
              "\t<tr><td>2020</td><td>40.00000</td></tr>\n",
              "\t<tr><td>2021</td><td>39.33333</td></tr>\n",
              "</tbody>\n",
              "</table>\n"
            ],
            "text/markdown": "\nA tibble: 2 × 2\n\n| year &lt;dbl&gt; | average_stress &lt;dbl&gt; |\n|---|---|\n| 2020 | 40.00000 |\n| 2021 | 39.33333 |\n\n",
            "text/latex": "A tibble: 2 × 2\n\\begin{tabular}{ll}\n year & average\\_stress\\\\\n <dbl> & <dbl>\\\\\n\\hline\n\t 2020 & 40.00000\\\\\n\t 2021 & 39.33333\\\\\n\\end{tabular}\n",
            "text/plain": [
              "  year average_stress\n",
              "1 2020 40.00000      \n",
              "2 2021 39.33333      "
            ]
          },
          "metadata": {}
        }
      ]
    },
    {
      "cell_type": "markdown",
      "source": [
        "**幸福感のスコアが特定の閾値以上のデータの抽出と集約**"
      ],
      "metadata": {
        "id": "L7iHzYguCJs5"
      }
    },
    {
      "cell_type": "code",
      "source": [
        "# 幸福感スコアが7以上のデータの集約\n",
        "high_happiness <- wellbeing_data_long %>%\n",
        "  filter(measure == \"wellbeing_score\", value >= 7) %>%\n",
        "  group_by(year, age_group) %>%\n",
        "  summarise(count = n(), average_happiness = mean(value), .groups = \"drop\")\n",
        "\n",
        "# 結果を表示\n",
        "high_happiness"
      ],
      "metadata": {
        "colab": {
          "base_uri": "https://localhost:8080/",
          "height": 223
        },
        "id": "rNI8J7dQCMZW",
        "outputId": "5ca9f3de-4949-437c-9bdf-e8ebc80494cb"
      },
      "execution_count": null,
      "outputs": [
        {
          "output_type": "display_data",
          "data": {
            "text/html": [
              "<table class=\"dataframe\">\n",
              "<caption>A tibble: 4 × 4</caption>\n",
              "<thead>\n",
              "\t<tr><th scope=col>year</th><th scope=col>age_group</th><th scope=col>count</th><th scope=col>average_happiness</th></tr>\n",
              "\t<tr><th scope=col>&lt;dbl&gt;</th><th scope=col>&lt;chr&gt;</th><th scope=col>&lt;int&gt;</th><th scope=col>&lt;dbl&gt;</th></tr>\n",
              "</thead>\n",
              "<tbody>\n",
              "\t<tr><td>2020</td><td>Elderly</td><td>1</td><td>8</td></tr>\n",
              "\t<tr><td>2020</td><td>Young  </td><td>1</td><td>7</td></tr>\n",
              "\t<tr><td>2021</td><td>Elderly</td><td>1</td><td>9</td></tr>\n",
              "\t<tr><td>2021</td><td>Young  </td><td>1</td><td>7</td></tr>\n",
              "</tbody>\n",
              "</table>\n"
            ],
            "text/markdown": "\nA tibble: 4 × 4\n\n| year &lt;dbl&gt; | age_group &lt;chr&gt; | count &lt;int&gt; | average_happiness &lt;dbl&gt; |\n|---|---|---|---|\n| 2020 | Elderly | 1 | 8 |\n| 2020 | Young   | 1 | 7 |\n| 2021 | Elderly | 1 | 9 |\n| 2021 | Young   | 1 | 7 |\n\n",
            "text/latex": "A tibble: 4 × 4\n\\begin{tabular}{llll}\n year & age\\_group & count & average\\_happiness\\\\\n <dbl> & <chr> & <int> & <dbl>\\\\\n\\hline\n\t 2020 & Elderly & 1 & 8\\\\\n\t 2020 & Young   & 1 & 7\\\\\n\t 2021 & Elderly & 1 & 9\\\\\n\t 2021 & Young   & 1 & 7\\\\\n\\end{tabular}\n",
            "text/plain": [
              "  year age_group count average_happiness\n",
              "1 2020 Elderly   1     8                \n",
              "2 2020 Young     1     7                \n",
              "3 2021 Elderly   1     9                \n",
              "4 2021 Young     1     7                "
            ]
          },
          "metadata": {}
        }
      ]
    },
    {
      "cell_type": "markdown",
      "source": [
        "#### **6.6.4 横長形式への変換 (`pivot_wider`)**\n",
        "\n",
        "縦長形式のデータを横長形式に戻す例です．"
      ],
      "metadata": {
        "id": "o0-J5FgJBJNE"
      }
    },
    {
      "cell_type": "code",
      "source": [
        "# 縦長形式から横長形式への変換\n",
        "wellbeing_data_wide <- wellbeing_data_long %>%\n",
        "  pivot_wider(\n",
        "    names_from = measure,\n",
        "    values_from = value\n",
        "  )\n",
        "\n",
        "# 変換後のデータを表示\n",
        "wellbeing_data_wide\n"
      ],
      "metadata": {
        "colab": {
          "base_uri": "https://localhost:8080/",
          "height": 286
        },
        "id": "RtX6oacaBRO6",
        "outputId": "0aebbd63-78c6-4fb0-aa95-1343e7052762"
      },
      "execution_count": null,
      "outputs": [
        {
          "output_type": "display_data",
          "data": {
            "text/html": [
              "<table class=\"dataframe\">\n",
              "<caption>A tibble: 6 × 5</caption>\n",
              "<thead>\n",
              "\t<tr><th scope=col>participant_id</th><th scope=col>age_group</th><th scope=col>year</th><th scope=col>stress_level</th><th scope=col>wellbeing_score</th></tr>\n",
              "\t<tr><th scope=col>&lt;dbl&gt;</th><th scope=col>&lt;chr&gt;</th><th scope=col>&lt;dbl&gt;</th><th scope=col>&lt;dbl&gt;</th><th scope=col>&lt;dbl&gt;</th></tr>\n",
              "</thead>\n",
              "<tbody>\n",
              "\t<tr><td>101</td><td>Young      </td><td>2020</td><td>40</td><td>7</td></tr>\n",
              "\t<tr><td>102</td><td>Middle-aged</td><td>2020</td><td>50</td><td>6</td></tr>\n",
              "\t<tr><td>103</td><td>Elderly    </td><td>2020</td><td>30</td><td>8</td></tr>\n",
              "\t<tr><td>101</td><td>Young      </td><td>2021</td><td>42</td><td>7</td></tr>\n",
              "\t<tr><td>102</td><td>Middle-aged</td><td>2021</td><td>48</td><td>5</td></tr>\n",
              "\t<tr><td>103</td><td>Elderly    </td><td>2021</td><td>28</td><td>9</td></tr>\n",
              "</tbody>\n",
              "</table>\n"
            ],
            "text/markdown": "\nA tibble: 6 × 5\n\n| participant_id &lt;dbl&gt; | age_group &lt;chr&gt; | year &lt;dbl&gt; | stress_level &lt;dbl&gt; | wellbeing_score &lt;dbl&gt; |\n|---|---|---|---|---|\n| 101 | Young       | 2020 | 40 | 7 |\n| 102 | Middle-aged | 2020 | 50 | 6 |\n| 103 | Elderly     | 2020 | 30 | 8 |\n| 101 | Young       | 2021 | 42 | 7 |\n| 102 | Middle-aged | 2021 | 48 | 5 |\n| 103 | Elderly     | 2021 | 28 | 9 |\n\n",
            "text/latex": "A tibble: 6 × 5\n\\begin{tabular}{lllll}\n participant\\_id & age\\_group & year & stress\\_level & wellbeing\\_score\\\\\n <dbl> & <chr> & <dbl> & <dbl> & <dbl>\\\\\n\\hline\n\t 101 & Young       & 2020 & 40 & 7\\\\\n\t 102 & Middle-aged & 2020 & 50 & 6\\\\\n\t 103 & Elderly     & 2020 & 30 & 8\\\\\n\t 101 & Young       & 2021 & 42 & 7\\\\\n\t 102 & Middle-aged & 2021 & 48 & 5\\\\\n\t 103 & Elderly     & 2021 & 28 & 9\\\\\n\\end{tabular}\n",
            "text/plain": [
              "  participant_id age_group   year stress_level wellbeing_score\n",
              "1 101            Young       2020 40           7              \n",
              "2 102            Middle-aged 2020 50           6              \n",
              "3 103            Elderly     2020 30           8              \n",
              "4 101            Young       2021 42           7              \n",
              "5 102            Middle-aged 2021 48           5              \n",
              "6 103            Elderly     2021 28           9              "
            ]
          },
          "metadata": {}
        }
      ]
    }
  ]
}
{
  "nbformat": 4,
  "nbformat_minor": 0,
  "metadata": {
    "colab": {
      "name": "1_frequency_table_histogram.ipynb",
      "provenance": [],
      "collapsed_sections": [
        "Y_vIrTSJNgmM",
        "SSCZENkqP_aS",
        "h-WmhXyCGByr",
        "Oi9xgBIGRKQO"
      ]
    },
    "kernelspec": {
      "name": "python3",
      "display_name": "Python 3"
    }
  },
  "cells": [
    {
      "cell_type": "markdown",
      "metadata": {
        "id": "Wrvop9Q9bBYM"
      },
      "source": [
        "# 度数分布表とヒストグラム"
      ]
    },
    {
      "cell_type": "markdown",
      "metadata": {
        "id": "5DCZmzbVOJL7"
      },
      "source": [
        "##概要"
      ]
    },
    {
      "cell_type": "markdown",
      "metadata": {
        "id": "_gQfZAx8Na1E"
      },
      "source": [
        "**目的**\n",
        "\n",
        "度数分布表とヒストグラムを作成する\n"
      ]
    },
    {
      "cell_type": "markdown",
      "metadata": {
        "id": "OcHlwXwqNF7M"
      },
      "source": [
        "**今回使うライブラリ**\n",
        "*   Pandas： データの集計や可視化を統合的に行うライブラリ\n",
        "\n",
        "\n",
        "\n"
      ]
    },
    {
      "cell_type": "markdown",
      "metadata": {
        "id": "dH45T5KTPci6"
      },
      "source": [
        "**Pandas**\n",
        "\n",
        "Pandasライブラリを使うと，さまざまなデータの操作をスムーズに柔軟に実施することができます．\n",
        "\n",
        "Pandasでは，データの塊を「シリーズ(Series)オブジェクト」や「データフレーム (DataFrame) オブジェクト」といった型で扱います．また，このようなオブジェクト効率的に高速に扱うための機能が用意されています．\n",
        "\n",
        "*   Seriesオブジェクトは時系列データのよう1次元のデータを主に扱います\n",
        "*   Dataframeオブジェクトは表のように2次元になっているデータを収納するものです\n",
        "\n",
        "公式ドキュメント：http://pandas.pydata.org/pandas-docs/stable/"
      ]
    },
    {
      "cell_type": "markdown",
      "metadata": {
        "id": "Y_vIrTSJNgmM"
      },
      "source": [
        "##ライブラリの読み込み"
      ]
    },
    {
      "cell_type": "markdown",
      "metadata": {
        "id": "SdnolcuyOSaX"
      },
      "source": [
        "Pythonは標準の状態ではあまりいろいろな事はできませんが，さまざまなライブラリをインポート（導入）することで，いろいろな関数が使えるようになったり，データ処理に適した変数の型を使えるようになったりして，超パワーアップします．ここでは，データ分析でよく使われるPythonのライブラリであるNumpy，Matplotlib，Pandasを使ってみましょう．"
      ]
    },
    {
      "cell_type": "markdown",
      "metadata": {
        "id": "LQnCU0RHNS2k"
      },
      "source": [
        "**基本的なライブラリの読み込みパターン**\n",
        "\n",
        "**import xxx**\n",
        "\n",
        "xxx library をすべて読み込み，xxx.関数名 といった形で利用する．\n",
        "\n",
        "**import xxx.a_func as b_func**\n",
        "\n",
        "xxx library の a_func だけを b_func という別名をつけて読み込む．名前の衝突の防止や短縮型として利用する．\n",
        "\n",
        "**from xxx import a_func**\n",
        "\n",
        "xxx library の a_func だけ読み込み，a_func で利用する．from をつけると xxx は指定せず利用できる．"
      ]
    },
    {
      "cell_type": "code",
      "metadata": {
        "id": "1l1Hr8muOmC4"
      },
      "source": [
        "#pandasライブラリを pd という略称をつけて読み込む\n",
        "import pandas as pd"
      ],
      "execution_count": null,
      "outputs": []
    },
    {
      "cell_type": "markdown",
      "metadata": {
        "id": "SSCZENkqP_aS"
      },
      "source": [
        "##新商品の評価データの分析"
      ]
    },
    {
      "cell_type": "code",
      "metadata": {
        "id": "s0okP5zSQmIs",
        "colab": {
          "base_uri": "https://localhost:8080/",
          "height": 204
        },
        "outputId": "c61be114-7d66-427c-c5e9-8bae7a882375"
      },
      "source": [
        "#既存商品の評価\n",
        "old_ramen_data =pd.Series( [\"かなり不味い\",\"どちらでもない\",\"やや美味しい\",\"どちらでもない\"\n",
        "                            ,\"かなり不味い\",\"どちらでもない\",\"かなり不味い\",\"かなり美味しい\",\"やや不味い\"\n",
        "                            ,\"かなり不味い\",\"かなり美味しい\",\"どちらでもない\",\"かなり不味い\",\"かなり不味い\"\n",
        "                            ,\"どちらでもない\",\"どちらでもない\",\"どちらでもない\",\"かなり不味い\",\"やや不味い\"\n",
        "                            ,\"かなり美味しい\",\"やや不味い\",\"かなり不味い\",\"かなり不味い\",\"かなり不味い\"\n",
        "                            ,\"やや不味い\",\"どちらでもない\",\"どちらでもない\",\"やや美味しい\",\"やや不味い\"\n",
        "                            ,\"かなり不味い\",\"かなり不味い\",\"やや不味い\",\"やや不味い\",\"かなり不味い\"\n",
        "                            ,\"どちらでもない\",\"かなり不味い\",\"かなり不味い\",\"かなり不味い\",\"かなり不味い\"\n",
        "                            ,\"かなり美味しい\",\"かなり不味い\",\"かなり不味い\",\"かなり美味しい\",\"やや不味い\"\n",
        "                            ,\"やや美味しい\",\"かなり不味い\",\"かなり不味い\",\"やや不味い\",\"やや美味しい\"\n",
        "                            ,\"やや不味い\"])\n",
        "new_ramen_data = pd.Series( [\"かなり美味しい\",\"やや美味しい\",\"やや美味しい\",\"やや美味しい\"\n",
        "                             ,\"どちらでもない\",\"やや不味い\",\"どちらでもない\",\"どちらでもない\",\"やや不味い\"\n",
        "                             ,\"やや美味しい\",\"どちらでもない\",\"やや不味い\",\"かなり美味しい\",\"やや美味しい\"\n",
        "                             ,\"かなり美味しい\",\"かなり不味い\",\"やや美味しい\",\"どちらでもない\",\"やや不味い\"\n",
        "                             ,\"やや不味い\",\"かなり美味しい\",\"どちらでもない\",\"やや美味しい\",\"かなり不味い\"\n",
        "                             ,\"かなり不味い\",\"かなり不味い\",\"やや不味い\",\"やや美味しい\",\"どちらでもない\"\n",
        "                             ,\"かなり美味しい\",\"かなり美味しい\",\"やや美味しい\",\"かなり不味い\",\"かなり不味い\"\n",
        "                             ,\"やや美味しい\",\"やや不味い\",\"かなり美味しい\",\"やや不味い\",\"やや美味しい\"\n",
        "                             ,\"かなり美味しい\",\"どちらでもない\",\"どちらでもない\",\"やや不味い\",\"どちらでもない\"\n",
        "                             ,\"やや不味い\",\"かなり美味しい\",\"かなり美味しい\",\"かなり不味い\",\"どちらでもない\"\n",
        "                             ,\"どちらでもない\"])\n",
        "\n",
        "#データフレーム (DataFrame) オブジェクトに変換\n",
        "df_old = pd.DataFrame({ 'evaluation' : old_ramen_data ,'products'   : 'old'})\n",
        "df_new = pd.DataFrame({ 'evaluation' : new_ramen_data ,'products'   : 'new'})\n",
        "\n",
        "#2つのデータフレームを統合する\n",
        "df = pd.concat([df_old, df_new])\n",
        "\n",
        "#このpandasクラスのdfオブジェクトの様々なpandasのメソッドを使ってこのあとの処理を行っていきます\n",
        "#評価語を数値で置換\n",
        "df =df.replace({'かなり美味しい':1,'やや美味しい':2,'どちらでもない':3,'やや不味い':4, 'かなり不味い':5})\n",
        "\n",
        "#最初の方だけ表示してみる\n",
        "df.head()"
      ],
      "execution_count": null,
      "outputs": [
        {
          "output_type": "execute_result",
          "data": {
            "text/html": [
              "<div>\n",
              "<style scoped>\n",
              "    .dataframe tbody tr th:only-of-type {\n",
              "        vertical-align: middle;\n",
              "    }\n",
              "\n",
              "    .dataframe tbody tr th {\n",
              "        vertical-align: top;\n",
              "    }\n",
              "\n",
              "    .dataframe thead th {\n",
              "        text-align: right;\n",
              "    }\n",
              "</style>\n",
              "<table border=\"1\" class=\"dataframe\">\n",
              "  <thead>\n",
              "    <tr style=\"text-align: right;\">\n",
              "      <th></th>\n",
              "      <th>evaluation</th>\n",
              "      <th>products</th>\n",
              "    </tr>\n",
              "  </thead>\n",
              "  <tbody>\n",
              "    <tr>\n",
              "      <th>0</th>\n",
              "      <td>5</td>\n",
              "      <td>old</td>\n",
              "    </tr>\n",
              "    <tr>\n",
              "      <th>1</th>\n",
              "      <td>3</td>\n",
              "      <td>old</td>\n",
              "    </tr>\n",
              "    <tr>\n",
              "      <th>2</th>\n",
              "      <td>2</td>\n",
              "      <td>old</td>\n",
              "    </tr>\n",
              "    <tr>\n",
              "      <th>3</th>\n",
              "      <td>3</td>\n",
              "      <td>old</td>\n",
              "    </tr>\n",
              "    <tr>\n",
              "      <th>4</th>\n",
              "      <td>5</td>\n",
              "      <td>old</td>\n",
              "    </tr>\n",
              "  </tbody>\n",
              "</table>\n",
              "</div>"
            ],
            "text/plain": [
              "   evaluation products\n",
              "0           5      old\n",
              "1           3      old\n",
              "2           2      old\n",
              "3           3      old\n",
              "4           5      old"
            ]
          },
          "metadata": {
            "tags": []
          },
          "execution_count": 3
        }
      ]
    },
    {
      "cell_type": "code",
      "metadata": {
        "id": "hPBFTNs92iWd",
        "colab": {
          "base_uri": "https://localhost:8080/",
          "height": 221
        },
        "outputId": "62cef64d-87bf-4146-9d75-c268996cd90b"
      },
      "source": [
        "#dfを'products'でグルーピングして，そのグルーピングしたものの'evaluation'だけを抜き出して，\n",
        "#その出現回数をカウントして，最後にindex(ここでは評価値）で並べ直す\n",
        " ｄｆ.groupby('products')['evaluation'].value_counts().sort_index()"
      ],
      "execution_count": null,
      "outputs": [
        {
          "output_type": "execute_result",
          "data": {
            "text/plain": [
              "products  evaluation\n",
              "new       1             10\n",
              "          2             11\n",
              "          3             12\n",
              "          4             10\n",
              "          5              7\n",
              "old       1              5\n",
              "          2              4\n",
              "          3             10\n",
              "          4             10\n",
              "          5             21\n",
              "Name: evaluation, dtype: int64"
            ]
          },
          "metadata": {
            "tags": []
          },
          "execution_count": 3
        }
      ]
    },
    {
      "cell_type": "code",
      "metadata": {
        "id": "EGzenJbYtU1T",
        "colab": {
          "base_uri": "https://localhost:8080/",
          "height": 333
        },
        "outputId": "ee8e065d-c547-4866-adbf-039363f7d30c"
      },
      "source": [
        "#dfを'products'でグルーピングして，そのグルーピングしたものの'evaluation'だけを抜き出して，\n",
        "#そのヒストグラムを重ねる（legend = Trueは「凡例を有効にする」という意味）\n",
        "df.groupby('products')['evaluation'].plot( bins=5, alpha=0.5, figsize=(4,4), kind='hist', legend=True)"
      ],
      "execution_count": null,
      "outputs": [
        {
          "output_type": "execute_result",
          "data": {
            "text/plain": [
              "products\n",
              "new    AxesSubplot(0.125,0.125;0.775x0.755)\n",
              "old    AxesSubplot(0.125,0.125;0.775x0.755)\n",
              "Name: evaluation, dtype: object"
            ]
          },
          "metadata": {
            "tags": []
          },
          "execution_count": 4
        },
        {
          "output_type": "display_data",
          "data": {
            "image/png": "[encoded data removed]",
            "text/plain": [
              "<Figure size 288x288 with 1 Axes>"
            ]
          },
          "metadata": {
            "tags": [],
            "needs_background": "light"
          }
        }
      ]
    },
    {
      "cell_type": "markdown",
      "metadata": {
        "id": "H4nNUQltBpea"
      },
      "source": [
        "##通学時間の度数分布"
      ]
    },
    {
      "cell_type": "code",
      "metadata": {
        "id": "fdnSZx60Bvd6"
      },
      "source": [
        "#データ読込（仮想データ）\n",
        "commuting_time = pd.Series([46,109,30,117,51,32,29,19,20,36,61,86,\n",
        "                           17,15,58,78,69,54,60,59,48,21,34,22,36,95,25,107,\n",
        "                           115,51,91,123,94,47,84,59,66,35,21,64,47,21,66,59,\n",
        "                           47,38,41,23,70,44,104,14,33,70,68,26,98,99,15,46,\n",
        "                           85,14,79,42,91,57,55,117,43,60,28,17,68,18,89,54,\n",
        "                           38,89,31,27,39,113,18,60,51,63,41,44,37,107,77,94,\n",
        "                           16,104,47,100,19,95,20,13\n",
        "        ])"
      ],
      "execution_count": null,
      "outputs": []
    },
    {
      "cell_type": "code",
      "metadata": {
        "id": "dweAx6GXFJ7I",
        "colab": {
          "base_uri": "https://localhost:8080/",
          "height": 170
        },
        "outputId": "c871382b-a7c4-4af1-93b1-ce877c56a910"
      },
      "source": [
        "#基本統計量の確認\n",
        "commuting_time.describe()"
      ],
      "execution_count": null,
      "outputs": [
        {
          "output_type": "execute_result",
          "data": {
            "text/plain": [
              "count    100.000000\n",
              "mean      55.730000\n",
              "std       30.411938\n",
              "min       13.000000\n",
              "25%       30.750000\n",
              "50%       51.000000\n",
              "75%       78.250000\n",
              "max      123.000000\n",
              "dtype: float64"
            ]
          },
          "metadata": {
            "tags": []
          },
          "execution_count": 6
        }
      ]
    },
    {
      "cell_type": "code",
      "metadata": {
        "id": "IUlORrHFGgmI",
        "colab": {
          "base_uri": "https://localhost:8080/",
          "height": 255
        },
        "outputId": "184a05ce-d2ed-45d3-bfe0-edf81f303ffb"
      },
      "source": [
        "#間隔を１０にする\n",
        "interval = 10\n",
        "# 分割の粒度（range関数でrange（開始，終了，間隔）と指定すると，等差数列ができる）\n",
        "bins = range(0,max(commuting_time)+interval , interval ) \n",
        "\n",
        "#pd.cutは区間に振り分ける処理を行う\n",
        "commuting_time_cut = pd.cut(commuting_time, bins =bins)\n",
        "\n",
        "#集計する．\n",
        "#0から10までは0人であることがわかる．”（”は開区間，”]”は閉区間を意味する\n",
        "pd.value_counts(commuting_time_cut, sort=False)"
      ],
      "execution_count": null,
      "outputs": [
        {
          "output_type": "execute_result",
          "data": {
            "text/plain": [
              "(0, 10]        0\n",
              "(10, 20]      14\n",
              "(20, 30]      11\n",
              "(30, 40]      11\n",
              "(40, 50]      13\n",
              "(50, 60]      14\n",
              "(60, 70]      10\n",
              "(70, 80]       3\n",
              "(80, 90]       5\n",
              "(90, 100]      9\n",
              "(100, 110]     5\n",
              "(110, 120]     4\n",
              "(120, 130]     1\n",
              "dtype: int64"
            ]
          },
          "metadata": {
            "tags": []
          },
          "execution_count": 7
        }
      ]
    },
    {
      "cell_type": "code",
      "metadata": {
        "id": "m4wnMFFmIAfa",
        "colab": {
          "base_uri": "https://localhost:8080/",
          "height": 282
        },
        "outputId": "2f5ac15d-8cbe-41a6-f49e-6a1199997fd4"
      },
      "source": [
        "commuting_time.hist(bins=bins)\n"
      ],
      "execution_count": null,
      "outputs": [
        {
          "output_type": "execute_result",
          "data": {
            "text/plain": [
              "<matplotlib.axes._subplots.AxesSubplot at 0x7fd9b8151940>"
            ]
          },
          "metadata": {
            "tags": []
          },
          "execution_count": 8
        },
        {
          "output_type": "display_data",
          "data": {
            "image/png": "[encoded data removed]",
            "text/plain": [
              "<Figure size 432x288 with 1 Axes>"
            ]
          },
          "metadata": {
            "tags": [],
            "needs_background": "light"
          }
        }
      ]
    },
    {
      "cell_type": "markdown",
      "metadata": {
        "id": "h-WmhXyCGByr"
      },
      "source": [
        "##Irisデータセットを使ってみる"
      ]
    },
    {
      "cell_type": "markdown",
      "metadata": {
        "id": "EauQyo47GHvN"
      },
      "source": [
        "Iris(アヤメ) flower data set は，著名な統計学者であり生物学者でもあるRonald Fisherが氏提供した多変量データのセットです．\n",
        "Iris (アヤメ属) に属する 3 品種、setosa (セトサ)、versicolor (バージカラー)、versinica (バージニカ) の特徴量測定値とクラス\n",
        "データ（品種データ）が収められています．Irisデータセットは非常に有名なデータセットで，統計・機械学習の分野では\n",
        "ゴールドスタンダード（画像処理で言うところにLena画像と同じような位置づけ）として用いられています．\n",
        "https://en.wikipedia.org/wiki/Iris_flower_data_set.\n",
        "\n",
        "![comment](https://upload.wikimedia.org/wikipedia/commons/thumb/5/56/Kosaciec_szczecinkowaty_Iris_setosa.jpg/180px-Kosaciec_szczecinkowaty_Iris_setosa.jpg)\n",
        "\n"
      ]
    },
    {
      "cell_type": "markdown",
      "metadata": {
        "id": "R9lKfLC1HTLY"
      },
      "source": [
        "機械学習用ライブラリ scikit-learn には練習用データセットとしてIris flower data setが提供されています．\n",
        "これを使ってみましょう．"
      ]
    },
    {
      "cell_type": "code",
      "metadata": {
        "id": "b3VEsJ2PI4L4"
      },
      "source": [
        "import pandas as pd\n",
        "\n",
        "#scikit-learnライブラリからデータセットだけを用いる\n",
        "from sklearn import datasets"
      ],
      "execution_count": null,
      "outputs": []
    },
    {
      "cell_type": "code",
      "metadata": {
        "id": "ph6GEQaVKTN8"
      },
      "source": [
        "#Irisデータを読み込みます\n",
        "iris = datasets.load_iris()"
      ],
      "execution_count": null,
      "outputs": []
    },
    {
      "cell_type": "markdown",
      "metadata": {
        "id": "hZ_cGKrSKMba"
      },
      "source": [
        "iris.data にはsepal length (がくの長さ)、sepal width (がくの幅)、petal length (花弁の長さ)、petal width (花弁の幅) の測定値が収められています．\n",
        "iris.target はクラスデータ (品種データ) です．これらを統合して一つのDataFrameを作成します．"
      ]
    },
    {
      "cell_type": "code",
      "metadata": {
        "id": "Ttcp-6VXJFXn",
        "colab": {
          "base_uri": "https://localhost:8080/",
          "height": 204
        },
        "outputId": "e5acae71-1613-43f4-8d91-1a86d8dfab08"
      },
      "source": [
        "#Iris.dataには花の特徴量がある．iris.targetに'target'と名前をつけて一つのDataFrameに統合\n",
        "df = pd.DataFrame(iris.data, columns=iris.feature_names)\n",
        "df['target'] = iris.target_names[iris.target]\n",
        "\n",
        "#最初の５行だけ表示してみる\n",
        "df.head()"
      ],
      "execution_count": null,
      "outputs": [
        {
          "output_type": "execute_result",
          "data": {
            "text/html": [
              "<div>\n",
              "<style scoped>\n",
              "    .dataframe tbody tr th:only-of-type {\n",
              "        vertical-align: middle;\n",
              "    }\n",
              "\n",
              "    .dataframe tbody tr th {\n",
              "        vertical-align: top;\n",
              "    }\n",
              "\n",
              "    .dataframe thead th {\n",
              "        text-align: right;\n",
              "    }\n",
              "</style>\n",
              "<table border=\"1\" class=\"dataframe\">\n",
              "  <thead>\n",
              "    <tr style=\"text-align: right;\">\n",
              "      <th></th>\n",
              "      <th>sepal length (cm)</th>\n",
              "      <th>sepal width (cm)</th>\n",
              "      <th>petal length (cm)</th>\n",
              "      <th>petal width (cm)</th>\n",
              "      <th>target</th>\n",
              "    </tr>\n",
              "  </thead>\n",
              "  <tbody>\n",
              "    <tr>\n",
              "      <th>0</th>\n",
              "      <td>5.1</td>\n",
              "      <td>3.5</td>\n",
              "      <td>1.4</td>\n",
              "      <td>0.2</td>\n",
              "      <td>setosa</td>\n",
              "    </tr>\n",
              "    <tr>\n",
              "      <th>1</th>\n",
              "      <td>4.9</td>\n",
              "      <td>3.0</td>\n",
              "      <td>1.4</td>\n",
              "      <td>0.2</td>\n",
              "      <td>setosa</td>\n",
              "    </tr>\n",
              "    <tr>\n",
              "      <th>2</th>\n",
              "      <td>4.7</td>\n",
              "      <td>3.2</td>\n",
              "      <td>1.3</td>\n",
              "      <td>0.2</td>\n",
              "      <td>setosa</td>\n",
              "    </tr>\n",
              "    <tr>\n",
              "      <th>3</th>\n",
              "      <td>4.6</td>\n",
              "      <td>3.1</td>\n",
              "      <td>1.5</td>\n",
              "      <td>0.2</td>\n",
              "      <td>setosa</td>\n",
              "    </tr>\n",
              "    <tr>\n",
              "      <th>4</th>\n",
              "      <td>5.0</td>\n",
              "      <td>3.6</td>\n",
              "      <td>1.4</td>\n",
              "      <td>0.2</td>\n",
              "      <td>setosa</td>\n",
              "    </tr>\n",
              "  </tbody>\n",
              "</table>\n",
              "</div>"
            ],
            "text/plain": [
              "   sepal length (cm)  sepal width (cm)  ...  petal width (cm)  target\n",
              "0                5.1               3.5  ...               0.2  setosa\n",
              "1                4.9               3.0  ...               0.2  setosa\n",
              "2                4.7               3.2  ...               0.2  setosa\n",
              "3                4.6               3.1  ...               0.2  setosa\n",
              "4                5.0               3.6  ...               0.2  setosa\n",
              "\n",
              "[5 rows x 5 columns]"
            ]
          },
          "metadata": {
            "tags": []
          },
          "execution_count": 6
        }
      ]
    },
    {
      "cell_type": "code",
      "metadata": {
        "id": "l-pQtmNGK_rK",
        "colab": {
          "base_uri": "https://localhost:8080/",
          "height": 282
        },
        "outputId": "198c3a70-a42f-443e-b7eb-ec96d9c93f5e"
      },
      "source": [
        "df['sepal length (cm)'].plot( bins=30, range=(4, 8),  alpha=0.5, figsize=(8,4), kind='hist')"
      ],
      "execution_count": null,
      "outputs": [
        {
          "output_type": "execute_result",
          "data": {
            "text/plain": [
              "<matplotlib.axes._subplots.AxesSubplot at 0x7fce322725f8>"
            ]
          },
          "metadata": {
            "tags": []
          },
          "execution_count": 7
        },
        {
          "output_type": "display_data",
          "data": {
            "image/png": "[encoded data removed]",
            "text/plain": [
              "<Figure size 576x288 with 1 Axes>"
            ]
          },
          "metadata": {
            "tags": [],
            "needs_background": "light"
          }
        }
      ]
    },
    {
      "cell_type": "code",
      "metadata": {
        "id": "qu9oSaZ2JjHJ",
        "colab": {
          "base_uri": "https://localhost:8080/",
          "height": 350
        },
        "outputId": "f15b552d-4c34-4a2a-e3a1-5f05acfe766c"
      },
      "source": [
        "#dfを'target'（品種）でグルーピングして，そのグルーピングしたものの'sepal length (cm)'だけを抜き出して，\n",
        "#そのヒストグラムを重ねる\n",
        "df.groupby('target')['sepal length (cm)'].plot(bins=30, range=(4, 8), alpha=0.5, figsize=(8,4), kind='hist',  legend=True)\n"
      ],
      "execution_count": null,
      "outputs": [
        {
          "output_type": "execute_result",
          "data": {
            "text/plain": [
              "target\n",
              "setosa        AxesSubplot(0.125,0.125;0.775x0.755)\n",
              "versicolor    AxesSubplot(0.125,0.125;0.775x0.755)\n",
              "virginica     AxesSubplot(0.125,0.125;0.775x0.755)\n",
              "Name: sepal length (cm), dtype: object"
            ]
          },
          "metadata": {
            "tags": []
          },
          "execution_count": 8
        },
        {
          "output_type": "display_data",
          "data": {
            "image/png": "[encoded data removed]",
            "text/plain": [
              "<Figure size 576x288 with 1 Axes>"
            ]
          },
          "metadata": {
            "tags": [],
            "needs_background": "light"
          }
        }
      ]
    },
    {
      "cell_type": "code",
      "metadata": {
        "id": "atVhAdmNjQEU",
        "colab": {
          "base_uri": "https://localhost:8080/",
          "height": 353
        },
        "outputId": "8390840e-422f-4b8c-c1e3-ecbde8661754"
      },
      "source": [
        "#dfを'target'（品種）でグルーピングして，そのグルーピングしたものの'petal length (cm)'だけを抜き出して，\n",
        "#そのヒストグラムを重ねる\n",
        "df.groupby('target')['petal length (cm)'].plot(bins=32, range=(0, 8), alpha=0.5, figsize=(8,4), kind='hist',  legend=True)"
      ],
      "execution_count": null,
      "outputs": [
        {
          "output_type": "execute_result",
          "data": {
            "text/plain": [
              "target\n",
              "setosa        AxesSubplot(0.125,0.125;0.775x0.755)\n",
              "versicolor    AxesSubplot(0.125,0.125;0.775x0.755)\n",
              "virginica     AxesSubplot(0.125,0.125;0.775x0.755)\n",
              "Name: petal length (cm), dtype: object"
            ]
          },
          "metadata": {
            "tags": []
          },
          "execution_count": 9
        },
        {
          "output_type": "display_data",
          "data": {
            "image/png": "[encoded data removed]",
            "text/plain": [
              "<Figure size 576x288 with 1 Axes>"
            ]
          },
          "metadata": {
            "tags": [],
            "needs_background": "light"
          }
        }
      ]
    },
    {
      "cell_type": "code",
      "metadata": {
        "id": "zXNR5BUkj2D-",
        "colab": {
          "base_uri": "https://localhost:8080/",
          "height": 173
        },
        "outputId": "404db9e4-0708-4bd3-936a-bb22489b209b"
      },
      "source": [
        "df.groupby('target')['petal length (cm)'].describe()"
      ],
      "execution_count": null,
      "outputs": [
        {
          "output_type": "execute_result",
          "data": {
            "text/html": [
              "<div>\n",
              "<style scoped>\n",
              "    .dataframe tbody tr th:only-of-type {\n",
              "        vertical-align: middle;\n",
              "    }\n",
              "\n",
              "    .dataframe tbody tr th {\n",
              "        vertical-align: top;\n",
              "    }\n",
              "\n",
              "    .dataframe thead th {\n",
              "        text-align: right;\n",
              "    }\n",
              "</style>\n",
              "<table border=\"1\" class=\"dataframe\">\n",
              "  <thead>\n",
              "    <tr style=\"text-align: right;\">\n",
              "      <th></th>\n",
              "      <th>count</th>\n",
              "      <th>mean</th>\n",
              "      <th>std</th>\n",
              "      <th>min</th>\n",
              "      <th>25%</th>\n",
              "      <th>50%</th>\n",
              "      <th>75%</th>\n",
              "      <th>max</th>\n",
              "    </tr>\n",
              "    <tr>\n",
              "      <th>target</th>\n",
              "      <th></th>\n",
              "      <th></th>\n",
              "      <th></th>\n",
              "      <th></th>\n",
              "      <th></th>\n",
              "      <th></th>\n",
              "      <th></th>\n",
              "      <th></th>\n",
              "    </tr>\n",
              "  </thead>\n",
              "  <tbody>\n",
              "    <tr>\n",
              "      <th>setosa</th>\n",
              "      <td>50.0</td>\n",
              "      <td>1.462</td>\n",
              "      <td>0.173664</td>\n",
              "      <td>1.0</td>\n",
              "      <td>1.4</td>\n",
              "      <td>1.50</td>\n",
              "      <td>1.575</td>\n",
              "      <td>1.9</td>\n",
              "    </tr>\n",
              "    <tr>\n",
              "      <th>versicolor</th>\n",
              "      <td>50.0</td>\n",
              "      <td>4.260</td>\n",
              "      <td>0.469911</td>\n",
              "      <td>3.0</td>\n",
              "      <td>4.0</td>\n",
              "      <td>4.35</td>\n",
              "      <td>4.600</td>\n",
              "      <td>5.1</td>\n",
              "    </tr>\n",
              "    <tr>\n",
              "      <th>virginica</th>\n",
              "      <td>50.0</td>\n",
              "      <td>5.552</td>\n",
              "      <td>0.551895</td>\n",
              "      <td>4.5</td>\n",
              "      <td>5.1</td>\n",
              "      <td>5.55</td>\n",
              "      <td>5.875</td>\n",
              "      <td>6.9</td>\n",
              "    </tr>\n",
              "  </tbody>\n",
              "</table>\n",
              "</div>"
            ],
            "text/plain": [
              "            count   mean       std  min  25%   50%    75%  max\n",
              "target                                                        \n",
              "setosa       50.0  1.462  0.173664  1.0  1.4  1.50  1.575  1.9\n",
              "versicolor   50.0  4.260  0.469911  3.0  4.0  4.35  4.600  5.1\n",
              "virginica    50.0  5.552  0.551895  4.5  5.1  5.55  5.875  6.9"
            ]
          },
          "metadata": {
            "tags": []
          },
          "execution_count": 10
        }
      ]
    },
    {
      "cell_type": "markdown",
      "metadata": {
        "id": "Oi9xgBIGRKQO"
      },
      "source": [
        "##ヒストグラムの適切な幅"
      ]
    },
    {
      "cell_type": "markdown",
      "metadata": {
        "id": "ogUWQBC3RfP4"
      },
      "source": [
        "*   最大値と最小値を求める。\n",
        "*   最大値と最小値の差 𝑅（範囲）を求める\n",
        "*   区間の個数 𝑘 (グラフの棒の本数）を決める。\n",
        "    *        簡単に、𝑘=10 や 20 などきりの良い数にする\n",
        "    *       $k=\\sqrt{n}$　　ただし𝑛はサンプルサイズ（データの個数）\n",
        "    *       $k=1+\\log_2 (𝑛)$ [スタージェスの式]\n",
        "\n",
        " 区間幅  ℎ を求める。\n",
        " ℎ=𝑅÷𝑘 \n",
        " ℎ の値を見て、きりのいい数字に設定する\n",
        "          "
      ]
    },
    {
      "cell_type": "code",
      "metadata": {
        "id": "aKI8z52mRZJH"
      },
      "source": [
        "import numpy as np\n",
        "\n",
        "#　乱数発生のシード値の固定(乱数のシードの値を1に変えて実行してみよう)\n",
        "np.random.seed(0)\n",
        "#randnは標準正規分布（平均=0, 分散=1）に従う乱数を所定の個数発生させる関数\n",
        "x = pd.Series(np.random.randn(100))"
      ],
      "execution_count": null,
      "outputs": []
    },
    {
      "cell_type": "code",
      "metadata": {
        "id": "GtUtMGkqTDkb",
        "colab": {
          "base_uri": "https://localhost:8080/",
          "height": 282
        },
        "outputId": "7d85ee79-c828-4848-d14c-97a203048911"
      },
      "source": [
        "#(-5,5)の区間を10分割した区間でヒストグラムを書く\n",
        "x.hist(bins=10,range=(-4,4))\n"
      ],
      "execution_count": null,
      "outputs": [
        {
          "output_type": "execute_result",
          "data": {
            "text/plain": [
              "<matplotlib.axes._subplots.AxesSubplot at 0x7fd9abf95160>"
            ]
          },
          "metadata": {
            "tags": []
          },
          "execution_count": 17
        },
        {
          "output_type": "display_data",
          "data": {
            "image/png": "[encoded data removed]",
            "text/plain": [
              "<Figure size 432x288 with 1 Axes>"
            ]
          },
          "metadata": {
            "tags": [],
            "needs_background": "light"
          }
        }
      ]
    },
    {
      "cell_type": "code",
      "metadata": {
        "id": "Cln7wrc6T4UU",
        "colab": {
          "base_uri": "https://localhost:8080/",
          "height": 282
        },
        "outputId": "ee2ab97d-d37b-421b-dc17-638ba35d6c51"
      },
      "source": [
        "#(-5,5)の区間を100分割した区間でヒストグラムを書く\n",
        "x.hist(bins=100,range=(-4,4))\n"
      ],
      "execution_count": null,
      "outputs": [
        {
          "output_type": "execute_result",
          "data": {
            "text/plain": [
              "<matplotlib.axes._subplots.AxesSubplot at 0x7fd9abce1518>"
            ]
          },
          "metadata": {
            "tags": []
          },
          "execution_count": 18
        },
        {
          "output_type": "display_data",
          "data": {
            "image/png": "[encoded data removed]",
            "text/plain": [
              "<Figure size 432x288 with 1 Axes>"
            ]
          },
          "metadata": {
            "tags": [],
            "needs_background": "light"
          }
        }
      ]
    },
    {
      "cell_type": "code",
      "metadata": {
        "id": "JeqToxxZT89j",
        "colab": {
          "base_uri": "https://localhost:8080/",
          "height": 282
        },
        "outputId": "d4dcf48e-2872-44f6-bf82-fa2f549cf839"
      },
      "source": [
        "#(-5,5)の区間を5分割した区間でヒストグラムを書く\n",
        "x.hist(bins=5,range=(-4,4))\n"
      ],
      "execution_count": null,
      "outputs": [
        {
          "output_type": "execute_result",
          "data": {
            "text/plain": [
              "<matplotlib.axes._subplots.AxesSubplot at 0x7fd9abcbbef0>"
            ]
          },
          "metadata": {
            "tags": []
          },
          "execution_count": 19
        },
        {
          "output_type": "display_data",
          "data": {
            "image/png": "[encoded data removed]",
            "text/plain": [
              "<Figure size 432x288 with 1 Axes>"
            ]
          },
          "metadata": {
            "tags": [],
            "needs_background": "light"
          }
        }
      ]
    },
    {
      "cell_type": "code",
      "metadata": {
        "id": "gkoJ4_FEUEc6",
        "colab": {
          "base_uri": "https://localhost:8080/",
          "height": 282
        },
        "outputId": "fe73fcf4-be7e-4264-e774-246d8dc85321"
      },
      "source": [
        "#スタージェスの式で求めると\n",
        "from math import log\n",
        "k = 1+ log(len(x), 2)\n",
        "\n",
        "from math import ceil\n",
        "#階級数は整数である必要があるので切り上げ関数ceilを用いる\n",
        "edges = ceil(k)\n",
        "\n",
        "#(-5,5)の区間を5分割した区間でヒストグラムを書く\n",
        "x.hist(bins=edges,range=(-4,4))"
      ],
      "execution_count": null,
      "outputs": [
        {
          "output_type": "execute_result",
          "data": {
            "text/plain": [
              "<matplotlib.axes._subplots.AxesSubplot at 0x7fd9abadba58>"
            ]
          },
          "metadata": {
            "tags": []
          },
          "execution_count": 20
        },
        {
          "output_type": "display_data",
          "data": {
            "image/png": "[encoded data removed]",
            "text/plain": [
              "<Figure size 432x288 with 1 Axes>"
            ]
          },
          "metadata": {
            "tags": [],
            "needs_background": "light"
          }
        }
      ]
    }
  ]
}
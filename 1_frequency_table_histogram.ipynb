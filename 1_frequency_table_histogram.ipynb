{
  "nbformat": 4,
  "nbformat_minor": 0,
  "metadata": {
    "colab": {
      "provenance": [],
      "collapsed_sections": [
        "Oi9xgBIGRKQO"
      ],
      "include_colab_link": true
    },
    "kernelspec": {
      "name": "python3",
      "display_name": "Python 3"
    }
  },
  "cells": [
    {
      "cell_type": "markdown",
      "metadata": {
        "id": "view-in-github",
        "colab_type": "text"
      },
      "source": [
        "<a href=\"https://colab.research.google.com/github/komorimasashi/kakuritsu_toukei_1/blob/main/1_frequency_table_histogram.ipynb\" target=\"_parent\"><img src=\"https://colab.research.google.com/assets/colab-badge.svg\" alt=\"Open In Colab\"/></a>"
      ]
    },
    {
      "cell_type": "markdown",
      "metadata": {
        "id": "Wrvop9Q9bBYM"
      },
      "source": [
        "# 度数分布表とヒストグラム"
      ]
    },
    {
      "cell_type": "markdown",
      "metadata": {
        "id": "5DCZmzbVOJL7"
      },
      "source": [
        "##概要"
      ]
    },
    {
      "cell_type": "markdown",
      "metadata": {
        "id": "_gQfZAx8Na1E"
      },
      "source": [
        "**目的**\n",
        "\n",
        "度数分布表とヒストグラムを作成する\n"
      ]
    },
    {
      "cell_type": "markdown",
      "metadata": {
        "id": "OcHlwXwqNF7M"
      },
      "source": [
        "**今回使うライブラリ**\n",
        "*   Pandas： データの集計や可視化を統合的に行うライブラリ\n",
        "\n",
        "\n",
        "\n"
      ]
    },
    {
      "cell_type": "markdown",
      "metadata": {
        "id": "dH45T5KTPci6"
      },
      "source": [
        "**Pandas**\n",
        "\n",
        "Pandasライブラリを使うと，さまざまなデータの操作をスムーズに柔軟に実施することができます．\n",
        "\n",
        "Pandasでは，データの塊を「シリーズ(Series)オブジェクト」や「データフレーム (DataFrame) オブジェクト」といった型で扱います．また，このようなオブジェクト効率的に高速に扱うための機能が用意されています．\n",
        "\n",
        "*   Seriesオブジェクトは時系列データのよう1次元のデータを主に扱います\n",
        "*   Dataframeオブジェクトは表のように2次元になっているデータを収納するものです\n",
        "\n",
        "公式ドキュメント：http://pandas.pydata.org/pandas-docs/stable/"
      ]
    },
    {
      "cell_type": "markdown",
      "metadata": {
        "id": "Y_vIrTSJNgmM"
      },
      "source": [
        "##ライブラリの読み込み"
      ]
    },
    {
      "cell_type": "markdown",
      "metadata": {
        "id": "SdnolcuyOSaX"
      },
      "source": [
        "Pythonは標準の状態ではあまりいろいろな事はできませんが，さまざまなライブラリをインポート（導入）することで，いろいろな関数が使えるようになったり，データ処理に適した変数の型を使えるようになったりして，超パワーアップします．ここでは，データ分析でよく使われるPythonのライブラリであるNumpy，Matplotlib，Pandasを使ってみましょう．"
      ]
    },
    {
      "cell_type": "markdown",
      "metadata": {
        "id": "LQnCU0RHNS2k"
      },
      "source": [
        "**基本的なライブラリの読み込みパターン**\n",
        "\n",
        "**import xxx**\n",
        "\n",
        "xxx library をすべて読み込み，xxx.関数名 といった形で利用する．\n",
        "\n",
        "**import xxx.a_func as b_func**\n",
        "\n",
        "xxx library の a_func だけを b_func という別名をつけて読み込む．名前の衝突の防止や短縮型として利用する．\n",
        "\n",
        "**from xxx import a_func**\n",
        "\n",
        "xxx library の a_func だけ読み込み，a_func で利用する．from をつけると xxx は指定せず利用できる．"
      ]
    },
    {
      "cell_type": "code",
      "metadata": {
        "id": "1l1Hr8muOmC4"
      },
      "source": [
        "#pandasライブラリを pd という略称をつけて読み込む\n",
        "import pandas as pd"
      ],
      "execution_count": 1,
      "outputs": []
    },
    {
      "cell_type": "markdown",
      "metadata": {
        "id": "SSCZENkqP_aS"
      },
      "source": [
        "##新商品の評価データの分析"
      ]
    },
    {
      "cell_type": "code",
      "metadata": {
        "id": "s0okP5zSQmIs",
        "colab": {
          "base_uri": "https://localhost:8080/",
          "height": 206
        },
        "outputId": "5ee43cae-f13e-4d28-ddde-434567ddcc3a"
      },
      "source": [
        "#既存商品の評価\n",
        "old_ramen_data =pd.Series( [\"かなり不味い\",\"どちらでもない\",\"やや美味しい\",\"どちらでもない\"\n",
        "                            ,\"かなり不味い\",\"どちらでもない\",\"かなり不味い\",\"かなり美味しい\",\"やや不味い\"\n",
        "                            ,\"かなり不味い\",\"かなり美味しい\",\"どちらでもない\",\"かなり不味い\",\"かなり不味い\"\n",
        "                            ,\"どちらでもない\",\"どちらでもない\",\"どちらでもない\",\"かなり不味い\",\"やや不味い\"\n",
        "                            ,\"かなり美味しい\",\"やや不味い\",\"かなり不味い\",\"かなり不味い\",\"かなり不味い\"\n",
        "                            ,\"やや不味い\",\"どちらでもない\",\"どちらでもない\",\"やや美味しい\",\"やや不味い\"\n",
        "                            ,\"かなり不味い\",\"かなり不味い\",\"やや不味い\",\"やや不味い\",\"かなり不味い\"\n",
        "                            ,\"どちらでもない\",\"かなり不味い\",\"かなり不味い\",\"かなり不味い\",\"かなり不味い\"\n",
        "                            ,\"かなり美味しい\",\"かなり不味い\",\"かなり不味い\",\"かなり美味しい\",\"やや不味い\"\n",
        "                            ,\"やや美味しい\",\"かなり不味い\",\"かなり不味い\",\"やや不味い\",\"やや美味しい\"\n",
        "                            ,\"やや不味い\"])\n",
        "new_ramen_data = pd.Series( [\"かなり美味しい\",\"やや美味しい\",\"やや美味しい\",\"やや美味しい\"\n",
        "                             ,\"どちらでもない\",\"やや不味い\",\"どちらでもない\",\"どちらでもない\",\"やや不味い\"\n",
        "                             ,\"やや美味しい\",\"どちらでもない\",\"やや不味い\",\"かなり美味しい\",\"やや美味しい\"\n",
        "                             ,\"かなり美味しい\",\"かなり不味い\",\"やや美味しい\",\"どちらでもない\",\"やや不味い\"\n",
        "                             ,\"やや不味い\",\"かなり美味しい\",\"どちらでもない\",\"やや美味しい\",\"かなり不味い\"\n",
        "                             ,\"かなり不味い\",\"かなり不味い\",\"やや不味い\",\"やや美味しい\",\"どちらでもない\"\n",
        "                             ,\"かなり美味しい\",\"かなり美味しい\",\"やや美味しい\",\"かなり不味い\",\"かなり不味い\"\n",
        "                             ,\"やや美味しい\",\"やや不味い\",\"かなり美味しい\",\"やや不味い\",\"やや美味しい\"\n",
        "                             ,\"かなり美味しい\",\"どちらでもない\",\"どちらでもない\",\"やや不味い\",\"どちらでもない\"\n",
        "                             ,\"やや不味い\",\"かなり美味しい\",\"かなり美味しい\",\"かなり不味い\",\"どちらでもない\"\n",
        "                             ,\"どちらでもない\"])\n",
        "\n",
        "#データフレーム (DataFrame) オブジェクトに変換\n",
        "df_old = pd.DataFrame({ 'evaluation' : old_ramen_data ,'products'   : 'old'})\n",
        "df_new = pd.DataFrame({ 'evaluation' : new_ramen_data ,'products'   : 'new'})\n",
        "\n",
        "#2つのデータフレームを統合する\n",
        "df = pd.concat([df_old, df_new])\n",
        "\n",
        "#このpandasクラスのdfオブジェクトの様々なpandasのメソッドを使ってこのあとの処理を行っていきます\n",
        "#評価語を数値で置換\n",
        "df =df.replace({'かなり美味しい':1,'やや美味しい':2,'どちらでもない':3,'やや不味い':4, 'かなり不味い':5})\n",
        "\n",
        "#最初の方だけ表示してみる\n",
        "df.head()"
      ],
      "execution_count": 2,
      "outputs": [
        {
          "output_type": "execute_result",
          "data": {
            "text/plain": [
              "   evaluation products\n",
              "0           5      old\n",
              "1           3      old\n",
              "2           2      old\n",
              "3           3      old\n",
              "4           5      old"
            ],
            "text/html": [
              "\n",
              "  <div id=\"df-7436a4f0-4e75-44e4-b1b0-7baa35118f1e\" class=\"colab-df-container\">\n",
              "    <div>\n",
              "<style scoped>\n",
              "    .dataframe tbody tr th:only-of-type {\n",
              "        vertical-align: middle;\n",
              "    }\n",
              "\n",
              "    .dataframe tbody tr th {\n",
              "        vertical-align: top;\n",
              "    }\n",
              "\n",
              "    .dataframe thead th {\n",
              "        text-align: right;\n",
              "    }\n",
              "</style>\n",
              "<table border=\"1\" class=\"dataframe\">\n",
              "  <thead>\n",
              "    <tr style=\"text-align: right;\">\n",
              "      <th></th>\n",
              "      <th>evaluation</th>\n",
              "      <th>products</th>\n",
              "    </tr>\n",
              "  </thead>\n",
              "  <tbody>\n",
              "    <tr>\n",
              "      <th>0</th>\n",
              "      <td>5</td>\n",
              "      <td>old</td>\n",
              "    </tr>\n",
              "    <tr>\n",
              "      <th>1</th>\n",
              "      <td>3</td>\n",
              "      <td>old</td>\n",
              "    </tr>\n",
              "    <tr>\n",
              "      <th>2</th>\n",
              "      <td>2</td>\n",
              "      <td>old</td>\n",
              "    </tr>\n",
              "    <tr>\n",
              "      <th>3</th>\n",
              "      <td>3</td>\n",
              "      <td>old</td>\n",
              "    </tr>\n",
              "    <tr>\n",
              "      <th>4</th>\n",
              "      <td>5</td>\n",
              "      <td>old</td>\n",
              "    </tr>\n",
              "  </tbody>\n",
              "</table>\n",
              "</div>\n",
              "    <div class=\"colab-df-buttons\">\n",
              "\n",
              "  <div class=\"colab-df-container\">\n",
              "    <button class=\"colab-df-convert\" onclick=\"convertToInteractive('df-7436a4f0-4e75-44e4-b1b0-7baa35118f1e')\"\n",
              "            title=\"Convert this dataframe to an interactive table.\"\n",
              "            style=\"display:none;\">\n",
              "\n",
              "  <svg xmlns=\"http://www.w3.org/2000/svg\" height=\"24px\" viewBox=\"0 -960 960 960\">\n",
              "    <path d=\"M120-120v-720h720v720H120Zm60-500h600v-160H180v160Zm220 220h160v-160H400v160Zm0 220h160v-160H400v160ZM180-400h160v-160H180v160Zm440 0h160v-160H620v160ZM180-180h160v-160H180v160Zm440 0h160v-160H620v160Z\"/>\n",
              "  </svg>\n",
              "    </button>\n",
              "\n",
              "  <style>\n",
              "    .colab-df-container {\n",
              "      display:flex;\n",
              "      gap: 12px;\n",
              "    }\n",
              "\n",
              "    .colab-df-convert {\n",
              "      background-color: #E8F0FE;\n",
              "      border: none;\n",
              "      border-radius: 50%;\n",
              "      cursor: pointer;\n",
              "      display: none;\n",
              "      fill: #1967D2;\n",
              "      height: 32px;\n",
              "      padding: 0 0 0 0;\n",
              "      width: 32px;\n",
              "    }\n",
              "\n",
              "    .colab-df-convert:hover {\n",
              "      background-color: #E2EBFA;\n",
              "      box-shadow: 0px 1px 2px rgba(60, 64, 67, 0.3), 0px 1px 3px 1px rgba(60, 64, 67, 0.15);\n",
              "      fill: #174EA6;\n",
              "    }\n",
              "\n",
              "    .colab-df-buttons div {\n",
              "      margin-bottom: 4px;\n",
              "    }\n",
              "\n",
              "    [theme=dark] .colab-df-convert {\n",
              "      background-color: #3B4455;\n",
              "      fill: #D2E3FC;\n",
              "    }\n",
              "\n",
              "    [theme=dark] .colab-df-convert:hover {\n",
              "      background-color: #434B5C;\n",
              "      box-shadow: 0px 1px 3px 1px rgba(0, 0, 0, 0.15);\n",
              "      filter: drop-shadow(0px 1px 2px rgba(0, 0, 0, 0.3));\n",
              "      fill: #FFFFFF;\n",
              "    }\n",
              "  </style>\n",
              "\n",
              "    <script>\n",
              "      const buttonEl =\n",
              "        document.querySelector('#df-7436a4f0-4e75-44e4-b1b0-7baa35118f1e button.colab-df-convert');\n",
              "      buttonEl.style.display =\n",
              "        google.colab.kernel.accessAllowed ? 'block' : 'none';\n",
              "\n",
              "      async function convertToInteractive(key) {\n",
              "        const element = document.querySelector('#df-7436a4f0-4e75-44e4-b1b0-7baa35118f1e');\n",
              "        const dataTable =\n",
              "          await google.colab.kernel.invokeFunction('convertToInteractive',\n",
              "                                                    [key], {});\n",
              "        if (!dataTable) return;\n",
              "\n",
              "        const docLinkHtml = 'Like what you see? Visit the ' +\n",
              "          '<a target=\"_blank\" href=https://colab.research.google.com/notebooks/data_table.ipynb>data table notebook</a>'\n",
              "          + ' to learn more about interactive tables.';\n",
              "        element.innerHTML = '';\n",
              "        dataTable['output_type'] = 'display_data';\n",
              "        await google.colab.output.renderOutput(dataTable, element);\n",
              "        const docLink = document.createElement('div');\n",
              "        docLink.innerHTML = docLinkHtml;\n",
              "        element.appendChild(docLink);\n",
              "      }\n",
              "    </script>\n",
              "  </div>\n",
              "\n",
              "\n",
              "<div id=\"df-7dc6554c-fadb-4dad-8069-33d37fadc107\">\n",
              "  <button class=\"colab-df-quickchart\" onclick=\"quickchart('df-7dc6554c-fadb-4dad-8069-33d37fadc107')\"\n",
              "            title=\"Suggest charts\"\n",
              "            style=\"display:none;\">\n",
              "\n",
              "<svg xmlns=\"http://www.w3.org/2000/svg\" height=\"24px\"viewBox=\"0 0 24 24\"\n",
              "     width=\"24px\">\n",
              "    <g>\n",
              "        <path d=\"M19 3H5c-1.1 0-2 .9-2 2v14c0 1.1.9 2 2 2h14c1.1 0 2-.9 2-2V5c0-1.1-.9-2-2-2zM9 17H7v-7h2v7zm4 0h-2V7h2v10zm4 0h-2v-4h2v4z\"/>\n",
              "    </g>\n",
              "</svg>\n",
              "  </button>\n",
              "\n",
              "<style>\n",
              "  .colab-df-quickchart {\n",
              "      --bg-color: #E8F0FE;\n",
              "      --fill-color: #1967D2;\n",
              "      --hover-bg-color: #E2EBFA;\n",
              "      --hover-fill-color: #174EA6;\n",
              "      --disabled-fill-color: #AAA;\n",
              "      --disabled-bg-color: #DDD;\n",
              "  }\n",
              "\n",
              "  [theme=dark] .colab-df-quickchart {\n",
              "      --bg-color: #3B4455;\n",
              "      --fill-color: #D2E3FC;\n",
              "      --hover-bg-color: #434B5C;\n",
              "      --hover-fill-color: #FFFFFF;\n",
              "      --disabled-bg-color: #3B4455;\n",
              "      --disabled-fill-color: #666;\n",
              "  }\n",
              "\n",
              "  .colab-df-quickchart {\n",
              "    background-color: var(--bg-color);\n",
              "    border: none;\n",
              "    border-radius: 50%;\n",
              "    cursor: pointer;\n",
              "    display: none;\n",
              "    fill: var(--fill-color);\n",
              "    height: 32px;\n",
              "    padding: 0;\n",
              "    width: 32px;\n",
              "  }\n",
              "\n",
              "  .colab-df-quickchart:hover {\n",
              "    background-color: var(--hover-bg-color);\n",
              "    box-shadow: 0 1px 2px rgba(60, 64, 67, 0.3), 0 1px 3px 1px rgba(60, 64, 67, 0.15);\n",
              "    fill: var(--button-hover-fill-color);\n",
              "  }\n",
              "\n",
              "  .colab-df-quickchart-complete:disabled,\n",
              "  .colab-df-quickchart-complete:disabled:hover {\n",
              "    background-color: var(--disabled-bg-color);\n",
              "    fill: var(--disabled-fill-color);\n",
              "    box-shadow: none;\n",
              "  }\n",
              "\n",
              "  .colab-df-spinner {\n",
              "    border: 2px solid var(--fill-color);\n",
              "    border-color: transparent;\n",
              "    border-bottom-color: var(--fill-color);\n",
              "    animation:\n",
              "      spin 1s steps(1) infinite;\n",
              "  }\n",
              "\n",
              "  @keyframes spin {\n",
              "    0% {\n",
              "      border-color: transparent;\n",
              "      border-bottom-color: var(--fill-color);\n",
              "      border-left-color: var(--fill-color);\n",
              "    }\n",
              "    20% {\n",
              "      border-color: transparent;\n",
              "      border-left-color: var(--fill-color);\n",
              "      border-top-color: var(--fill-color);\n",
              "    }\n",
              "    30% {\n",
              "      border-color: transparent;\n",
              "      border-left-color: var(--fill-color);\n",
              "      border-top-color: var(--fill-color);\n",
              "      border-right-color: var(--fill-color);\n",
              "    }\n",
              "    40% {\n",
              "      border-color: transparent;\n",
              "      border-right-color: var(--fill-color);\n",
              "      border-top-color: var(--fill-color);\n",
              "    }\n",
              "    60% {\n",
              "      border-color: transparent;\n",
              "      border-right-color: var(--fill-color);\n",
              "    }\n",
              "    80% {\n",
              "      border-color: transparent;\n",
              "      border-right-color: var(--fill-color);\n",
              "      border-bottom-color: var(--fill-color);\n",
              "    }\n",
              "    90% {\n",
              "      border-color: transparent;\n",
              "      border-bottom-color: var(--fill-color);\n",
              "    }\n",
              "  }\n",
              "</style>\n",
              "\n",
              "  <script>\n",
              "    async function quickchart(key) {\n",
              "      const quickchartButtonEl =\n",
              "        document.querySelector('#' + key + ' button');\n",
              "      quickchartButtonEl.disabled = true;  // To prevent multiple clicks.\n",
              "      quickchartButtonEl.classList.add('colab-df-spinner');\n",
              "      try {\n",
              "        const charts = await google.colab.kernel.invokeFunction(\n",
              "            'suggestCharts', [key], {});\n",
              "      } catch (error) {\n",
              "        console.error('Error during call to suggestCharts:', error);\n",
              "      }\n",
              "      quickchartButtonEl.classList.remove('colab-df-spinner');\n",
              "      quickchartButtonEl.classList.add('colab-df-quickchart-complete');\n",
              "    }\n",
              "    (() => {\n",
              "      let quickchartButtonEl =\n",
              "        document.querySelector('#df-7dc6554c-fadb-4dad-8069-33d37fadc107 button');\n",
              "      quickchartButtonEl.style.display =\n",
              "        google.colab.kernel.accessAllowed ? 'block' : 'none';\n",
              "    })();\n",
              "  </script>\n",
              "</div>\n",
              "    </div>\n",
              "  </div>\n"
            ],
            "application/vnd.google.colaboratory.intrinsic+json": {
              "type": "dataframe",
              "variable_name": "df",
              "summary": "{\n  \"name\": \"df\",\n  \"rows\": 100,\n  \"fields\": [\n    {\n      \"column\": \"evaluation\",\n      \"properties\": {\n        \"dtype\": \"number\",\n        \"std\": 1,\n        \"min\": 1,\n        \"max\": 5,\n        \"num_unique_values\": 5,\n        \"samples\": [\n          3,\n          4,\n          2\n        ],\n        \"semantic_type\": \"\",\n        \"description\": \"\"\n      }\n    },\n    {\n      \"column\": \"products\",\n      \"properties\": {\n        \"dtype\": \"category\",\n        \"num_unique_values\": 2,\n        \"samples\": [\n          \"new\",\n          \"old\"\n        ],\n        \"semantic_type\": \"\",\n        \"description\": \"\"\n      }\n    }\n  ]\n}"
            }
          },
          "metadata": {},
          "execution_count": 2
        }
      ]
    },
    {
      "cell_type": "code",
      "metadata": {
        "id": "hPBFTNs92iWd",
        "colab": {
          "base_uri": "https://localhost:8080/"
        },
        "outputId": "634ee4d1-5e8e-4423-a41a-af9f0d981feb"
      },
      "source": [
        "#dfを'products'でグルーピングして，そのグルーピングしたものの'evaluation'だけを抜き出して，\n",
        "#その出現回数をカウントして，最後にindex(ここでは評価値）で並べ直す\n",
        "ｄｆ.groupby('products')['evaluation'].value_counts().sort_index()"
      ],
      "execution_count": 3,
      "outputs": [
        {
          "output_type": "execute_result",
          "data": {
            "text/plain": [
              "products  evaluation\n",
              "new       1             10\n",
              "          2             11\n",
              "          3             12\n",
              "          4             10\n",
              "          5              7\n",
              "old       1              5\n",
              "          2              4\n",
              "          3             10\n",
              "          4             10\n",
              "          5             21\n",
              "Name: count, dtype: int64"
            ]
          },
          "metadata": {},
          "execution_count": 3
        }
      ]
    },
    {
      "cell_type": "code",
      "metadata": {
        "id": "EGzenJbYtU1T",
        "colab": {
          "base_uri": "https://localhost:8080/",
          "height": 439
        },
        "outputId": "28b9b28e-2dbc-4096-a657-9a9d4f042937"
      },
      "source": [
        "#dfを'products'でグルーピングして，そのグルーピングしたものの'evaluation'だけを抜き出して，\n",
        "#そのヒストグラムを重ねる（legend = Trueは「凡例を有効にする」という意味）\n",
        "df.groupby('products')['evaluation'].plot( bins=5, alpha=0.5, figsize=(4,4), kind='hist', legend=True)"
      ],
      "execution_count": 4,
      "outputs": [
        {
          "output_type": "execute_result",
          "data": {
            "text/plain": [
              "products\n",
              "new    Axes(0.125,0.11;0.775x0.77)\n",
              "old    Axes(0.125,0.11;0.775x0.77)\n",
              "Name: evaluation, dtype: object"
            ]
          },
          "metadata": {},
          "execution_count": 4
        },
        {
          "output_type": "display_data",
          "data": {
            "text/plain": [
              "<Figure size 400x400 with 1 Axes>"
            ],
            "image/png": "[encoded data removed]"
          },
          "metadata": {}
        }
      ]
    },
    {
      "cell_type": "markdown",
      "metadata": {
        "id": "H4nNUQltBpea"
      },
      "source": [
        "##通学時間の度数分布"
      ]
    },
    {
      "cell_type": "code",
      "metadata": {
        "id": "fdnSZx60Bvd6"
      },
      "source": [
        "#データ読込（仮想データ）\n",
        "commuting_time = pd.Series([70, 45, 50, 15, 25, 120, 5, 50, 20, 35, 100, 70, 90, 90, 5,\n",
        "                            80, 120, 10, 38, 70, 110, 8, 40, 40, 10, 110, 80, 45, 60,\n",
        "                            34, 3, 30, 90, 90, 120, 20, 60, 110, 97, 100, 72, 90, 70,\n",
        "                            120, 105, 90, 90, 120, 64, 5, 6, 20, 90, 120, 90, 40, 55,\n",
        "                            55, 40, 43, 90, 70, 70, 105, 20, 90, 3, 60, 120, 45, 50, 66,\n",
        "                            90, 90, 120, 120, 15, 80, 6, 24, 45, 110, 120, 10, 140, 120,\n",
        "                            30, 90, 20, 70, 50, 1, 5, 80, 60, 10, 120, 15, 13, 15, 120,\n",
        "                            12, 5, 55, 20, 100, 70, 105, 50, 94, 75, 90, 60, 47, 70, 85,\n",
        "                            90, 90, 120, 70, 65, 45, 125, 20, 20, 40, 25, 46, 90, 40, 45,\n",
        "                            100, 90, 90, 40, 90, 18, 60, 1, 70, 105, 102, 60, 50, 7, 150,\n",
        "                            90, 5, 80, 8, 5, 90, 20, 90, 4, 90, 10, 60, 67, 20, 20, 50,\n",
        "                            50, 35, 70, 80, 20, 10, 45, 90, 100, 50, 40, 10, 25\n",
        "        ])"
      ],
      "execution_count": 5,
      "outputs": []
    },
    {
      "cell_type": "code",
      "metadata": {
        "id": "dweAx6GXFJ7I",
        "colab": {
          "base_uri": "https://localhost:8080/"
        },
        "outputId": "634aaa59-4be1-40a0-fe6a-cdd37beac5fb"
      },
      "source": [
        "#基本統計量の確認\n",
        "commuting_time.describe()"
      ],
      "execution_count": 6,
      "outputs": [
        {
          "output_type": "execute_result",
          "data": {
            "text/plain": [
              "count    175.000000\n",
              "mean      60.365714\n",
              "std       37.607516\n",
              "min        1.000000\n",
              "25%       24.500000\n",
              "50%       60.000000\n",
              "75%       90.000000\n",
              "max      150.000000\n",
              "dtype: float64"
            ]
          },
          "metadata": {},
          "execution_count": 6
        }
      ]
    },
    {
      "cell_type": "code",
      "metadata": {
        "id": "IUlORrHFGgmI",
        "colab": {
          "base_uri": "https://localhost:8080/"
        },
        "outputId": "40fc0eec-e249-4f84-a6e8-b87ff78e3365"
      },
      "source": [
        "#間隔を１０にする\n",
        "interval = 10\n",
        "# 分割の粒度（range関数でrange（開始，終了，間隔）と指定すると，等差数列ができる）\n",
        "bins = range(0,max(commuting_time)+interval , interval )\n",
        "\n",
        "#pd.cutは区間に振り分ける処理を行う\n",
        "commuting_time_cut = pd.cut(commuting_time, bins =bins)\n",
        "\n",
        "#集計する．\n",
        "#0から10までは0人であることがわかる．”（”は開区間，”]”は閉区間を意味する\n",
        "pd.value_counts(commuting_time_cut, sort=False)"
      ],
      "execution_count": 7,
      "outputs": [
        {
          "output_type": "execute_result",
          "data": {
            "text/plain": [
              "(0, 10]       24\n",
              "(10, 20]      19\n",
              "(20, 30]       6\n",
              "(30, 40]      12\n",
              "(40, 50]      19\n",
              "(50, 60]      11\n",
              "(60, 70]      16\n",
              "(70, 80]       8\n",
              "(80, 90]      27\n",
              "(90, 100]      7\n",
              "(100, 110]     9\n",
              "(110, 120]    14\n",
              "(120, 130]     1\n",
              "(130, 140]     1\n",
              "(140, 150]     1\n",
              "Name: count, dtype: int64"
            ]
          },
          "metadata": {},
          "execution_count": 7
        }
      ]
    },
    {
      "cell_type": "code",
      "metadata": {
        "id": "m4wnMFFmIAfa",
        "colab": {
          "base_uri": "https://localhost:8080/",
          "height": 448
        },
        "outputId": "78028784-9498-4f95-fdf2-432714e32c12"
      },
      "source": [
        "commuting_time.hist(bins=bins)\n"
      ],
      "execution_count": 8,
      "outputs": [
        {
          "output_type": "execute_result",
          "data": {
            "text/plain": [
              "<Axes: >"
            ]
          },
          "metadata": {},
          "execution_count": 8
        },
        {
          "output_type": "display_data",
          "data": {
            "text/plain": [
              "<Figure size 640x480 with 1 Axes>"
            ],
            "image/png": "[encoded data removed]"
          },
          "metadata": {}
        }
      ]
    },
    {
      "cell_type": "markdown",
      "metadata": {
        "id": "h-WmhXyCGByr"
      },
      "source": [
        "##Irisデータセットを使ってみる"
      ]
    },
    {
      "cell_type": "markdown",
      "metadata": {
        "id": "EauQyo47GHvN"
      },
      "source": [
        "Iris(アヤメ) flower data set は，著名な統計学者であり生物学者でもあるRonald Fisherが氏提供した多変量データのセットです．\n",
        "Iris (アヤメ属) に属する 3 品種、setosa (セトサ)、versicolor (バージカラー)、versinica (バージニカ) の特徴量測定値とクラス\n",
        "データ（品種データ）が収められています．Irisデータセットは非常に有名なデータセットで，統計・機械学習の分野では\n",
        "ゴールドスタンダード（画像処理で言うところにLena画像と同じような位置づけ）として用いられています．\n",
        "https://en.wikipedia.org/wiki/Iris_flower_data_set.\n",
        "\n",
        "![comment](https://upload.wikimedia.org/wikipedia/commons/thumb/5/56/Kosaciec_szczecinkowaty_Iris_setosa.jpg/180px-Kosaciec_szczecinkowaty_Iris_setosa.jpg)\n",
        "\n"
      ]
    },
    {
      "cell_type": "markdown",
      "metadata": {
        "id": "R9lKfLC1HTLY"
      },
      "source": [
        "機械学習用ライブラリ scikit-learn には練習用データセットとしてIris flower data setが提供されています．\n",
        "これを使ってみましょう．"
      ]
    },
    {
      "cell_type": "code",
      "metadata": {
        "id": "b3VEsJ2PI4L4"
      },
      "source": [
        "import pandas as pd\n",
        "\n",
        "#scikit-learnライブラリからデータセットだけを用いる\n",
        "from sklearn import datasets"
      ],
      "execution_count": null,
      "outputs": []
    },
    {
      "cell_type": "code",
      "metadata": {
        "id": "ph6GEQaVKTN8"
      },
      "source": [
        "#Irisデータを読み込みます\n",
        "iris = datasets.load_iris()"
      ],
      "execution_count": null,
      "outputs": []
    },
    {
      "cell_type": "markdown",
      "metadata": {
        "id": "hZ_cGKrSKMba"
      },
      "source": [
        "iris.data にはsepal length (がくの長さ)、sepal width (がくの幅)、petal length (花弁の長さ)、petal width (花弁の幅) の測定値が収められています．\n",
        "iris.target はクラスデータ (品種データ) です．これらを統合して一つのDataFrameを作成します．"
      ]
    },
    {
      "cell_type": "code",
      "metadata": {
        "id": "Ttcp-6VXJFXn",
        "colab": {
          "base_uri": "https://localhost:8080/",
          "height": 204
        },
        "outputId": "0debcb03-d374-44a6-c728-52afcd707a67"
      },
      "source": [
        "#Iris.dataには花の特徴量がある．iris.targetに'target'と名前をつけて一つのDataFrameに統合\n",
        "df = pd.DataFrame(iris.data, columns=iris.feature_names)\n",
        "df['target'] = iris.target_names[iris.target]\n",
        "\n",
        "#最初の５行だけ表示してみる\n",
        "df.head()"
      ],
      "execution_count": null,
      "outputs": [
        {
          "output_type": "execute_result",
          "data": {
            "text/html": [
              "<div>\n",
              "<style scoped>\n",
              "    .dataframe tbody tr th:only-of-type {\n",
              "        vertical-align: middle;\n",
              "    }\n",
              "\n",
              "    .dataframe tbody tr th {\n",
              "        vertical-align: top;\n",
              "    }\n",
              "\n",
              "    .dataframe thead th {\n",
              "        text-align: right;\n",
              "    }\n",
              "</style>\n",
              "<table border=\"1\" class=\"dataframe\">\n",
              "  <thead>\n",
              "    <tr style=\"text-align: right;\">\n",
              "      <th></th>\n",
              "      <th>sepal length (cm)</th>\n",
              "      <th>sepal width (cm)</th>\n",
              "      <th>petal length (cm)</th>\n",
              "      <th>petal width (cm)</th>\n",
              "      <th>target</th>\n",
              "    </tr>\n",
              "  </thead>\n",
              "  <tbody>\n",
              "    <tr>\n",
              "      <th>0</th>\n",
              "      <td>5.1</td>\n",
              "      <td>3.5</td>\n",
              "      <td>1.4</td>\n",
              "      <td>0.2</td>\n",
              "      <td>setosa</td>\n",
              "    </tr>\n",
              "    <tr>\n",
              "      <th>1</th>\n",
              "      <td>4.9</td>\n",
              "      <td>3.0</td>\n",
              "      <td>1.4</td>\n",
              "      <td>0.2</td>\n",
              "      <td>setosa</td>\n",
              "    </tr>\n",
              "    <tr>\n",
              "      <th>2</th>\n",
              "      <td>4.7</td>\n",
              "      <td>3.2</td>\n",
              "      <td>1.3</td>\n",
              "      <td>0.2</td>\n",
              "      <td>setosa</td>\n",
              "    </tr>\n",
              "    <tr>\n",
              "      <th>3</th>\n",
              "      <td>4.6</td>\n",
              "      <td>3.1</td>\n",
              "      <td>1.5</td>\n",
              "      <td>0.2</td>\n",
              "      <td>setosa</td>\n",
              "    </tr>\n",
              "    <tr>\n",
              "      <th>4</th>\n",
              "      <td>5.0</td>\n",
              "      <td>3.6</td>\n",
              "      <td>1.4</td>\n",
              "      <td>0.2</td>\n",
              "      <td>setosa</td>\n",
              "    </tr>\n",
              "  </tbody>\n",
              "</table>\n",
              "</div>"
            ],
            "text/plain": [
              "   sepal length (cm)  sepal width (cm)  ...  petal width (cm)  target\n",
              "0                5.1               3.5  ...               0.2  setosa\n",
              "1                4.9               3.0  ...               0.2  setosa\n",
              "2                4.7               3.2  ...               0.2  setosa\n",
              "3                4.6               3.1  ...               0.2  setosa\n",
              "4                5.0               3.6  ...               0.2  setosa\n",
              "\n",
              "[5 rows x 5 columns]"
            ]
          },
          "metadata": {
            "tags": []
          },
          "execution_count": 14
        }
      ]
    },
    {
      "cell_type": "code",
      "metadata": {
        "id": "l-pQtmNGK_rK",
        "colab": {
          "base_uri": "https://localhost:8080/",
          "height": 282
        },
        "outputId": "bdbd7bc5-be7c-4492-f18b-659e35a48541"
      },
      "source": [
        "df['sepal length (cm)'].plot( bins=30, range=(4, 8),  alpha=0.5, figsize=(8,4), kind='hist')"
      ],
      "execution_count": null,
      "outputs": [
        {
          "output_type": "execute_result",
          "data": {
            "text/plain": [
              "<matplotlib.axes._subplots.AxesSubplot at 0x7f41bf3b6a50>"
            ]
          },
          "metadata": {
            "tags": []
          },
          "execution_count": 15
        },
        {
          "output_type": "display_data",
          "data": {
            "image/png": "[encoded data removed]",
            "text/plain": [
              "<Figure size 576x288 with 1 Axes>"
            ]
          },
          "metadata": {
            "tags": [],
            "needs_background": "light"
          }
        }
      ]
    },
    {
      "cell_type": "code",
      "metadata": {
        "id": "qu9oSaZ2JjHJ",
        "colab": {
          "base_uri": "https://localhost:8080/",
          "height": 350
        },
        "outputId": "bd1a40e3-6b8e-426f-9304-2f6a94b829a5"
      },
      "source": [
        "#dfを'target'（品種）でグルーピングして，そのグルーピングしたものの'sepal length (cm)'だけを抜き出して，\n",
        "#そのヒストグラムを重ねる\n",
        "df.groupby('target')['sepal length (cm)'].plot(bins=30, range=(4, 8), alpha=0.5, figsize=(8,4), kind='hist',  legend=True)\n"
      ],
      "execution_count": null,
      "outputs": [
        {
          "output_type": "execute_result",
          "data": {
            "text/plain": [
              "target\n",
              "setosa        AxesSubplot(0.125,0.125;0.775x0.755)\n",
              "versicolor    AxesSubplot(0.125,0.125;0.775x0.755)\n",
              "virginica     AxesSubplot(0.125,0.125;0.775x0.755)\n",
              "Name: sepal length (cm), dtype: object"
            ]
          },
          "metadata": {
            "tags": []
          },
          "execution_count": 16
        },
        {
          "output_type": "display_data",
          "data": {
            "image/png": "[encoded data removed]",
            "text/plain": [
              "<Figure size 576x288 with 1 Axes>"
            ]
          },
          "metadata": {
            "tags": [],
            "needs_background": "light"
          }
        }
      ]
    },
    {
      "cell_type": "code",
      "metadata": {
        "id": "atVhAdmNjQEU",
        "colab": {
          "base_uri": "https://localhost:8080/",
          "height": 353
        },
        "outputId": "e63e5d5a-5732-46ab-9202-626bd77cf6cf"
      },
      "source": [
        "#dfを'target'（品種）でグルーピングして，そのグルーピングしたものの'petal length (cm)'だけを抜き出して，\n",
        "#そのヒストグラムを重ねる\n",
        "df.groupby('target')['petal length (cm)'].plot(bins=32, range=(0, 8), alpha=0.5, figsize=(8,4), kind='hist',  legend=True)"
      ],
      "execution_count": null,
      "outputs": [
        {
          "output_type": "execute_result",
          "data": {
            "text/plain": [
              "target\n",
              "setosa        AxesSubplot(0.125,0.125;0.775x0.755)\n",
              "versicolor    AxesSubplot(0.125,0.125;0.775x0.755)\n",
              "virginica     AxesSubplot(0.125,0.125;0.775x0.755)\n",
              "Name: petal length (cm), dtype: object"
            ]
          },
          "metadata": {
            "tags": []
          },
          "execution_count": 17
        },
        {
          "output_type": "display_data",
          "data": {
            "image/png": "[encoded data removed]",
            "text/plain": [
              "<Figure size 576x288 with 1 Axes>"
            ]
          },
          "metadata": {
            "tags": [],
            "needs_background": "light"
          }
        }
      ]
    },
    {
      "cell_type": "code",
      "metadata": {
        "id": "zXNR5BUkj2D-",
        "colab": {
          "base_uri": "https://localhost:8080/",
          "height": 173
        },
        "outputId": "ce1b210b-7b68-467b-b279-910fbf149cde"
      },
      "source": [
        "df.groupby('target')['petal length (cm)'].describe()"
      ],
      "execution_count": null,
      "outputs": [
        {
          "output_type": "execute_result",
          "data": {
            "text/html": [
              "<div>\n",
              "<style scoped>\n",
              "    .dataframe tbody tr th:only-of-type {\n",
              "        vertical-align: middle;\n",
              "    }\n",
              "\n",
              "    .dataframe tbody tr th {\n",
              "        vertical-align: top;\n",
              "    }\n",
              "\n",
              "    .dataframe thead th {\n",
              "        text-align: right;\n",
              "    }\n",
              "</style>\n",
              "<table border=\"1\" class=\"dataframe\">\n",
              "  <thead>\n",
              "    <tr style=\"text-align: right;\">\n",
              "      <th></th>\n",
              "      <th>count</th>\n",
              "      <th>mean</th>\n",
              "      <th>std</th>\n",
              "      <th>min</th>\n",
              "      <th>25%</th>\n",
              "      <th>50%</th>\n",
              "      <th>75%</th>\n",
              "      <th>max</th>\n",
              "    </tr>\n",
              "    <tr>\n",
              "      <th>target</th>\n",
              "      <th></th>\n",
              "      <th></th>\n",
              "      <th></th>\n",
              "      <th></th>\n",
              "      <th></th>\n",
              "      <th></th>\n",
              "      <th></th>\n",
              "      <th></th>\n",
              "    </tr>\n",
              "  </thead>\n",
              "  <tbody>\n",
              "    <tr>\n",
              "      <th>setosa</th>\n",
              "      <td>50.0</td>\n",
              "      <td>1.462</td>\n",
              "      <td>0.173664</td>\n",
              "      <td>1.0</td>\n",
              "      <td>1.4</td>\n",
              "      <td>1.50</td>\n",
              "      <td>1.575</td>\n",
              "      <td>1.9</td>\n",
              "    </tr>\n",
              "    <tr>\n",
              "      <th>versicolor</th>\n",
              "      <td>50.0</td>\n",
              "      <td>4.260</td>\n",
              "      <td>0.469911</td>\n",
              "      <td>3.0</td>\n",
              "      <td>4.0</td>\n",
              "      <td>4.35</td>\n",
              "      <td>4.600</td>\n",
              "      <td>5.1</td>\n",
              "    </tr>\n",
              "    <tr>\n",
              "      <th>virginica</th>\n",
              "      <td>50.0</td>\n",
              "      <td>5.552</td>\n",
              "      <td>0.551895</td>\n",
              "      <td>4.5</td>\n",
              "      <td>5.1</td>\n",
              "      <td>5.55</td>\n",
              "      <td>5.875</td>\n",
              "      <td>6.9</td>\n",
              "    </tr>\n",
              "  </tbody>\n",
              "</table>\n",
              "</div>"
            ],
            "text/plain": [
              "            count   mean       std  min  25%   50%    75%  max\n",
              "target                                                        \n",
              "setosa       50.0  1.462  0.173664  1.0  1.4  1.50  1.575  1.9\n",
              "versicolor   50.0  4.260  0.469911  3.0  4.0  4.35  4.600  5.1\n",
              "virginica    50.0  5.552  0.551895  4.5  5.1  5.55  5.875  6.9"
            ]
          },
          "metadata": {
            "tags": []
          },
          "execution_count": 18
        }
      ]
    },
    {
      "cell_type": "markdown",
      "metadata": {
        "id": "Oi9xgBIGRKQO"
      },
      "source": [
        "##ヒストグラムの適切な幅"
      ]
    },
    {
      "cell_type": "markdown",
      "metadata": {
        "id": "ogUWQBC3RfP4"
      },
      "source": [
        "*   最大値と最小値を求める。\n",
        "*   最大値と最小値の差 𝑅（範囲）を求める\n",
        "*   区間の個数 𝑘 (グラフの棒の本数）を決める。\n",
        "    *        簡単に、𝑘=10 や 20 などきりの良い数にする\n",
        "    *       $k=\\sqrt{n}$　　ただし𝑛はサンプルサイズ（データの個数）\n",
        "    *       $k=1+\\log_2 (𝑛)$ [スタージェスの式]\n",
        "\n",
        " 区間幅  ℎ を求める。\n",
        " ℎ=𝑅÷𝑘\n",
        " ℎ の値を見て、きりのいい数字に設定する\n",
        "          "
      ]
    },
    {
      "cell_type": "code",
      "metadata": {
        "id": "aKI8z52mRZJH"
      },
      "source": [
        "import numpy as np\n",
        "\n",
        "#　乱数発生のシード値の固定(乱数のシードの値を1に変えて実行してみよう)\n",
        "np.random.seed(0)\n",
        "#randnは標準正規分布（平均=0, 分散=1）に従う乱数を所定の個数発生させる関数\n",
        "x = pd.Series(np.random.randn(100))"
      ],
      "execution_count": null,
      "outputs": []
    },
    {
      "cell_type": "code",
      "metadata": {
        "id": "GtUtMGkqTDkb",
        "colab": {
          "base_uri": "https://localhost:8080/",
          "height": 282
        },
        "outputId": "e96b2148-3f8e-4f0e-f963-5a0067f1fc88"
      },
      "source": [
        "#(-5,5)の区間を10分割した区間でヒストグラムを書く\n",
        "x.hist(bins=10,range=(-4,4))\n"
      ],
      "execution_count": null,
      "outputs": [
        {
          "output_type": "execute_result",
          "data": {
            "text/plain": [
              "<matplotlib.axes._subplots.AxesSubplot at 0x7f41befd6950>"
            ]
          },
          "metadata": {
            "tags": []
          },
          "execution_count": 20
        },
        {
          "output_type": "display_data",
          "data": {
            "image/png": "[encoded data removed]",
            "text/plain": [
              "<Figure size 432x288 with 1 Axes>"
            ]
          },
          "metadata": {
            "tags": [],
            "needs_background": "light"
          }
        }
      ]
    },
    {
      "cell_type": "code",
      "metadata": {
        "id": "Cln7wrc6T4UU",
        "colab": {
          "base_uri": "https://localhost:8080/",
          "height": 282
        },
        "outputId": "f5a61bf7-de3c-4964-dd95-c451d9362f0f"
      },
      "source": [
        "#(-5,5)の区間を100分割した区間でヒストグラムを書く\n",
        "x.hist(bins=100,range=(-4,4))\n"
      ],
      "execution_count": null,
      "outputs": [
        {
          "output_type": "execute_result",
          "data": {
            "text/plain": [
              "<matplotlib.axes._subplots.AxesSubplot at 0x7f41bef05450>"
            ]
          },
          "metadata": {
            "tags": []
          },
          "execution_count": 21
        },
        {
          "output_type": "display_data",
          "data": {
            "image/png": "[encoded data removed]",
            "text/plain": [
              "<Figure size 432x288 with 1 Axes>"
            ]
          },
          "metadata": {
            "tags": [],
            "needs_background": "light"
          }
        }
      ]
    },
    {
      "cell_type": "code",
      "metadata": {
        "id": "JeqToxxZT89j",
        "colab": {
          "base_uri": "https://localhost:8080/",
          "height": 282
        },
        "outputId": "3366c25e-d39d-4044-b336-269b4495815e"
      },
      "source": [
        "#(-5,5)の区間を5分割した区間でヒストグラムを書く\n",
        "x.hist(bins=5,range=(-4,4))\n"
      ],
      "execution_count": null,
      "outputs": [
        {
          "output_type": "execute_result",
          "data": {
            "text/plain": [
              "<matplotlib.axes._subplots.AxesSubplot at 0x7f41bf01ffd0>"
            ]
          },
          "metadata": {
            "tags": []
          },
          "execution_count": 22
        },
        {
          "output_type": "display_data",
          "data": {
            "image/png": "[encoded data removed]",
            "text/plain": [
              "<Figure size 432x288 with 1 Axes>"
            ]
          },
          "metadata": {
            "tags": [],
            "needs_background": "light"
          }
        }
      ]
    },
    {
      "cell_type": "code",
      "metadata": {
        "id": "gkoJ4_FEUEc6",
        "colab": {
          "base_uri": "https://localhost:8080/",
          "height": 282
        },
        "outputId": "dc5f6280-68b2-4521-b926-4491a1ddd208"
      },
      "source": [
        "#スタージェスの式で求めると\n",
        "from math import log\n",
        "k = 1+ log(len(x), 2)\n",
        "\n",
        "from math import ceil\n",
        "#階級数は整数である必要があるので切り上げ関数ceilを用いる\n",
        "edges = ceil(k)\n",
        "\n",
        "#(-5,5)の区間を5分割した区間でヒストグラムを書く\n",
        "x.hist(bins=edges,range=(-4,4))"
      ],
      "execution_count": null,
      "outputs": [
        {
          "output_type": "execute_result",
          "data": {
            "text/plain": [
              "<matplotlib.axes._subplots.AxesSubplot at 0x7f41bed4cf10>"
            ]
          },
          "metadata": {
            "tags": []
          },
          "execution_count": 23
        },
        {
          "output_type": "display_data",
          "data": {
            "image/png": "[encoded data removed]",
            "text/plain": [
              "<Figure size 432x288 with 1 Axes>"
            ]
          },
          "metadata": {
            "tags": [],
            "needs_background": "light"
          }
        }
      ]
    }
  ]
}
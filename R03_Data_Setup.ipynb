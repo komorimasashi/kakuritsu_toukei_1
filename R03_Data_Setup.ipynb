{
  "nbformat": 4,
  "nbformat_minor": 0,
  "metadata": {
    "colab": {
      "provenance": [],
      "include_colab_link": true
    },
    "kernelspec": {
      "name": "ir",
      "display_name": "R"
    }
  },
  "cells": [
    {
      "cell_type": "markdown",
      "metadata": {
        "id": "view-in-github",
        "colab_type": "text"
      },
      "source": [
        "<a href=\"https://colab.research.google.com/github/komorimasashi/kakuritsu_toukei_1/blob/main/R03_Data_Setup.ipynb\" target=\"_parent\"><img src=\"https://colab.research.google.com/assets/colab-badge.svg\" alt=\"Open In Colab\"/></a>"
      ]
    },
    {
      "cell_type": "markdown",
      "source": [
        "## **3. 作業ディレクトリの設定とデータの読み込み**"
      ],
      "metadata": {
        "id": "QZS9DpqdCM_M"
      }
    },
    {
      "cell_type": "markdown",
      "source": [
        "データ分析を行う際、まず最初に必要なステップはデータの読み込みです。R言語では、さまざまな形式のデータを扱うための便利な関数が用意されています。ここでは、テキストファイル（CSV）とExcelファイルの読み込み方法に加えて、作業ディレクトリの設定や読み込み時のオプションについても詳しく解説します。\n"
      ],
      "metadata": {
        "id": "Cdnuj4NuDVwt"
      }
    },
    {
      "cell_type": "markdown",
      "source": [
        "### **3.1 作業ディレクトリの設定**"
      ],
      "metadata": {
        "id": "AvkcSy3ADYXE"
      }
    },
    {
      "cell_type": "markdown",
      "source": [
        "#### **3.1.1 作業ディレクトリ（working directory）とは？**\n",
        "\n",
        "作業ディレクトリとは、コンピュータ上で現在作業している「場所」のことを指します。つまり，Rのソースファイルや入力データを置いておくためのフォルダです．作業ディレクトリを設定するというのは、R言語で作業を行う際に「今、ここが私の作業場所です」と宣言することです．Rでは、この「作業場所」に置かれたデータファイルを読み込んだり、新しいファイルを保存したりすることが多いです．\n",
        "\n",
        "一つのフォルダー（ディレクトリ）の中にデータファイルやソースファイル，出力ファイルを纏めておくと便利です．例えば下の図のようなファイルを作業ディレクトリの中に入れておきます．"
      ],
      "metadata": {
        "id": "w5uUuSCYRDFO"
      }
    },
    {
      "cell_type": "markdown",
      "source": [
        "\n",
        "<figure><img src=\"https://lh3.googleusercontent.com/d/1VdTGaTv-mKqWaz6HvLXe220MpcXRGM4k\" width=450><figcaption>フォルダの例</figcaption></figure>\n"
      ],
      "metadata": {
        "id": "xie8hN1JSa2a"
      }
    },
    {
      "cell_type": "markdown",
      "source": [
        "#### **3.1.2 作業ディレクトリの設定方法**"
      ],
      "metadata": {
        "id": "xVB_ByhFRIQF"
      }
    },
    {
      "cell_type": "markdown",
      "source": [
        "1. **現在の作業ディレクトリを確認する：**\n",
        "このコマンドを実行すると、Rが現在どのフォルダーを作業ディレクトリとしているのかを教えてくれます。\n",
        "\n"
      ],
      "metadata": {
        "id": "e7WuRSTRRRD2"
      }
    },
    {
      "cell_type": "code",
      "source": [
        "# get working directoryの意味です\n",
        "getwd()"
      ],
      "metadata": {
        "colab": {
          "base_uri": "https://localhost:8080/",
          "height": 34
        },
        "id": "yocoJwN4RLkk",
        "outputId": "15bf2628-fd7e-411f-8d73-5a5baaf9bbe8"
      },
      "execution_count": null,
      "outputs": [
        {
          "output_type": "display_data",
          "data": {
            "text/html": [
              "'/content'"
            ],
            "text/markdown": "'/content'",
            "text/latex": "'/content'",
            "text/plain": [
              "[1] \"/content\""
            ]
          },
          "metadata": {}
        }
      ]
    },
    {
      "cell_type": "markdown",
      "source": [
        "2. **新しい作業ディレクトリを設定する：**  `setwd()`コマンドを使用して、新しい作業ディレクトリへのパス（道しるべ）を指定します。ここでの「`path/to/your/directory`」は、新しく設定したい作業ディレクトリの場所を示します。Windowsではバックスラッシュ（\\）を使用しますが、Rではスラッシュ（/）を使うか、バックスラッシュを2つ重ねて（\\\\）書きます．\n",
        "\n",
        "存在しないディレクトリは設定できないので，あらかじめフォルダを用意しておく必要があります．"
      ],
      "metadata": {
        "id": "1eLHeVdPRUsl"
      }
    },
    {
      "cell_type": "code",
      "source": [
        "  # set working directoryの意味です\n",
        "  # 下のソースコードはファイルパスが適切に設定されていないのでエラーを出力するはず\n",
        "  setwd(\"path/to/your/directory\")"
      ],
      "metadata": {
        "id": "IY1Lm0RHRe_l",
        "colab": {
          "base_uri": "https://localhost:8080/",
          "height": 108
        },
        "outputId": "ed1f047d-fbe9-42ac-8993-16c715918103"
      },
      "execution_count": null,
      "outputs": [
        {
          "output_type": "error",
          "ename": "ERROR",
          "evalue": "Error in setwd(\"path/to/your/directory\"): cannot change working directory\n",
          "traceback": [
            "Error in setwd(\"path/to/your/directory\"): cannot change working directory\nTraceback:\n",
            "1. setwd(\"path/to/your/directory\")"
          ]
        }
      ]
    },
    {
      "cell_type": "markdown",
      "source": [
        "3. **RStudio Projectで自動的に作業環境を設定する（中級者向け）：**\n",
        "\n",
        "RStudio Projectsは，RStudioの機能の一つで、プロジェクト単位で作業を整理しやすくするためのツールです。プロジェクトを使用することで、作業ディレクトリの管理が簡単になり、複数のプロジェクト間での移動や、設定の切り替えをスムーズに行うことができます。\n",
        "   - RStudioのメニューから「File」→「New Project...」を選択します。\n",
        "   - プロジェクト名を入力し、プロジェクトの場所を指定します。この場所がプロジェクトの作業ディレクトリになります。\n",
        "   - 「Create Project」をクリックします。\n",
        "   - プロジェクトを作成すると、RStudioはそのプロジェクトのディレクトリを自動的に作業ディレクトリとして設定します。プロジェクト内でRスクリプトを開いたり、新しいRスクリプトを作成したりすると、そのスクリプトは自動的に現在のプロジェクトディレクトリに関連付けられます。\n"
      ],
      "metadata": {
        "id": "-k3ZkD2MJgk7"
      }
    },
    {
      "cell_type": "markdown",
      "source": [
        "#### **3.1.3 注意点**\n",
        "- ファイルやフォルダの名前には、**スペースや2バイト文字（日本語）を一切使わない**でください\n",
        "- 初心者の「エラーです．どうすればいいですか？」の約半分（俺調べ）がパスの設定ミスです"
      ],
      "metadata": {
        "id": "X8PoSR3QEDDW"
      }
    },
    {
      "cell_type": "markdown",
      "source": [
        "### **3.2 テキストファイル（CSVファイル）の読み込み**"
      ],
      "metadata": {
        "id": "Aya0_jaJKoeb"
      }
    },
    {
      "cell_type": "markdown",
      "source": [
        "データのファイルを読み込む方法は色々ありますが，データが入力されたcsvファイルを読み込むことが最も一般的だと思います．csvとは“Comma Separated Value”つまり「カンマで区切られた値」の略で，図のようにカンマでデータが区切られたテキストファイルのことです．\n",
        "\n",
        "まずはちゃんとしたCSVファイルを用意しましょう．"
      ],
      "metadata": {
        "id": "TtUuzB7_MolZ"
      }
    },
    {
      "cell_type": "markdown",
      "source": [
        "<figure><img src=\"https://lh3.googleusercontent.com/d/10nyA2bQn3uPqHQ92_YxFEBE-nnwvYGzm\" width=450><figcaption>良い入力データの例</figcaption></figure>\n",
        "\n",
        "\n",
        "テキストエディタで上のファイルを開くと下のように「，」と改行コードで区切られたデータが入っています．\n",
        "\n",
        "<figure><img src=\"https://lh3.googleusercontent.com/d/1XM8WFChZ93DBL8BIt8hhysTXfU99b0Pv\" width=450><figcaption>CSVファイル</figcaption></figure>"
      ],
      "metadata": {
        "id": "N3Ifs8SqQcKX"
      }
    },
    {
      "cell_type": "markdown",
      "source": [
        "csvファイルは下のように`read.csv()`関数を使えば読み込むことができます．読み込まれたデータはdata.frame型の変数になります．"
      ],
      "metadata": {
        "id": "RAA-MHkiTy3h"
      }
    },
    {
      "cell_type": "code",
      "source": [
        "# CSVファイルの読み込み（デフォルトでは最初の行を変数名として扱う）\n",
        "data_csv <- read.csv(\"file.csv\")\n",
        "\n",
        "# 最初の行からいきなりデータが入っている場合、変数名を自動生成させる\n",
        "data_csv_no_header <- read.csv(\"file.csv\", header = FALSE)"
      ],
      "metadata": {
        "id": "D70mZX4GNEZA"
      },
      "execution_count": null,
      "outputs": []
    },
    {
      "cell_type": "markdown",
      "source": [
        "作業ディレクトリに「`path/to/your/directory`」を指定していて，その中の`data`フォルダにデータを入れている場合は，その作業ディレクトリから見たファイルの位置を**相対パス**で指定してください．"
      ],
      "metadata": {
        "id": "iOcpG45bWIIo"
      }
    },
    {
      "cell_type": "code",
      "source": [
        "# 作業ディレクトリの指定\n",
        "setwd(\"path/to/your/directory\")\n",
        "\n",
        "# CSVファイルの読み込み（デフォルトでは最初の行を変数名として扱う）\n",
        "data_csv <- read.csv(\"data/file.csv\")\n",
        "\n",
        "# フルパスで指定するこrともできます\n",
        "data_csv <- read.csv(\"path/to/your/directory/data/file.csv\")"
      ],
      "metadata": {
        "id": "1TN9EnE4WdWa"
      },
      "execution_count": null,
      "outputs": []
    },
    {
      "cell_type": "markdown",
      "source": [
        "Web上に公開されているcsvファイルを直接読むこともできます．"
      ],
      "metadata": {
        "id": "oo7h8VnNP8fy"
      }
    },
    {
      "cell_type": "code",
      "source": [
        "# read.csv()関数を直接使用できます。\n",
        "# CSVファイルのURL（大阪府警察犯罪オープンデータサイト）\n",
        "# https://www.police.pref.osaka.lg.jp/seikatsu/9290.html\n",
        "\n",
        "# 令和4年中ひったくり件数\n",
        "url <- \"https://www.police.pref.osaka.lg.jp/material/files/group/2/osaka_2022hittakuri.csv\"\n",
        "\n",
        "# CSVファイルを読み込み、データフレームに変換\n",
        "# 'fileEncoding = \"CP932\"'を指定して日本語が含まれているファイルを読み込む\n",
        "df <- read.csv(url, fileEncoding = \"CP932\")\n",
        "\n",
        "# 読み込んだデータを確認\n",
        "head(df)"
      ],
      "metadata": {
        "colab": {
          "base_uri": "https://localhost:8080/",
          "height": 286
        },
        "id": "cLRjOQvBPvnT",
        "outputId": "98e8feef-246b-496d-e0e7-97db51ca15f1"
      },
      "execution_count": null,
      "outputs": [
        {
          "output_type": "display_data",
          "data": {
            "text/html": [
              "<table class=\"dataframe\">\n",
              "<caption>A data.frame: 6 × 14</caption>\n",
              "<thead>\n",
              "\t<tr><th></th><th scope=col>罪名</th><th scope=col>手口</th><th scope=col>管轄警察署.発生地.</th><th scope=col>管轄交番.駐在所.発生地.</th><th scope=col>市区町村コード.発生地.</th><th scope=col>都道府県.発生地.</th><th scope=col>市区町村.発生地.</th><th scope=col>町丁目.発生地.</th><th scope=col>発生年月日.始期.</th><th scope=col>発生時.始期.</th><th scope=col>発生場所</th><th scope=col>被害者の性別</th><th scope=col>被害者の年齢</th><th scope=col>現金被害の有無</th></tr>\n",
              "\t<tr><th></th><th scope=col>&lt;chr&gt;</th><th scope=col>&lt;chr&gt;</th><th scope=col>&lt;chr&gt;</th><th scope=col>&lt;chr&gt;</th><th scope=col>&lt;int&gt;</th><th scope=col>&lt;chr&gt;</th><th scope=col>&lt;chr&gt;</th><th scope=col>&lt;chr&gt;</th><th scope=col>&lt;chr&gt;</th><th scope=col>&lt;int&gt;</th><th scope=col>&lt;chr&gt;</th><th scope=col>&lt;chr&gt;</th><th scope=col>&lt;chr&gt;</th><th scope=col>&lt;chr&gt;</th></tr>\n",
              "</thead>\n",
              "<tbody>\n",
              "\t<tr><th scope=row>1</th><td>窃盗</td><td>ひったくり</td><td>西</td><td>堀江交番      </td><td>271063</td><td>大阪府</td><td>大阪市西区  </td><td>北堀江１丁目    </td><td>2022-05-26</td><td>15</td><td>道路上</td><td>女性</td><td>20歳代</td><td>なし</td></tr>\n",
              "\t<tr><th scope=row>2</th><td>窃盗</td><td>ひったくり</td><td>西</td><td>堀江交番      </td><td>271063</td><td>大阪府</td><td>大阪市西区  </td><td>北堀江１丁目    </td><td>2022-08-05</td><td>22</td><td>道路上</td><td>女性</td><td>20歳代</td><td>あり</td></tr>\n",
              "\t<tr><th scope=row>3</th><td>窃盗</td><td>ひったくり</td><td>西</td><td>堀江交番      </td><td>271063</td><td>大阪府</td><td>大阪市西区  </td><td>北堀江１丁目    </td><td>2022-08-31</td><td> 3</td><td>道路上</td><td>男性</td><td>40歳代</td><td>なし</td></tr>\n",
              "\t<tr><th scope=row>4</th><td>窃盗</td><td>ひったくり</td><td>西</td><td>新町交番      </td><td>271063</td><td>大阪府</td><td>大阪市西区  </td><td>北堀江３丁目    </td><td>2022-08-04</td><td>21</td><td>道路上</td><td>男性</td><td>40歳代</td><td>あり</td></tr>\n",
              "\t<tr><th scope=row>5</th><td>窃盗</td><td>ひったくり</td><td>西</td><td>立売堀交番    </td><td>271063</td><td>大阪府</td><td>大阪市西区  </td><td>立売堀５丁目    </td><td>2022-07-25</td><td>22</td><td>道路上</td><td>女性</td><td>20歳代</td><td>あり</td></tr>\n",
              "\t<tr><th scope=row>6</th><td>窃盗</td><td>ひったくり</td><td>東</td><td>南久宝寺町交番</td><td>271284</td><td>大阪府</td><td>大阪市中央区</td><td>内久宝寺町４丁目</td><td>2022-05-31</td><td> 1</td><td>道路上</td><td>男性</td><td>30歳代</td><td>あり</td></tr>\n",
              "</tbody>\n",
              "</table>\n"
            ],
            "text/markdown": "\nA data.frame: 6 × 14\n\n| <!--/--> | 罪名 &lt;chr&gt; | 手口 &lt;chr&gt; | 管轄警察署.発生地. &lt;chr&gt; | 管轄交番.駐在所.発生地. &lt;chr&gt; | 市区町村コード.発生地. &lt;int&gt; | 都道府県.発生地. &lt;chr&gt; | 市区町村.発生地. &lt;chr&gt; | 町丁目.発生地. &lt;chr&gt; | 発生年月日.始期. &lt;chr&gt; | 発生時.始期. &lt;int&gt; | 発生場所 &lt;chr&gt; | 被害者の性別 &lt;chr&gt; | 被害者の年齢 &lt;chr&gt; | 現金被害の有無 &lt;chr&gt; |\n|---|---|---|---|---|---|---|---|---|---|---|---|---|---|---|\n| 1 | 窃盗 | ひったくり | 西 | 堀江交番       | 271063 | 大阪府 | 大阪市西区   | 北堀江１丁目     | 2022-05-26 | 15 | 道路上 | 女性 | 20歳代 | なし |\n| 2 | 窃盗 | ひったくり | 西 | 堀江交番       | 271063 | 大阪府 | 大阪市西区   | 北堀江１丁目     | 2022-08-05 | 22 | 道路上 | 女性 | 20歳代 | あり |\n| 3 | 窃盗 | ひったくり | 西 | 堀江交番       | 271063 | 大阪府 | 大阪市西区   | 北堀江１丁目     | 2022-08-31 |  3 | 道路上 | 男性 | 40歳代 | なし |\n| 4 | 窃盗 | ひったくり | 西 | 新町交番       | 271063 | 大阪府 | 大阪市西区   | 北堀江３丁目     | 2022-08-04 | 21 | 道路上 | 男性 | 40歳代 | あり |\n| 5 | 窃盗 | ひったくり | 西 | 立売堀交番     | 271063 | 大阪府 | 大阪市西区   | 立売堀５丁目     | 2022-07-25 | 22 | 道路上 | 女性 | 20歳代 | あり |\n| 6 | 窃盗 | ひったくり | 東 | 南久宝寺町交番 | 271284 | 大阪府 | 大阪市中央区 | 内久宝寺町４丁目 | 2022-05-31 |  1 | 道路上 | 男性 | 30歳代 | あり |\n\n",
            "text/latex": "A data.frame: 6 × 14\n\\begin{tabular}{r|llllllllllllll}\n  & 罪名 & 手口 & 管轄警察署.発生地. & 管轄交番.駐在所.発生地. & 市区町村コード.発生地. & 都道府県.発生地. & 市区町村.発生地. & 町丁目.発生地. & 発生年月日.始期. & 発生時.始期. & 発生場所 & 被害者の性別 & 被害者の年齢 & 現金被害の有無\\\\\n  & <chr> & <chr> & <chr> & <chr> & <int> & <chr> & <chr> & <chr> & <chr> & <int> & <chr> & <chr> & <chr> & <chr>\\\\\n\\hline\n\t1 & 窃盗 & ひったくり & 西 & 堀江交番       & 271063 & 大阪府 & 大阪市西区   & 北堀江１丁目     & 2022-05-26 & 15 & 道路上 & 女性 & 20歳代 & なし\\\\\n\t2 & 窃盗 & ひったくり & 西 & 堀江交番       & 271063 & 大阪府 & 大阪市西区   & 北堀江１丁目     & 2022-08-05 & 22 & 道路上 & 女性 & 20歳代 & あり\\\\\n\t3 & 窃盗 & ひったくり & 西 & 堀江交番       & 271063 & 大阪府 & 大阪市西区   & 北堀江１丁目     & 2022-08-31 &  3 & 道路上 & 男性 & 40歳代 & なし\\\\\n\t4 & 窃盗 & ひったくり & 西 & 新町交番       & 271063 & 大阪府 & 大阪市西区   & 北堀江３丁目     & 2022-08-04 & 21 & 道路上 & 男性 & 40歳代 & あり\\\\\n\t5 & 窃盗 & ひったくり & 西 & 立売堀交番     & 271063 & 大阪府 & 大阪市西区   & 立売堀５丁目     & 2022-07-25 & 22 & 道路上 & 女性 & 20歳代 & あり\\\\\n\t6 & 窃盗 & ひったくり & 東 & 南久宝寺町交番 & 271284 & 大阪府 & 大阪市中央区 & 内久宝寺町４丁目 & 2022-05-31 &  1 & 道路上 & 男性 & 30歳代 & あり\\\\\n\\end{tabular}\n",
            "text/plain": [
              "  罪名 手口       管轄警察署.発生地. 管轄交番.駐在所.発生地.\n",
              "1 窃盗 ひったくり 西                 堀江交番               \n",
              "2 窃盗 ひったくり 西                 堀江交番               \n",
              "3 窃盗 ひったくり 西                 堀江交番               \n",
              "4 窃盗 ひったくり 西                 新町交番               \n",
              "5 窃盗 ひったくり 西                 立売堀交番             \n",
              "6 窃盗 ひったくり 東                 南久宝寺町交番         \n",
              "  市区町村コード.発生地. 都道府県.発生地. 市区町村.発生地. 町丁目.発生地.  \n",
              "1 271063                 大阪府           大阪市西区       北堀江１丁目    \n",
              "2 271063                 大阪府           大阪市西区       北堀江１丁目    \n",
              "3 271063                 大阪府           大阪市西区       北堀江１丁目    \n",
              "4 271063                 大阪府           大阪市西区       北堀江３丁目    \n",
              "5 271063                 大阪府           大阪市西区       立売堀５丁目    \n",
              "6 271284                 大阪府           大阪市中央区     内久宝寺町４丁目\n",
              "  発生年月日.始期. 発生時.始期. 発生場所 被害者の性別 被害者の年齢\n",
              "1 2022-05-26       15           道路上   女性         20歳代      \n",
              "2 2022-08-05       22           道路上   女性         20歳代      \n",
              "3 2022-08-31        3           道路上   男性         40歳代      \n",
              "4 2022-08-04       21           道路上   男性         40歳代      \n",
              "5 2022-07-25       22           道路上   女性         20歳代      \n",
              "6 2022-05-31        1           道路上   男性         30歳代      \n",
              "  現金被害の有無\n",
              "1 なし          \n",
              "2 あり          \n",
              "3 なし          \n",
              "4 あり          \n",
              "5 あり          \n",
              "6 あり          "
            ]
          },
          "metadata": {}
        }
      ]
    },
    {
      "cell_type": "code",
      "source": [
        "# 管轄警察署.発生地.ごとに人数を集約\n",
        "table(df$管轄警察署.発生地.)"
      ],
      "metadata": {
        "colab": {
          "base_uri": "https://localhost:8080/",
          "height": 178
        },
        "id": "IBSpeP2HQaAx",
        "outputId": "a4872fdb-099b-4a33-c0a5-2969191d1aa2"
      },
      "execution_count": null,
      "outputs": [
        {
          "output_type": "display_data",
          "data": {
            "text/plain": [
              "\n",
              "  中堺   交野 住之江   住吉     南   吹田     堺   大正   天満   守口 富田林 \n",
              "     2      1      1      1     28      1      5      1      6      4      1 \n",
              "岸和田   布施   摂津     旭 曽根崎     東 東住吉   東成 東淀川   松原   枚方 \n",
              "     1      3      2      1     10      7      4      2      6      2      3 \n",
              "  此花   河内   浪速   淀川   生野   福島     西   西成 豊中南   門真 阿倍野 \n",
              "     1      1     13      3      2      2      5     11      1      2      1 \n",
              "  高槻   高石   鶴見 \n",
              "     2      1      1 "
            ]
          },
          "metadata": {}
        }
      ]
    },
    {
      "cell_type": "code",
      "source": [
        "# 管轄警察署.発生地.ごとに人数を集約\n",
        "table(df$被害者の年齢)"
      ],
      "metadata": {
        "colab": {
          "base_uri": "https://localhost:8080/",
          "height": 71
        },
        "id": "zYQwuHeJSGM6",
        "outputId": "5f7102d3-1dcd-4a3d-f939-83236ecc1ef9"
      },
      "execution_count": null,
      "outputs": [
        {
          "output_type": "display_data",
          "data": {
            "text/plain": [
              "\n",
              "  10歳代   20歳代   30歳代   40歳代   50歳代  60-64歳  65-69歳 70歳以上 \n",
              "       7       36       20       20       13        3        5       34 "
            ]
          },
          "metadata": {}
        }
      ]
    },
    {
      "cell_type": "code",
      "source": [
        "# 被害者の性別が女性の行だけを抜き出す\n",
        "subset(df, 被害者の性別 == \"女性\")"
      ],
      "metadata": {
        "id": "wPiWvSSAmalw"
      },
      "execution_count": null,
      "outputs": []
    },
    {
      "cell_type": "code",
      "source": [
        "# データの要約\n",
        "summary(df)"
      ],
      "metadata": {
        "colab": {
          "base_uri": "https://localhost:8080/",
          "height": 517
        },
        "id": "8TDEYnNFSO7F",
        "outputId": "60375d9b-8d5f-4c29-d705-ffe31b51a4fc"
      },
      "execution_count": null,
      "outputs": [
        {
          "output_type": "display_data",
          "data": {
            "text/plain": [
              "     罪名               手口           管轄警察署.発生地.\n",
              " Length:138         Length:138         Length:138        \n",
              " Class :character   Class :character   Class :character  \n",
              " Mode  :character   Mode  :character   Mode  :character  \n",
              "                                                         \n",
              "                                                         \n",
              "                                                         \n",
              " 管轄交番.駐在所.発生地. 市区町村コード.発生地. 都道府県.発生地.  \n",
              " Length:138              Min.   :271039         Length:138        \n",
              " Class :character        1st Qu.:271211         Class :character  \n",
              " Mode  :character        Median :271276         Mode  :character  \n",
              "                         Mean   :271410                           \n",
              "                         3rd Qu.:271284                           \n",
              "                         Max.   :273015                           \n",
              " 市区町村.発生地.   町丁目.発生地.     発生年月日.始期.    発生時.始期.  \n",
              " Length:138         Length:138         Length:138         Min.   : 0.00  \n",
              " Class :character   Class :character   Class :character   1st Qu.: 2.25  \n",
              " Mode  :character   Mode  :character   Mode  :character   Median : 9.50  \n",
              "                                                          Mean   :10.43  \n",
              "                                                          3rd Qu.:18.00  \n",
              "                                                          Max.   :23.00  \n",
              "   発生場所         被害者の性別       被害者の年齢       現金被害の有無    \n",
              " Length:138         Length:138         Length:138         Length:138        \n",
              " Class :character   Class :character   Class :character   Class :character  \n",
              " Mode  :character   Mode  :character   Mode  :character   Mode  :character  \n",
              "                                                                            \n",
              "                                                                            \n",
              "                                                                            "
            ]
          },
          "metadata": {}
        }
      ]
    },
    {
      "cell_type": "markdown",
      "source": [
        "### **3.3 ファイル読み込みの際の文字コードの問題**"
      ],
      "metadata": {
        "id": "MfWw35dbW-gq"
      }
    },
    {
      "cell_type": "markdown",
      "source": [
        "ファイルエンコーディングは，文字データをコンピューターで扱うために数値に変換する規則のことです。異なる言語や特殊文字を正確に表示・保存するために、さまざまなエンコーディング方式が存在します．そのためデータの読み込みの際に問題になることがあります．\n",
        "\n",
        "**Shift JISとUTF-8の違い**\n",
        "\n",
        "- **Shift JIS（またの名をCP932）：** 日本で広く使われているエンコーディング方式です。日本語文字に特化しており、Windows環境でよく使用されます．Excelで読み書きができるのは，Shift JISでエンコーディングされたCSVファイルです．\n",
        "- **UTF-8：** Unicodeを用いたエンコーディング方式で、世界中のほぼすべての言語をサポートしています．政府や自治体のオープンデータもだいたいUTF-8ですし，Mac, ubuntuなどのOSやウェブ上で広く使われてますが，Excelでは読めません．文字化けします．\n",
        "\n",
        "「文字化け」というのはこんな感じです．\n",
        "```\n",
        "Shift_JIS「これってもしかして」\n",
        "UTF-8「私たち」\n",
        "「「?????ւ??��Ă??`?`?`?`?H」」\n",
        "```\n",
        "\n",
        "テキストファイルが上手く読み込めないときは，ファイルエンコーディングが間違っている可能性を疑ってください．"
      ],
      "metadata": {
        "id": "ufqlgzyQYnet"
      }
    },
    {
      "cell_type": "code",
      "source": [
        "# Shift JISエンコーディングのCSVファイルを読み込む\n",
        "data_sjis <- read.csv(\"path/to/your/sjis_file.csv\", fileEncoding = \"CP932\")\n",
        "\n",
        "\n",
        "# UTF-8エンコーディングのCSVファイルを読み込む\n",
        "data_utf8 <- read.csv(\"path/to/your/utf8_file.csv\", fileEncoding = \"utf8\")"
      ],
      "metadata": {
        "id": "p6fFJ7vvfVm2"
      },
      "execution_count": null,
      "outputs": []
    },
    {
      "cell_type": "markdown",
      "source": [
        "### **3.4 Excelファイルの読み込み**"
      ],
      "metadata": {
        "id": "oLDYwilR_EJ5"
      }
    },
    {
      "cell_type": "markdown",
      "source": [
        "base RではExcelファイルを直接読み込むことはできませんが，`readxl`ライブラリをインポートすることで，Excelファイルを読み込むことができるようになります．"
      ],
      "metadata": {
        "id": "kVEnFuZb_Vj8"
      }
    },
    {
      "cell_type": "code",
      "source": [
        "# readxlパッケージの読み込み\n",
        "library(readxl)\n",
        "\n",
        "# Excelファイルの読み込み（最初のシートを読み込む）\n",
        "data_excel <- read_excel(\"file.xlsx\")\n",
        "\n",
        "# 特定のシートを指定して読み込む\n",
        "data_excel_sheet <- read_excel(\"file.xlsx\", sheet = \"Sheet2\")"
      ],
      "metadata": {
        "id": "jPzqRFvV_F34",
        "colab": {
          "base_uri": "https://localhost:8080/",
          "height": 144
        },
        "outputId": "fa5dbb11-9423-4851-a269-164f4d8af56c"
      },
      "execution_count": null,
      "outputs": [
        {
          "output_type": "error",
          "ename": "ERROR",
          "evalue": "Error: `path` does not exist: ‘file.xlsx’\n",
          "traceback": [
            "Error: `path` does not exist: ‘file.xlsx’\nTraceback:\n",
            "1. read_excel(\"file.xlsx\")",
            "2. check_file(path)",
            "3. stop(\"`path` does not exist: \", sQuote(path), call. = FALSE)"
          ]
        }
      ]
    },
    {
      "cell_type": "markdown",
      "source": [
        "### **3.5 読み込んだデータを概観する方法**"
      ],
      "metadata": {
        "id": "A0anSX6z_29j"
      }
    },
    {
      "cell_type": "markdown",
      "source": [
        "読み込んだデータについて、その構造や内容を把握するための関数を使用します。"
      ],
      "metadata": {
        "id": "sMmS3ZEK_oc0"
      }
    },
    {
      "cell_type": "code",
      "source": [
        "# 最初の6行を表示\n",
        "head(data)\n",
        "\n",
        "# 最後の6行を表示\n",
        "tail(data)\n",
        "\n",
        "# データの要約統計量を表示（数値データの場合は平均、最小値、最大値など）\n",
        "summary(data)"
      ],
      "metadata": {
        "id": "z1Puzikj_2Ts"
      },
      "execution_count": null,
      "outputs": []
    }
  ]
}
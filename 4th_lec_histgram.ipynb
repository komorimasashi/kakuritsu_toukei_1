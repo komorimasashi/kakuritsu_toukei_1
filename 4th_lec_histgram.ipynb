{
  "nbformat": 4,
  "nbformat_minor": 0,
  "metadata": {
    "colab": {
      "name": "4th_lec_histgram.ipynb",
      "provenance": [],
      "collapsed_sections": [],
      "include_colab_link": true
    },
    "kernelspec": {
      "name": "python3",
      "display_name": "Python 3"
    }
  },
  "cells": [
    {
      "cell_type": "markdown",
      "metadata": {
        "id": "view-in-github",
        "colab_type": "text"
      },
      "source": [
        "<a href=\"https://colab.research.google.com/github/komorimasashi/kakuritsu_toukei_1/blob/main/4th_lec_histgram.ipynb\" target=\"_parent\"><img src=\"https://colab.research.google.com/assets/colab-badge.svg\" alt=\"Open In Colab\"/></a>"
      ]
    },
    {
      "cell_type": "markdown",
      "metadata": {
        "id": "Wrvop9Q9bBYM"
      },
      "source": [
        "# 度数分布表とヒストグラム"
      ]
    },
    {
      "cell_type": "markdown",
      "metadata": {
        "id": "5DCZmzbVOJL7"
      },
      "source": [
        "##概要"
      ]
    },
    {
      "cell_type": "markdown",
      "metadata": {
        "id": "_gQfZAx8Na1E"
      },
      "source": [
        "**目的**\n",
        "\n",
        "度数分布表とヒストグラムを作成する\n"
      ]
    },
    {
      "cell_type": "markdown",
      "metadata": {
        "id": "OcHlwXwqNF7M"
      },
      "source": [
        "**今回使うライブラリ**\n",
        "*   Pandas： データの集計や可視化を統合的に行うライブラリ\n",
        "\n",
        "\n",
        "\n"
      ]
    },
    {
      "cell_type": "markdown",
      "metadata": {
        "id": "dH45T5KTPci6"
      },
      "source": [
        "**Pandas**\n",
        "\n",
        "Pandasライブラリを使うと，さまざまなデータの操作をスムーズに柔軟に実施することができます．\n",
        "\n",
        "Pandasでは，データの塊を「シリーズ(Series)オブジェクト」や「データフレーム (DataFrame) オブジェクト」といった型で扱います．また，このようなオブジェクト効率的に高速に扱うための機能が用意されています．\n",
        "\n",
        "*   Seriesオブジェクトは時系列データのよう1次元のデータを主に扱います\n",
        "*   Dataframeオブジェクトは表のように2次元になっているデータを収納するものです\n",
        "\n",
        "公式ドキュメント：http://pandas.pydata.org/pandas-docs/stable/"
      ]
    },
    {
      "cell_type": "markdown",
      "metadata": {
        "id": "Y_vIrTSJNgmM"
      },
      "source": [
        "##ライブラリの読み込み"
      ]
    },
    {
      "cell_type": "markdown",
      "metadata": {
        "id": "SdnolcuyOSaX"
      },
      "source": [
        "Pythonは標準の状態ではあまりいろいろな事はできませんが，さまざまなライブラリをインポート（導入）することで，いろいろな関数が使えるようになったり，データ処理に適した変数の型を使えるようになったりして，超パワーアップします．ここでは，データ分析でよく使われるPythonのライブラリであるNumpy，Matplotlib，Pandasを使ってみましょう．"
      ]
    },
    {
      "cell_type": "markdown",
      "metadata": {
        "id": "LQnCU0RHNS2k"
      },
      "source": [
        "**基本的なライブラリの読み込みパターン**\n",
        "\n",
        "**import xxx**\n",
        "\n",
        "xxx library をすべて読み込み，xxx.関数名 といった形で利用する．\n",
        "\n",
        "**import xxx.a_func as b_func**\n",
        "\n",
        "xxx library の a_func だけを b_func という別名をつけて読み込む．名前の衝突の防止や短縮型として利用する．\n",
        "\n",
        "**from xxx import a_func**\n",
        "\n",
        "xxx library の a_func だけ読み込み，a_func で利用する．from をつけると xxx は指定せず利用できる．"
      ]
    },
    {
      "cell_type": "code",
      "metadata": {
        "id": "1l1Hr8muOmC4"
      },
      "source": [
        "#pandasライブラリを pd という略称をつけて読み込む\n",
        "import pandas as pd"
      ],
      "execution_count": null,
      "outputs": []
    },
    {
      "cell_type": "markdown",
      "metadata": {
        "id": "H4nNUQltBpea"
      },
      "source": [
        "##通学時間の度数分布"
      ]
    },
    {
      "cell_type": "code",
      "metadata": {
        "id": "fdnSZx60Bvd6"
      },
      "source": [
        "#データ読込（仮想データ）\n",
        "commuting_time = pd.Series([60,110,90,90,105,120,75,70,130,45,20,120,80,90,90,5,50,\n",
        "                            100,80,10,10,15,60,90,70,60,40,70,30,150,90,80,7,90,36,80,\n",
        "                            110,50,30,60,70,90,150,90,120,90,100,60,100,45,90,70,90,\n",
        "                            30,90,90,130,140,90,70,70,120,90,30,120,40,90,60,40,4,10,\n",
        "                            90,90,70,20,30,60,30,120,50,110,60,90,10,90,50,120,30,100,\n",
        "                            120,90,60,90,15,110,100,80,10,120,90,80,70,60,20,120,120,\n",
        "                            80,20,5,90,60,60,100,75,90,15,10,90,100,70,80,120,90,90,\n",
        "                            100,80,60,95,90,20,50,100,70,70,120,120,60,80,30,20,100,\n",
        "                            30,60,25,120,75,50,120,30,90,180,150\n",
        "        ])"
      ],
      "execution_count": null,
      "outputs": []
    },
    {
      "cell_type": "code",
      "metadata": {
        "id": "dweAx6GXFJ7I",
        "colab": {
          "base_uri": "https://localhost:8080/",
          "height": 170
        },
        "outputId": "413e1686-bc39-476d-eadd-68309c8a65da"
      },
      "source": [
        "#基本統計量の確認\n",
        "commuting_time.describe()"
      ],
      "execution_count": null,
      "outputs": [
        {
          "output_type": "execute_result",
          "data": {
            "text/plain": [
              "count    152.000000\n",
              "mean      74.092105\n",
              "std       36.490107\n",
              "min        4.000000\n",
              "25%       50.000000\n",
              "50%       80.000000\n",
              "75%       96.250000\n",
              "max      180.000000\n",
              "dtype: float64"
            ]
          },
          "metadata": {
            "tags": []
          },
          "execution_count": 8
        }
      ]
    },
    {
      "cell_type": "code",
      "metadata": {
        "id": "_XlPMKA4N4rW",
        "colab": {
          "base_uri": "https://localhost:8080/",
          "height": 34
        },
        "outputId": "1cc9779c-8eb4-44db-8a2b-b2834840a376"
      },
      "source": [
        "#一部の要素だけ表示したい場合（maxを例に）\n",
        "commuting_time.describe().loc['max']"
      ],
      "execution_count": null,
      "outputs": [
        {
          "output_type": "execute_result",
          "data": {
            "text/plain": [
              "180.0"
            ]
          },
          "metadata": {
            "tags": []
          },
          "execution_count": 7
        }
      ]
    },
    {
      "cell_type": "code",
      "metadata": {
        "id": "IUlORrHFGgmI",
        "colab": {
          "base_uri": "https://localhost:8080/",
          "height": 282
        },
        "outputId": "6fbb4141-f805-4be2-bf23-fe3db6796bf8"
      },
      "source": [
        "#間隔を１０にする\n",
        "interval = 10\n",
        "# 分割の粒度（range関数でrange（開始，終了，間隔）と指定すると，等差数列ができる）\n",
        "bins = range(0,max(commuting_time)+interval , interval ) \n",
        "\n",
        "#定められた区間数(bins)でヒストグラムを描画する\n",
        "commuting_time.hist(bins=bins)"
      ],
      "execution_count": null,
      "outputs": [
        {
          "output_type": "execute_result",
          "data": {
            "text/plain": [
              "<matplotlib.axes._subplots.AxesSubplot at 0x7fcd90e08b70>"
            ]
          },
          "metadata": {
            "tags": []
          },
          "execution_count": 9
        },
        {
          "output_type": "display_data",
          "data": {
            "image/png": "[encoded data removed]",
            "text/plain": [
              "<Figure size 432x288 with 1 Axes>"
            ]
          },
          "metadata": {
            "tags": [],
            "needs_background": "light"
          }
        }
      ]
    },
    {
      "cell_type": "code",
      "metadata": {
        "id": "FcQiAcFkVFtr",
        "colab": {
          "base_uri": "https://localhost:8080/",
          "height": 340
        },
        "outputId": "fc30e4f3-2684-4ed1-f0d2-fa6340f72c39"
      },
      "source": [
        "#pd.cutは区間に振り分ける処理を行う\n",
        "commuting_time_cut = pd.cut(commuting_time, bins =bins)\n",
        "\n",
        "#集計する．\n",
        "#0から10までは0人であることがわかる．”（”は開区間，”]”は閉区間を意味する\n",
        "pd.value_counts(commuting_time_cut, sort=False)"
      ],
      "execution_count": null,
      "outputs": [
        {
          "output_type": "execute_result",
          "data": {
            "text/plain": [
              "(0, 10]       10\n",
              "(10, 20]       9\n",
              "(20, 30]      11\n",
              "(30, 40]       4\n",
              "(40, 50]       8\n",
              "(50, 60]      15\n",
              "(60, 70]      12\n",
              "(70, 80]      13\n",
              "(80, 90]      31\n",
              "(90, 100]     11\n",
              "(100, 110]     5\n",
              "(110, 120]    16\n",
              "(120, 130]     2\n",
              "(130, 140]     1\n",
              "(140, 150]     3\n",
              "(150, 160]     0\n",
              "(160, 170]     0\n",
              "(170, 180]     1\n",
              "dtype: int64"
            ]
          },
          "metadata": {
            "tags": []
          },
          "execution_count": 10
        }
      ]
    },
    {
      "cell_type": "code",
      "metadata": {
        "id": "eoYD4baXVs2u",
        "colab": {
          "base_uri": "https://localhost:8080/",
          "height": 68
        },
        "outputId": "810c1079-4877-4711-bf10-f7ddd89b67ec"
      },
      "source": [
        "#サンプルサイズ\n",
        "print(len(commuting_time))\n",
        "#最大値\n",
        "print(max(commuting_time))\n",
        "#最小値\n",
        "print(min(commuting_time))"
      ],
      "execution_count": null,
      "outputs": [
        {
          "output_type": "stream",
          "text": [
            "152\n",
            "180\n",
            "4\n"
          ],
          "name": "stdout"
        }
      ]
    },
    {
      "cell_type": "markdown",
      "metadata": {
        "id": "ogUWQBC3RfP4"
      },
      "source": [
        "*   サンプルサイズ，最大値と最小値を求める。\n",
        "*   区間の個数 𝑘 (グラフの棒の本数）を決める。\n",
        "    *        簡単に、𝑘=10 や 20 などきりの良い数にする\n",
        "    *       $k=\\sqrt{n}$　　ただし𝑛はサンプルサイズ（データの個数）\n",
        "    *       $k=1+\\log_2 (𝑛)$ [スタージェスの式]\n",
        "          "
      ]
    },
    {
      "cell_type": "code",
      "metadata": {
        "id": "LEuZXmNhWuri",
        "colab": {
          "base_uri": "https://localhost:8080/",
          "height": 299
        },
        "outputId": "c01ecc44-3fa8-4d8d-8711-be014958f774"
      },
      "source": [
        "#平方根で区間数を求める\n",
        "from math import sqrt\n",
        "k=sqrt(len(commuting_time))\n",
        "\n",
        "from math import ceil\n",
        "#階級数は整数である必要があるので切り上げ関数ceilを用いる\n",
        "edges = ceil(k)\n",
        "print(edges, '区間')\n",
        "\n",
        "#(0,最大値]の区間をk分割した区間でヒストグラムを書く\n",
        "commuting_time.hist(bins=edges,range=(0,max(commuting_time)))"
      ],
      "execution_count": null,
      "outputs": [
        {
          "output_type": "stream",
          "text": [
            "13 区間\n"
          ],
          "name": "stdout"
        },
        {
          "output_type": "execute_result",
          "data": {
            "text/plain": [
              "<matplotlib.axes._subplots.AxesSubplot at 0x7f5aa279ae48>"
            ]
          },
          "metadata": {
            "tags": []
          },
          "execution_count": 27
        },
        {
          "output_type": "display_data",
          "data": {
            "image/png": "[encoded data removed]",
            "text/plain": [
              "<Figure size 432x288 with 1 Axes>"
            ]
          },
          "metadata": {
            "tags": [],
            "needs_background": "light"
          }
        }
      ]
    },
    {
      "cell_type": "code",
      "metadata": {
        "id": "IpYYPKvRT5gZ",
        "colab": {
          "base_uri": "https://localhost:8080/",
          "height": 299
        },
        "outputId": "eded84f1-0fae-43b7-bf02-91a6ed744600"
      },
      "source": [
        "#スタージェスの式で求めると\n",
        "from math import log\n",
        "k = 1+ log(len(commuting_time), 2)\n",
        "\n",
        "from math import ceil\n",
        "#階級数は整数である必要があるので切り上げ関数ceilを用いる\n",
        "edges = ceil(k)\n",
        "print(edges, '区間')\n",
        "\n",
        "#(0,最大値]の区間をk分割した区間でヒストグラムを書く\n",
        "commuting_time.hist(bins=edges,range=(0,max(commuting_time)))"
      ],
      "execution_count": null,
      "outputs": [
        {
          "output_type": "stream",
          "text": [
            "9 区間\n"
          ],
          "name": "stdout"
        },
        {
          "output_type": "execute_result",
          "data": {
            "text/plain": [
              "<matplotlib.axes._subplots.AxesSubplot at 0x7f5aa279ab38>"
            ]
          },
          "metadata": {
            "tags": []
          },
          "execution_count": 28
        },
        {
          "output_type": "display_data",
          "data": {
            "image/png": "[encoded data removed]",
            "text/plain": [
              "<Figure size 432x288 with 1 Axes>"
            ]
          },
          "metadata": {
            "tags": [],
            "needs_background": "light"
          }
        }
      ]
    },
    {
      "cell_type": "code",
      "metadata": {
        "id": "RXw6zixZXOyV",
        "colab": {
          "base_uri": "https://localhost:8080/",
          "height": 299
        },
        "outputId": "fcefb253-1ccd-44bc-fff3-7c9b2f523090"
      },
      "source": [
        "#区間が多すぎると見にくいヒストグラムができる(50区間の例)\n",
        "edges = 50\n",
        "print(edges, '区間')\n",
        "\n",
        "#(0,最大値]の区間をk分割した区間でヒストグラムを書く\n",
        "commuting_time.hist(bins=edges,range=(0,max(commuting_time)))"
      ],
      "execution_count": null,
      "outputs": [
        {
          "output_type": "stream",
          "text": [
            "50 区間\n"
          ],
          "name": "stdout"
        },
        {
          "output_type": "execute_result",
          "data": {
            "text/plain": [
              "<matplotlib.axes._subplots.AxesSubplot at 0x7f5aa26bd128>"
            ]
          },
          "metadata": {
            "tags": []
          },
          "execution_count": 29
        },
        {
          "output_type": "display_data",
          "data": {
            "image/png": "[encoded data removed]",
            "text/plain": [
              "<Figure size 432x288 with 1 Axes>"
            ]
          },
          "metadata": {
            "tags": [],
            "needs_background": "light"
          }
        }
      ]
    }
  ]
}
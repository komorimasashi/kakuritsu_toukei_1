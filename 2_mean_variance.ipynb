{
  "nbformat": 4,
  "nbformat_minor": 0,
  "metadata": {
    "colab": {
      "name": "2_mean_variance.ipynb",
      "provenance": [],
      "collapsed_sections": [
        "J8BvEN1bmtwI",
        "GXg2i1PK54xQ"
      ],
      "include_colab_link": true
    },
    "kernelspec": {
      "name": "python3",
      "display_name": "Python 3"
    }
  },
  "cells": [
    {
      "cell_type": "markdown",
      "metadata": {
        "id": "view-in-github",
        "colab_type": "text"
      },
      "source": [
        "<a href=\"https://colab.research.google.com/github/komorimasashi/kakuritsu_toukei_1/blob/main/2_mean_variance.ipynb\" target=\"_parent\"><img src=\"https://colab.research.google.com/assets/colab-badge.svg\" alt=\"Open In Colab\"/></a>"
      ]
    },
    {
      "cell_type": "markdown",
      "metadata": {
        "id": "mVgIVKDmbYiZ"
      },
      "source": [
        "# 代表値とばらつきの指標"
      ]
    },
    {
      "cell_type": "markdown",
      "metadata": {
        "id": "lSIOUbNilUkp"
      },
      "source": [
        "##概要"
      ]
    },
    {
      "cell_type": "markdown",
      "metadata": {
        "id": "SaBFvMR_lWRS"
      },
      "source": [
        "**目的**\n",
        "\n",
        "平均値，中央値などの代表値を求める．またばらつきの指標として標準偏差を求める．\n",
        "\n",
        "\n",
        "**今回使うライブラリ**\n",
        "\n",
        "*   NumPy：数値・ベクトル・行列演算ライブラリ\n",
        "*   SciPy: 高度な科学(science)計算を行うためのライブラリ\n",
        "*   Pandas： データの集計や可視化を統合的に行うライブラリ\n",
        "\n",
        "Numpyは配列(リスト)計算を高速にするためのPythonのライブラリです．Pythonには標準の機能としてリスト型変数がありますが、Numpyはこれを強化したNumpy配列というものを使います．NumpyはCで実装されており，処理が高速なので，大量のデータを扱うデータサイエンスの領域では必須のライブラリです．\n"
      ]
    },
    {
      "cell_type": "markdown",
      "metadata": {
        "id": "J8BvEN1bmtwI"
      },
      "source": [
        "##Numpyの基本的な使い方"
      ]
    },
    {
      "cell_type": "markdown",
      "metadata": {
        "id": "9Wm41wM-B527"
      },
      "source": [
        "（ここは興味のない人は飛ばしてもらっていいです）"
      ]
    },
    {
      "cell_type": "markdown",
      "metadata": {
        "id": "im8WcEBIOZu3"
      },
      "source": [
        "###Numpyライブラリの読み込み\n",
        "ライブラリを読み込んで使える状態にするには，**import** を使います．**import** モジュール名（numpy）でモジュールを読み込んでおり、**as** で短い名前をつけます（ここではnp；numpyをnpと省略するのは一般的なルールなので勝手な略称をつけないように）．これで「np」という名前をつければNumpyの関数を使うことができるようになりました．"
      ]
    },
    {
      "cell_type": "code",
      "metadata": {
        "id": "24CEJ0hXO8od"
      },
      "source": [
        "# numpyモジュールの読み込み\n",
        "import numpy as np"
      ],
      "execution_count": null,
      "outputs": []
    },
    {
      "cell_type": "markdown",
      "metadata": {
        "id": "-mlYY9BEPRYP"
      },
      "source": [
        "まずは，1から10までの配列を作成してみます．np.と後にarrayをつけることで，Numpyのインスタンスとして配列sample_numpy_data を作っています．sample_numpy_data はNumpyのインスタンスなので，Numpyの持つ様々な機能（メソッドと言われます）を使うことができます．\n",
        "\n",
        "(数字が綺麗に並んでないですが、後から並び替えをするためにわざと作っています)．"
      ]
    },
    {
      "cell_type": "code",
      "metadata": {
        "id": "dfeEX595Pl79",
        "colab": {
          "base_uri": "https://localhost:8080/"
        },
        "outputId": "86c6a2e4-6eb3-4278-fc84-8c2df3059a8a"
      },
      "source": [
        "# 配列の作成\n",
        "sample_numpy_data = np.array([9,2,3,4,10,6,7,8,1,5])\n",
        "sample_numpy_data"
      ],
      "execution_count": null,
      "outputs": [
        {
          "output_type": "execute_result",
          "data": {
            "text/plain": [
              "array([ 9,  2,  3,  4, 10,  6,  7,  8,  1,  5])"
            ]
          },
          "metadata": {
            "tags": []
          },
          "execution_count": 2
        }
      ]
    },
    {
      "cell_type": "markdown",
      "metadata": {
        "id": "BCLzvNf_x1PU"
      },
      "source": [
        "これはnumpy.ndarrayという型であることがわかります"
      ]
    },
    {
      "cell_type": "code",
      "metadata": {
        "id": "mjZLdJBbPnBt",
        "colab": {
          "base_uri": "https://localhost:8080/"
        },
        "outputId": "fe6174c3-2d0a-4c3c-fa1e-8705dc093132"
      },
      "source": [
        "#nd　　arrayはnumpyの多次元データを扱う型\n",
        "type(sample_numpy_data)"
      ],
      "execution_count": null,
      "outputs": [
        {
          "output_type": "execute_result",
          "data": {
            "text/plain": [
              "numpy.ndarray"
            ]
          },
          "metadata": {
            "tags": []
          },
          "execution_count": 3
        }
      ]
    },
    {
      "cell_type": "markdown",
      "metadata": {
        "id": "lFx2eNMrfzWJ"
      },
      "source": [
        "###Numpyのメソッドを使う"
      ]
    },
    {
      "cell_type": "markdown",
      "metadata": {
        "id": "06chDIVAc0aT"
      },
      "source": [
        "dtype, ndim, sizeといったNumpyのメソッド（クラスで定義されている処理）を使うことで，データの中身を見ることができます．\n",
        "\n",
        "使い方は，「インスタンス名.（ピリオド）メソッド」という書き方をします．"
      ]
    },
    {
      "cell_type": "code",
      "metadata": {
        "id": "-qYVVCCKcnKh",
        "colab": {
          "base_uri": "https://localhost:8080/"
        },
        "outputId": "13cbf5ad-244a-4088-d363-0e63aad7f4ea"
      },
      "source": [
        "# データの型\n",
        "print(sample_numpy_data.dtype)\n",
        "# 次元数\n",
        "print(sample_numpy_data.ndim)\n",
        "# 要素数\n",
        "print(sample_numpy_data.size)"
      ],
      "execution_count": null,
      "outputs": [
        {
          "output_type": "stream",
          "text": [
            "int64\n",
            "1\n",
            "10\n"
          ],
          "name": "stdout"
        }
      ]
    },
    {
      "cell_type": "markdown",
      "metadata": {
        "id": "I60aLf02eG2R"
      },
      "source": [
        "次にsort()というメソッドを使ってみましょう．sort()は並び替えの処理を行います．並び替え処理を行った後は，数字が昇順に整列されていることを確認しましょう．"
      ]
    },
    {
      "cell_type": "code",
      "metadata": {
        "id": "z_AkpLL8eSg_",
        "colab": {
          "base_uri": "https://localhost:8080/"
        },
        "outputId": "69f96591-3ab9-4bd4-b49d-6419c1c2a34d"
      },
      "source": [
        "print(\"そのまま：\",sample_numpy_data)\n",
        "\n",
        "# ソート\n",
        "sample_numpy_data.sort()\n",
        "\n",
        "print(\"ソート後：\",sample_numpy_data)\n"
      ],
      "execution_count": null,
      "outputs": [
        {
          "output_type": "stream",
          "text": [
            "そのまま： [ 9  2  3  4 10  6  7  8  1  5]\n",
            "ソート後： [ 1  2  3  4  5  6  7  8  9 10]\n"
          ],
          "name": "stdout"
        }
      ]
    },
    {
      "cell_type": "code",
      "metadata": {
        "id": "03KouPH3ex09",
        "colab": {
          "base_uri": "https://localhost:8080/"
        },
        "outputId": "32c831c2-0e4f-4d18-e3f2-da831c214084"
      },
      "source": [
        "# 最小値\n",
        "print(\"Min:\",sample_numpy_data.min())\n",
        "# 最大値\n",
        "print(\"Max:\",sample_numpy_data.max())\n",
        "# 合計\n",
        "print(\"Sum:\",sample_numpy_data.sum())\n",
        "# 積み上げ\n",
        "print(\"Cum:\",sample_numpy_data.cumsum())"
      ],
      "execution_count": null,
      "outputs": [
        {
          "output_type": "stream",
          "text": [
            "Min: 1\n",
            "Max: 10\n",
            "Sum: 55\n",
            "Cum: [ 1  3  6 10 15 21 28 36 45 55]\n"
          ],
          "name": "stdout"
        }
      ]
    },
    {
      "cell_type": "markdown",
      "metadata": {
        "id": "LEOQvUmzhr6E"
      },
      "source": [
        "###行列を扱う"
      ]
    },
    {
      "cell_type": "markdown",
      "metadata": {
        "id": "2uBBKLErhxpd"
      },
      "source": [
        ""
      ]
    },
    {
      "cell_type": "code",
      "metadata": {
        "id": "Xle_cboNiOsV",
        "colab": {
          "base_uri": "https://localhost:8080/"
        },
        "outputId": "7f19a978-8c68-4919-896d-52d61367af3f"
      },
      "source": [
        "#まずは要素が 1, 2, 3 である長さ 3 のベクトル\n",
        "a = np.array([1, 2, 3])\n",
        "print(a)"
      ],
      "execution_count": null,
      "outputs": [
        {
          "output_type": "stream",
          "text": [
            "[1 2 3]\n"
          ],
          "name": "stdout"
        }
      ]
    },
    {
      "cell_type": "markdown",
      "metadata": {
        "id": "dzEk-Rm6jKq_"
      },
      "source": [
        "次にこんな行列を作ってみましょう\n",
        "\\begin{pmatrix}\n",
        "1 & 2 &3 \\\\\n",
        "4 & 5 & 6 \\\\\n",
        "7 & 8 & 9\n",
        "\\end{pmatrix}\n"
      ]
    },
    {
      "cell_type": "code",
      "metadata": {
        "id": "_-6QuLLeiy9L",
        "colab": {
          "base_uri": "https://localhost:8080/"
        },
        "outputId": "6cebae7c-3941-42e7-da4e-071d5a36e406"
      },
      "source": [
        "b = np.array([[1, 2, 3], [4, 5,6],[7, 8, 9]])\n",
        "print(b)"
      ],
      "execution_count": null,
      "outputs": [
        {
          "output_type": "stream",
          "text": [
            "[[1 2 3]\n",
            " [4 5 6]\n",
            " [7 8 9]]\n"
          ],
          "name": "stdout"
        }
      ]
    },
    {
      "cell_type": "markdown",
      "metadata": {
        "id": "7NGpuWBrx_u6"
      },
      "source": [
        "numpy.ndarrayを作る方法はnp.array()以外にも色々あります．\n",
        "例えば，np.zeros() はそれぞれ要素が全て 0 である0行列を生成する関数です．"
      ]
    },
    {
      "cell_type": "code",
      "metadata": {
        "id": "_UXTmmctyRun",
        "colab": {
          "base_uri": "https://localhost:8080/"
        },
        "outputId": "338cc605-fb08-467e-c53a-9ed2b9ec8d88"
      },
      "source": [
        "#すべての要素が0の行列\n",
        "np.zeros((3, 4))"
      ],
      "execution_count": null,
      "outputs": [
        {
          "output_type": "execute_result",
          "data": {
            "text/plain": [
              "array([[0., 0., 0., 0.],\n",
              "       [0., 0., 0., 0.],\n",
              "       [0., 0., 0., 0.]])"
            ]
          },
          "metadata": {
            "tags": []
          },
          "execution_count": 9
        }
      ]
    },
    {
      "cell_type": "markdown",
      "metadata": {
        "id": "aNO_569eyqRp"
      },
      "source": [
        "np.identity()は単位行列を生成する関数です．n は行列の大きさを表します． 例えば3 と指定すると，単位行列は正方行列なので，大きさ 3×3 の単位行列が生成されます．"
      ]
    },
    {
      "cell_type": "code",
      "metadata": {
        "id": "9VrCEMt-y6Wg",
        "colab": {
          "base_uri": "https://localhost:8080/"
        },
        "outputId": "07e37907-e163-4685-ff17-9f5aa01345da"
      },
      "source": [
        "#単位行列\n",
        "np.identity(3)"
      ],
      "execution_count": null,
      "outputs": [
        {
          "output_type": "execute_result",
          "data": {
            "text/plain": [
              "array([[1., 0., 0.],\n",
              "       [0., 1., 0.],\n",
              "       [0., 0., 1.]])"
            ]
          },
          "metadata": {
            "tags": []
          },
          "execution_count": 10
        }
      ]
    },
    {
      "cell_type": "code",
      "metadata": {
        "id": "MMtW45MVzWb4",
        "colab": {
          "base_uri": "https://localhost:8080/"
        },
        "outputId": "2ec0d80b-fc3e-49c4-dc17-4c464d054ab4"
      },
      "source": [
        "#数列を生成する\n",
        "np.arange(9)"
      ],
      "execution_count": null,
      "outputs": [
        {
          "output_type": "execute_result",
          "data": {
            "text/plain": [
              "array([0, 1, 2, 3, 4, 5, 6, 7, 8])"
            ]
          },
          "metadata": {
            "tags": []
          },
          "execution_count": 11
        }
      ]
    },
    {
      "cell_type": "code",
      "metadata": {
        "id": "7thq-Xsuzt4J",
        "colab": {
          "base_uri": "https://localhost:8080/"
        },
        "outputId": "8e904cee-bd47-410e-e38c-786fae378d20"
      },
      "source": [
        "#後ろにさらにメソッドを重ねることもできます\n",
        "#reshapeは行列に変換するメソッドです\n",
        "np.arange(9).reshape(3,3)"
      ],
      "execution_count": null,
      "outputs": [
        {
          "output_type": "execute_result",
          "data": {
            "text/plain": [
              "array([[0, 1, 2],\n",
              "       [3, 4, 5],\n",
              "       [6, 7, 8]])"
            ]
          },
          "metadata": {
            "tags": []
          },
          "execution_count": 12
        }
      ]
    },
    {
      "cell_type": "code",
      "metadata": {
        "id": "1wNdiLB4087B",
        "colab": {
          "base_uri": "https://localhost:8080/"
        },
        "outputId": "21f096d2-cb3c-4cfa-f2d3-e4b11290c55d"
      },
      "source": [
        "#さらにこの行列のある部分だけを取り出すこともできます\n",
        "#0行目だけを取り出す（pythonは0からカウントするので実際には1行目）\n",
        "print(np.arange(9).reshape(3,3)[0,:])"
      ],
      "execution_count": null,
      "outputs": [
        {
          "output_type": "stream",
          "text": [
            "[0 1 2]\n"
          ],
          "name": "stdout"
        }
      ]
    },
    {
      "cell_type": "code",
      "metadata": {
        "id": "UZ8orsWy47Id",
        "colab": {
          "base_uri": "https://localhost:8080/"
        },
        "outputId": "64031357-167d-4a94-fc0b-5b7cb178d93e"
      },
      "source": [
        "#0列目だけを取り出す（実際には1列目）\n",
        "print(np.arange(9).reshape(3,3)[:,0])"
      ],
      "execution_count": null,
      "outputs": [
        {
          "output_type": "stream",
          "text": [
            "[0 3 6]\n"
          ],
          "name": "stdout"
        }
      ]
    },
    {
      "cell_type": "code",
      "metadata": {
        "id": "1eHs7DU54_IO",
        "colab": {
          "base_uri": "https://localhost:8080/"
        },
        "outputId": "10c73a88-23e9-45c2-a436-230d7dc61bf9"
      },
      "source": [
        "#\"0:2\"(コロン)は「0番目の要素から２番目の要素の手前(つまり１番目)まで取り出す\n",
        "print(np.arange(9).reshape(3,3)[:,0:2])"
      ],
      "execution_count": null,
      "outputs": [
        {
          "output_type": "stream",
          "text": [
            "[[0 1]\n",
            " [3 4]\n",
            " [6 7]]\n"
          ],
          "name": "stdout"
        }
      ]
    },
    {
      "cell_type": "code",
      "metadata": {
        "id": "0M02JAJw0VAp",
        "colab": {
          "base_uri": "https://localhost:8080/"
        },
        "outputId": "07e17aa2-34e5-48f5-de6a-ecdba5c21058"
      },
      "source": [
        "#行列を生成する際に変数の型を指定することができます\n",
        "a = np.array([1, 2, 3], dtype=float)\n",
        "print(\"aの型は\",a.dtype)\n",
        "\n",
        "b = np.array([1, 2, 3], dtype=int)\n",
        "print(\"bの型は\",b.dtype)"
      ],
      "execution_count": null,
      "outputs": [
        {
          "output_type": "stream",
          "text": [
            "aの型は float64\n",
            "bの型は int64\n"
          ],
          "name": "stdout"
        }
      ]
    },
    {
      "cell_type": "markdown",
      "metadata": {
        "id": "bb_K98aa5WTG"
      },
      "source": [
        "###行列の演算\n"
      ]
    },
    {
      "cell_type": "markdown",
      "metadata": {
        "id": "vhVSDwl_6RVn"
      },
      "source": [
        "行列の掛け算では，np.dotを使います．なお，*を使うとそれぞれの要素を掛け算するだけなので，間違えないように注意しましょう"
      ]
    },
    {
      "cell_type": "code",
      "metadata": {
        "id": "t81oXY9B5fNN",
        "colab": {
          "base_uri": "https://localhost:8080/"
        },
        "outputId": "673fd6ff-8f9f-40ab-a8c1-609347132afa"
      },
      "source": [
        "# 行列の積\n",
        "sample_multi_array_data1 = np.arange(0,9).reshape(3,3)\n",
        "sample_multi_array_data2 =  np.arange(9,18).reshape(3,3)\n",
        "np.dot(sample_multi_array_data1,sample_multi_array_data2)"
      ],
      "execution_count": null,
      "outputs": [
        {
          "output_type": "execute_result",
          "data": {
            "text/plain": [
              "array([[ 42,  45,  48],\n",
              "       [150, 162, 174],\n",
              "       [258, 279, 300]])"
            ]
          },
          "metadata": {
            "tags": []
          },
          "execution_count": 17
        }
      ]
    },
    {
      "cell_type": "code",
      "metadata": {
        "id": "n6i7uAu16bFU",
        "colab": {
          "base_uri": "https://localhost:8080/"
        },
        "outputId": "07a51edd-917c-405e-cae8-e4e9c2d22820"
      },
      "source": [
        "# 要素の積(注：行列の掛け算ではありません)\n",
        "sample_multi_array_data1 * sample_multi_array_data2"
      ],
      "execution_count": null,
      "outputs": [
        {
          "output_type": "execute_result",
          "data": {
            "text/plain": [
              "array([[  0,  10,  22],\n",
              "       [ 36,  52,  70],\n",
              "       [ 90, 112, 136]])"
            ]
          },
          "metadata": {
            "tags": []
          },
          "execution_count": 18
        }
      ]
    },
    {
      "cell_type": "markdown",
      "metadata": {
        "id": "XZNbjr-A8v0e"
      },
      "source": [
        "###list型からnp.array型への変換"
      ]
    },
    {
      "cell_type": "code",
      "metadata": {
        "id": "6Zm-mSKDze-C",
        "colab": {
          "base_uri": "https://localhost:8080/"
        },
        "outputId": "81767407-11b9-4049-8db7-74fcc8a1333e"
      },
      "source": [
        "data0 = range(10) # 注意\n",
        "\n",
        "data1 = []\n",
        "for x in range(10):\n",
        "    data1.append(x)\n",
        "\n",
        "data2 = [x for x in range(10)] # Python 特有の書き方\n",
        "data3 = np.array(range(10)) # range => numpy.ndarray 変換\n",
        "data4 = np.array(data2) # list => numpy.ndarray 変換\n",
        "\n",
        "print (type(data0), data0)\n",
        "print (type(data1), data1)\n",
        "print (type(data2), data2)\n",
        "print (type(data3), data3)\n",
        "print (type(data4), data4)"
      ],
      "execution_count": null,
      "outputs": [
        {
          "output_type": "stream",
          "text": [
            "<class 'range'> range(0, 10)\n",
            "<class 'list'> [0, 1, 2, 3, 4, 5, 6, 7, 8, 9]\n",
            "<class 'list'> [0, 1, 2, 3, 4, 5, 6, 7, 8, 9]\n",
            "<class 'numpy.ndarray'> [0 1 2 3 4 5 6 7 8 9]\n",
            "<class 'numpy.ndarray'> [0 1 2 3 4 5 6 7 8 9]\n"
          ],
          "name": "stdout"
        }
      ]
    },
    {
      "cell_type": "markdown",
      "metadata": {
        "id": "GXg2i1PK54xQ"
      },
      "source": [
        "##SciPyの基本的な使い方\n"
      ]
    },
    {
      "cell_type": "markdown",
      "metadata": {
        "id": "6dWIn_9LB_g3"
      },
      "source": [
        "（ここは興味のない人は飛ばしてもらっていいです）"
      ]
    },
    {
      "cell_type": "markdown",
      "metadata": {
        "id": "yqQJyh6K54xS"
      },
      "source": [
        "Scipyは科学技術計算をするためのモジュールで，統計的な処理を含む多様な数学的演算ができます．Scipyの中には様々なサブモジュールがあります．サブモジュールを使うには下のように「.」（ピリオド）でつないでサブモジュールを指定します．下はサブモジュールの一例です．\n",
        "\n",
        "*   scipy.stats: 統計\n",
        "*   scipy.linalg: 線形代数\n",
        "*   scipy.optimize: 最適化\n",
        "*   scipy.signal: 信号処理\n",
        "*   等々\n",
        "\n",
        "練習として，ここではscipy.linalgを使って線形代数の逆行列や固有値を求めてみましょう．"
      ]
    },
    {
      "cell_type": "markdown",
      "metadata": {
        "id": "L6WbSzJL54xT"
      },
      "source": [
        "###Scipyライブラリの読み込み"
      ]
    },
    {
      "cell_type": "code",
      "metadata": {
        "id": "RoqHKAPF54xT"
      },
      "source": [
        "# Scipyのモジュールをspとして読み込む\n",
        "import scipy as sp\n",
        "\n",
        "# 線形代数用のサブモジュールを linalg（linear algebra（線形代数）の略ね）として使えるようにする\n",
        "from scipy import linalg\n",
        "# 統計分析用のサブモジュールをstats（statistics（統計学）の略ね）として使えるようにする\n",
        "from scipy import stats"
      ],
      "execution_count": null,
      "outputs": []
    },
    {
      "cell_type": "markdown",
      "metadata": {
        "id": "MyIwIbrA54xW"
      },
      "source": [
        "###Scipy.lialgのメソッドを使う"
      ]
    },
    {
      "cell_type": "markdown",
      "metadata": {
        "id": "V4cMaGwl54xW"
      },
      "source": [
        "$\n",
        "  A = \\left(\n",
        "    \\begin{array}{ccc}\n",
        "      1 & 2 & 3 \\\\\n",
        "      1 & 3 & 2 \\\\\n",
        "      3 & 1 & 2\n",
        "    \\end{array}\n",
        "  \\right)\n",
        "$\n",
        "\n",
        "行列Aに対して行列式（determinant; いわゆる「$ad-bc$」です）を求めてみましょう\n",
        "\n",
        "scipy.linalg.detを使います．"
      ]
    },
    {
      "cell_type": "code",
      "metadata": {
        "id": "hKE-6ESh54xX",
        "colab": {
          "base_uri": "https://localhost:8080/"
        },
        "outputId": "0bfb1629-2d19-4ad6-ceed-54c8d3b3e0e7"
      },
      "source": [
        "# サンプルデータ作成\n",
        "sample_matrix_data = np.array([[1,2,3],[1,3,2],[3,1,2]])\n",
        "\n",
        "# 行列式\n",
        "print(linalg.det(sample_matrix_data))"
      ],
      "execution_count": null,
      "outputs": [
        {
          "output_type": "stream",
          "text": [
            "-12.0\n"
          ],
          "name": "stdout"
        }
      ]
    },
    {
      "cell_type": "markdown",
      "metadata": {
        "id": "Y6jXMYiD54xb"
      },
      "source": [
        "次は逆行列"
      ]
    },
    {
      "cell_type": "code",
      "metadata": {
        "id": "rxxSUxfT54xb",
        "colab": {
          "base_uri": "https://localhost:8080/"
        },
        "outputId": "9b5ab5eb-314c-448c-c648-e3ae1d4cfd6e"
      },
      "source": [
        "# 逆行列\n",
        "print(linalg.inv(sample_matrix_data))"
      ],
      "execution_count": null,
      "outputs": [
        {
          "output_type": "stream",
          "text": [
            "[[-0.33333333  0.08333333  0.41666667]\n",
            " [-0.33333333  0.58333333 -0.08333333]\n",
            " [ 0.66666667 -0.41666667 -0.08333333]]\n"
          ],
          "name": "stdout"
        }
      ]
    },
    {
      "cell_type": "markdown",
      "metadata": {
        "id": "dx99wnSO54xe"
      },
      "source": [
        "試しに，行列とその逆行列をnp.dot()関数を使ってかけ合わせてみましょう．\n",
        "\n",
        "ちゃんと単位行列になりますね？"
      ]
    },
    {
      "cell_type": "code",
      "metadata": {
        "id": "rtqhCOQy54xf",
        "colab": {
          "base_uri": "https://localhost:8080/"
        },
        "outputId": "68918bc2-d62e-4f25-c212-b2e24e454e91"
      },
      "source": [
        "np.dot(sample_matrix_data, linalg.inv(sample_matrix_data))"
      ],
      "execution_count": null,
      "outputs": [
        {
          "output_type": "execute_result",
          "data": {
            "text/plain": [
              "array([[ 1.00000000e+00, -1.11022302e-16, -2.77555756e-17],\n",
              "       [ 0.00000000e+00,  1.00000000e+00,  0.00000000e+00],\n",
              "       [ 2.22044605e-16, -1.11022302e-16,  1.00000000e+00]])"
            ]
          },
          "metadata": {
            "tags": []
          },
          "execution_count": 23
        }
      ]
    },
    {
      "cell_type": "markdown",
      "metadata": {
        "id": "ex8buFRq54xi"
      },
      "source": [
        "固有値と固有ベクトルも簡単に求められます"
      ]
    },
    {
      "cell_type": "code",
      "metadata": {
        "id": "l7z9HwsU54xj",
        "colab": {
          "base_uri": "https://localhost:8080/"
        },
        "outputId": "d7ffa2e8-4134-4de6-9150-acc500c9aa77"
      },
      "source": [
        "# 固有値と固有ベクトル（ linalg.eig()関数は戻り値が２つあることに注意しよう）\n",
        "eig_value, eig_vector = linalg.eig(sample_matrix_data)\n",
        "\n",
        "# 固有値と固有ベクトル\n",
        "print(\"固有値\")\n",
        "print(eig_value)\n",
        "print(\"固有ベクトル\")\n",
        "print(eig_vector)"
      ],
      "execution_count": null,
      "outputs": [
        {
          "output_type": "stream",
          "text": [
            "固有値\n",
            "[ 6.        +0.j -1.41421356+0.j  1.41421356+0.j]\n",
            "固有ベクトル\n",
            "[[-0.57735027 -0.72236645  0.16041816]\n",
            " [-0.57735027 -0.14290228 -0.81090869]\n",
            " [-0.57735027  0.67658381  0.56275492]]\n"
          ],
          "name": "stdout"
        }
      ]
    },
    {
      "cell_type": "markdown",
      "metadata": {
        "id": "qWlzkJOs54xl"
      },
      "source": [
        "###Scipy.statsのメソッドを使う\n",
        "まだ推測統計学を学んでいない皆さんには早いかもしれないが，Scipy.statsではさまざまな統計分析に関わ様々な関数を揃えている．"
      ]
    },
    {
      "cell_type": "markdown",
      "metadata": {
        "id": "t0VVFkS454xm"
      },
      "source": [
        "まずはテストの点数X={10, 20, 30, 40, 50}からそれぞれの受験者の「偏差値」を求めてみよう．\n",
        "\n",
        "$偏差値=zスコア×10 + 50$"
      ]
    },
    {
      "cell_type": "code",
      "metadata": {
        "id": "2LTPOME454xn",
        "colab": {
          "base_uri": "https://localhost:8080/"
        },
        "outputId": "c5c5a24b-370a-42d0-f391-623599a35f66"
      },
      "source": [
        "x = np.array([10, 20, 30, 40, 50])\n",
        "stats.zscore(x)*10 + 50"
      ],
      "execution_count": null,
      "outputs": [
        {
          "output_type": "execute_result",
          "data": {
            "text/plain": [
              "array([35.85786438, 42.92893219, 50.        , 57.07106781, 64.14213562])"
            ]
          },
          "metadata": {
            "tags": []
          },
          "execution_count": 25
        }
      ]
    },
    {
      "cell_type": "markdown",
      "metadata": {
        "id": "XUtzsLaK54xp"
      },
      "source": [
        "正規分布の確率密度関数(probability density function, PDF)を書くことも簡単にできる．"
      ]
    },
    {
      "cell_type": "code",
      "metadata": {
        "id": "P5EL9QtJ54xq",
        "colab": {
          "base_uri": "https://localhost:8080/"
        },
        "outputId": "d0c300bb-cd3b-47c8-cd05-6ebf41c6fe6a"
      },
      "source": [
        "import matplotlib.pyplot as plt\n",
        "x = np.linspace(-5,5,100)\n",
        "p = stats.norm.pdf(x)\n",
        "plt.plot(x,p)\n",
        "plt.show()"
      ],
      "execution_count": null,
      "outputs": [
        {
          "output_type": "display_data",
          "data": {
            "image/png": "[encoded data removed]",
            "text/plain": [
              "<Figure size 432x288 with 1 Axes>"
            ]
          },
          "metadata": {
            "tags": []
          }
        }
      ]
    },
    {
      "cell_type": "markdown",
      "metadata": {
        "id": "_qAsOphr1CGm"
      },
      "source": [
        "##代表値とばらつきの指標"
      ]
    },
    {
      "cell_type": "markdown",
      "metadata": {
        "id": "6ovYK2lYDQg8"
      },
      "source": [
        "###Iris flower data setのヒストグラムと記述統計量"
      ]
    },
    {
      "cell_type": "code",
      "metadata": {
        "id": "PZI-WDEG1TB4"
      },
      "source": [
        "import pandas as pd\n",
        "\n",
        "#scikit-learnライブラリからデータセットだけを用いる\n",
        "from sklearn import datasets\n",
        "\n",
        "#Irisデータを読み込みます\n",
        "iris = datasets.load_iris()\n",
        "\n",
        "#Iris.dataには花の特徴量がある．iris.targetに'target'と名前をつけて一つのDataFrameに統合\n",
        "df = pd.DataFrame(iris.data, columns=iris.feature_names)\n",
        "df['target'] = iris.target_names[iris.target]\n"
      ],
      "execution_count": null,
      "outputs": []
    },
    {
      "cell_type": "markdown",
      "metadata": {
        "id": "f32jtKAX1JLi"
      },
      "source": [
        "####Iris flower data setのヒストグラムで見る位置とばらつきの違い"
      ]
    },
    {
      "cell_type": "code",
      "metadata": {
        "id": "Eysnf4it1zy0",
        "colab": {
          "base_uri": "https://localhost:8080/",
          "height": 354
        },
        "outputId": "9da5dfde-d86a-4ac0-df7b-cbfff7e97365"
      },
      "source": [
        "#dfを'target'（品種）でグルーピングして，そのグルーピングしたもののうち\n",
        "#'petal length (cm)'（花弁の長さ）だけを抜き出して，そのヒストグラムを重ねる\n",
        "\n",
        "df.groupby('target')['petal length (cm)'].plot(bins=32, range=(0, 8), alpha=0.5, figsize=(8,4), kind='hist',  legend=True)"
      ],
      "execution_count": null,
      "outputs": [
        {
          "output_type": "execute_result",
          "data": {
            "text/plain": [
              "target\n",
              "setosa        AxesSubplot(0.125,0.125;0.775x0.755)\n",
              "versicolor    AxesSubplot(0.125,0.125;0.775x0.755)\n",
              "virginica     AxesSubplot(0.125,0.125;0.775x0.755)\n",
              "Name: petal length (cm), dtype: object"
            ]
          },
          "metadata": {
            "tags": []
          },
          "execution_count": 28
        },
        {
          "output_type": "display_data",
          "data": {
            "image/png": "[encoded data removed]",
            "text/plain": [
              "<Figure size 576x288 with 1 Axes>"
            ]
          },
          "metadata": {
            "tags": []
          }
        }
      ]
    },
    {
      "cell_type": "markdown",
      "metadata": {
        "id": "rtbK1iJ0Ch5s"
      },
      "source": [
        "####Iris flower data setの記述統計量"
      ]
    },
    {
      "cell_type": "markdown",
      "metadata": {
        "id": "Q_tfxplh2EmD"
      },
      "source": [
        "pd.describe()メソッドで記述統計量を求める．\n",
        "*   count: 各ターゲットのサンプルサイズ\n",
        "*   mean: 平均値: $$\\overline{x}=\\frac{1}{N}\\sum_{i=1}^Nx_i $$\n",
        "*   std: standard deviation（標準偏差）: $$\\sigma = \\sqrt{\\frac{1}{N}\\sum_{i=1}^N (x_i - \\overline{x})^2}$$\n",
        "*   min: 最小値\n",
        "*   25%: 第1四分位偏差（25パーセンタイル）\n",
        "*   50%: median（メディアン；中央値）\n",
        "*   75%: 第3四分位偏差（75パーセンタイル）\n",
        "*   max: 最大値\n",
        "\n",
        "\n",
        "\n"
      ]
    },
    {
      "cell_type": "code",
      "metadata": {
        "id": "7rg1kqp-1-qX",
        "colab": {
          "base_uri": "https://localhost:8080/",
          "height": 173
        },
        "outputId": "cb4be987-773e-4067-cd0a-091683f1d36d"
      },
      "source": [
        "df.groupby('target')['petal length (cm)'].describe()"
      ],
      "execution_count": null,
      "outputs": [
        {
          "output_type": "execute_result",
          "data": {
            "text/html": [
              "<div>\n",
              "<style scoped>\n",
              "    .dataframe tbody tr th:only-of-type {\n",
              "        vertical-align: middle;\n",
              "    }\n",
              "\n",
              "    .dataframe tbody tr th {\n",
              "        vertical-align: top;\n",
              "    }\n",
              "\n",
              "    .dataframe thead th {\n",
              "        text-align: right;\n",
              "    }\n",
              "</style>\n",
              "<table border=\"1\" class=\"dataframe\">\n",
              "  <thead>\n",
              "    <tr style=\"text-align: right;\">\n",
              "      <th></th>\n",
              "      <th>count</th>\n",
              "      <th>mean</th>\n",
              "      <th>std</th>\n",
              "      <th>min</th>\n",
              "      <th>25%</th>\n",
              "      <th>50%</th>\n",
              "      <th>75%</th>\n",
              "      <th>max</th>\n",
              "    </tr>\n",
              "    <tr>\n",
              "      <th>target</th>\n",
              "      <th></th>\n",
              "      <th></th>\n",
              "      <th></th>\n",
              "      <th></th>\n",
              "      <th></th>\n",
              "      <th></th>\n",
              "      <th></th>\n",
              "      <th></th>\n",
              "    </tr>\n",
              "  </thead>\n",
              "  <tbody>\n",
              "    <tr>\n",
              "      <th>setosa</th>\n",
              "      <td>50.0</td>\n",
              "      <td>1.462</td>\n",
              "      <td>0.173664</td>\n",
              "      <td>1.0</td>\n",
              "      <td>1.4</td>\n",
              "      <td>1.50</td>\n",
              "      <td>1.575</td>\n",
              "      <td>1.9</td>\n",
              "    </tr>\n",
              "    <tr>\n",
              "      <th>versicolor</th>\n",
              "      <td>50.0</td>\n",
              "      <td>4.260</td>\n",
              "      <td>0.469911</td>\n",
              "      <td>3.0</td>\n",
              "      <td>4.0</td>\n",
              "      <td>4.35</td>\n",
              "      <td>4.600</td>\n",
              "      <td>5.1</td>\n",
              "    </tr>\n",
              "    <tr>\n",
              "      <th>virginica</th>\n",
              "      <td>50.0</td>\n",
              "      <td>5.552</td>\n",
              "      <td>0.551895</td>\n",
              "      <td>4.5</td>\n",
              "      <td>5.1</td>\n",
              "      <td>5.55</td>\n",
              "      <td>5.875</td>\n",
              "      <td>6.9</td>\n",
              "    </tr>\n",
              "  </tbody>\n",
              "</table>\n",
              "</div>"
            ],
            "text/plain": [
              "            count   mean       std  min  25%   50%    75%  max\n",
              "target                                                        \n",
              "setosa       50.0  1.462  0.173664  1.0  1.4  1.50  1.575  1.9\n",
              "versicolor   50.0  4.260  0.469911  3.0  4.0  4.35  4.600  5.1\n",
              "virginica    50.0  5.552  0.551895  4.5  5.1  5.55  5.875  6.9"
            ]
          },
          "metadata": {
            "tags": []
          },
          "execution_count": 29
        }
      ]
    },
    {
      "cell_type": "markdown",
      "metadata": {
        "id": "4Ha7J8fvORmO"
      },
      "source": [
        "###範囲と四分位偏差と標準偏差の違い"
      ]
    },
    {
      "cell_type": "markdown",
      "metadata": {
        "id": "eSEureYLFGim"
      },
      "source": [
        "まず正規乱数を発生させて仮想データを作ってみます"
      ]
    },
    {
      "cell_type": "code",
      "metadata": {
        "id": "F8VyEFf1ONkv"
      },
      "source": [
        "import numpy as np\n",
        "import matplotlib.pyplot as plt\n",
        "\n",
        "#　乱数発生のシード値の固定(乱数のシードの値を1に変えて実行してみよう)\n",
        "np.random.seed(0)\n",
        "#randnは標準正規分布（平均=0, 分散=1）に従う乱数を所定の個数発生させる関数\n",
        "x = np.random.randn(100)"
      ],
      "execution_count": null,
      "outputs": []
    },
    {
      "cell_type": "markdown",
      "metadata": {
        "id": "5g9PQHyo39gG"
      },
      "source": [
        "####範囲"
      ]
    },
    {
      "cell_type": "code",
      "metadata": {
        "id": "vjGhLqh7O5vt",
        "colab": {
          "base_uri": "https://localhost:8080/",
          "height": 286
        },
        "outputId": "29b3ead4-50ff-4612-deab-8647ee5c9c2c"
      },
      "source": [
        "#(-5,5)の区間を100分割した区間でヒストグラムを書く\n",
        "\n",
        "plt.figure(figsize=(10,4))\n",
        "plt.hist(x, bins=100,range=(-4,4))\n",
        "\n",
        "plt.vlines(x.min(), 0, 10, \"red\", linestyles='dotted')\n",
        "plt.vlines(x.max(), 0, 10, \"red\", linestyles='dotted')\n",
        "plt.text(x.min(), 10, \"Min\", size = 15, color = \"red\")\n",
        "plt.text(x.max(), 10, \"Max\", size = 15, color = \"red\")\n",
        "plt.hlines(10, x.min(), x.max(), \"red\", linestyles='dashed')\n"
      ],
      "execution_count": null,
      "outputs": [
        {
          "output_type": "execute_result",
          "data": {
            "text/plain": [
              "<matplotlib.collections.LineCollection at 0x7f64b9f00898>"
            ]
          },
          "metadata": {
            "tags": []
          },
          "execution_count": 31
        },
        {
          "output_type": "display_data",
          "data": {
            "image/png": "[encoded data removed]",
            "text/plain": [
              "<Figure size 720x288 with 1 Axes>"
            ]
          },
          "metadata": {
            "tags": []
          }
        }
      ]
    },
    {
      "cell_type": "markdown",
      "metadata": {
        "id": "W4aJDSOs4b2g"
      },
      "source": [
        "####四分位範囲"
      ]
    },
    {
      "cell_type": "code",
      "metadata": {
        "id": "h7bSK7p74LEc",
        "colab": {
          "base_uri": "https://localhost:8080/",
          "height": 286
        },
        "outputId": "f5d917bd-a536-44a8-9264-a8b7542db7d4"
      },
      "source": [
        "plt.figure(figsize=(10,4))\n",
        "plt.hist(x, bins=100,range=(-4,4))\n",
        "#25, 75パーセンタイル（第1四分位，第3四分位）を求める\n",
        "q75, q25 = np.percentile(x, [75 ,25])\n",
        "\n",
        "plt.vlines(q25, 0, 10, \"blue\", linestyles='dotted')\n",
        "plt.vlines(q75, 0, 10, \"blue\", linestyles='dotted')\n",
        "plt.text(q25, 10, \"25%\", size = 15, color = \"blue\")\n",
        "plt.text(q75, 10, \"75%\", size = 15, color = \"blue\")\n",
        "plt.hlines(10, q25, q75, \"blue\", linestyles='dashed')\n"
      ],
      "execution_count": null,
      "outputs": [
        {
          "output_type": "execute_result",
          "data": {
            "text/plain": [
              "<matplotlib.collections.LineCollection at 0x7f64b9ddb2b0>"
            ]
          },
          "metadata": {
            "tags": []
          },
          "execution_count": 32
        },
        {
          "output_type": "display_data",
          "data": {
            "image/png": "[encoded data removed]",
            "text/plain": [
              "<Figure size 720x288 with 1 Axes>"
            ]
          },
          "metadata": {
            "tags": []
          }
        }
      ]
    },
    {
      "cell_type": "markdown",
      "metadata": {
        "id": "ugXa_JfD5ccM"
      },
      "source": [
        "####標準偏差"
      ]
    },
    {
      "cell_type": "code",
      "metadata": {
        "id": "t8iGPey-6LHc",
        "colab": {
          "base_uri": "https://localhost:8080/",
          "height": 286
        },
        "outputId": "64344965-010c-46a2-e08c-1f90a4f6f02c"
      },
      "source": [
        "plt.figure(figsize=(10,4))\n",
        "plt.hist(x, bins=100,range=(-4,4))\n",
        "\n",
        "plt.vlines(x.mean(), 0, 10, \"black\", linestyles='dotted')\n",
        "plt.text(x.mean(), 10, \"Mean\", size = 15, color = \"black\")\n",
        "\n",
        "plt.vlines(x.mean()+x.std(), 0, 10, \"black\", linestyles='dotted')\n",
        "plt.text(x.mean()+x.std(), 10, \"+1S.D.\", size = 15, color = \"black\")\n",
        "\n",
        "plt.vlines(x.mean()+2*x.std(), 0, 10, \"black\", linestyles='dotted')\n",
        "plt.text(x.mean()+2*x.std(), 10, \"+2S.D.\", size = 15, color = \"black\")\n",
        "\n",
        "plt.vlines(x.mean()+3*x.std(), 0, 10, \"black\", linestyles='dotted')\n",
        "plt.text(x.mean()+3*x.std(), 10, \"+3S.D.\", size = 15, color = \"black\")\n",
        "\n",
        "plt.vlines(x.mean()-x.std(), 0, 10, \"black\", linestyles='dotted')\n",
        "plt.text(x.mean()-x.std(), 10, \"-1S.D.\", size = 15, color = \"black\")\n",
        "\n",
        "plt.vlines(x.mean()-2*x.std(), 0, 10, \"black\", linestyles='dotted')\n",
        "plt.text(x.mean()-2*x.std(), 10, \"-2S.D.\", size = 15, color = \"black\")\n",
        "\n",
        "plt.vlines(x.mean()-3*x.std(), 0, 10, \"black\", linestyles='dotted')\n",
        "plt.text(x.mean()-3*x.std(), 10, \"-3S.D.\", size = 15, color = \"black\")\n",
        "\n",
        "plt.hlines(9, x.mean(), x.mean()+x.std(), \"black\", linestyles='dashed')\n"
      ],
      "execution_count": null,
      "outputs": [
        {
          "output_type": "execute_result",
          "data": {
            "text/plain": [
              "<matplotlib.collections.LineCollection at 0x7f64b9c43438>"
            ]
          },
          "metadata": {
            "tags": []
          },
          "execution_count": 33
        },
        {
          "output_type": "display_data",
          "data": {
            "image/png": "[encoded data removed]",
            "text/plain": [
              "<Figure size 720x288 with 1 Axes>"
            ]
          },
          "metadata": {
            "tags": []
          }
        }
      ]
    },
    {
      "cell_type": "markdown",
      "metadata": {
        "id": "zvjJQW1iOfXZ"
      },
      "source": [
        "####正規分布の四分位"
      ]
    },
    {
      "cell_type": "markdown",
      "metadata": {
        "id": "d-S6e7VRxP_k"
      },
      "source": [
        "$ p(x| \\mu , \\sigma ) = \\frac{1}{\\sigma \\sqrt{2 \\pi}} \\cdot \\exp \\big( - \\frac{(x - \\mu)^{2}}{2 \\sigma ^{2}} \\big) $\n",
        "\n",
        "ただし標準正規分布では\n",
        "\n",
        "$\\mu=0$\n",
        "\n",
        "$\\sigma=1$"
      ]
    },
    {
      "cell_type": "code",
      "metadata": {
        "id": "tL0BDKN2EKTE",
        "colab": {
          "base_uri": "https://localhost:8080/",
          "height": 286
        },
        "outputId": "c16aabd5-8fa0-4da6-c134-493f9300e802"
      },
      "source": [
        "from scipy import stats\n",
        "import numpy as np\n",
        "import matplotlib.pyplot as plt\n",
        "\n",
        "x = np.arange(-3, 3, 0.001)\n",
        "\n",
        "a = x[ x <= stats.norm.ppf(q=0.25, loc=0, scale=1)]\n",
        "b = x[(x > stats.norm.ppf(q=0.25, loc=0, scale=1)) & (x <= stats.norm.ppf(q=0.50, loc=0, scale=1))]\n",
        "c= x[ (x > stats.norm.ppf(q=0.50, loc=0, scale=1)) & (x <= stats.norm.ppf(q=0.75, loc=0, scale=1))]\n",
        "d =x[ x > stats.norm.ppf(q=0.75, loc=0, scale=1)]\n",
        "\n",
        "plt.figure(figsize=(10,4))\n",
        "p = stats.norm.pdf(x, scale=1)\n",
        "plt.plot(x, p)\n",
        "\n",
        "plt.fill_between(a,0,stats.norm.pdf(a, scale=1),facecolor='b',alpha=0.3)\n",
        "plt.fill_between(b,0,stats.norm.pdf(b, scale=1),facecolor='g',alpha=0.3)\n",
        "plt.fill_between(c,0,stats.norm.pdf(c, scale=1),facecolor='y',alpha=0.3)\n",
        "plt.fill_between(d,0,stats.norm.pdf(d, scale=1),facecolor='r',alpha=0.3)"
      ],
      "execution_count": null,
      "outputs": [
        {
          "output_type": "execute_result",
          "data": {
            "text/plain": [
              "<matplotlib.collections.PolyCollection at 0x7f64b9bd0eb8>"
            ]
          },
          "metadata": {
            "tags": []
          },
          "execution_count": 34
        },
        {
          "output_type": "display_data",
          "data": {
            "image/png": "[encoded data removed]",
            "text/plain": [
              "<Figure size 720x288 with 1 Axes>"
            ]
          },
          "metadata": {
            "tags": []
          }
        }
      ]
    },
    {
      "cell_type": "markdown",
      "metadata": {
        "id": "fNAPtp_ymPZx"
      },
      "source": [
        "####正規分布と標準偏差（σ: シグマ）\n"
      ]
    },
    {
      "cell_type": "code",
      "metadata": {
        "id": "Z_haM_DSmUek",
        "colab": {
          "base_uri": "https://localhost:8080/",
          "height": 292
        },
        "outputId": "196773c3-56ca-44a4-d7ae-8916de536ee7"
      },
      "source": [
        "from scipy import stats\n",
        "import numpy as np\n",
        "import matplotlib.pyplot as plt\n",
        "\n",
        "fig, ax = plt.subplots(1,4,figsize=(32,4))\n",
        "x = np.arange(-3, 3, 0.001)\n",
        "p = stats.norm.pdf(x, scale=1)\n",
        "\n",
        "for j in range(4):\n",
        "  ax[j].plot(x, p)\n",
        "  ax[j].set_xticks([-3, -2, -1, 0, 1, 2, 3])\n",
        "  ax[j].set_xticklabels(['-3σ', '-2σ', '-1σ', 'MEAN', '1σ', '2σ', '3σ'],fontsize='large') \n",
        "  for i in range(-3,4):\n",
        "    ax[j].vlines(i, 0, stats.norm.pdf(i), \"black\", linestyles='dotted')\n",
        "  ax[j].fill_between(x[(x >-j) &  (x<= j)],0,stats.norm.pdf(x[(x >-j) &  (x<= j)], scale=1),facecolor='r',alpha=0.2)"
      ],
      "execution_count": null,
      "outputs": [
        {
          "output_type": "display_data",
          "data": {
            "image/png": "[encoded data removed]",
            "text/plain": [
              "<Figure size 2304x288 with 4 Axes>"
            ]
          },
          "metadata": {
            "tags": []
          }
        }
      ]
    },
    {
      "cell_type": "markdown",
      "metadata": {
        "id": "bkbgaQtB6Dvp"
      },
      "source": [
        "##平均値や標準偏差の利用"
      ]
    },
    {
      "cell_type": "markdown",
      "metadata": {
        "id": "X9KEd-lh6Kwy"
      },
      "source": [
        "###zスコア（標準得点）"
      ]
    },
    {
      "cell_type": "markdown",
      "metadata": {
        "id": "U7YEx9fbNBcm"
      },
      "source": [
        "####学力偏差値（正規分布を仮定）"
      ]
    },
    {
      "cell_type": "code",
      "metadata": {
        "id": "AWeKyd5QXg3t",
        "colab": {
          "base_uri": "https://localhost:8080/",
          "height": 272
        },
        "outputId": "2cca0b47-c9cd-4119-cd11-bb2990a2dca3"
      },
      "source": [
        "from scipy import stats\n",
        "import numpy as np\n",
        "import matplotlib.pyplot as plt\n",
        "\n",
        "fig, ax = plt.subplots(1,1,figsize=(8,4))\n",
        "x = np.arange(-3, 3, 0.001)\n",
        "p = stats.norm.pdf(x, scale=1)\n",
        "\n",
        "ax.plot(x, p)\n",
        "ax.set_xticks([-3, -2, -1, 0, 1, 2, 3])\n",
        "ax.set_xticklabels(['20', '30', '40', '50', '60', '70', '80'],fontsize='large') \n",
        "ax.set_yticks([])\n",
        "for i in range(-3,4):\n",
        "    ax.vlines(i, 0, stats.norm.pdf(i), \"black\", linestyles='dotted')"
      ],
      "execution_count": null,
      "outputs": [
        {
          "output_type": "display_data",
          "data": {
            "image/png": "[encoded data removed]",
            "text/plain": [
              "<Figure size 576x288 with 1 Axes>"
            ]
          },
          "metadata": {
            "tags": []
          }
        }
      ]
    },
    {
      "cell_type": "markdown",
      "metadata": {
        "id": "YfRoGuWl1WpT"
      },
      "source": [
        "テストの点数X={10, 20, 30, 40, 50}からそれぞれの受験者の「学力偏差値」を求めてみよう．\n",
        "\n",
        "$学力偏差値=zスコア×10 + 50$"
      ]
    },
    {
      "cell_type": "code",
      "metadata": {
        "id": "DZKNE_TS1dof",
        "colab": {
          "base_uri": "https://localhost:8080/",
          "height": 34
        },
        "outputId": "ed9d4232-6efb-4734-ea54-52a9b39e1c2c"
      },
      "source": [
        "x = np.array([10, 20, 30, 40, 50])\n",
        "stats.zscore(x)*10 + 50"
      ],
      "execution_count": null,
      "outputs": [
        {
          "output_type": "execute_result",
          "data": {
            "text/plain": [
              "array([35.85786438, 42.92893219, 50.        , 57.07106781, 64.14213562])"
            ]
          },
          "metadata": {
            "tags": []
          },
          "execution_count": 37
        }
      ]
    },
    {
      "cell_type": "markdown",
      "metadata": {
        "id": "HxBLAH4ILZiX"
      },
      "source": [
        "**仮想データを作成し偏差値を求める**\n",
        "\n",
        "平均50点，標準偏差5点のうそこデータを作成するソース"
      ]
    },
    {
      "cell_type": "code",
      "metadata": {
        "id": "HzBLX67w-pcI",
        "colab": {
          "base_uri": "https://localhost:8080/",
          "height": 549
        },
        "outputId": "9f0a6d07-9311-4f23-9e57-2b2bd1aedcbc"
      },
      "source": [
        "import numpy.random as rnd\n",
        "import pandas as pd\n",
        "\n",
        "#　乱数発生のシード値の固定(乱数のシードの値を1に変えて実行してみよう)\n",
        "np.random.seed(1234)\n",
        "num_students = 40\n",
        "#randnは標準正規分布（平均=0, 分散=1）に従う乱数を所定の個数発生させる関数\n",
        "sugaku = (np.random.randn(num_students) * 5 + 50).round()  #平均50点，標準偏差5点の得点を発生(数学)\n",
        "eigo = (np.random.randn(num_students) * 15 + 70).round()  #平均50点，標準偏差15点の得点を発生（英語）\n",
        "\n",
        "df = pd.DataFrame({ 'sugaku' : sugaku ,'eigo'   : eigo})\n",
        "df.head()\n",
        "df.plot( bins=20, alpha=0.5, figsize=(4,4), kind='hist', legend=True,range=(30,100))\n",
        "df.describe()"
      ],
      "execution_count": null,
      "outputs": [
        {
          "output_type": "execute_result",
          "data": {
            "text/html": [
              "<div>\n",
              "<style scoped>\n",
              "    .dataframe tbody tr th:only-of-type {\n",
              "        vertical-align: middle;\n",
              "    }\n",
              "\n",
              "    .dataframe tbody tr th {\n",
              "        vertical-align: top;\n",
              "    }\n",
              "\n",
              "    .dataframe thead th {\n",
              "        text-align: right;\n",
              "    }\n",
              "</style>\n",
              "<table border=\"1\" class=\"dataframe\">\n",
              "  <thead>\n",
              "    <tr style=\"text-align: right;\">\n",
              "      <th></th>\n",
              "      <th>sugaku</th>\n",
              "      <th>eigo</th>\n",
              "    </tr>\n",
              "  </thead>\n",
              "  <tbody>\n",
              "    <tr>\n",
              "      <th>count</th>\n",
              "      <td>40.000000</td>\n",
              "      <td>40.000000</td>\n",
              "    </tr>\n",
              "    <tr>\n",
              "      <th>mean</th>\n",
              "      <td>50.700000</td>\n",
              "      <td>69.450000</td>\n",
              "    </tr>\n",
              "    <tr>\n",
              "      <th>std</th>\n",
              "      <td>5.034242</td>\n",
              "      <td>14.415003</td>\n",
              "    </tr>\n",
              "    <tr>\n",
              "      <th>min</th>\n",
              "      <td>39.000000</td>\n",
              "      <td>34.000000</td>\n",
              "    </tr>\n",
              "    <tr>\n",
              "      <th>25%</th>\n",
              "      <td>48.000000</td>\n",
              "      <td>61.000000</td>\n",
              "    </tr>\n",
              "    <tr>\n",
              "      <th>50%</th>\n",
              "      <td>51.000000</td>\n",
              "      <td>71.000000</td>\n",
              "    </tr>\n",
              "    <tr>\n",
              "      <th>75%</th>\n",
              "      <td>54.250000</td>\n",
              "      <td>78.000000</td>\n",
              "    </tr>\n",
              "    <tr>\n",
              "      <th>max</th>\n",
              "      <td>62.000000</td>\n",
              "      <td>100.000000</td>\n",
              "    </tr>\n",
              "  </tbody>\n",
              "</table>\n",
              "</div>"
            ],
            "text/plain": [
              "          sugaku        eigo\n",
              "count  40.000000   40.000000\n",
              "mean   50.700000   69.450000\n",
              "std     5.034242   14.415003\n",
              "min    39.000000   34.000000\n",
              "25%    48.000000   61.000000\n",
              "50%    51.000000   71.000000\n",
              "75%    54.250000   78.000000\n",
              "max    62.000000  100.000000"
            ]
          },
          "metadata": {
            "tags": []
          },
          "execution_count": 38
        },
        {
          "output_type": "display_data",
          "data": {
            "image/png": "[encoded data removed]",
            "text/plain": [
              "<Figure size 288x288 with 1 Axes>"
            ]
          },
          "metadata": {
            "tags": []
          }
        }
      ]
    },
    {
      "cell_type": "markdown",
      "metadata": {
        "id": "lqf84PNtlaQk"
      },
      "source": [
        "上記のテストで数学が60点,英語が80点の人の学力偏差値"
      ]
    },
    {
      "cell_type": "code",
      "metadata": {
        "id": "hjkZrpinjq9y",
        "colab": {
          "base_uri": "https://localhost:8080/",
          "height": 51
        },
        "outputId": "03c4f9f5-fa31-4990-9963-7c062b4e5ac7"
      },
      "source": [
        "hensati_sugaku = (60 - df['sugaku'].mean())/df['sugaku'].std() *10 + 50\n",
        "print(\"数学偏差値は%.1fです\" %hensati_sugaku)\n",
        "\n",
        "hensati_eigo = (80 - df['eigo'].mean())/df['eigo'].std() *10 + 50\n",
        "print(\"英語偏差値は%.1fです\" %hensati_eigo)"
      ],
      "execution_count": null,
      "outputs": [
        {
          "output_type": "stream",
          "text": [
            "数学偏差値は68.5です\n",
            "英語偏差値は57.3です\n"
          ],
          "name": "stdout"
        }
      ]
    },
    {
      "cell_type": "markdown",
      "metadata": {
        "id": "LpzviL5kYV1t"
      },
      "source": [
        "####95%安全在庫"
      ]
    },
    {
      "cell_type": "code",
      "metadata": {
        "id": "UPXwAHVLNGbY",
        "colab": {
          "base_uri": "https://localhost:8080/",
          "height": 289
        },
        "outputId": "591fa644-7a62-4307-d25f-f51486e24c4b"
      },
      "source": [
        "fig, ax = plt.subplots(1,1,figsize=(8,4))\n",
        "x = np.arange(-3, 3, 0.001)\n",
        "p = stats.norm.pdf(x, scale=1)\n",
        "\n",
        "ax.plot(x, p)\n",
        "ax.set_xticks([-3, -2, -1, 0, 1, 2, 3])\n",
        "ax.set_xticklabels(['-3σ', '-2σ', '-1σ', 'MEAN', '1σ', '2σ', '3σ'],fontsize='large') \n",
        "ax.set_yticks([])\n",
        "for i in range(-3,4):\n",
        "    ax.vlines(i, 0, stats.norm.pdf(i), \"black\", linestyles='dotted')\n",
        "ax.fill_between(x[(x <stats.norm.ppf(q=0.95, loc=0, scale=1))],0,stats.norm.pdf(x[(x <stats.norm.ppf(q=0.95, loc=0, scale=1))], scale=1),facecolor='r',alpha=0.2)"
      ],
      "execution_count": null,
      "outputs": [
        {
          "output_type": "execute_result",
          "data": {
            "text/plain": [
              "<matplotlib.collections.PolyCollection at 0x7f64b9a4fba8>"
            ]
          },
          "metadata": {
            "tags": []
          },
          "execution_count": 40
        },
        {
          "output_type": "display_data",
          "data": {
            "image/png": "[encoded data removed]",
            "text/plain": [
              "<Figure size 576x288 with 1 Axes>"
            ]
          },
          "metadata": {
            "tags": []
          }
        }
      ]
    },
    {
      "cell_type": "code",
      "metadata": {
        "id": "F2p88PvlVixG",
        "colab": {
          "base_uri": "https://localhost:8080/",
          "height": 289
        },
        "outputId": "3ebb0718-bb81-4dbe-d34c-8392e6932d2f"
      },
      "source": [
        "fig, ax = plt.subplots(1,1,figsize=(4,4))\n",
        "x = np.arange(-3, 3, 0.001)\n",
        "p = stats.norm.pdf(x, scale=1)\n",
        "\n",
        "ax.plot(x, p)\n",
        "ax.set_xticks([-3, -2, -1, 0, 1, 2, 3])\n",
        "ax.set_xticklabels(['-3', '-2', '-1', '0', '1', '2', '3'],fontsize='large') \n",
        "ax.set_yticks([])\n",
        "for i in range(-3,4):\n",
        "    ax.vlines(i, 0, stats.norm.pdf(i), \"black\", linestyles='dotted')\n",
        "ax.fill_between(x[(x <stats.norm.ppf(q=0.95, loc=0, scale=1))],0,stats.norm.pdf(x[(x <stats.norm.ppf(q=0.95, loc=0, scale=1))], scale=1),facecolor='r',alpha=0.2)"
      ],
      "execution_count": null,
      "outputs": [
        {
          "output_type": "execute_result",
          "data": {
            "text/plain": [
              "<matplotlib.collections.PolyCollection at 0x7fecd91e59b0>"
            ]
          },
          "metadata": {
            "tags": []
          },
          "execution_count": 5
        },
        {
          "output_type": "display_data",
          "data": {
            "image/png": "[encoded data removed]",
            "text/plain": [
              "<Figure size 288x288 with 1 Axes>"
            ]
          },
          "metadata": {
            "tags": []
          }
        }
      ]
    },
    {
      "cell_type": "code",
      "metadata": {
        "id": "3Gt1XK82l4d9",
        "colab": {
          "base_uri": "https://localhost:8080/",
          "height": 34
        },
        "outputId": "ba9811f0-9820-41f4-9202-e8876f35da34"
      },
      "source": [
        "#1日の平均需要のσ = 5のときの1日の95％安全在庫\n",
        "sigma = 5\n",
        "anzen_zaiko =  sigma * stats.norm.ppf(q=0.95, loc=0, scale=1)\n",
        "print(anzen_zaiko)"
      ],
      "execution_count": null,
      "outputs": [
        {
          "output_type": "stream",
          "text": [
            "8.224268134757361\n"
          ],
          "name": "stdout"
        }
      ]
    },
    {
      "cell_type": "markdown",
      "metadata": {
        "id": "z_21BCpPZwOh"
      },
      "source": [
        "####x管理図"
      ]
    },
    {
      "cell_type": "code",
      "metadata": {
        "id": "0dWnSYAWaCvq",
        "colab": {
          "base_uri": "https://localhost:8080/",
          "height": 300
        },
        "outputId": "c3049244-df8f-4d76-a4b9-7cae83bd88f2"
      },
      "source": [
        "#　乱数発生のシード値の固定(乱数のシードの値を1に変えて実行してみよう)\n",
        "np.random.seed(123)\n",
        "num_samples = 100\n",
        "#randnは標準正規分布（平均=0, 分散=1）に従う乱数を所定の個数発生させる関数\n",
        "diameter = np.random.randn(num_samples) *1.2  + 10  #平均10，標準偏差1.2点の得点を発生(数学)\n",
        "\n",
        "diameter[65] = 10 + 1.2 *3.7 #うそこデータの挿入（異常値）\n",
        "\n",
        "plt.figure(figsize=(12,4))\n",
        "plt.plot(diameter)\n",
        "plt.ylim(5 , 15)\n",
        "plt.xlabel('DAY')\n",
        "plt.ylabel('diameter(cm)')\n",
        "\n",
        "plt.hlines(diameter.mean() + diameter.std() *3, 7 , num_samples, \"black\", linestyles='dotted')\n",
        "plt.hlines(diameter.mean()  - diameter.std() *3, 7, num_samples, \"black\", linestyles='dotted')\n",
        "plt.text(90,diameter.mean()  + diameter.std() *3 +.1, \"UCL\", size = 15, color = \"black\")\n",
        "plt.text(90,diameter.mean()  - diameter.std() *3+.1, \"LCL\", size = 15, color = \"black\")\n",
        "\n",
        "plt.text(0,diameter.mean()  + diameter.std() *3 -.2, \"+3σ\", size = 12, color = \"black\")\n",
        "plt.text(0,diameter.mean()  - diameter.std() *3-.2, \"-3σ\", size = 12, color = \"black\")\n",
        "\n",
        "plt.hlines(diameter.mean() , 0, num_samples, \"black\", linestyles='dotted')\n"
      ],
      "execution_count": null,
      "outputs": [
        {
          "output_type": "execute_result",
          "data": {
            "text/plain": [
              "<matplotlib.collections.LineCollection at 0x7f64b9aced30>"
            ]
          },
          "metadata": {
            "tags": []
          },
          "execution_count": 42
        },
        {
          "output_type": "display_data",
          "data": {
            "image/png": "[encoded data removed]",
            "text/plain": [
              "<Figure size 864x288 with 1 Axes>"
            ]
          },
          "metadata": {
            "tags": []
          }
        }
      ]
    },
    {
      "cell_type": "markdown",
      "metadata": {
        "id": "SMiY_VyTRZAl"
      },
      "source": [
        "##授業資料作成用の図"
      ]
    },
    {
      "cell_type": "code",
      "metadata": {
        "id": "YfAYcmQX5VK2",
        "colab": {
          "base_uri": "https://localhost:8080/",
          "height": 286
        },
        "outputId": "e63bf224-25ca-4b0f-bc03-31653dbdfc87"
      },
      "source": [
        "#男性の身長の分布\n",
        "x = np.arange(150, 192, 1)\n",
        "\n",
        "p = stats.norm.pdf(x, loc=171, scale=6)\n",
        "plt.plot(x, p, label=\"μ= 171, σ = 6\")\n",
        "\n",
        "plt.legend(loc = 'upper right')\n"
      ],
      "execution_count": null,
      "outputs": [
        {
          "output_type": "execute_result",
          "data": {
            "text/plain": [
              "<matplotlib.legend.Legend at 0x7f66cfc72e10>"
            ]
          },
          "metadata": {
            "tags": []
          },
          "execution_count": 9
        },
        {
          "output_type": "display_data",
          "data": {
            "image/png": "[encoded data removed]",
            "text/plain": [
              "<Figure size 432x288 with 1 Axes>"
            ]
          },
          "metadata": {
            "tags": []
          }
        }
      ]
    },
    {
      "cell_type": "code",
      "metadata": {
        "id": "E9UZNIEe8Kdt",
        "colab": {
          "base_uri": "https://localhost:8080/",
          "height": 289
        },
        "outputId": "d8ba8ae6-9c6e-49c7-e0ea-b6f94ea1564a"
      },
      "source": [
        "#偏差値45\n",
        "fig, ax = plt.subplots(1,1,figsize=(8,4))\n",
        "x = np.arange(-3, 3, 0.001)\n",
        "p = stats.norm.pdf(x, scale=1)\n",
        "\n",
        "ax.plot(x, p)\n",
        "ax.set_xticks([-3, -2.5, -2,  -1.5, -1, -0.5,0, 0.5, 1, 1.5, 2,2.5, 3])\n",
        "ax.set_xticklabels(['20','25',  '30','35', '40','45', '50','55', '60', '65','70','75', '80'],fontsize='large') \n",
        "ax.set_yticks([])\n",
        "for i in range(-3,4):\n",
        "    ax.vlines(i, 0, stats.norm.pdf(i), \"black\", linestyles='dotted')\n",
        "ax.fill_between(x[(x < -0.5)],0,stats.norm.pdf(x[(x < -.5)], scale=1),facecolor='r',alpha=0.2)"
      ],
      "execution_count": null,
      "outputs": [
        {
          "output_type": "execute_result",
          "data": {
            "text/plain": [
              "<matplotlib.collections.PolyCollection at 0x7fecdbb0b748>"
            ]
          },
          "metadata": {
            "tags": []
          },
          "execution_count": 3
        },
        {
          "output_type": "display_data",
          "data": {
            "image/png": "[encoded data removed]",
            "text/plain": [
              "<Figure size 576x288 with 1 Axes>"
            ]
          },
          "metadata": {
            "tags": []
          }
        }
      ]
    },
    {
      "cell_type": "markdown",
      "metadata": {
        "id": "tR5LRqqe5Ogr"
      },
      "source": [
        "###平均の異なる分布とばらつき,歪み尖度の異なる分布"
      ]
    },
    {
      "cell_type": "markdown",
      "metadata": {
        "id": "8V315LZ15Z1d"
      },
      "source": [
        "####平均の異なる分布"
      ]
    },
    {
      "cell_type": "code",
      "metadata": {
        "id": "co5IPcMc5ete",
        "colab": {
          "base_uri": "https://localhost:8080/",
          "height": 286
        },
        "outputId": "7b0eb660-9eb9-41e6-d55e-1ce2941d0c3c"
      },
      "source": [
        "# 統計分析用のサブモジュールをstats（statistics（統計学）の略）として使えるようにする\n",
        "from scipy import stats\n",
        "import numpy as np\n",
        "import matplotlib.pyplot as plt\n",
        "\n",
        "\n",
        "x = np.arange(-10, 10, 0.1)\n",
        "\n",
        "for i in np.arange(-4, 6, 2):\n",
        "    p = stats.norm.pdf(x-i, scale=1)\n",
        "    plt.plot(x, p, label=\"μ = \"+str(i))\n",
        "\n",
        "plt.legend(loc = 'upper right')\n"
      ],
      "execution_count": null,
      "outputs": [
        {
          "output_type": "execute_result",
          "data": {
            "text/plain": [
              "<matplotlib.legend.Legend at 0x7f66d2737630>"
            ]
          },
          "metadata": {
            "tags": []
          },
          "execution_count": 1
        },
        {
          "output_type": "display_data",
          "data": {
            "image/png": "[encoded data removed]",
            "text/plain": [
              "<Figure size 432x288 with 1 Axes>"
            ]
          },
          "metadata": {
            "tags": []
          }
        }
      ]
    },
    {
      "cell_type": "markdown",
      "metadata": {
        "id": "UxXi96_d9KSU"
      },
      "source": [
        "####ばらつきの異なる分布"
      ]
    },
    {
      "cell_type": "code",
      "metadata": {
        "id": "tauv5CEf4Q6l",
        "colab": {
          "base_uri": "https://localhost:8080/",
          "height": 286
        },
        "outputId": "e3bfdcc5-0b12-4a47-c0a8-baf2028cad7c"
      },
      "source": [
        "x = np.arange(-10, 10, 0.1)\n",
        "\n",
        "for i in range(1, 5):\n",
        "    p = stats.norm.pdf(x, scale=i)\n",
        "    plt.plot(x, p, label=\"σ = \"+str(i))\n",
        "\n",
        "plt.legend(loc = 'upper right')\n",
        "\n"
      ],
      "execution_count": null,
      "outputs": [
        {
          "output_type": "execute_result",
          "data": {
            "text/plain": [
              "<matplotlib.legend.Legend at 0x7f66cfd44080>"
            ]
          },
          "metadata": {
            "tags": []
          },
          "execution_count": 4
        },
        {
          "output_type": "display_data",
          "data": {
            "image/png": "[encoded data removed]",
            "text/plain": [
              "<Figure size 432x288 with 1 Axes>"
            ]
          },
          "metadata": {
            "tags": []
          }
        }
      ]
    },
    {
      "cell_type": "markdown",
      "metadata": {
        "id": "nYK5xyU1HGJH"
      },
      "source": [
        "####t分布"
      ]
    },
    {
      "cell_type": "code",
      "metadata": {
        "id": "QJnc6UcTVZgJ",
        "colab": {
          "base_uri": "https://localhost:8080/",
          "height": 269
        },
        "outputId": "0ecc7a8f-797e-4ba5-ceeb-2ccf1ce2b008"
      },
      "source": [
        "import numpy as np\n",
        "import matplotlib.pyplot as plt\n",
        "\n",
        "x = np.linspace(-6, 6, 1000)\n",
        " \n",
        "linestyles = [':', '--', '-.', '-']\n",
        "deg_of_freedom = [1, 3]\n",
        "for k, ls in zip(deg_of_freedom, linestyles):\n",
        "  plt.plot(x, stats.t.pdf(x, k), linestyle=ls, label=r'$k=%i$' % k)\n",
        " \n",
        "plt.plot(x, stats.norm.pdf(x, 0, 1), linestyle='-', label=\"Standard Normal Distribution\")\n",
        " \n",
        "plt.xlim(-6, 6)\n",
        "plt.ylim(0, 0.4)\n",
        " \n",
        "#plt.legend()\n",
        "plt.show()"
      ],
      "execution_count": null,
      "outputs": [
        {
          "output_type": "display_data",
          "data": {
            "image/png": "[encoded data removed]",
            "text/plain": [
              "<Figure size 432x288 with 1 Axes>"
            ]
          },
          "metadata": {
            "tags": []
          }
        }
      ]
    },
    {
      "cell_type": "markdown",
      "metadata": {
        "id": "cTIqtgPwHSSU"
      },
      "source": [
        "####ベータ分布"
      ]
    },
    {
      "cell_type": "code",
      "metadata": {
        "id": "425EJT5rQzEw",
        "colab": {
          "base_uri": "https://localhost:8080/",
          "height": 286
        },
        "outputId": "c03fccfc-e274-4c6e-a517-2aa6942550aa"
      },
      "source": [
        "from scipy import stats\n",
        "import numpy as np\n",
        "import matplotlib.pyplot as plt\n",
        "\n",
        "x = np.linspace(0,1,100)\n",
        "for a,b in zip([3,6], [6,3]):\n",
        "    beta_pdf = stats.beta.pdf(x, a, b)\n",
        "    plt.plot(x,beta_pdf)\n",
        "plt.xlim([0,1])"
      ],
      "execution_count": null,
      "outputs": [
        {
          "output_type": "execute_result",
          "data": {
            "text/plain": [
              "(0, 1)"
            ]
          },
          "metadata": {
            "tags": []
          },
          "execution_count": 46
        },
        {
          "output_type": "display_data",
          "data": {
            "image/png": "[encoded data removed]",
            "text/plain": [
              "<Figure size 432x288 with 1 Axes>"
            ]
          },
          "metadata": {
            "tags": []
          }
        }
      ]
    },
    {
      "cell_type": "markdown",
      "metadata": {
        "id": "e44veFXhHXj5"
      },
      "source": [
        "####コーシー分布"
      ]
    },
    {
      "cell_type": "code",
      "metadata": {
        "id": "TnCvcgctRnCv",
        "colab": {
          "base_uri": "https://localhost:8080/",
          "height": 286
        },
        "outputId": "7f9c2d9d-2e28-4e2a-fd88-d3057a4657e5"
      },
      "source": [
        "from scipy import stats\n",
        "import numpy as np\n",
        "import matplotlib.pyplot as plt\n",
        "\n",
        "x = np.arange(-10, 10, 0.1)\n",
        "\n",
        "plt.figure(figsize=(10,4))\n",
        "p = stats.norm.pdf(x, scale=1)\n",
        "c = stats.cauchy.pdf(x)\n",
        "plt.plot(x, p)\n",
        "plt.plot(x, c)"
      ],
      "execution_count": null,
      "outputs": [
        {
          "output_type": "execute_result",
          "data": {
            "text/plain": [
              "[<matplotlib.lines.Line2D at 0x7f64b986e8d0>]"
            ]
          },
          "metadata": {
            "tags": []
          },
          "execution_count": 47
        },
        {
          "output_type": "display_data",
          "data": {
            "image/png": "[encoded data removed]",
            "text/plain": [
              "<Figure size 720x288 with 1 Axes>"
            ]
          },
          "metadata": {
            "tags": []
          }
        }
      ]
    },
    {
      "cell_type": "markdown",
      "metadata": {
        "id": "d_cD0g3rHk4u"
      },
      "source": [
        "###正規分布のヒストグラム"
      ]
    },
    {
      "cell_type": "code",
      "metadata": {
        "id": "fL_bJx1Bzm8b",
        "colab": {
          "base_uri": "https://localhost:8080/",
          "height": 303
        },
        "outputId": "1e27da3c-ee00-4775-8c2e-ea2497e0e561"
      },
      "source": [
        "import numpy.random as rnd\n",
        "import matplotlib.pyplot as plt\n",
        " \n",
        "#　乱数発生のシード値の固定(乱数のシードの値を1に変えて実行してみよう)\n",
        "np.random.seed(2)\n",
        "#randnは標準正規分布（平均=0, 分散=1）に従う乱数を所定の個数発生させる関数\n",
        "data = np.random.randn(10000)\n",
        "\n",
        "x = np.arange(-3, 3, 0.001)\n",
        "p = stats.norm.pdf(x, scale=1)\n",
        "\n",
        "plt.plot(x, p*5000) #5000はそれっぽく見える数に合わせているだけ\n",
        "plt.hist(data, range=(-3, 3), bins=12)\n",
        "plt.show()\n",
        "data"
      ],
      "execution_count": null,
      "outputs": [
        {
          "output_type": "display_data",
          "data": {
            "image/png": "[encoded data removed]",
            "text/plain": [
              "<Figure size 432x288 with 1 Axes>"
            ]
          },
          "metadata": {
            "tags": []
          }
        },
        {
          "output_type": "execute_result",
          "data": {
            "text/plain": [
              "array([-0.41675785, -0.05626683, -2.1361961 , ..., -0.00992378,\n",
              "       -0.21786254,  2.00471618])"
            ]
          },
          "metadata": {
            "tags": []
          },
          "execution_count": 48
        }
      ]
    }
  ]
}
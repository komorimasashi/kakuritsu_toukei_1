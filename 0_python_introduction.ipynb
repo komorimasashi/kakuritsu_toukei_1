{
  "nbformat": 4,
  "nbformat_minor": 0,
  "metadata": {
    "colab": {
      "name": "0_python_introduction.ipynb",
      "provenance": [],
      "collapsed_sections": [],
      "include_colab_link": true
    },
    "kernelspec": {
      "name": "python3",
      "display_name": "Python 3"
    }
  },
  "cells": [
    {
      "cell_type": "markdown",
      "metadata": {
        "id": "view-in-github",
        "colab_type": "text"
      },
      "source": [
        "<a href=\"https://colab.research.google.com/github/komorimasashi/kakuritsu_toukei_1/blob/main/0_python_introduction.ipynb\" target=\"_parent\"><img src=\"https://colab.research.google.com/assets/colab-badge.svg\" alt=\"Open In Colab\"/></a>"
      ]
    },
    {
      "cell_type": "markdown",
      "metadata": {
        "id": "hLl35xg-bPeX"
      },
      "source": [
        "# 導入"
      ]
    },
    {
      "cell_type": "markdown",
      "metadata": {
        "id": "OJ1GiWFLkXAa"
      },
      "source": [
        "## 0. Python（パイソン）の基礎"
      ]
    },
    {
      "cell_type": "markdown",
      "metadata": {
        "id": "oo1PI2JFkrlX"
      },
      "source": [
        "### 0.0 データサイエンスとPython\n",
        "データサイエンスの分野では，プログラミング言語のRが盛んに使われてきました．しかし近年，データサイエンスの分野でもPythonの利用が進んでいます．一体，どちらを学べばいいのでしょうか？\n",
        "\n",
        "カリフォルニア大学デービス校のNorm Matloff教授は，データ分析を行う際にRかPythonかどちらが良いかを比較しています．この記事によれば，学びやすさはRの圧勝（たしかに），統計的な正確さもRが勝利していますが，機械学習のしやすさやソースの美しさではPythonの勝利となっています．\n",
        "https://github.com/matloff/R-vs.-Python-for-Data-Science\n",
        "\n",
        "個人的には**RでもPythonでも好きな方を使えばいい**と思うのですが，Pythonは統計解析だけでなく様々なシステムで利用されているので，やはり情報工学科の学生さんにはPythonを学ぶことのメリットは大きいです．ただしRよりちょっと難しいです．"
      ]
    },
    {
      "cell_type": "markdown",
      "metadata": {
        "id": "koqqxzX5k6b0"
      },
      "source": [
        "たしかにPythonはRやExcelを使うより難しいですが，それでもなおC++などの他の言語よりは圧倒的に簡単です．また，データ解析や機械学習系のライブラリが揃っており，これらを使いこなすことができれば非常に素早くコーディングができます．プログラム経験がない人たちでもすぐに扱うことができると思います．なにより，Pythonは2018年現在，最も人気があるプログラミング言語なのです（Rも結構人気あるけど）．\n",
        "\n",
        "https://spectrum.ieee.org/at-work/innovation/the-2018-top-programming-languages"
      ]
    },
    {
      "cell_type": "markdown",
      "metadata": {
        "id": "FAixLkIoEXlW"
      },
      "source": [
        "![comment](https://spectrum.ieee.org/image/MzExNjk1OA.jpeg)"
      ]
    },
    {
      "cell_type": "markdown",
      "metadata": {
        "id": "NYdCIC7r23_s"
      },
      "source": [
        "###0.1 Google Colabの使い方"
      ]
    },
    {
      "cell_type": "markdown",
      "metadata": {
        "id": "Ww5BLxpB26uQ"
      },
      "source": [
        "Jupyter（ジュピター） Notebookはブラウザ上で使えるPythonのコーディング環境です．仲間とコードの共有をしたり，インタラクティブな分析結果を開発したり，大規模なデータの統合や扱いを簡単に行えることが可能です．非常に手軽なので，世界中の機械学習エンジニアが利用している人気の高い開発環境（IDE）の一つです．Google Colab（略式した呼称でグーグル・コラボと読みます）は，Jupyter Notebookを必要最低限の労力とコストで利用できる無料のサービスなのです．\n",
        "\n",
        "Google Colabを使う利点は以下のとおりです\n",
        "*   環境構築が不要（ブラウザを開くだけ，スマホでも動く）\n",
        "*   Google Colabで書いたコード（ノートブック）は簡単に共有可能\n",
        "*   GPUも使えるのに無料（ただし時間制限あり） \n",
        "\n",
        "始め方は，[Google Colaboratory](https://colab.research.google.com/)にブラウザでアクセスするだけです\n",
        "\n",
        "Google Colaboratory の開始方法（Youtube動画）\n",
        "https://youtu.be/inN8seMm7UI"
      ]
    },
    {
      "cell_type": "markdown",
      "metadata": {
        "id": "aqogkSoTpB4R"
      },
      "source": [
        "###0.2 Hello World"
      ]
    },
    {
      "cell_type": "markdown",
      "metadata": {
        "id": "_7MbgPjf5kOG"
      },
      "source": [
        "まずはおなじみの「Hello, world!」の出力をしてみましょう．セルを選択して，Shift + return で実行すると結果が表示され，次のセルに移動します．左の再生ボタン（▶︎）を押しても実行できます．"
      ]
    },
    {
      "cell_type": "code",
      "metadata": {
        "id": "ndhVjH9gkmFp",
        "colab": {
          "base_uri": "https://localhost:8080/",
          "height": 34
        },
        "outputId": "eeb82e1b-9b9b-4c58-bdb8-5fd9370280cf"
      },
      "source": [
        "print(\"Hello, world!\")"
      ],
      "execution_count": null,
      "outputs": [
        {
          "output_type": "stream",
          "text": [
            "Hello, world!\n"
          ],
          "name": "stdout"
        }
      ]
    },
    {
      "cell_type": "markdown",
      "metadata": {
        "id": "bxLCAFp0pkH2"
      },
      "source": [
        "また#はコメントアウトで実行時には無視されます．ですが，コメントを残しておくと後でソースを見返したときに大変便利です．\n"
      ]
    },
    {
      "cell_type": "code",
      "metadata": {
        "id": "eLmrizo2kNap",
        "colab": {
          "base_uri": "https://localhost:8080/",
          "height": 102
        },
        "outputId": "891a19d6-e1a2-4f18-ff62-15c67716f3fe"
      },
      "source": [
        "# 演算とその出力例\n",
        "print(2 + 5)\n",
        "print(2 - 5)\n",
        "print(2 * 5)\n",
        "print(2 / 5)\n",
        "print(2 ** 5) # 2の5乗, 〜乗は**を使う"
      ],
      "execution_count": null,
      "outputs": [
        {
          "output_type": "stream",
          "text": [
            "7\n",
            "-3\n",
            "10\n",
            "0.4\n",
            "32\n"
          ],
          "name": "stdout"
        }
      ]
    },
    {
      "cell_type": "markdown",
      "metadata": {
        "id": "6Q_bU9Tdp6C0"
      },
      "source": [
        "###0.3 変数の型"
      ]
    },
    {
      "cell_type": "markdown",
      "metadata": {
        "id": "XzrGorw35qzB"
      },
      "source": [
        "次に変数を使ってみましょう．変数に値を代入して，print()でその変数に入っている値を表示させています．普通のプログラミング言語（CやJavaなど）では，変数を扱うときに整数（int型）なのか浮動小数点数型実数(float型)なのか文字（char型）なのかというように「型」を設定する必要があります（int x など）．\n",
        "しかし，Pythonは変数の型を指定しなくてよく，勝手に方をPythonが決めてくれます．これを「動的型付け」といいます．C言語などの言語は静的型付け言語と言います．"
      ]
    },
    {
      "cell_type": "code",
      "metadata": {
        "id": "4iwuew9XrvAh",
        "colab": {
          "base_uri": "https://localhost:8080/",
          "height": 51
        },
        "outputId": "87608070-8313-4745-d161-a000d28b83d7"
      },
      "source": [
        "#　変数にデータ（整数）を割り当て\n",
        "sample_int = 1\n",
        "print(sample_int)\n",
        "\n",
        "# 上の数字に10を足す\n",
        "sample_int = sample_int + 10\n",
        "print(sample_int)"
      ],
      "execution_count": null,
      "outputs": [
        {
          "output_type": "stream",
          "text": [
            "1\n",
            "11\n"
          ],
          "name": "stdout"
        }
      ]
    },
    {
      "cell_type": "markdown",
      "metadata": {
        "id": "Dm4B38Fu3UEx"
      },
      "source": [
        "type()関数を使ってみると確かにint型であることがわかります"
      ]
    },
    {
      "cell_type": "code",
      "metadata": {
        "id": "dn6EONkv3PdC",
        "colab": {
          "base_uri": "https://localhost:8080/",
          "height": 34
        },
        "outputId": "05908ef3-f75b-40d4-f784-b12875383004"
      },
      "source": [
        "type(sample_int)"
      ],
      "execution_count": null,
      "outputs": [
        {
          "output_type": "execute_result",
          "data": {
            "text/plain": [
              "int"
            ]
          },
          "metadata": {
            "tags": []
          },
          "execution_count": 5
        }
      ]
    },
    {
      "cell_type": "markdown",
      "metadata": {
        "id": "laz6I_uF3sMt"
      },
      "source": [
        "次に文字列の変数を使ってみましょう"
      ]
    },
    {
      "cell_type": "code",
      "metadata": {
        "id": "_rttQJoh3rKt",
        "colab": {
          "base_uri": "https://localhost:8080/",
          "height": 34
        },
        "outputId": "d10d9cd1-26e1-4e49-9413-d29bdd27908c"
      },
      "source": [
        "# 文字列\n",
        "sample_str = \"test\"\n",
        "print(sample_str)"
      ],
      "execution_count": null,
      "outputs": [
        {
          "output_type": "stream",
          "text": [
            "test\n"
          ],
          "name": "stdout"
        }
      ]
    },
    {
      "cell_type": "code",
      "metadata": {
        "id": "ORfVXkQA3yOR",
        "colab": {
          "base_uri": "https://localhost:8080/",
          "height": 34
        },
        "outputId": "86cc292c-eee8-405c-a679-7e3af3f42a23"
      },
      "source": [
        "# 文字の抜き出しも可能。なお、0から始まる。\n",
        "print(sample_str[0])"
      ],
      "execution_count": null,
      "outputs": [
        {
          "output_type": "stream",
          "text": [
            "t\n"
          ],
          "name": "stdout"
        }
      ]
    },
    {
      "cell_type": "code",
      "metadata": {
        "id": "ixFikSY_35DD",
        "colab": {
          "base_uri": "https://localhost:8080/",
          "height": 34
        },
        "outputId": "45cc08f9-81c1-4c92-e2a2-5f374c4de48e"
      },
      "source": [
        "# 2番目の文字は1を指定\n",
        "print(sample_str[1])"
      ],
      "execution_count": null,
      "outputs": [
        {
          "output_type": "stream",
          "text": [
            "e\n"
          ],
          "name": "stdout"
        }
      ]
    },
    {
      "cell_type": "code",
      "metadata": {
        "id": "dXS6WBEv4EPc",
        "colab": {
          "base_uri": "https://localhost:8080/",
          "height": 185
        },
        "outputId": "023e7a21-0450-4715-fcc4-fdb22f20754d"
      },
      "source": [
        "# 実行してもエラーが出るので注意\n",
        "sample_str[5]"
      ],
      "execution_count": null,
      "outputs": [
        {
          "output_type": "error",
          "ename": "IndexError",
          "evalue": "ignored",
          "traceback": [
            "\u001b[0;31m---------------------------------------------------------------------------\u001b[0m",
            "\u001b[0;31mIndexError\u001b[0m                                Traceback (most recent call last)",
            "\u001b[0;32m<ipython-input-9-42a6c56309ef>\u001b[0m in \u001b[0;36m<module>\u001b[0;34m()\u001b[0m\n\u001b[1;32m      1\u001b[0m \u001b[0;31m# 実行してもエラーが出るので注意\u001b[0m\u001b[0;34m\u001b[0m\u001b[0;34m\u001b[0m\u001b[0;34m\u001b[0m\u001b[0m\n\u001b[0;32m----> 2\u001b[0;31m \u001b[0msample_str\u001b[0m\u001b[0;34m[\u001b[0m\u001b[0;36m5\u001b[0m\u001b[0;34m]\u001b[0m\u001b[0;34m\u001b[0m\u001b[0;34m\u001b[0m\u001b[0m\n\u001b[0m",
            "\u001b[0;31mIndexError\u001b[0m: string index out of range"
          ]
        }
      ]
    },
    {
      "cell_type": "markdown",
      "metadata": {
        "id": "ZO8lNI9c42bY"
      },
      "source": [
        "次にリスト型（C言語で言うところの配列と同じです）をつかってみましょう．下は1から10まで数字が並んでいるリストを作っています．"
      ]
    },
    {
      "cell_type": "code",
      "metadata": {
        "id": "DZwQEHq_5FBD"
      },
      "source": [
        "# list型\n",
        "sample_list = [1, 2, 3, 4, 5, 6, 7, 8, 9, 10]\n",
        "print(sample_list)"
      ],
      "execution_count": null,
      "outputs": []
    },
    {
      "cell_type": "code",
      "metadata": {
        "id": "wMJu6fSR5Lui"
      },
      "source": [
        "#list型だとわかります\n",
        "type(sample_list)"
      ],
      "execution_count": null,
      "outputs": []
    },
    {
      "cell_type": "code",
      "metadata": {
        "id": "yIQcELaA5XUw"
      },
      "source": [
        "#listの最初の要素を取り出してみる\n",
        "sample_list[0]"
      ],
      "execution_count": null,
      "outputs": []
    },
    {
      "cell_type": "code",
      "metadata": {
        "id": "-ngjKw8p5mL-"
      },
      "source": [
        "#listの２つ目（つまり0）から３つ目(3の要素の一つ前)までの要素を取り出してみる\n",
        "sample_list[1:3]"
      ],
      "execution_count": null,
      "outputs": []
    },
    {
      "cell_type": "code",
      "metadata": {
        "id": "zbU18lZH5_KL"
      },
      "source": [
        "#listの要素の数（長さ）をlen()関数（lengthの意味）で調べてみる\n",
        "len(sample_list)"
      ],
      "execution_count": null,
      "outputs": []
    },
    {
      "cell_type": "markdown",
      "metadata": {
        "id": "1-gGYQiz6QLY"
      },
      "source": [
        "###0.4 制御構文\n"
      ]
    },
    {
      "cell_type": "markdown",
      "metadata": {
        "id": "nFhx7IRvA13r"
      },
      "source": [
        "####1.4.1 if文\n",
        "まずはif文を書いてみましょう．ifの横にある条件式を満たしている場合(True)のときには，該当の文(はじめにある:からelse:の手前まで)を実行し，そうでない場合はelse:以下を実行します．\n",
        "\n",
        "C言語では下のように{ }で命令を囲みます，\n",
        "\n",
        "**C言語**\n",
        "```\n",
        "if (条件式) {\n",
        "    条件式が満足されるときに実行される命令\n",
        "} else {\n",
        "    条件式が満足されないときに実行される命令\n",
        "}\n",
        "```\n",
        "\n",
        "一方，Pythonでは{ }を使わず，コマンドをインデント(字下げ)して記述します．通常は**半角スペース4つ**分をおきます\n",
        "\n",
        "**Pyhon**\n",
        "```\n",
        "if 条件式:\n",
        "    条件式が満足されるときに実行される命令\n",
        "else:\n",
        "    条件式が満足されないときに実行される命令\n",
        "\n",
        "```"
      ]
    },
    {
      "cell_type": "code",
      "metadata": {
        "id": "PA5lKAmX9ERZ"
      },
      "source": [
        "a = 5\n",
        "b = 5\n",
        "\n",
        "if a>b:\n",
        "  #このprint文の前に半角スペースが４つ入れる\n",
        "    print(\"aはbより大きいです\" )\n",
        "else:\n",
        "    print(\"aはb以下です\" )"
      ],
      "execution_count": null,
      "outputs": []
    },
    {
      "cell_type": "markdown",
      "metadata": {
        "id": "0QK7NcIE-jyU"
      },
      "source": [
        "####1.4.2 for文\n",
        "繰り返し処理のfor文です。以下は、[1, 2, 3]のリストデータに対して，初めから順番に（1から）データを取り出し，データがなくなる（3まで）まで繰り返し処理（取り出した数字の表示と足し算）を実行しています．初めは0+1=1、次に1+2=3、最後に3+3=6となり，最終的な合計値を表示しています．\n",
        "\n",
        "ここでもfor文の中身はC言語のように{ }でくくるのではなく，インデント（字下げ）で表現します．"
      ]
    },
    {
      "cell_type": "code",
      "metadata": {
        "id": "XiQ81C_I-18v"
      },
      "source": [
        "# 初期値の設定\n",
        "total_num = 0\n",
        "\n",
        "# for 文\n",
        "for num in [1, 2, 3]:\n",
        "    # 取り出した数の表示\n",
        "    print(\"num:\", num)\n",
        "    # 今まで取り出した数の合計\n",
        "    total_num = total_num + num\n",
        "\n",
        "# 最後に合計を表示\n",
        "print(\"total_num:\", total_num)"
      ],
      "execution_count": null,
      "outputs": []
    },
    {
      "cell_type": "markdown",
      "metadata": {
        "id": "N21m5p38_gHp"
      },
      "source": [
        "forループを決まった回数回したいときは range()関数を使います"
      ]
    },
    {
      "cell_type": "code",
      "metadata": {
        "id": "L9eqo-bz_YAj",
        "colab": {
          "base_uri": "https://localhost:8080/",
          "height": 187
        },
        "outputId": "8b19dd0d-c7e4-46a6-c192-602faa2bacf6"
      },
      "source": [
        "# range(N)とすると0からN-1までの整数\n",
        "for i in range(10):\n",
        "    print(i)"
      ],
      "execution_count": null,
      "outputs": [
        {
          "output_type": "stream",
          "text": [
            "0\n",
            "1\n",
            "2\n",
            "3\n",
            "4\n",
            "5\n",
            "6\n",
            "7\n",
            "8\n",
            "9\n"
          ],
          "name": "stdout"
        }
      ]
    },
    {
      "cell_type": "markdown",
      "metadata": {
        "id": "8tjsWvrG_wvL"
      },
      "source": [
        "1から始めたい場合や2つ飛ばしで表示させたい場合は，以下のように引数を変えて実行します．"
      ]
    },
    {
      "cell_type": "code",
      "metadata": {
        "id": "lwTM9J0N_21B"
      },
      "source": [
        "# range(1, 11, 2)は1から開始して2つ飛ばしで，11の手前まで取り出す\n",
        "for i in range(1, 11, 2):\n",
        "    print(i)"
      ],
      "execution_count": null,
      "outputs": []
    },
    {
      "cell_type": "markdown",
      "metadata": {
        "id": "uhQcS1v1AIl2"
      },
      "source": [
        "####while文\n",
        "C言語と同じようにwhile文もあります．条件を満たしている限り，コマンドを何度も実行します．この例では，数字が10より大きくなった時点で，ループを抜けます．"
      ]
    },
    {
      "cell_type": "code",
      "metadata": {
        "id": "Eh-r26nYABzy"
      },
      "source": [
        "# while 文\n",
        "num  =1 \n",
        "while num<= 10:\n",
        "    num = num+ 1\n",
        "print(num)"
      ],
      "execution_count": null,
      "outputs": []
    },
    {
      "cell_type": "markdown",
      "metadata": {
        "id": "BhhLYGABB3bY"
      },
      "source": [
        "###0.5クラスとオブジェクト"
      ]
    },
    {
      "cell_type": "markdown",
      "metadata": {
        "id": "lkqprALyCDZB"
      },
      "source": [
        "ここからはちょっと難しいので，今は理解できなくても構いません．しかし，全くわからないと，Pythonの様々な強力なライブラリを使いこなすことができません．とりあえず雰囲気だけつかんで，あとは使いながら理解してくといいと思います．\n",
        "\n"
      ]
    },
    {
      "cell_type": "markdown",
      "metadata": {
        "id": "55_QiPubiZZa"
      },
      "source": [
        "Pythonはオブジェクト指向型のプログラミング言語で，クラスは「オブジェクトのひな型」みたいなものです．\n",
        "\n",
        "よく例えられる例が「**たい焼き**」で、以下のclassのPrintClassはたい焼き機の型を作っています．次に，実際のたい焼きが出来上がったのが**インスタンス**p1というクラスからできあがる実体です．\n",
        " \n",
        "```\n",
        "p1 = PrintClass()\n",
        "```\n",
        "\n",
        "インスタンスには**属性**を追加することができ，以下ではp1.xに10、p1.yに100、p1.zに1000を追加しています．たい焼きで言えば，あんこの種類や製造年月日などの属性データが，「**インスタンス**」であるたい焼きにくっついているイメージです．\n",
        "\n",
        "```\n",
        "p1.x = 10\n",
        "p1.y = 100\n",
        "p1.z = 1000\n",
        "```\n",
        "\n",
        "クラスには**メソッド**と言われる関数を含めることができます．たい焼きで言えば「あんこの中身を文字列で表示する」とか「賞味期限切れかどうかを表示する」などの機能を持たせることができるということです．下の例ではprint_me()という**メソッド**を実装して，実行しています．\n",
        "\n",
        "```\n",
        "p1.print_me()\n",
        "```\n",
        "インスタンスの作成や属性の変更，メソッドの実行のやり方さえ覚えれば，さまざまなライブラリ(例えば有名なのはNumpyというライブラリです)を使いこなすことができます．これらのライブラリは便利なクラスを含んでおり，メソッドを実行することで様々な処理を行います．"
      ]
    },
    {
      "cell_type": "markdown",
      "metadata": {
        "id": "0pK1Z75miZZb"
      },
      "source": [
        "![comment](http://image.itmedia.co.jp/ait/articles/0803/12/r801.gif)"
      ]
    },
    {
      "cell_type": "markdown",
      "metadata": {
        "id": "uUIJWkmciZZb"
      },
      "source": [
        "参照URL：http://image.itmedia.co.jp/ait/articles/0803/12/r801.gif"
      ]
    },
    {
      "cell_type": "code",
      "metadata": {
        "id": "vngcD0jciZZc"
      },
      "source": [
        "# PrintClassクラスの作成とprint_meメソッド（関数）の作成\n",
        "class PrintClass:\n",
        "    def print_me(self):\n",
        "        print(self.x, self.y)"
      ],
      "execution_count": null,
      "outputs": []
    },
    {
      "cell_type": "code",
      "metadata": {
        "id": "UCmDZCB2iZZf"
      },
      "source": [
        "# インスタンスの作成、生成\n",
        "p1 = PrintClass()\n",
        "\n",
        "# 属性の値を割り当て\n",
        "p1.x = 10\n",
        "p1.y = 100\n",
        "p1.z = 1000\n",
        "\n",
        "# メソッドの呼び出し\n",
        "p1.print_me()"
      ],
      "execution_count": null,
      "outputs": []
    },
    {
      "cell_type": "code",
      "metadata": {
        "id": "J2z5qPfvK42W"
      },
      "source": [
        "#このようにクラスを指定してメソッドを実行することもできます\n",
        "PrintClass.print_me(p1)"
      ],
      "execution_count": null,
      "outputs": []
    },
    {
      "cell_type": "markdown",
      "metadata": {
        "id": "CIoo3U3diZZh"
      },
      "source": [
        "p1というインスタンスに，print_me()という関数（メソッド）をつけて，それを呼び出して実行しています．新しく追加した属性の値zは以下のように確認できます．"
      ]
    },
    {
      "cell_type": "code",
      "metadata": {
        "id": "1vNU7azqiZZh"
      },
      "source": [
        "# 先ほど追加した属性を表示\n",
        "p1.z"
      ],
      "execution_count": null,
      "outputs": []
    },
    {
      "cell_type": "markdown",
      "metadata": {
        "id": "iKJ7Uwa5iZZj"
      },
      "source": [
        "ここまでは，ライブラリを使いこなすために最低限必要な知識です．\n",
        "\n",
        "---\n",
        "オブジェクト指向とクラスの概念はややこしいので，ここから下の詳細よくわからなくてもいいです．\n",
        "以下は実際にクラスMyCalcClassを作成して，いくつかのメソッドを作っています．"
      ]
    },
    {
      "cell_type": "code",
      "metadata": {
        "id": "vChbm-1uiZZj"
      },
      "source": [
        "class MyCalcClass:\n",
        "    \n",
        "    #初期化\n",
        "    def __init__(self, x, y):\n",
        "        self.x = x\n",
        "        self.y = y\n",
        "        \n",
        "    def calc_add1(self, a, b):\n",
        "        return a + b\n",
        "    \n",
        "    def calc_add2(self):\n",
        "        return self.x + self.y\n",
        "\n",
        "    def calc_mutli(self, a, b):\n",
        "        return a * b\n",
        "\n",
        "    def calc_print(self, a):\n",
        "        print(\"data:\", a, \"&\", self.y)"
      ],
      "execution_count": null,
      "outputs": []
    },
    {
      "cell_type": "markdown",
      "metadata": {
        "id": "GGhksaziiZZl"
      },
      "source": [
        "次に，このクラス（MyCalcClass）からインスタンスを生成します．なお、instance_1とinstance_2は別物として扱われます．上チーズたい焼きとクリームたい焼きは別のたい焼きだということです．"
      ]
    },
    {
      "cell_type": "code",
      "metadata": {
        "id": "bscNEiWGiZZm"
      },
      "source": [
        "instance_1 = MyCalcClass(1, 2)\n",
        "instance_2 = MyCalcClass(5, 10)"
      ],
      "execution_count": null,
      "outputs": []
    },
    {
      "cell_type": "markdown",
      "metadata": {
        "id": "12VsPKF-iZZo"
      },
      "source": [
        "このインスタンスのメソッドを呼び出します．まずは、instance_1で試してみましょう．"
      ]
    },
    {
      "cell_type": "code",
      "metadata": {
        "id": "3UoE7yctiZZp"
      },
      "source": [
        "print(\"2つの数の足し算(新たに数字を引数としてセット):\", instance_1.calc_add1(5, 3))\n",
        "print(\"2つの数の足し算(インスタンス化の時の値):\", instance_1.calc_add2())\n",
        "print(\"2つの数のかけ算:\", instance_1.calc_mutli(5, 3))\n",
        "instance_1.calc_print(5)"
      ],
      "execution_count": null,
      "outputs": []
    },
    {
      "cell_type": "markdown",
      "metadata": {
        "id": "xzXQNGDriZZr"
      },
      "source": [
        "calc_add1は引数5と3を設定しその和を返り値として算出しています．calc_add2は何も引数としてセットされていませんが、selfが初期化の時に設定されており，instance_1 = MyCalcClass(1, 2)で、その値は1と2で初期値が設定されていたため，これらを足した3が表示されます．calc_mutliは引数の掛け算の結果，instance_1.calc_print(5)は、引数5と初期値として設定したself.yの方（2）を表示しています．"
      ]
    },
    {
      "cell_type": "markdown",
      "metadata": {
        "id": "X2VN_5g-iZZr"
      },
      "source": [
        "次にinstance_2を使います．上の結果と数字が変わっています．"
      ]
    },
    {
      "cell_type": "code",
      "metadata": {
        "id": "-fe-LJkqiZZs"
      },
      "source": [
        "print(\"2つの数の足し算(新たに数字を引数としてセット):\", instance_2.calc_add1(10, 3))\n",
        "print(\"2つの数の足し算(インスタンス化の時の値):\", instance_2.calc_add2())\n",
        "print(\"2つの数のかけ算:\", instance_2.calc_mutli(4, 3))\n",
        "instance_2.calc_print(20)"
      ],
      "execution_count": null,
      "outputs": []
    },
    {
      "cell_type": "markdown",
      "metadata": {
        "id": "e60RcwrJw2Wj"
      },
      "source": [
        "###0.6 ライブラリの使い方"
      ]
    },
    {
      "cell_type": "markdown",
      "metadata": {
        "id": "jxz18rZ7yFAN"
      },
      "source": [
        "**基本的なライブラリの例**\n",
        "\n",
        "NumPy：数値・ベクトル演算ライブラリ\n",
        "\n",
        "Matplotlib：グラフ描画ライブラリ\n",
        "\n",
        "Pandas： データの集計や可視化を統合的に行うライブラリ\n",
        "\n",
        "\n",
        "**専門性のあるライブラリの例**\n",
        "\n",
        "Scikit-learn (sklearn): 機械学習のライブラリ\n",
        "\n",
        "TensorFlow/Keras：機械学習ライブラリ\n",
        "\n",
        "StatsModels：統計分析ライブラリ\n",
        "\n",
        "Django：Webデータベース/アプリ開発ライブラリ\n",
        "\n",
        "OpenCV：画像処理ライブラリ\n"
      ]
    },
    {
      "cell_type": "markdown",
      "metadata": {
        "id": "LogqV3iaw_Qy"
      },
      "source": [
        "**基本的なライブラリの読み込みパターン**\n",
        "\n",
        "**import xxx**\n",
        "\n",
        "xxx library をすべて読み込み，xxx.関数名 といった形で利用する．\n",
        "\n",
        "**import xxx.a_func as b_func**\n",
        "\n",
        "xxx library の a_func だけを b_func という別名をつけて読み込む．名前の衝突の防止や短縮型として利用する．\n",
        "\n",
        "**from xxx import a_func**\n",
        "\n",
        "xxx library の a_func だけ読み込み，a_func で利用する．from をつけると xxx は指定せず利用できる．"
      ]
    },
    {
      "cell_type": "markdown",
      "metadata": {
        "id": "JB1yDzgOxt5Y"
      },
      "source": [
        "**具体的な書き方**\n"
      ]
    },
    {
      "cell_type": "code",
      "metadata": {
        "id": "jysbo8dm0QgA"
      },
      "source": [
        "import sys # 標準ライブラリの1つ\n",
        "\n",
        "# numpy ライブラリを np という略称をつけて読み込む\n",
        "import numpy as np\n",
        "\n",
        "# matplotlib の pyplot 関数を plt というエリアス（略称）をつけて別名で読み込む\n",
        "import matplotlib.pyplot as plt\n",
        "\n",
        "import matplotlib"
      ],
      "execution_count": null,
      "outputs": []
    }
  ]
}
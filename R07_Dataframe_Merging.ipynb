{
  "nbformat": 4,
  "nbformat_minor": 0,
  "metadata": {
    "colab": {
      "provenance": [],
      "include_colab_link": true
    },
    "kernelspec": {
      "name": "ir",
      "display_name": "R"
    }
  },
  "cells": [
    {
      "cell_type": "markdown",
      "metadata": {
        "id": "view-in-github",
        "colab_type": "text"
      },
      "source": [
        "<a href=\"https://colab.research.google.com/github/komorimasashi/kakuritsu_toukei_1/blob/main/R07_Dataframe_Merging.ipynb\" target=\"_parent\"><img src=\"https://colab.research.google.com/assets/colab-badge.svg\" alt=\"Open In Colab\"/></a>"
      ]
    },
    {
      "cell_type": "markdown",
      "source": [
        "## **7. データフレームの結合(bind系とjoin系)**"
      ],
      "metadata": {
        "id": "MHQR9sztGdKS"
      }
    },
    {
      "cell_type": "markdown",
      "source": [
        "### **7.1 データフレームの結合には2種類ある**\n",
        "データフレームを結合する場合，単に2つのデータフレームをくっつけるだけの**bind系**の結合方法と，参加者IDなどの**キー**となる列を手がかりに複数のデータフレームをキー結合する**join系**の方法がありますが，下の図を見てもわかるようにやっていることはだいぶ違います．これらを使いこなせるようになれば，大体のデータ処理はできるようになるはずです．\n",
        "\n"
      ],
      "metadata": {
        "id": "nltLk8mcsqtV"
      }
    },
    {
      "cell_type": "markdown",
      "source": [
        "\n",
        "<figure><figcaption></figcaption><img src=\"https://lh3.googleusercontent.com/d/1awvr4QCBHHZcxYnFyaE78MG-haCHipkg\" alt=\"bind and join\" width=600></figure>\n",
        "\n"
      ],
      "metadata": {
        "id": "n378oyAE9IhI"
      }
    },
    {
      "cell_type": "markdown",
      "source": [
        "\n",
        "\n",
        "---\n",
        "\n"
      ],
      "metadata": {
        "id": "g_jlxSrm47Ed"
      }
    },
    {
      "cell_type": "markdown",
      "source": [
        "### **7.2 bind系**"
      ],
      "metadata": {
        "id": "di0Xn0uNxpTy"
      }
    },
    {
      "cell_type": "markdown",
      "source": [
        "`rbind`と`cbind`はR言語における基本的なデータフレーム操作関数で，それぞれ行方向，列方向にデータを結合する際に使用されます．ただし，結合するデータフレーム間で列名や行数が一致していない場合にはエラーが発生するため注意が必要です．"
      ],
      "metadata": {
        "id": "Avu7bBNRxxVl"
      }
    },
    {
      "cell_type": "markdown",
      "source": [
        "#### **7.2.1 rbind()**\n"
      ],
      "metadata": {
        "id": "Bzsm2jyex-e-"
      }
    },
    {
      "cell_type": "markdown",
      "source": [
        "`rbind`（row-bindの略）は、複数のデータフレームまたはベクトルを行方向に結合します。結合するデータフレームは、列名が一致している必要があります。異なる列名を持つデータフレームを結合しようとするとエラーが発生します。"
      ],
      "metadata": {
        "id": "KhQ-ewIxyA8k"
      }
    },
    {
      "cell_type": "code",
      "source": [
        "# サンプルデータフレームの作成\n",
        "df1 <- data.frame(ID = c(1, 2, 3), Name = c(\"一の瀬花枝\", \"二階堂望\", \"三鷹瞬\"))\n",
        "df2 <- data.frame(ID = c(4, 5), Name = c(\"四谷さん\", \"五代裕作\"))\n",
        "\n",
        "# rbindを使って行方向に結合\n",
        "combined_rows <- rbind(df1, df2)\n",
        "combined_rows"
      ],
      "metadata": {
        "colab": {
          "base_uri": "https://localhost:8080/",
          "height": 255
        },
        "id": "IdcOsathyGUS",
        "outputId": "7fb538b6-7fbd-4fc4-a370-4633ee173c95"
      },
      "execution_count": null,
      "outputs": [
        {
          "output_type": "display_data",
          "data": {
            "text/html": [
              "<table class=\"dataframe\">\n",
              "<caption>A data.frame: 5 × 2</caption>\n",
              "<thead>\n",
              "\t<tr><th scope=col>ID</th><th scope=col>Name</th></tr>\n",
              "\t<tr><th scope=col>&lt;dbl&gt;</th><th scope=col>&lt;chr&gt;</th></tr>\n",
              "</thead>\n",
              "<tbody>\n",
              "\t<tr><td>1</td><td>一の瀬花枝</td></tr>\n",
              "\t<tr><td>2</td><td>二階堂望  </td></tr>\n",
              "\t<tr><td>3</td><td>三鷹瞬    </td></tr>\n",
              "\t<tr><td>4</td><td>四谷さん  </td></tr>\n",
              "\t<tr><td>5</td><td>五代裕作  </td></tr>\n",
              "</tbody>\n",
              "</table>\n"
            ],
            "text/markdown": "\nA data.frame: 5 × 2\n\n| ID &lt;dbl&gt; | Name &lt;chr&gt; |\n|---|---|\n| 1 | 一の瀬花枝 |\n| 2 | 二階堂望   |\n| 3 | 三鷹瞬     |\n| 4 | 四谷さん   |\n| 5 | 五代裕作   |\n\n",
            "text/latex": "A data.frame: 5 × 2\n\\begin{tabular}{ll}\n ID & Name\\\\\n <dbl> & <chr>\\\\\n\\hline\n\t 1 & 一の瀬花枝\\\\\n\t 2 & 二階堂望  \\\\\n\t 3 & 三鷹瞬    \\\\\n\t 4 & 四谷さん  \\\\\n\t 5 & 五代裕作  \\\\\n\\end{tabular}\n",
            "text/plain": [
              "  ID Name      \n",
              "1 1  一の瀬花枝\n",
              "2 2  二階堂望  \n",
              "3 3  三鷹瞬    \n",
              "4 4  四谷さん  \n",
              "5 5  五代裕作  "
            ]
          },
          "metadata": {}
        }
      ]
    },
    {
      "cell_type": "markdown",
      "source": [
        "#### **7.2.2 cbind()**"
      ],
      "metadata": {
        "id": "xPBywWWEyLTT"
      }
    },
    {
      "cell_type": "markdown",
      "source": [
        "`cbind`（column-bindの略）は、複数のデータフレームやベクトルを列方向に結合します。結合する際には行数が一致している必要がありますが、列のタイプが異なっていても結合することが可能です。"
      ],
      "metadata": {
        "id": "JN9GO_wzyPp8"
      }
    },
    {
      "cell_type": "code",
      "source": [
        "# サンプルデータフレームの作成\n",
        "df1 <- data.frame(ID = c(1, 2, 3), Name =  c(\"一の瀬花枝\", \"二階堂望\", \"三鷹瞬\"))\n",
        "df3 <- data.frame(Age = c(35, 15, 25))\n",
        "\n",
        "# cbindを使って列方向に結合\n",
        "combined_columns <- cbind(df1, df3)\n",
        "combined_columns"
      ],
      "metadata": {
        "colab": {
          "base_uri": "https://localhost:8080/",
          "height": 192
        },
        "id": "JPunh7F_VQ0y",
        "outputId": "3697a611-907f-4b8f-f378-18ea6ac40d60"
      },
      "execution_count": null,
      "outputs": [
        {
          "output_type": "display_data",
          "data": {
            "text/html": [
              "<table class=\"dataframe\">\n",
              "<caption>A data.frame: 3 × 3</caption>\n",
              "<thead>\n",
              "\t<tr><th scope=col>ID</th><th scope=col>Name</th><th scope=col>Age</th></tr>\n",
              "\t<tr><th scope=col>&lt;dbl&gt;</th><th scope=col>&lt;chr&gt;</th><th scope=col>&lt;dbl&gt;</th></tr>\n",
              "</thead>\n",
              "<tbody>\n",
              "\t<tr><td>1</td><td>一の瀬花枝</td><td>35</td></tr>\n",
              "\t<tr><td>2</td><td>二階堂望  </td><td>15</td></tr>\n",
              "\t<tr><td>3</td><td>三鷹瞬    </td><td>25</td></tr>\n",
              "</tbody>\n",
              "</table>\n"
            ],
            "text/markdown": "\nA data.frame: 3 × 3\n\n| ID &lt;dbl&gt; | Name &lt;chr&gt; | Age &lt;dbl&gt; |\n|---|---|---|\n| 1 | 一の瀬花枝 | 35 |\n| 2 | 二階堂望   | 15 |\n| 3 | 三鷹瞬     | 25 |\n\n",
            "text/latex": "A data.frame: 3 × 3\n\\begin{tabular}{lll}\n ID & Name & Age\\\\\n <dbl> & <chr> & <dbl>\\\\\n\\hline\n\t 1 & 一の瀬花枝 & 35\\\\\n\t 2 & 二階堂望   & 15\\\\\n\t 3 & 三鷹瞬     & 25\\\\\n\\end{tabular}\n",
            "text/plain": [
              "  ID Name       Age\n",
              "1 1  一の瀬花枝 35 \n",
              "2 2  二階堂望   15 \n",
              "3 3  三鷹瞬     25 "
            ]
          },
          "metadata": {}
        }
      ]
    },
    {
      "cell_type": "markdown",
      "source": [
        "### **7.3 join系**"
      ],
      "metadata": {
        "id": "1Ojey_qgVlsV"
      }
    },
    {
      "cell_type": "markdown",
      "source": [
        "`dplyr`パッケージを使用した様々なjoin（結合）操作について説明します．ここでは、二つのサンプルデータフレームを用意し、`dplyr`の関数である`inner_join()`などを用いてこれらに対してjoin操作を実行します。joinの説明の画像の出典はすべて[ここ](https://github.com/gadenbuie/tidyexplain)です"
      ],
      "metadata": {
        "id": "xmR22cPJtuZB"
      }
    },
    {
      "cell_type": "code",
      "source": [
        "library(dplyr)"
      ],
      "metadata": {
        "id": "qLrArcY_t15n"
      },
      "execution_count": null,
      "outputs": []
    },
    {
      "cell_type": "code",
      "source": [
        "# サンプルデータフレームの作成(df1)\n",
        "df1 <- data.frame(\n",
        "  ID = c(1, 2, 3, 4),\n",
        "  Name = c(\"一の瀬花枝\", \"二階堂望\", \"三鷹瞬\", \"四谷さん\")\n",
        ")\n",
        "df1"
      ],
      "metadata": {
        "colab": {
          "base_uri": "https://localhost:8080/",
          "height": 224
        },
        "id": "dCTbxRq2yAk-",
        "outputId": "10f76523-3752-46c7-91a3-0dc9640b5bed"
      },
      "execution_count": null,
      "outputs": [
        {
          "data": {
            "text/html": [
              "<table class=\"dataframe\">\n",
              "<caption>A data.frame: 4 × 2</caption>\n",
              "<thead>\n",
              "\t<tr><th scope=col>ID</th><th scope=col>Name</th></tr>\n",
              "\t<tr><th scope=col>&lt;dbl&gt;</th><th scope=col>&lt;chr&gt;</th></tr>\n",
              "</thead>\n",
              "<tbody>\n",
              "\t<tr><td>1</td><td>一の瀬花枝</td></tr>\n",
              "\t<tr><td>2</td><td>二階堂望  </td></tr>\n",
              "\t<tr><td>3</td><td>三鷹瞬    </td></tr>\n",
              "\t<tr><td>4</td><td>四谷さん  </td></tr>\n",
              "</tbody>\n",
              "</table>\n"
            ],
            "text/latex": "A data.frame: 4 × 2\n\\begin{tabular}{ll}\n ID & Name\\\\\n <dbl> & <chr>\\\\\n\\hline\n\t 1 & 一の瀬花枝\\\\\n\t 2 & 二階堂望  \\\\\n\t 3 & 三鷹瞬    \\\\\n\t 4 & 四谷さん  \\\\\n\\end{tabular}\n",
            "text/markdown": "\nA data.frame: 4 × 2\n\n| ID &lt;dbl&gt; | Name &lt;chr&gt; |\n|---|---|\n| 1 | 一の瀬花枝 |\n| 2 | 二階堂望   |\n| 3 | 三鷹瞬     |\n| 4 | 四谷さん   |\n\n",
            "text/plain": [
              "  ID Name      \n",
              "1 1  一の瀬花枝\n",
              "2 2  二階堂望  \n",
              "3 3  三鷹瞬    \n",
              "4 4  四谷さん  "
            ]
          },
          "metadata": {},
          "output_type": "display_data"
        }
      ]
    },
    {
      "cell_type": "code",
      "source": [
        "# サンプルデータフレームの作成(df2)\n",
        "df2 <- data.frame(\n",
        "  ID = c(3, 4, 5, 6),\n",
        "  Age = c(25, 40, 19, 23)\n",
        ")\n",
        "df2"
      ],
      "metadata": {
        "colab": {
          "base_uri": "https://localhost:8080/",
          "height": 241
        },
        "id": "ZuX2j9dMyPVd",
        "outputId": "8de0e6aa-6a80-40a0-e7a4-085f56d995c1"
      },
      "execution_count": null,
      "outputs": [
        {
          "output_type": "display_data",
          "data": {
            "text/html": [
              "<table class=\"dataframe\">\n",
              "<caption>A data.frame: 4 × 2</caption>\n",
              "<thead>\n",
              "\t<tr><th scope=col>ID</th><th scope=col>Age</th></tr>\n",
              "\t<tr><th scope=col>&lt;dbl&gt;</th><th scope=col>&lt;dbl&gt;</th></tr>\n",
              "</thead>\n",
              "<tbody>\n",
              "\t<tr><td>3</td><td>25</td></tr>\n",
              "\t<tr><td>4</td><td>40</td></tr>\n",
              "\t<tr><td>5</td><td>19</td></tr>\n",
              "\t<tr><td>6</td><td>23</td></tr>\n",
              "</tbody>\n",
              "</table>\n"
            ],
            "text/markdown": "\nA data.frame: 4 × 2\n\n| ID &lt;dbl&gt; | Age &lt;dbl&gt; |\n|---|---|\n| 3 | 25 |\n| 4 | 40 |\n| 5 | 19 |\n| 6 | 23 |\n\n",
            "text/latex": "A data.frame: 4 × 2\n\\begin{tabular}{ll}\n ID & Age\\\\\n <dbl> & <dbl>\\\\\n\\hline\n\t 3 & 25\\\\\n\t 4 & 40\\\\\n\t 5 & 19\\\\\n\t 6 & 23\\\\\n\\end{tabular}\n",
            "text/plain": [
              "  ID Age\n",
              "1 3  25 \n",
              "2 4  40 \n",
              "3 5  19 \n",
              "4 6  23 "
            ]
          },
          "metadata": {}
        }
      ]
    },
    {
      "cell_type": "markdown",
      "source": [
        "#### **7.3.1 Inner Join**"
      ],
      "metadata": {
        "id": "yVPONEKZ3vvu"
      }
    },
    {
      "cell_type": "markdown",
      "source": [
        "共通のキー(ID)が存在する行のみを結合します。\n",
        "\n",
        "<img src=\"https://raw.githubusercontent.com/gadenbuie/tidyexplain/main/images/inner-join.gif\" alt=\"join\" width=400></figure>\n"
      ],
      "metadata": {
        "id": "BfnGMiTeyclj"
      }
    },
    {
      "cell_type": "code",
      "source": [
        "inner_joined <- inner_join(df1, df2, by = \"ID\")\n",
        "inner_joined"
      ],
      "metadata": {
        "colab": {
          "base_uri": "https://localhost:8080/",
          "height": 161
        },
        "id": "CK62NAVYyoLT",
        "outputId": "79758bcf-6f73-4f07-de3e-69b505dfe7c8"
      },
      "execution_count": null,
      "outputs": [
        {
          "output_type": "display_data",
          "data": {
            "text/html": [
              "<table class=\"dataframe\">\n",
              "<caption>A data.frame: 2 × 3</caption>\n",
              "<thead>\n",
              "\t<tr><th scope=col>ID</th><th scope=col>Name</th><th scope=col>Age</th></tr>\n",
              "\t<tr><th scope=col>&lt;dbl&gt;</th><th scope=col>&lt;chr&gt;</th><th scope=col>&lt;dbl&gt;</th></tr>\n",
              "</thead>\n",
              "<tbody>\n",
              "\t<tr><td>3</td><td>三鷹瞬  </td><td>25</td></tr>\n",
              "\t<tr><td>4</td><td>四谷さん</td><td>40</td></tr>\n",
              "</tbody>\n",
              "</table>\n"
            ],
            "text/markdown": "\nA data.frame: 2 × 3\n\n| ID &lt;dbl&gt; | Name &lt;chr&gt; | Age &lt;dbl&gt; |\n|---|---|---|\n| 3 | 三鷹瞬   | 25 |\n| 4 | 四谷さん | 40 |\n\n",
            "text/latex": "A data.frame: 2 × 3\n\\begin{tabular}{lll}\n ID & Name & Age\\\\\n <dbl> & <chr> & <dbl>\\\\\n\\hline\n\t 3 & 三鷹瞬   & 25\\\\\n\t 4 & 四谷さん & 40\\\\\n\\end{tabular}\n",
            "text/plain": [
              "  ID Name     Age\n",
              "1 3  三鷹瞬   25 \n",
              "2 4  四谷さん 40 "
            ]
          },
          "metadata": {}
        }
      ]
    },
    {
      "cell_type": "markdown",
      "source": [
        "#### **7.3.2 Left Join**"
      ],
      "metadata": {
        "id": "_SKOGDbi3-3v"
      }
    },
    {
      "cell_type": "markdown",
      "source": [
        "\n",
        "\n",
        "左のデータフレーム(`df1`)のすべての行と、共通のキーがある右のデータフレーム(`df2`)の行を結合します。右に対応する行がない場合は、`NA`が挿入されます。\n",
        "\n",
        "<img src=\"https://raw.githubusercontent.com/gadenbuie/tidyexplain/main/images/left-join.gif\" alt=\"join\" width=400></figure>\n"
      ],
      "metadata": {
        "id": "akK176p0yucH"
      }
    },
    {
      "cell_type": "code",
      "source": [
        "left_joined <- left_join(df1, df2, by = \"ID\")\n",
        "left_joined"
      ],
      "metadata": {
        "colab": {
          "base_uri": "https://localhost:8080/",
          "height": 223
        },
        "id": "8RtEgSsZy-N7",
        "outputId": "dd02469a-b5d9-4b94-c64f-e83e0daa3fb4"
      },
      "execution_count": null,
      "outputs": [
        {
          "output_type": "display_data",
          "data": {
            "text/html": [
              "<table class=\"dataframe\">\n",
              "<caption>A data.frame: 4 × 3</caption>\n",
              "<thead>\n",
              "\t<tr><th scope=col>ID</th><th scope=col>Name</th><th scope=col>Age</th></tr>\n",
              "\t<tr><th scope=col>&lt;dbl&gt;</th><th scope=col>&lt;chr&gt;</th><th scope=col>&lt;dbl&gt;</th></tr>\n",
              "</thead>\n",
              "<tbody>\n",
              "\t<tr><td>1</td><td>一の瀬花枝</td><td>NA</td></tr>\n",
              "\t<tr><td>2</td><td>二階堂望  </td><td>NA</td></tr>\n",
              "\t<tr><td>3</td><td>三鷹瞬    </td><td>25</td></tr>\n",
              "\t<tr><td>4</td><td>四谷さん  </td><td>40</td></tr>\n",
              "</tbody>\n",
              "</table>\n"
            ],
            "text/markdown": "\nA data.frame: 4 × 3\n\n| ID &lt;dbl&gt; | Name &lt;chr&gt; | Age &lt;dbl&gt; |\n|---|---|---|\n| 1 | 一の瀬花枝 | NA |\n| 2 | 二階堂望   | NA |\n| 3 | 三鷹瞬     | 25 |\n| 4 | 四谷さん   | 40 |\n\n",
            "text/latex": "A data.frame: 4 × 3\n\\begin{tabular}{lll}\n ID & Name & Age\\\\\n <dbl> & <chr> & <dbl>\\\\\n\\hline\n\t 1 & 一の瀬花枝 & NA\\\\\n\t 2 & 二階堂望   & NA\\\\\n\t 3 & 三鷹瞬     & 25\\\\\n\t 4 & 四谷さん   & 40\\\\\n\\end{tabular}\n",
            "text/plain": [
              "  ID Name       Age\n",
              "1 1  一の瀬花枝 NA \n",
              "2 2  二階堂望   NA \n",
              "3 3  三鷹瞬     25 \n",
              "4 4  四谷さん   40 "
            ]
          },
          "metadata": {}
        }
      ]
    },
    {
      "cell_type": "markdown",
      "source": [
        "#### **7.3.3 Right Join**"
      ],
      "metadata": {
        "id": "LkaXNmzM4Aj2"
      }
    },
    {
      "cell_type": "markdown",
      "source": [
        "右のデータフレーム(`df2`)のすべての行と、共通のキーがある左のデータフレーム(`df1`)の行を結合します。左に対応する行がない場合は、`NA`が挿入されます。\n",
        "\n",
        "<img src=\"https://raw.githubusercontent.com/gadenbuie/tidyexplain/main/images/right-join.gif\" alt=\"join\" width=400></figure>\n"
      ],
      "metadata": {
        "id": "qNRO9B2HzGMO"
      }
    },
    {
      "cell_type": "code",
      "source": [
        "right_joined <- right_join(df1, df2, by = \"ID\")\n",
        "right_joined"
      ],
      "metadata": {
        "colab": {
          "base_uri": "https://localhost:8080/",
          "height": 223
        },
        "id": "8yEOwuREzdHF",
        "outputId": "195ae4ff-586b-4cc7-db07-59b52682a86a"
      },
      "execution_count": null,
      "outputs": [
        {
          "output_type": "display_data",
          "data": {
            "text/html": [
              "<table class=\"dataframe\">\n",
              "<caption>A data.frame: 4 × 3</caption>\n",
              "<thead>\n",
              "\t<tr><th scope=col>ID</th><th scope=col>Name</th><th scope=col>Age</th></tr>\n",
              "\t<tr><th scope=col>&lt;dbl&gt;</th><th scope=col>&lt;chr&gt;</th><th scope=col>&lt;dbl&gt;</th></tr>\n",
              "</thead>\n",
              "<tbody>\n",
              "\t<tr><td>3</td><td>三鷹瞬  </td><td>25</td></tr>\n",
              "\t<tr><td>4</td><td>四谷さん</td><td>40</td></tr>\n",
              "\t<tr><td>5</td><td>NA      </td><td>19</td></tr>\n",
              "\t<tr><td>6</td><td>NA      </td><td>23</td></tr>\n",
              "</tbody>\n",
              "</table>\n"
            ],
            "text/markdown": "\nA data.frame: 4 × 3\n\n| ID &lt;dbl&gt; | Name &lt;chr&gt; | Age &lt;dbl&gt; |\n|---|---|---|\n| 3 | 三鷹瞬   | 25 |\n| 4 | 四谷さん | 40 |\n| 5 | NA       | 19 |\n| 6 | NA       | 23 |\n\n",
            "text/latex": "A data.frame: 4 × 3\n\\begin{tabular}{lll}\n ID & Name & Age\\\\\n <dbl> & <chr> & <dbl>\\\\\n\\hline\n\t 3 & 三鷹瞬   & 25\\\\\n\t 4 & 四谷さん & 40\\\\\n\t 5 & NA       & 19\\\\\n\t 6 & NA       & 23\\\\\n\\end{tabular}\n",
            "text/plain": [
              "  ID Name     Age\n",
              "1 3  三鷹瞬   25 \n",
              "2 4  四谷さん 40 \n",
              "3 5  NA       19 \n",
              "4 6  NA       23 "
            ]
          },
          "metadata": {}
        }
      ]
    },
    {
      "cell_type": "markdown",
      "source": [
        "#### **7.3.4 Full Join**"
      ],
      "metadata": {
        "id": "ekTzHtrb4GLn"
      }
    },
    {
      "cell_type": "markdown",
      "source": [
        "両方のデータフレームのすべての行を結合します。対応する行がない場合は、`NA`が挿入されます。\n",
        "\n",
        "<img src=\"https://raw.githubusercontent.com/gadenbuie/tidyexplain/main/images/full-join.gif\" alt=\"join\" width=400></figure>\n"
      ],
      "metadata": {
        "id": "xNpm0aUoznwd"
      }
    },
    {
      "cell_type": "code",
      "source": [
        "full_joined <- full_join(df1, df2, by = \"ID\")\n",
        "full_joined"
      ],
      "metadata": {
        "colab": {
          "base_uri": "https://localhost:8080/",
          "height": 286
        },
        "id": "ZM5W27ZPzvGk",
        "outputId": "35409b90-9234-4390-cf0f-4c20a6e86156"
      },
      "execution_count": null,
      "outputs": [
        {
          "output_type": "display_data",
          "data": {
            "text/html": [
              "<table class=\"dataframe\">\n",
              "<caption>A data.frame: 6 × 3</caption>\n",
              "<thead>\n",
              "\t<tr><th scope=col>ID</th><th scope=col>Name</th><th scope=col>Age</th></tr>\n",
              "\t<tr><th scope=col>&lt;dbl&gt;</th><th scope=col>&lt;chr&gt;</th><th scope=col>&lt;dbl&gt;</th></tr>\n",
              "</thead>\n",
              "<tbody>\n",
              "\t<tr><td>1</td><td>一の瀬花枝</td><td>NA</td></tr>\n",
              "\t<tr><td>2</td><td>二階堂望  </td><td>NA</td></tr>\n",
              "\t<tr><td>3</td><td>三鷹瞬    </td><td>25</td></tr>\n",
              "\t<tr><td>4</td><td>四谷さん  </td><td>40</td></tr>\n",
              "\t<tr><td>5</td><td>NA        </td><td>19</td></tr>\n",
              "\t<tr><td>6</td><td>NA        </td><td>23</td></tr>\n",
              "</tbody>\n",
              "</table>\n"
            ],
            "text/markdown": "\nA data.frame: 6 × 3\n\n| ID &lt;dbl&gt; | Name &lt;chr&gt; | Age &lt;dbl&gt; |\n|---|---|---|\n| 1 | 一の瀬花枝 | NA |\n| 2 | 二階堂望   | NA |\n| 3 | 三鷹瞬     | 25 |\n| 4 | 四谷さん   | 40 |\n| 5 | NA         | 19 |\n| 6 | NA         | 23 |\n\n",
            "text/latex": "A data.frame: 6 × 3\n\\begin{tabular}{lll}\n ID & Name & Age\\\\\n <dbl> & <chr> & <dbl>\\\\\n\\hline\n\t 1 & 一の瀬花枝 & NA\\\\\n\t 2 & 二階堂望   & NA\\\\\n\t 3 & 三鷹瞬     & 25\\\\\n\t 4 & 四谷さん   & 40\\\\\n\t 5 & NA         & 19\\\\\n\t 6 & NA         & 23\\\\\n\\end{tabular}\n",
            "text/plain": [
              "  ID Name       Age\n",
              "1 1  一の瀬花枝 NA \n",
              "2 2  二階堂望   NA \n",
              "3 3  三鷹瞬     25 \n",
              "4 4  四谷さん   40 \n",
              "5 5  NA         19 \n",
              "6 6  NA         23 "
            ]
          },
          "metadata": {}
        }
      ]
    },
    {
      "cell_type": "markdown",
      "source": [
        "#### **7.3.5 Semi Join**"
      ],
      "metadata": {
        "id": "euKmfbvf4MKA"
      }
    },
    {
      "cell_type": "markdown",
      "source": [
        "左のデータフレーム(`df1`)から、右のデータフレーム(`df2`)にマッチする行のみを返しますが、`df2`の列は追加されません。\n",
        "\n",
        "<img src=\"https://raw.githubusercontent.com/gadenbuie/tidyexplain/main/images/semi-join.gif\" alt=\"join\" width=400></figure>\n"
      ],
      "metadata": {
        "id": "jXbPClbpz2Qo"
      }
    },
    {
      "cell_type": "code",
      "source": [
        "semi_joined <- semi_join(df1, df2, by = \"ID\")\n",
        "semi_joined"
      ],
      "metadata": {
        "colab": {
          "base_uri": "https://localhost:8080/",
          "height": 178
        },
        "id": "00vZlDip0C5U",
        "outputId": "de6ead44-68ea-434e-c201-74c9e2f209fb"
      },
      "execution_count": null,
      "outputs": [
        {
          "output_type": "display_data",
          "data": {
            "text/html": [
              "<table class=\"dataframe\">\n",
              "<caption>A data.frame: 2 × 2</caption>\n",
              "<thead>\n",
              "\t<tr><th scope=col>ID</th><th scope=col>Name</th></tr>\n",
              "\t<tr><th scope=col>&lt;dbl&gt;</th><th scope=col>&lt;chr&gt;</th></tr>\n",
              "</thead>\n",
              "<tbody>\n",
              "\t<tr><td>3</td><td>三鷹瞬  </td></tr>\n",
              "\t<tr><td>4</td><td>四谷さん</td></tr>\n",
              "</tbody>\n",
              "</table>\n"
            ],
            "text/markdown": "\nA data.frame: 2 × 2\n\n| ID &lt;dbl&gt; | Name &lt;chr&gt; |\n|---|---|\n| 3 | 三鷹瞬   |\n| 4 | 四谷さん |\n\n",
            "text/latex": "A data.frame: 2 × 2\n\\begin{tabular}{ll}\n ID & Name\\\\\n <dbl> & <chr>\\\\\n\\hline\n\t 3 & 三鷹瞬  \\\\\n\t 4 & 四谷さん\\\\\n\\end{tabular}\n",
            "text/plain": [
              "  ID Name    \n",
              "1 3  三鷹瞬  \n",
              "2 4  四谷さん"
            ]
          },
          "metadata": {}
        }
      ]
    },
    {
      "cell_type": "markdown",
      "source": [
        "#### **7.3.6 Anti Join**"
      ],
      "metadata": {
        "id": "dhrVlUJK4NCi"
      }
    },
    {
      "cell_type": "markdown",
      "source": [
        "左のデータフレーム(`df1`)から、右のデータフレーム(`df2`)にマッチしない行のみを返します。\n",
        "\n",
        "\n",
        "<img src=\"https://raw.githubusercontent.com/gadenbuie/tidyexplain/main/images/anti-join.gif\" alt=\"join\" width=400></figure>\n"
      ],
      "metadata": {
        "id": "Hr7LsYBE0WJQ"
      }
    },
    {
      "cell_type": "code",
      "source": [
        "anti_joined <- anti_join(df1, df2, by = \"ID\")\n",
        "anti_joined"
      ],
      "metadata": {
        "colab": {
          "base_uri": "https://localhost:8080/",
          "height": 161
        },
        "id": "7tNdNqih0oV7",
        "outputId": "fa0fc274-5c4e-471d-bd8d-43de946af005"
      },
      "execution_count": null,
      "outputs": [
        {
          "output_type": "display_data",
          "data": {
            "text/html": [
              "<table class=\"dataframe\">\n",
              "<caption>A data.frame: 2 × 2</caption>\n",
              "<thead>\n",
              "\t<tr><th scope=col>ID</th><th scope=col>Name</th></tr>\n",
              "\t<tr><th scope=col>&lt;dbl&gt;</th><th scope=col>&lt;chr&gt;</th></tr>\n",
              "</thead>\n",
              "<tbody>\n",
              "\t<tr><td>1</td><td>一の瀬花枝</td></tr>\n",
              "\t<tr><td>2</td><td>二階堂望  </td></tr>\n",
              "</tbody>\n",
              "</table>\n"
            ],
            "text/markdown": "\nA data.frame: 2 × 2\n\n| ID &lt;dbl&gt; | Name &lt;chr&gt; |\n|---|---|\n| 1 | 一の瀬花枝 |\n| 2 | 二階堂望   |\n\n",
            "text/latex": "A data.frame: 2 × 2\n\\begin{tabular}{ll}\n ID & Name\\\\\n <dbl> & <chr>\\\\\n\\hline\n\t 1 & 一の瀬花枝\\\\\n\t 2 & 二階堂望  \\\\\n\\end{tabular}\n",
            "text/plain": [
              "  ID Name      \n",
              "1 1  一の瀬花枝\n",
              "2 2  二階堂望  "
            ]
          },
          "metadata": {}
        }
      ]
    }
  ]
}